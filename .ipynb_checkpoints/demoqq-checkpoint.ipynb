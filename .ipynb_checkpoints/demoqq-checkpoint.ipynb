{
 "cells": [
  {
   "cell_type": "code",
   "execution_count": 1,
   "metadata": {
    "collapsed": true
   },
   "outputs": [],
   "source": [
    "import os\n",
    "import re\n",
    "import tqdm\n",
    "import string\n",
    "import pandas as pd\n",
    "import numpy as np\n",
    "import util\n",
    "from sklearn.decomposition import TruncatedSVD\n",
    "#from data_preprocessing import *\n",
    "import word_embedding_load as wel"
   ]
  },
  {
   "cell_type": "code",
   "execution_count": 2,
   "metadata": {},
   "outputs": [
    {
     "name": "stdout",
     "output_type": "stream",
     "text": [
      "  ID    Gene             Variation  \\\n",
      "0  0  FAM58A  Truncating Mutations   \n",
      "1  1     CBL                 W802*   \n",
      "2  2     CBL                 Q249E   \n",
      "3  3     CBL                 N454D   \n",
      "4  4     CBL                 L399V   \n",
      "\n",
      "                                                Text  \n",
      "0  Cyclin-dependent kinases (CDKs) regulate a var...  \n",
      "1   Abstract Background  Non-small cell lung canc...  \n",
      "2   Abstract Background  Non-small cell lung canc...  \n",
      "3  Recent evidence has demonstrated that acquired...  \n",
      "4  Oncogenic mutations in the monomeric Casitas B...  \n"
     ]
    }
   ],
   "source": [
    "[all_data, train_size, test_size, train_x, train_y, test_x] = util.loadData()"
   ]
  },
  {
   "cell_type": "code",
   "execution_count": 3,
   "metadata": {
    "collapsed": true
   },
   "outputs": [],
   "source": [
    "sentences = util.data_preprocess(all_data)"
   ]
  },
  {
   "cell_type": "code",
   "execution_count": 4,
   "metadata": {},
   "outputs": [
    {
     "name": "stdout",
     "output_type": "stream",
     "text": [
      "LabeledSentence(['cyclindependent', 'kinases', 'cdks', 'regulate', 'variety', 'fundamental', 'cellular', 'processes', 'cdk10', 'stands', 'one', 'last', 'orphan', 'cdks', 'activating', 'cyclin', 'identified', 'kinase', 'activity', 'revealed', 'previous', 'work', 'shown', 'cdk10', 'silencing', 'increases', 'ets2', 'vets', 'erythroblastosis', 'virus', 'e26', 'oncogene', 'homolog', '2', 'driven', 'activation', 'mapk', 'pathway', 'confers', 'tamoxifen', 'resistance', 'breast', 'cancer', 'cells', 'precise', 'mechanisms', 'cdk10', 'modulates', 'ets2', 'activity', 'generally', 'functions', 'cdk10', 'remain', 'elusive', 'demonstrate', 'cdk10', 'cyclindependent', 'kinase', 'identifying', 'cyclin', 'activating', 'cyclin', 'cyclin', 'm', 'orphan', 'cyclin', 'product', 'fam58a', 'whose', 'mutations', 'cause', 'star', 'syndrome', 'human', 'developmental', 'anomaly', 'whose', 'features', 'include', 'toe', 'syndactyly', 'telecanthus', 'anogenital', 'renal', 'malformations', 'show', 'star', 'syndromeassociated', 'cyclin', 'mutants', 'unable', 'interact', 'cdk10', 'cyclin', 'silencing', 'phenocopies', 'cdk10', 'silencing', 'increasing', 'craf', 'conferring', 'tamoxifen', 'resistance', 'breast', 'cancer', 'cells', 'cdk10cyclin', 'phosphorylates', 'ets2', 'vitro', 'cells', 'positively', 'controls', 'ets2', 'degradation', 'proteasome', 'ets2', 'protein', 'levels', 'increased', 'cells', 'derived', 'star', 'patient', 'increase', 'attributable', 'decreased', 'cyclin', 'levels', 'altogether', 'results', 'reveal', 'additional', 'regulatory', 'mechanism', 'ets2', 'plays', 'key', 'roles', 'cancer', 'development', 'also', 'shed', 'light', 'molecular', 'mechanisms', 'underlying', 'star', 'syndromecyclindependent', 'kinases', 'cdks', 'play', 'pivotal', 'role', 'control', 'number', 'fundamental', 'cellular', 'processes', '1', 'human', 'genome', 'contains', '21', 'genes', 'encoding', 'proteins', 'considered', 'members', 'cdk', 'family', 'owing', 'sequence', 'similarity', 'bona', 'fide', 'cdks', 'known', 'activated', 'cyclins', '2', 'although', 'discovered', 'almost', '20', 'ago', '3', '4', 'cdk10', 'remains', 'one', 'two', 'cdks', 'without', 'identified', 'cyclin', 'partner', 'knowledge', 'gap', 'largely', 'impeded', 'exploration', 'biological', 'functions', 'cdk10', 'act', 'positive', 'cell', 'cycle', 'regulator', 'cells', '5', '6', 'tumor', 'suppressor', 'others', '7', '8', 'cdk10', 'interacts', 'ets2', 'vets', 'erythroblastosis', 'virus', 'e26', 'oncogene', 'homolog', '2', 'transcription', 'factor', 'inhibits', 'transcriptional', 'activity', 'unknown', 'mechanism', '9', 'cdk10', 'knockdown', 'derepresses', 'ets2', 'increases', 'expression', 'craf', 'protein', 'kinase', 'activates', 'mapk', 'pathway', 'induces', 'resistance', 'mcf7', 'cells', 'tamoxifen', '6', 'here', 'deorphanize', 'cdk10', 'identifying', 'cyclin', 'm', 'product', 'fam58a', 'binding', 'partner', 'mutations', 'gene', 'predict', 'absence', 'truncation', 'cyclin', 'associated', 'star', 'syndrome', 'whose', 'features', 'include', 'toe', 'syndactyly', 'telecanthus', 'anogenital', 'renal', 'malformations', 'heterozygous', 'females', '10', 'however', 'functions', 'cyclin', 'pathogenesis', 'star', 'syndrome', 'remain', 'unknown', 'show', 'recombinant', 'cdk10cyclin', 'heterodimer', 'active', 'protein', 'kinase', 'phosphorylates', 'ets2', 'vitro', 'cyclin', 'silencing', 'phenocopies', 'cdk10', 'silencing', 'increasing', 'craf', 'phosphoerk', 'expression', 'levels', 'inducing', 'tamoxifen', 'resistance', 'estrogen', 'receptor', 'er', 'breast', 'cancer', 'cells', 'show', 'cdk10cyclin', 'positively', 'controls', 'ets2', 'degradation', 'proteasome', 'phosphorylation', 'two', 'neighboring', 'serines', 'finally', 'detect', 'increased', 'ets2', 'expression', 'level', 'cells', 'derived', 'star', 'patient', 'demonstrate', 'attributable', 'decreased', 'cyclin', 'expression', 'level', 'observed', 'cellsprevious', 'sectionnext', 'sectionresultsa', 'yeast', 'twohybrid', 'y2h', 'screen', 'unveiled', 'interaction', 'signal', 'cdk10', 'mouse', 'protein', 'whose', 'cterminal', 'half', 'presents', 'strong', 'sequence', 'homology', 'human', 'fam58a', 'gene', 'product', 'whose', 'proposed', 'name', 'cyclin', '11', 'thus', 'performed', 'y2h', 'mating', 'assays', 'determine', 'whether', 'human', 'cdk10', 'interacts', 'human', 'cyclin', 'fig', '1', 'c', 'longest', 'cdk10', 'isoform', 'p1', 'expressed', 'bait', 'protein', 'produced', 'strong', 'interaction', 'phenotype', 'fulllength', 'cyclin', 'expressed', 'prey', 'protein', 'detectable', 'phenotype', 'cyclin', 'd1', 'p21', 'cip1', 'cdi1', 'kap', 'known', 'binding', 'partners', 'cdks', 'fig', '1b', 'cdk1', 'cdk3', 'also', 'produced', 'y2h', 'signals', 'cyclin', 'm', 'albeit', 'notably', 'weaker', 'observed', 'cdk10', 'fig', '1b', 'interaction', 'phenotype', 'also', 'observed', 'fulllength', 'cyclin', 'cdk10', 'proteins', 'expressed', 'bait', 'prey', 'respectively', 'fig', 's1a', 'tested', 'different', 'isoforms', 'cdk10', 'cyclin', 'originating', 'alternative', 'gene', 'splicing', 'two', 'truncated', 'cyclin', 'proteins', 'corresponding', 'hypothetical', 'products', 'two', 'mutated', 'fam58a', 'genes', 'found', 'star', 'syndrome', 'patients', '10', 'none', 'shorter', 'isoforms', 'produced', 'interaction', 'phenotypes', 'fig', '1', 'c', 'fig', 's1a', 'fig', '1in', 'new', 'window', 'download', 'pptfig', '1cdk10', 'cyclin', 'form', 'interaction', 'complex', 'schematic', 'representation', 'different', 'protein', 'isoforms', 'analyzed', 'y2h', 'assays', 'amino', 'acid', 'numbers', 'indicated', 'black', 'boxes', 'indicate', 'internal', 'deletions', 'red', 'box', 'indicates', 'differing', 'amino', 'acid', 'sequence', 'compared', 'cdk10', 'p1', 'b', 'y2h', 'assay', 'set', 'cdk', 'proteins', 'expressed', 'baits', 'fusion', 'lexa', 'dna', 'binding', 'domain', 'cdk', 'interacting', 'proteins', 'expressed', 'preys', 'fusion', 'b42', 'transcriptional', 'activator', 'peg202', 'pjg45', 'empty', 'bait', 'prey', 'plasmids', 'expressing', 'lexa', 'b42', 'respectively', 'lacz', 'used', 'reporter', 'gene', 'blue', 'yeast', 'indicative', 'y2h', 'interaction', 'phenotype', 'c', 'y2h', 'assay', 'different', 'cdk10', 'cyclin', 'isoforms', 'aminoterminal', 'region', 'ets2', 'known', 'interact', 'cdk10', '9', 'also', 'assayed', 'western', 'blot', 'analysis', 'myccdk10', 'wt', 'kd', 'cycmv56his', 'expression', 'levels', 'transfected', 'hek293', 'cells', 'e', 'western', 'blot', 'analysis', 'myccdk10', 'wt', 'kd', 'immunoprecipitates', 'obtained', 'using', 'antimyc', 'antibody', 'inputs', 'correspond', '10', 'g', 'total', 'lysates', 'obtained', 'hek293', 'cells', 'coexpressing', 'myccdk10', 'wt', 'kd', 'cycmv56his', 'f', 'western', 'blot', 'analysis', 'immunoprecipitates', 'obtained', 'using', 'anticdk10', 'antibody', 'control', 'goat', 'antibody', 'human', 'breast', 'cancer', 'mcf7', 'cells', 'input', 'corresponds', '30', 'g', 'mcf7', 'total', 'cell', 'lysates', 'lower', 'band', 'doublet', 'observed', 'upper', 'panel', 'comigrates', 'exogenously', 'expressed', 'untagged', 'cdk10', 'thus', 'corresponds', 'endogenous', 'cdk10', 'upper', 'band', 'doublet', 'corresponds', 'nonspecific', 'signal', 'demonstrated', 'insensitivity', 'either', 'overexpression', 'cdk10', 'seen', 'left', 'lane', 'silencing', 'cdk10', 'fig', 's2b', 'another', 'experiment', 'longer', 'gel', 'migration', 'shown', 'fig', 's1dnext', 'examined', 'ability', 'cdk10', 'cyclin', 'interact', 'expressed', 'human', 'cells', 'fig', '1', 'e', 'tested', 'wildtype', 'cdk10', 'wt', 'kinase', 'dead', 'kd', 'mutant', 'bearing', 'd181a', 'amino', 'acid', 'substitution', 'abolishes', 'atp', 'binding', '12', 'expressed', 'cyclin', 'mv56his', 'andor', 'myccdk10', 'wt', 'kd', 'human', 'embryonic', 'kidney', 'cell', 'line', 'hek293', 'expression', 'level', 'cyclin', 'mv56his', 'significantly', 'increased', 'upon', 'coexpression', 'myccdk10', 'wt', 'kd', 'and', 'lesser', 'extent', 'myccdk10', 'wt', 'kd', 'increased', 'upon', 'coexpression', 'cyclin', 'mv56his', 'fig', '1d', 'immunoprecipitated', 'myccdk10', 'proteins', 'detected', 'presence', 'cyclin', 'cdk10', 'wt', 'kd', 'immunoprecipitates', 'proteins', 'coexpressed', 'pairwise', 'fig', '1e', 'confirmed', 'observations', 'detecting', 'presence', 'myccdk10', 'cyclin', 'mv56his', 'immunoprecipitates', 'fig', 's1b', 'experiments', 'confirmed', 'lack', 'robust', 'interaction', 'cdk10p2', 'isoform', 'cyclin', 'fig', 's1c', 'detect', 'interaction', 'endogenous', 'proteins', 'performed', 'immunoprecipitations', 'nontransfected', 'mcf7', 'cells', 'derived', 'human', 'breast', 'cancer', 'cdk10', 'cyclin', 'antibodies', 'detected', 'cognate', 'endogenous', 'proteins', 'western', 'blotting', 'readily', 'detected', 'cyclin', 'immunoprecipitates', 'obtained', 'cdk10', 'antibody', 'control', 'antibody', 'fig', '1f', 'results', 'confirm', 'physical', 'interaction', 'cdk10', 'cyclin', 'human', 'cellsto', 'unveil', 'hypothesized', 'cdk10cyclin', 'protein', 'kinase', 'activity', 'produced', 'gstcdk10', 'strepiicyclin', 'fusion', 'proteins', 'insect', 'cells', 'either', 'individually', 'combination', 'observed', 'gstcdk10', 'strepiicyclin', 'copurified', 'thus', 'confirming', 'interaction', 'yet', 'another', 'cellular', 'model', 'fig', '2a', 'performed', 'vitro', 'kinase', 'assays', 'purified', 'proteins', 'using', 'histone', 'h1', 'generic', 'substrate', 'histone', 'h1', 'phosphorylation', 'detected', 'lysates', 'cells', 'coexpressing', 'gstcdk10', 'strepiicyclin', 'm', 'phosphorylation', 'detected', 'gstcdk10', 'strepiicyclin', 'expressed', 'alone', 'strepiicyclin', 'coexpressed', 'gstcdk10', 'kd', 'fig', '2a', 'next', 'investigated', 'whether', 'ets2', 'known', 'interact', 'cdk10', '9', 'fig', '1c', 'phosphorylation', 'substrate', 'cdk10cyclin', 'm', 'detected', 'strong', 'phosphorylation', 'ets2', 'gstcdk10strepiicyclin', 'purified', 'heterodimer', 'whereas', 'phosphorylation', 'detected', 'using', 'gstcdk10', 'alone', 'gstcdk10', 'kd', 'strepiicyclin', 'heterodimer', 'fig', '2b', 'fig', '2in', 'new', 'window', 'download', 'pptfig', '2cdk10', 'cyclin', 'mdependent', 'protein', 'kinase', 'vitro', 'protein', 'kinase', 'assay', 'histone', 'h1', 'lysates', 'insect', 'cells', 'expressing', 'different', 'proteins', 'purified', 'glutathione', 'sepharose', 'matrix', 'capture', 'gstcdk10', 'wt', 'kd', 'fusion', 'proteins', 'alone', 'complex', 'strcycm', 'fusion', 'protein', 'purified', 'protein', 'expression', 'levels', 'analyzed', 'western', 'blots', 'top', 'upper', 'middle', 'kinase', 'activity', 'determined', 'autoradiography', 'histone', 'h1', 'whose', 'added', 'amounts', 'visualized', 'coomassie', 'staining', 'lower', 'middle', 'bottom', 'b', 'a', 'using', 'purified', 'recombinant', '6hisets2', 'substratecdk10', 'silencing', 'shown', 'increase', 'ets2driven', 'craf', 'transcription', 'activate', 'mapk', 'pathway', '6', 'investigated', 'whether', 'cyclin', 'also', 'involved', 'regulatory', 'pathway', 'aim', 'highly', 'specific', 'silencing', 'used', 'sirna', 'pools', 'mix', 'four', 'different', 'sirnas', 'low', 'final', 'concentration', '10', 'nm', 'cdk10', 'cyclin', 'sirna', 'pools', 'silenced', 'expression', 'cognate', 'targets', 'fig', '3', 'c', 'fig', 's2', 'and', 'interestingly', 'cyclin', 'sirna', 'pool', 'also', 'caused', 'marked', 'decrease', 'cdk10', 'protein', 'level', 'fig', '3a', 'fig', 's2b', 'results', 'shown', 'fig', '1d', 'suggest', 'cyclin', 'binding', 'stabilizes', 'cdk10', 'cyclin', 'silencing', 'induced', 'increase', 'craf', 'protein', 'mrna', 'levels', 'fig', '3', 'b', 'c', 'phosphorylated', 'erk1', 'erk2', 'protein', 'levels', 'fig', 's3b', 'similarly', 'cdk10', 'silencing', 'expected', 'effects', '6', 'cdk10', 'cyclin', 'silencing', 'decreased', 'sensitivity', 'er', 'mcf7', 'cells', 'tamoxifen', 'similar', 'extent', 'combined', 'silencing', 'genes', 'result', 'higher', 'resistance', 'drug', 'fig', 's3c', 'altogether', 'observations', 'demonstrate', 'functional', 'interaction', 'cyclin', 'cdk10', 'negatively', 'controls', 'ets2fig', '3in', 'new', 'window', 'download', 'pptfig', '3cyclin', 'silencing', 'upregulates', 'craf', 'expression', 'western', 'blot', 'analysis', 'endogenous', 'cdk10', 'cyclin', 'expression', 'levels', 'mcf7', 'cells', 'response', 'sirnamediated', 'gene', 'silencing', 'b', 'western', 'blot', 'analysis', 'endogenous', 'craf', 'expression', 'levels', 'mcf7', 'cells', 'response', 'cdk10', 'cyclin', 'silencing', 'quantification', 'shown', 'fig', 's3a', 'c', 'quantitative', 'rtpcr', 'analysis', 'cdk10', 'cyclin', 'm', 'craf', 'mrna', 'levels', 'response', 'cdk10', 'upper', 'cyclin', 'lower', 'silencing', 'p', '001', 'p', '0001we', 'wished', 'explore', 'mechanism', 'cdk10cyclin', 'controls', 'ets2', 'ets2', 'shortlived', 'protein', 'degraded', 'proteasome', '13', 'straightforward', 'hypothesis', 'cdk10cyclin', 'positively', 'controls', 'ets2', 'degradation', 'thus', 'examined', 'impact', 'cdk10', 'cyclin', 'silencing', 'ets2', 'expression', 'levels', 'silencing', 'cdk10', 'cyclin', 'caused', 'increase', 'expression', 'levels', 'exogenously', 'expressed', 'flagets2', 'protein', 'fig', 's4a', 'well', 'endogenous', 'ets2', 'protein', 'fig', '4a', 'increase', 'attributable', 'increased', 'ets2', 'mrna', 'levels', 'marginally', 'fluctuated', 'response', 'cdk10', 'cyclin', 'silencing', 'fig', 's4b', 'examined', 'expression', 'levels', 'flagtagged', 'ets2', 'protein', 'expressed', 'alone', 'combination', 'myccdk10', 'cdk10', 'kd', 'without', 'cyclin', 'mv56his', 'flagets2', 'readily', 'detected', 'expressed', 'alone', 'or', 'lesser', 'extent', 'coexpressed', 'cdk10', 'kd', 'however', 'expression', 'level', 'dramatically', 'decreased', 'coexpressed', 'cdk10', 'alone', 'cdk10', 'cyclin', 'fig', '4b', 'observations', 'suggest', 'endogenous', 'cyclin', 'levels', 'excess', 'compared', 'cdk10', 'mcf7', 'cells', 'show', 'major', 'decrease', 'ets2', 'levels', 'observed', 'upon', 'cdk10', 'coexpression', 'involves', 'cdk10', 'kinase', 'activity', 'treatment', 'cells', 'coexpressing', 'flagets2', 'cdk10', 'cyclin', 'proteasome', 'inhibitor', 'mg132', 'largely', 'rescued', 'flagets2', 'expression', 'levels', 'fig', '4b', 'fig', '4in', 'new', 'window', 'download', 'pptfig', '4cdk10cyclin', 'controls', 'ets2', 'stability', 'human', 'cancer', 'derived', 'cells', 'western', 'blot', 'analysis', 'endogenous', 'ets2', 'expression', 'levels', 'mcf7', 'cells', 'response', 'sirnamediated', 'cdk10', 'andor', 'cyclin', 'silencing', 'quantification', 'shown', 'fig', 's4b', 'b', 'western', 'blot', 'analysis', 'exogenously', 'expressed', 'flagets2', 'protein', 'levels', 'mcf7', 'cells', 'cotransfected', 'empty', 'vectors', 'coexpressing', 'myccdk10', 'wt', 'kd', 'myccdk10cycmv56his', 'latter', 'cells', 'treated', '16', 'h', 'mg132', 'proteasome', 'inhibitor', 'proper', 'expression', 'cdk10', 'cyclin', 'tagged', 'proteins', 'verified', 'western', 'blot', 'analysis', 'c', 'western', 'blot', 'analysis', 'expression', 'levels', 'exogenously', 'expressed', 'flagets2', 'wildtype', 'mutant', 'proteins', 'mcf7', 'cells', 'absence', 'c', 'response', 'myccdk10cycmv56his', 'expression', 'quantifications', 'shown', 'fig', 's4', 'c', 'da', 'mass', 'spectrometry', 'analysis', 'recombinant', 'ets2', 'phosphorylated', 'cdk10cyclin', 'vitro', 'revealed', 'existence', 'multiple', 'phosphorylated', 'residues', 'among', 'two', 'neighboring', 'phosphoserines', 'positions', '220', '225', 'may', 'form', 'phosphodegron', '14', 'figs', 's5', 's8', 'confirm', 'finding', 'compared', 'phosphorylation', 'level', 'recombinant', 'ets2wt', 'ets2sasa', 'protein', 'mutant', 'bearing', 'alanine', 'substitutions', 'two', 'serines', 'expected', 'existence', 'multiple', 'phosphorylation', 'sites', 'detected', 'small', 'reproducible', 'significant', 'decrease', 'phosphorylation', 'level', 'ets2sasa', 'compared', 'ets2wt', 'fig', 's9', 'thus', 'confirming', 'ser220ser225', 'phosphorylated', 'cdk10cyclin', 'm', 'establish', 'direct', 'link', 'ets2', 'phosphorylation', 'cdk10cyclin', 'degradation', 'examined', 'expression', 'levels', 'flagets2sasa', 'absence', 'cdk10cyclin', 'coexpression', 'differ', 'significantly', 'flagets2', 'contrary', 'flagets2dbm', 'bearing', 'deletion', 'nterminal', 'destruction', 'd', 'box', 'previously', 'shown', 'involved', 'apccdh1', 'mediated', 'degradation', 'ets2', '13', 'fig', '4c', 'however', 'contrary', 'flagets2', 'wild', 'type', 'expression', 'level', 'flagets2sasa', 'remained', 'insensitive', 'cdk10cyclin', 'coexpression', 'fig', '4d', 'altogether', 'results', 'suggest', 'cdk10cyclin', 'directly', 'controls', 'ets2', 'degradation', 'phosphorylation', 'two', 'serinesfinally', 'studied', 'lymphoblastoid', 'cell', 'line', 'derived', 'patient', 'star', 'syndrome', 'bearing', 'fam58a', 'mutation', 'c5551g', 'a', 'predicted', 'result', 'aberrant', 'splicing', '10', 'accordance', 'incomplete', 'skewing', 'x', 'chromosome', 'inactivation', 'previously', 'found', 'patient', 'detected', 'decreased', 'expression', 'level', 'cyclin', 'protein', 'star', 'cell', 'line', 'compared', 'control', 'lymphoblastoid', 'cell', 'line', 'line', 'preceding', 'observations', 'detected', 'increased', 'expression', 'level', 'ets2', 'protein', 'star', 'cell', 'line', 'compared', 'control', 'fig', '5a', 'fig', 's10a', 'examined', 'quantitative', 'rtpcr', 'mrna', 'expression', 'levels', 'corresponding', 'genes', 'star', 'cell', 'line', 'showed', 'decreased', 'expression', 'level', 'cyclin', 'mrna', 'expression', 'level', 'ets2', 'mrna', 'similar', 'control', 'cell', 'line', 'fig', '5b', 'demonstrate', 'increase', 'ets2', 'protein', 'expression', 'indeed', 'result', 'decreased', 'cyclin', 'expression', 'observed', 'star', 'patientderived', 'cell', 'line', 'expressed', 'cyclin', 'mv56his', 'cell', 'line', 'expression', 'caused', 'decrease', 'ets2', 'protein', 'levels', 'fig', '5c', 'fig', '5in', 'new', 'window', 'download', 'pptfig', '5decreased', 'cyclin', 'expression', 'star', 'patientderived', 'cells', 'results', 'increased', 'ets2', 'protein', 'level', 'western', 'blot', 'analysis', 'cyclin', 'ets2', 'protein', 'levels', 'star', 'patientderived', 'lymphoblastoid', 'cell', 'line', 'control', 'lymphoblastoid', 'cell', 'line', 'derived', 'healthy', 'individual', 'quantification', 'shown', 'fig', 's10a', 'b', 'quantitative', 'rtpcr', 'analysis', 'cyclin', 'ets2', 'mrna', 'levels', 'cells', 'p', '0001', 'c', 'western', 'blot', 'analysis', 'ets2', 'protein', 'levels', 'star', 'patientderived', 'lymphoblastoid', 'cell', 'line', 'transfected', 'empty', 'vector', 'vector', 'directing', 'expression', 'cyclin', 'mv56his', 'another', 'western', 'blot', 'revealing', 'endogenously', 'exogenously', 'expressed', 'cyclin', 'levels', 'shown', 'fig', 's10b', 'quantification', 'ets2', 'protein', 'levels', 'shown', 'fig', 's10cprevious', 'sectionnext', 'sectiondiscussionin', 'work', 'unveil', 'interaction', 'cdk10', 'last', 'orphan', 'cdk', 'discovered', 'pregenomic', 'era', '2', 'cyclin', 'm', 'cyclin', 'associated', 'human', 'genetic', 'disease', 'far', 'whose', 'functions', 'remain', 'unknown', '10', 'closest', 'paralogs', 'cdk10', 'within', 'cdk', 'family', 'cdk11', 'proteins', 'interact', 'ltype', 'cyclins', '15', 'interestingly', 'closest', 'paralog', 'cyclins', 'within', 'cyclin', 'family', 'cyclin', 'fig', 's11', 'fact', 'none', 'shorter', 'cdk10', 'isoforms', 'interact', 'robustly', 'cyclin', 'suggests', 'alternative', 'splicing', 'cdk10', 'gene', '16', '17', 'plays', 'important', 'role', 'regulating', 'cdk10', 'functionsthe', 'functional', 'relevance', 'interaction', 'cdk10', 'cyclin', 'supported', 'different', 'observations', 'proteins', 'seem', 'enhance', 'stability', 'judged', 'increased', 'expression', 'levels', 'partner', 'exogenously', 'coexpressed', 'fig', '1d', 'much', 'reduced', 'endogenous', 'cdk10', 'expression', 'level', 'observed', 'response', 'cyclin', 'silencing', 'fig', '3a', 'fig', 's2b', 'cdk10', 'subject', 'ubiquitinmediated', 'degradation', '18', 'observations', 'suggest', 'cyclin', 'protects', 'cdk10', 'degradation', 'cyclin', 'partner', 'cdk10', 'least', 'mcf7', 'cells', 'also', 'suggest', 'cyclin', 'stability', 'enhanced', 'upon', 'binding', 'cdk10', 'independently', 'kinase', 'activity', 'seen', 'cyclin', 'c', 'cdk8', '19', 'uncover', 'cyclin', 'mdependent', 'cdk10', 'protein', 'kinase', 'activity', 'vitro', 'thus', 'demonstrating', 'protein', 'named', 'cdk', 'sole', 'basis', 'amino', 'acid', 'sequence', 'indeed', 'genuine', 'cyclindependent', 'kinase', 'y2h', 'assays', 'reveal', 'truncated', 'cyclin', 'proteins', 'corresponding', 'hypothetical', 'products', 'two', 'star', 'syndromeassociated', 'fam58a', 'mutations', 'produce', 'interaction', 'phenotype', 'cdk10', 'hence', 'regardless', 'whether', 'mutated', 'mrnas', 'undergo', 'nonsensemediated', 'decay', 'suggested', 'decreased', 'cyclin', 'mrna', 'levels', 'star', 'cells', 'shown', 'fig', '5b', 'give', 'rise', 'truncated', 'cyclin', 'proteins', 'females', 'affected', 'star', 'syndrome', 'must', 'exhibit', 'compromised', 'cdk10cyclin', 'kinase', 'activity', 'least', 'tissues', 'specific', 'developmental', 'stageswe', 'show', 'ets2', 'known', 'interactor', 'cdk10', 'phosphorylation', 'substrate', 'cdk10cyclin', 'vitro', 'cdk10cyclin', 'kinase', 'activity', 'positively', 'controls', 'ets2', 'degradation', 'proteasome', 'control', 'seems', 'exerted', 'fine', 'mechanism', 'judged', 'sensitivity', 'ets2', 'levels', 'partially', 'decreased', 'cdk10', 'cyclin', 'levels', 'achieved', 'mcf7', 'cells', 'observed', 'star', 'cells', 'respectively', 'findings', 'offer', 'straightforward', 'explanation', 'already', 'reported', 'upregulation', 'ets2driven', 'transcription', 'craf', 'response', 'cdk10', 'silencing', '6', 'bring', 'evidence', 'cdk10cyclin', 'directly', 'controls', 'ets2', 'degradation', 'phosphorylation', 'two', 'neighboring', 'serines', 'may', 'form', 'noncanonical', 'trcp', 'phosphodegron', 'dsmcpas', '14', 'none', 'two', 'serines', 'precede', 'proline', 'conform', 'usual', 'cdk', 'phosphorylation', 'sites', 'however', 'multiple', 'socalled', 'transcriptional', 'cdks', 'cdk7', '8', '9', '11', 'cdk10', 'may', 'belong', 'fig', 's11', 'shown', 'phosphorylate', 'variety', 'motifs', 'non', 'prolinedirected', 'fashion', 'especially', 'context', 'molecular', 'docking', 'substrate', '20', 'here', 'hypothesized', 'highaffinity', 'interaction', 'cdk10', 'pointed', 'domain', 'ets2', '6', '9', 'fig', '1c', 'would', 'allow', 'dockingmediated', 'phosphorylation', 'atypical', 'sites', 'control', 'ets2', 'degradation', 'involves', 'number', 'players', 'including', 'apccdh1', '13', 'cullinring', 'ligase', 'crl4', '21', 'formal', 'identification', 'ubiquitin', 'ligase', 'involved', 'cdk10cyclin', 'pathway', 'elucidation', 'concerted', 'action', 'ubiquitin', 'ligases', 'regulate', 'ets2', 'degradation', 'require', 'studiesour', 'results', 'present', 'number', 'significant', 'biological', 'medical', 'implications', 'first', 'shed', 'light', 'regulation', 'ets2', 'plays', 'important', 'role', 'development', '22', 'frequently', 'deregulated', 'many', 'cancers', '23', 'second', 'results', 'contribute', 'understanding', 'molecular', 'mechanisms', 'causing', 'tamoxifen', 'resistance', 'associated', 'reduced', 'cdk10', 'expression', 'levels', 'suggest', 'that', 'like', 'cdk10', '6', 'cyclin', 'could', 'also', 'predictive', 'clinical', 'marker', 'hormone', 'therapy', 'response', 'er', 'positive', 'breast', 'cancer', 'patients', 'third', 'findings', 'offer', 'interesting', 'hypothesis', 'molecular', 'mechanisms', 'underlying', 'star', 'syndrome', 'ets2', 'transgenic', 'mice', 'showing', 'less', 'twofold', 'overexpression', 'ets2', 'present', 'severe', 'cranial', 'abnormalities', '24', 'observed', 'star', 'patients', 'could', 'thus', 'caused', 'least', 'part', 'increased', 'ets2', 'protein', 'levels', 'another', 'expected', 'consequence', 'enhanced', 'ets2', 'expression', 'levels', 'would', 'decreased', 'risk', 'develop', 'certain', 'types', 'cancers', 'increased', 'risk', 'develop', 'others', 'studies', 'various', 'mouse', 'models', 'including', 'models', 'syndrome', 'three', 'copies', 'ets2', 'exist', 'revealed', 'ets2', 'dosage', 'repress', 'promote', 'tumor', 'growth', 'and', 'hence', 'ets2', 'exerts', 'noncell', 'autonomous', 'functions', 'cancer', '25', 'intringuingly', 'one', 'star', 'patients', 'identified', 'far', 'diagnosed', 'nephroblastoma', '26', 'finally', 'findings', 'facilitate', 'general', 'exploration', 'biological', 'functions', 'cdk10', 'and', 'particular', 'role', 'control', 'cell', 'division', 'previous', 'studies', 'suggested', 'either', 'positive', 'role', 'cell', 'cycle', 'control', '5', '6', 'tumorsuppressive', 'activity', 'cancers', '7', '8', 'severe', 'growth', 'retardation', 'exhibited', 'star', 'patients', 'strongly', 'suggests', 'cdk10cyclin', 'plays', 'important', 'role', 'control', 'cell', 'proliferationprevious', 'sectionnext', 'sectionmaterials', 'methodscloning', 'cdk10', 'cyclin', 'cdnas', 'plasmid', 'constructions', 'tamoxifen', 'response', 'analysis', 'quantitative', 'rtpcr', 'mass', 'spectrometry', 'experiments', 'antibody', 'production', 'detailed', 'si', 'materials', 'methodsyeast', 'twohybrid', 'interaction', 'assays', 'performed', 'yeast', 'interaction', 'mating', 'assays', 'previously', 'described', '27', 'mammalian', 'cell', 'cultures', 'transfections', 'grew', 'human', 'hek293', 'mcf7', 'cells', 'dmem', 'supplemented', '10', 'volvol', 'fbs', 'invitrogen', 'grew', 'lymphoblastoid', 'cells', 'rpmi', '1640', 'glutamax', 'supplemented', '15', 'volvol', 'fbs', 'transfected', 'hek293', 'mcf7', 'cells', 'using', 'lipofectamine', '2000', 'invitrogen', 'plasmids', 'lipofectamine', 'rnaimax', 'invitrogen', 'sirnas', 'jetprime', 'polyplus', 'plasmidssirnas', 'combinations', 'according', 'manufacturers', 'instructions', 'transfected', 'lymphoblastoid', 'cells', 'electroporation', 'neon', 'invitrogen', 'ets2', 'stability', 'studies', 'treated', 'mcf7', 'cells', '32', 'h', 'transfection', '10', 'mg132', 'fisher', 'scientific', '16', 'hcoimmunoprecipitation', 'western', 'blot', 'experiments', 'collected', 'cells', 'scraping', 'pbs', 'centrifugation', 'lymphoblastoid', 'cells', 'lysed', 'sonication', 'lysis', 'buffer', 'containing', '60', 'mm', 'glycerophosphate', '15', 'mm', 'pnitrophenylphosphate', '25', 'mm', '3', 'nmorpholino', 'propanesulfonic', 'acid', 'mops', 'ph', '72', '15', 'mm', 'egta', '15', 'mm', 'mgcl2', '1', 'mm', 'na', 'vanadate', '1', 'mm', 'naf', '1mm', 'phenylphosphate', '01', 'nonidet', 'p40', 'protease', 'inhibitor', 'mixture', 'roche', 'spun', 'lysates', '15', 'min', '20000', 'g', '4', 'c', 'collected', 'supernatants', 'determined', 'protein', 'content', 'using', 'bradford', 'assay', 'performed', 'immunoprecipitation', 'experiments', '500', 'g', 'total', 'proteins', 'lysis', 'buffer', 'precleared', 'lysates', '20', 'l', 'protein', 'gagarose', 'beads', 'incubated', '1', 'h', '4', 'c', 'rotating', 'wheel', 'added', '5', 'g', 'antibody', 'supernatants', 'incubated', '1', 'h', '4', 'c', 'rotating', 'wheel', 'added', '20', 'l', 'protein', 'gagarose', 'beads', 'incubated', '1', 'h', '4', 'c', 'rotating', 'wheel', 'collected', 'beads', 'centrifugation', '30', '18000', 'g', '4', 'c', 'washed', 'three', 'times', 'bead', 'buffer', 'containing', '50', 'mm', 'tris', 'ph', '74', '5', 'mm', 'naf', '250', 'mm', 'nacl', '5', 'mm', 'edta', '5', 'mm', 'egta', '01', 'nonidet', 'p40', 'protease', 'inhibitor', 'coktail', 'roche', 'directly', 'added', 'sample', 'buffer', 'washed', 'pellets', 'heatdenatured', 'proteins', 'ran', 'samples', '10', 'bistris', 'sdspage', 'transferred', 'proteins', 'onto', 'hybond', 'nitrocellulose', 'membranes', 'processed', 'blots', 'according', 'standard', 'procedures', 'western', 'blot', 'experiments', 'used', 'following', 'primary', 'antibodies', 'antimyc', 'abcam', 'ab9106', '12000', 'antiv5', 'invitrogen', 'r960', '15000', 'antitubulin', 'santa', 'cruz', 'biotechnology', 'b7', '1500', 'anticdk10', 'covalab', 'pab0847p', '1500', 'santa', 'cruz', 'biotechnology', 'c19', '1500', 'anticycm', 'homemade', 'dilution', '1500', 'covalab', 'pab0882p', 'dilution', '1500', 'antiraf1', 'santa', 'cruz', 'biotechnology', 'c20', '11000', 'antiets2', 'santa', 'cruz', 'biotechnology', 'c20', '11000', 'antiflag', 'sigma', 'f7425', '11000', 'antiactin', 'sigma', 'a5060', '15000', 'used', 'hrpcoupled', 'antigoat', 'santa', 'cruz', 'biotechnology', 'sc2033', 'dilution', '12000', 'antimouse', 'biorad', '170', '6516', 'dilution', '13000', 'antirabbit', 'biorad', '172', '1019', '15000', 'secondary', 'antibodies', 'revealed', 'blots', 'enhanced', 'chemiluminescence', 'supersignal', 'west', 'femto', 'thermo', 'scientific', 'production', 'purification', 'recombinant', 'proteinsgstcdk10', 'kd', 'strepiicycm', 'generated', 'recombinant', 'bacmids', 'dh10bac', 'escherichia', 'coli', 'baculoviruses', 'sf9', 'cells', 'using', 'bactobac', 'system', 'described', 'provider', 'invitrogen', 'infected', 'sf9', 'cells', 'gstcdk10', 'gstcdk10kd', 'producing', 'viruses', 'coinfected', 'cells', 'strepiicycm', 'producing', 'viruses', 'collected', 'cells', '72', 'h', 'infection', 'purify', 'gstfusion', 'proteins', 'spun', '250', 'ml', 'cells', 'resuspended', 'pellet', '40', 'ml', 'lysis', 'buffer', 'pbs', '250', 'mm', 'nacl', '05', 'nonidet', 'p40', '50', 'mm', 'naf', '10', 'mm', 'glycerophosphate', '03', 'mm', 'navanadate', 'containing', 'protease', 'inhibitor', 'mixture', 'roche', 'lysed', 'cells', 'sonication', 'spun', 'lysate', '30', 'min', '15000', 'g', 'collected', 'soluble', 'fraction', 'added', '1ml', 'glutathionesepharose', 'matrix', 'incubated', '1', 'h', '4', 'c', 'washed', 'four', 'times', 'lysis', 'buffer', 'one', 'time', 'kinase', 'buffer', 'see', 'finally', 'resuspended', 'beads', '100', 'l', 'kinase', 'buffer', 'containing', '10', 'volvol', 'glycerol', 'storage6hisets2', 'transformed', 'origami2', 'de3', 'novagen', '6hisets2', 'expression', 'vector', 'induced', 'expression', '02', 'mm', 'isopropyl', 'd1thiogalactopyranoside', '3', 'h', '22', 'c', 'purify', '6hisets2', 'spun', '50', 'ml', 'cells', 'resuspended', 'pellet', '2', 'ml', 'lysis', 'buffer', 'pbs', '300', 'mm', 'nacl', '10', 'mm', 'imidazole', '1', 'mm', 'dtt', '01', 'nonidet', 'p40', 'containing', 'protease', 'inhibitor', 'mixture', 'without', 'edta', 'roche', 'lysed', 'cells', '16', 'bar', 'using', 'cell', 'disruptor', 'spun', 'lysate', '10', 'min', '20000', 'g', 'collected', 'soluble', 'fraction', 'added', '200', 'l', 'cobalt', 'beads', 'thermo', 'scientific', '1', 'h', 'incubation', '4', 'c', 'rotating', 'wheel', 'washed', 'four', 'times', 'lysis', 'buffer', 'elute', 'incubated', 'beads', '30', 'min', 'elution', 'buffer', 'pbs', '250', 'mm', 'imidazole', 'ph', '76', 'containing', 'protease', 'inhibitor', 'mixture', 'spun', '30', '10000', 'g', 'collected', 'eluted', 'proteinprotein', 'kinase', 'assays', 'mixed', 'glutathionesepharose', 'beads', 'harboring', 'gstcdk10', 'wt', 'kd', 'either', 'monomeric', 'complexed', 'strepiicycm', '227', 'bsa', '15', 'mm', 'dtt', '100', 'atp', '5', 'ci', 'atp', '32p', '775', 'histone', 'h1', '1', '6hisets2', 'added', 'kinase', 'buffer', '25', 'mm', 'tris', 'hcl', '10', 'mm', 'mgcl2', '1', 'mm', 'egta', '1', 'mm', 'dtt', '37', 'heparin', 'ph', '75', 'total', 'volume', '30', 'l', 'incubated', 'reactions', '30', 'min', '30', 'c', 'added', 'laemli', 'sample', 'buffer', 'heatdenatured', 'samples', 'ran', '10', 'bistris', 'sdspage', 'cut', 'gel', 'slices', 'detect', 'gstcdk10', 'strepiicycm', 'western', 'blotting', 'stained', 'gel', 'slices', 'containing', 'substrate', 'coomassie', 'r250', 'biorad', 'dried', 'them', 'detected', 'incorporated', 'radioactivity', 'autoradiography', 'identified', 'four', 'unrelated', 'girls', 'anogenital', 'renal', 'malformations', 'dysmorphic', 'facial', 'features', 'normal', 'intellect', 'syndactyly', 'toes', 'similar', 'combination', 'features', 'reported', 'previously', 'mother', 'daughter', 'pair1', 'table', '1', 'supplementary', 'note', 'online', 'authors', 'noted', 'clinical', 'overlap', 'townesbrocks', 'syndrome', 'suggested', 'phenotype', 'represented', 'separate', 'autosomal', 'dominant', 'entity', 'mim601446', 'define', 'cardinal', 'features', 'syndrome', 'characteristic', 'facial', 'appearance', 'apparent', 'telecanthus', 'broad', 'tripartite', 'nasal', 'tip', 'variable', 'syndactyly', 'toes', '2', '5', 'hypoplastic', 'labia', 'anal', 'atresia', 'urogenital', 'malformations', 'fig', '1a', 'h', 'also', 'observed', 'variety', 'features', 'table', '1', 'figure', '1', 'clinical', 'molecular', 'characterization', 'star', 'syndrome', 'figure', '1', 'clinical', 'molecular', 'characterization', 'star', 'syndrome', 'f', 'facial', 'appearances', 'cases', '1', '3', 'apparent', 'telecanthus', 'dysplastic', 'ears', 'thin', 'upper', 'lips', 'ace', 'toe', 'syndactyly', '2', '5', '3', '5', '4', '5', 'bdf', 'cases', 'illustrate', 'recognizable', 'features', 'star', 'syndrome', 'specific', 'parental', 'consent', 'obtained', 'publication', 'photographs', 'anal', 'atresia', 'hypoplastic', 'labia', 'shown', 'gh', 'xray', 'films', 'feet', 'case', '2', 'showing', 'four', 'rays', 'left', 'deltashaped', '4th', '5th', 'metatarsals', 'right', 'h', 'compare', 'clinical', 'picture', 'arraycgh', 'data', 'log2', 'ratio', 'represents', 'copy', 'number', 'loss', 'six', 'probes', 'spanning', '379', '507', 'kb', 'one', 'probe', 'positioned', 'within', 'fam58a', 'deletion', 'remove', 'parts', 'functional', 'genes', 'j', 'schematic', 'structure', 'fam58a', 'position', 'mutations', 'fam58a', 'five', 'coding', 'exons', 'boxes', 'cyclin', 'domain', 'green', 'encoded', 'exons', '2', '4', 'horizontal', 'arrow', 'indicates', 'deletion', 'extending', '5', 'case', '1', 'includes', 'exons', '1', '2', 'whereas', 'horizontal', 'line', 'exon', '5', 'indicates', 'deletion', 'found', 'case', '3', 'removes', 'exon', '5', '3', 'sequence', 'pink', 'horizontal', 'bars', 'boxes', 'indicate', 'amplicons', 'used', 'qpcr', 'sequencing', 'one', 'alternative', 'exon', '5', 'amplicon', 'indicated', 'space', 'constraints', 'mutation', '201dupt', 'case', '4', 'results', 'immediate', 'stop', 'codon', '5551g', '5551g', 'splice', 'mutations', 'cases', '2', '5', '6', 'predicted', 'deleterious', 'alter', 'conserved', 'splice', 'donor', 'acceptor', 'site', 'intron', '4', 'respectively', 'full', 'size', 'image', '97', 'kb', 'table', '1', 'clinical', 'features', 'star', 'syndrome', 'cases', 'table', '1', 'clinical', 'features', 'star', 'syndrome', 'cases', 'full', 'table', 'basis', 'phenotypic', 'overlap', 'townesbrocks', 'okihiro', 'feingold', 'syndromes', 'analyzed', 'sall1', 'ref', '2', 'sall4', 'ref', '3', 'mycn4', 'found', 'mutations', 'genes', 'supplementary', 'methods', 'online', 'next', 'carried', 'genomewide', 'highresolution', 'oligonucleotide', 'array', 'comparative', 'genomic', 'hybridization', 'cgh', '5', 'analysis', 'supplementary', 'methods', 'genomic', 'dna', 'severely', 'affected', 'individual', 'case', '1', 'lower', 'lid', 'coloboma', 'epilepsy', 'syringomyelia', 'identified', 'heterozygous', 'deletion', '379', '507', 'kb', 'xq28', 'removed', 'exons', '1', '2', 'fam58a', 'fig', '1ij', 'using', 'realtime', 'pcr', 'confirmed', 'deletion', 'child', 'excluded', 'unaffected', 'parents', 'supplementary', 'fig', '1a', 'online', 'supplementary', 'methods', 'supplementary', 'table', '1', 'online', 'cgh', 'customized', 'oligonucleotide', 'array', 'enriched', 'probes', 'xq28', 'followed', 'breakpoint', 'cloning', 'defined', 'exact', 'deletion', 'size', '40068', 'bp', 'g152514164', '152554231del', 'chromosome', 'x', 'ncbi', 'build', '362', 'fig', '1j', 'supplementary', 'figs', '23', 'online', 'deletion', 'removes', 'coding', 'regions', 'exons', '1', '2', 'well', 'intron', '1', '2774', 'bp', '492', 'bp', 'intron', '2', '36608', 'bp', '5', 'sequence', 'including', '5', 'utr', 'entire', 'krt18p48', 'pseudogene', 'ncbi', 'gene', 'id', '340598', 'paternity', 'proven', 'using', 'routine', 'methods', 'find', 'deletions', 'overlapping', 'fam58a', 'available', 'copy', 'number', 'variation', 'cnv', 'databases', 'subsequently', 'carried', 'qpcr', 'analysis', 'three', 'affected', 'individuals', 'cases', '2', '3', '4', 'motherdaughter', 'pair', 'literature', 'cases', '5', '6', 'case', '3', 'detected', 'de', 'novo', 'heterozygous', 'deletion', '11', '103', 'kb', 'overlapping', 'exon', '5', 'supplementary', 'fig', '1b', 'online', 'using', 'xq28targeted', 'array', 'cgh', 'breakpoint', 'cloning', 'identified', 'deletion', '4249', 'bp', 'g152504123', '152508371del', 'chromosome', 'x', 'ncbi', 'build', '362', 'fig', '1j', 'supplementary', 'figs', '23', 'removed', '1265', 'bp', 'intron', '4', 'exon', '5', 'including', '3', 'utr', '2454', 'bp', '3', 'sequence', 'found', 'heterozygous', 'fam58a', 'point', 'mutations', 'remaining', 'cases', 'fig', '1j', 'supplementary', 'fig', '2', 'supplementary', 'methods', 'supplementary', 'table', '1', 'case', '2', 'identified', 'mutation', '5551g', 'a', 'affecting', 'splice', 'donor', 'site', 'intron', '4', 'case', '4', 'identified', 'frameshift', 'mutation', '201dupt', 'immediately', 'results', 'premature', 'stop', 'codon', 'n68xfsx1', 'cases', '5', '6', 'detected', 'mutation', '5561g', 'a', 'alters', 'splice', 'acceptor', 'site', 'intron', '4', 'validated', 'point', 'mutations', 'deletions', 'independent', 'rounds', 'pcr', 'sequencing', 'qpcr', 'confirmed', 'paternity', 'de', 'novo', 'status', 'point', 'mutations', 'deletions', 'sporadic', 'cases', 'none', 'mutations', 'seen', 'dna', '60', 'unaffected', 'female', 'controls', 'larger', 'deletions', 'involving', 'fam58a', 'found', '93', 'unrelated', 'arraycgh', 'investigations', 'analyzing', 'xchromosome', 'inactivation', 'supplementary', 'methods', 'supplementary', 'fig', '4', 'online', 'found', 'complete', 'skewing', 'x', 'inactivation', 'cases', '1', '3', '6', 'almost', 'complete', 'skewing', 'case', '2', 'suggesting', 'cells', 'carrying', 'mutation', 'active', 'x', 'chromosome', 'growth', 'disadvantage', 'fetal', 'development', 'using', 'rtpcr', 'rna', 'lymphoblastoid', 'cells', 'case', '2', 'supplementary', 'fig', '2', 'find', 'aberrant', 'splice', 'products', 'additional', 'evidence', 'mutated', 'allele', 'inactivated', 'furthermore', 'fam58a', 'subjected', 'x', 'inactivation6', 'cases', '1', '3', 'parental', 'origin', 'deletions', 'could', 'determined', 'result', 'lack', 'informative', 'snps', 'case', '5', 'mother', 'case', '6', 'gave', 'birth', 'two', 'boys', 'clinically', 'unaffected', 'samples', 'available', 'cannot', 'exclude', 'condition', 'lethal', 'males', 'fetal', 'losses', 'reported', 'families', 'function', 'fam58a', 'unknown', 'gene', 'consists', 'five', 'coding', 'exons', '642bp', 'coding', 'region', 'encodes', 'protein', '214', 'amino', 'acids', 'genbank', 'lists', 'mrna', 'length', '1257', 'bp', 'reference', 'sequence', 'nm', '1522742', 'expression', 'gene', 'est', 'data', 'found', '27', '48', 'adult', 'tissues', 'including', 'kidney', 'colon', 'cervix', 'uterus', 'heart', 'ncbi', 'expression', 'viewer', 'unigene', 'hs496943', 'expression', 'also', 'noted', '24', '26', 'listed', 'tumor', 'tissues', 'well', 'embryo', 'fetus', 'genes', 'homologous', 'fam58a', 'ncbi', 'homologene', '13362', 'found', 'x', 'chromosome', 'chimpanzee', 'dog', 'zebrafish', 'similar', 'gene', 'chromosome', '23', 'however', 'mouse', 'rat', 'true', 'homologs', 'species', 'similar', 'intronless', 'genes', 'chromosomes', '11', 'mouse', '10', 'rat', 'likely', 'arising', 'retrotransposon', 'insertion', 'event', 'murine', 'x', 'chromosome', 'flanking', 'genes', 'atp2b3', 'dusp9', 'conserved', 'remnants', 'fam58a', 'sequence', 'detected', 'fam58a', 'contains', 'cyclinboxfold', 'domain', 'proteinbinding', 'domain', 'found', 'cyclins', 'role', 'cell', 'cycle', 'transcription', 'control', 'human', 'phenotype', 'resulting', 'cyclin', 'gene', 'mutation', 'yet', 'reported', 'homozygous', 'knockout', 'mice', 'ccnd1', 'encoding', 'cyclin', 'd1', 'viable', 'small', 'reduced', 'lifespan', 'also', 'dystrophic', 'changes', 'retina', 'likely', 'result', 'decreased', 'cell', 'proliferation', 'degeneration', 'photoreceptor', 'cells', 'embryogenesis7', '8', 'cyclin', 'd1', 'colocalizes', 'sall4', 'nucleus', 'proteins', 'cooperatively', 'mediate', 'transcriptional', 'repression9', 'phenotype', 'cases', 'overlaps', 'considerably', 'townesbrocks', 'syndrome', 'caused', 'sall1', 'mutations1', 'carried', 'coimmunoprecipitation', 'find', 'sall1', 'sall4', 'would', 'interact', 'fam58a', 'manner', 'similar', 'observed', 'sall4', 'cyclin', 'd1', 'found', 'fam58a', 'interacts', 'sall1', 'sall4', 'supplementary', 'fig', '5', 'online', 'supporting', 'hypothesis', 'fam58a', 'sall1', 'participate', 'developmental', 'pathway', 'fam58a', 'mutations', 'lead', 'star', 'syndrome', 'growth', 'retardation', 'cases', 'table', '1', 'retinal', 'abnormalities', 'three', 'cases', 'reminiscent', 'reduced', 'body', 'size', 'retinal', 'anomalies', 'cyclin', 'd1', 'knockout', 'mice7', '8', 'therefore', 'proliferation', 'defect', 'might', 'partly', 'responsible', 'star', 'syndrome', 'address', 'question', 'carried', 'knockdown', 'fam58a', 'mrna', 'followed', 'proliferation', 'assay', 'transfection', 'hek293', 'cells', 'three', 'different', 'fam58aspecific', 'rnai', 'oligonucleotides', 'resulted', 'significant', 'reduction', 'fam58a', 'mrna', 'expression', 'proliferation', 'transfected', 'cells', 'supplementary', 'methods', 'supplementary', 'fig', '6', 'online', 'supporting', 'link', 'fam58a', 'cell', 'proliferation', 'found', 'lossoffunction', 'mutations', 'fam58a', 'result', 'rather', 'homogeneous', 'clinical', 'phenotype', 'additional', 'anomalies', 'case', '1', 'likely', 'result', 'effect', '40kb', 'deletion', 'expression', 'neighboring', 'gene', 'possibly', 'atp2b3', 'dusp9', 'however', 'cannot', 'exclude', 'homogeneous', 'phenotype', 'results', 'ascertainment', 'bias', 'fam58a', 'mutations', 'including', 'missense', 'changes', 'could', 'result', 'broader', 'spectrum', 'malformations', 'genes', 'causing', 'overlapping', 'phenotypes', 'star', 'syndrome', 'townesbrocks', 'syndrome', 'seem', 'act', 'pathway', 'note', 'mycn', 'gene', 'mutated', 'feingold', 'syndrome', 'direct', 'regulator', 'cyclin', 'd2', 'refs', '1011', 'thus', 'worth', 'exploring', 'whether', 'phenotypic', 'similarities', 'feingold', 'star', 'syndrome', 'might', 'explained', 'direct', 'regulation', 'fam58a', 'mycn', 'fam58a', 'located', 'approximately', '056', 'mb', 'centromeric', 'mecp2', 'xq28', 'duplications', 'overlapping', 'mecp2', 'fam58a', 'described', 'associated', 'clinical', 'phenotype', 'females12', 'deletions', 'overlapping', 'mecp2', 'fam58a', 'observed', 'date13', 'although', 'genes', 'fam58a', 'mecp2', 'implicated', 'brain', 'development', 'fam58a', 'mecp2', 'genes', 'region', 'known', 'result', 'xlinked', 'dominant', 'phenotypes', 'thus', 'deletion', 'genes', 'allele', 'might', 'lethal', 'males', 'females'], ['Text_0'])\n"
     ]
    }
   ],
   "source": [
    "print(sentences[0])"
   ]
  },
  {
   "cell_type": "code",
   "execution_count": 168,
   "metadata": {
    "collapsed": true
   },
   "outputs": [],
   "source": [
    "Text_INPUT_DIM=200\n",
    "param = util.Doc2VecParam(1, 5, 200, 1e-4, 5, 4, 30, 1)\n",
    "filename='../model/doc2vec/docEmbeddings_30_load_all.d2v'\n"
   ]
  },
  {
   "cell_type": "code",
   "execution_count": 169,
   "metadata": {
    "collapsed": true
   },
   "outputs": [],
   "source": [
    "GENE_INPUT_DIM=25\n",
    "TEXT_INPUT_DIM=200\n",
    "svd = TruncatedSVD(n_components=GENE_INPUT_DIM, random_state=12)"
   ]
  },
  {
   "cell_type": "code",
   "execution_count": 8,
   "metadata": {},
   "outputs": [
    {
     "name": "stdout",
     "output_type": "stream",
     "text": [
      "Loading model...\n",
      "successfully loaded the textmodel from ../model/doc2vec/docEmbeddings_30_load_all.d2v\n"
     ]
    }
   ],
   "source": [
    "text_model = wel.getTextModel(sentences, param, filename)\n",
    "truncated_one_hot_gene = wel.getGeneVec(all_data, svd)\n",
    "truncated_one_hot_variation = wel.getVariationVec(all_data, svd)\n",
    "text_train_arrays, text_test_arrays = wel.getTextVec(text_model, train_size, test_size, TEXT_INPUT_DIM)"
   ]
  },
  {
   "cell_type": "code",
   "execution_count": 9,
   "metadata": {},
   "outputs": [
    {
     "name": "stdout",
     "output_type": "stream",
     "text": [
      "(3689, 200)\n",
      "(986, 200)\n"
     ]
    },
    {
     "data": {
      "text/plain": [
       "array([-4.32804871, -1.51728463, -1.11980414, -1.48884988, -1.94485927,\n",
       "        2.92375898,  0.50411427, -1.12256765,  3.63756609,  0.98047012,\n",
       "       -3.59505153, -1.69239998,  1.08154798,  0.04358532, -1.45718324,\n",
       "       -1.40607941, -0.81513387, -1.83771491,  0.84762865,  1.21229076,\n",
       "        2.47014523, -2.76897311,  1.76767576,  0.63634545, -1.18918824,\n",
       "        0.41207117,  0.46613771, -0.66748267, -0.08578082,  0.74831831,\n",
       "       -0.27361712, -1.59590268, -0.68817914,  1.80353093, -2.18088555,\n",
       "       -0.95929134,  3.10893011,  1.76786911, -0.6726135 ,  1.6783632 ,\n",
       "        0.86585337,  2.32940316,  3.42221165, -1.29582059,  1.10946131,\n",
       "       -1.03413177,  1.08570337, -1.0144273 ,  0.31510681,  0.28210998,\n",
       "        2.33720469,  0.54392654, -2.83733749, -1.03502595, -0.16337521,\n",
       "       -3.04194999, -0.25847396, -2.89910054,  1.95583844,  2.05173278,\n",
       "       -0.68942761,  2.17256355, -2.50274634,  2.23825169, -2.29581237,\n",
       "        4.42594433,  2.62937164,  2.88882828, -0.28914687, -2.05301738,\n",
       "        2.42624092,  0.81631041, -0.05633804, -2.24176931, -1.21103251,\n",
       "        2.55568957, -0.86910236, -2.25507951, -1.09151304, -1.73973799,\n",
       "       -0.16871761, -0.40487349, -1.12941527, -0.95880264,  0.46782079,\n",
       "        0.22563271, -1.98252702,  2.01012659,  0.8518284 ,  0.99762881,\n",
       "       -0.69664699,  2.59870815, -5.35548782, -3.19942975,  2.04077053,\n",
       "       -1.05241048,  1.96582294, -1.55142868, -0.49188197,  0.72479969,\n",
       "        0.62990528,  0.13269678, -0.03072512,  2.87265563,  3.87445092,\n",
       "        1.93292189, -2.65379143,  3.67112923, -1.80033338, -2.30353165,\n",
       "        3.52872467, -3.39907217, -2.95028925, -3.49888325, -1.2025547 ,\n",
       "        1.75463414,  1.11777985, -1.28290212, -0.4823595 , -2.1557827 ,\n",
       "        1.00445235, -0.90416312, -1.22584236,  1.23336506, -4.85008574,\n",
       "       -1.20090008,  0.5470711 ,  3.50436044, -2.97067928,  2.84481049,\n",
       "        1.66059792, -2.09772372,  0.80928236, -2.35795093,  0.03973359,\n",
       "        1.73381543,  2.59498119,  2.38566947,  1.68310928,  1.52183914,\n",
       "        1.3391943 , -0.38291061, -2.3213501 ,  1.21402967, -0.521321  ,\n",
       "        2.02367258, -1.94274604,  6.08550262, -2.94834542, -2.26034689,\n",
       "       -5.46228695,  0.66035336, -4.53587103,  4.45590734, -0.42273942,\n",
       "        5.93331718, -3.12295508, -0.8147946 , -1.1383189 ,  0.23851477,\n",
       "        0.43526816,  2.4931848 , -0.76968288,  4.62639904, -3.73897052,\n",
       "       -0.07077727,  0.51328176, -1.6040206 ,  2.5985775 , -1.99572694,\n",
       "        3.85340643,  2.64461279,  1.75012565, -0.86618167, -3.25600028,\n",
       "        1.82988381,  1.17169917, -1.45463634, -2.08663177, -1.05781114,\n",
       "       -0.33115426,  2.09109092,  0.42128369,  4.68616056, -2.30439544,\n",
       "        2.52157116,  3.3712759 , -4.95086145, -0.74677199,  3.00776553,\n",
       "        1.00501037, -0.57313061,  0.26774493, -0.63240474,  1.3183378 ,\n",
       "        0.49372688,  0.01891159,  0.71355766, -1.90010107, -0.53908855])"
      ]
     },
     "execution_count": 9,
     "metadata": {},
     "output_type": "execute_result"
    }
   ],
   "source": [
    "print(text_train_arrays.shape)\n",
    "print(text_test_arrays.shape)\n",
    "text_train_arrays[0]"
   ]
  },
  {
   "cell_type": "code",
   "execution_count": 10,
   "metadata": {
    "collapsed": true
   },
   "outputs": [],
   "source": [
    "train_set = np.hstack((truncated_one_hot_gene[:train_size], truncated_one_hot_variation[:train_size], text_train_arrays))\n",
    "test_set = np.hstack((truncated_one_hot_gene[train_size:], truncated_one_hot_variation[train_size:], text_test_arrays))\n",
    "encoded_y = pd.get_dummies(train_y)\n",
    "encoded_y = np.array(encoded_y)"
   ]
  },
  {
   "cell_type": "code",
   "execution_count": 11,
   "metadata": {},
   "outputs": [
    {
     "name": "stdout",
     "output_type": "stream",
     "text": [
      "(3689, 250)\n",
      "(986, 250)\n"
     ]
    }
   ],
   "source": [
    "print(train_set.shape)\n",
    "print(test_set.shape)"
   ]
  },
  {
   "cell_type": "code",
   "execution_count": 12,
   "metadata": {},
   "outputs": [
    {
     "name": "stdout",
     "output_type": "stream",
     "text": [
      "[  2.48455806e-23   5.95345506e-19   2.55148417e-20  -3.12596635e-22\n",
      "   4.07695291e-22   5.14309572e-25   2.12813627e-24  -2.97221364e-27\n",
      "   2.40533195e-28  -2.34699855e-30  -1.02435863e-29  -2.70616608e-28\n",
      "   3.11053711e-28   1.52301261e-27  -6.31031488e-27  -4.29210763e-27\n",
      "  -2.58870185e-26   1.64361290e-26  -6.65840234e-26   1.85506791e-26\n",
      "  -3.44148337e-25  -1.13345002e-25   1.15081601e-24  -1.65793325e-23\n",
      "   4.35367578e-23]\n",
      "[  1.00000000e+00   7.43920261e-19   1.86967768e-19   2.36987218e-29\n",
      "   3.78288394e-25   7.97142704e-23  -1.06895319e-20   6.87926690e-21\n",
      "   4.36854413e-21  -4.04470778e-21   8.91881464e-21   6.59040569e-18\n",
      "   5.67979623e-19  -3.15512997e-18  -9.40491899e-18  -6.36407932e-18\n",
      "  -3.20292165e-18   9.53349364e-18   7.28293876e-18   2.84124514e-17\n",
      "  -1.85442723e-17   1.28733104e-17   1.05102497e-17   4.67448189e-17\n",
      "  -8.77125342e-21]\n",
      "[-4.32804871 -1.51728463 -1.11980414 -1.48884988 -1.94485927  2.92375898\n",
      "  0.50411427 -1.12256765  3.63756609  0.98047012 -3.59505153 -1.69239998\n",
      "  1.08154798  0.04358532 -1.45718324 -1.40607941 -0.81513387 -1.83771491\n",
      "  0.84762865  1.21229076  2.47014523 -2.76897311  1.76767576  0.63634545\n",
      " -1.18918824  0.41207117  0.46613771 -0.66748267 -0.08578082  0.74831831\n",
      " -0.27361712 -1.59590268 -0.68817914  1.80353093 -2.18088555 -0.95929134\n",
      "  3.10893011  1.76786911 -0.6726135   1.6783632   0.86585337  2.32940316\n",
      "  3.42221165 -1.29582059  1.10946131 -1.03413177  1.08570337 -1.0144273\n",
      "  0.31510681  0.28210998  2.33720469  0.54392654 -2.83733749 -1.03502595\n",
      " -0.16337521 -3.04194999 -0.25847396 -2.89910054  1.95583844  2.05173278\n",
      " -0.68942761  2.17256355 -2.50274634  2.23825169 -2.29581237  4.42594433\n",
      "  2.62937164  2.88882828 -0.28914687 -2.05301738  2.42624092  0.81631041\n",
      " -0.05633804 -2.24176931 -1.21103251  2.55568957 -0.86910236 -2.25507951\n",
      " -1.09151304 -1.73973799 -0.16871761 -0.40487349 -1.12941527 -0.95880264\n",
      "  0.46782079  0.22563271 -1.98252702  2.01012659  0.8518284   0.99762881\n",
      " -0.69664699  2.59870815 -5.35548782 -3.19942975  2.04077053 -1.05241048\n",
      "  1.96582294 -1.55142868 -0.49188197  0.72479969  0.62990528  0.13269678\n",
      " -0.03072512  2.87265563  3.87445092  1.93292189 -2.65379143  3.67112923\n",
      " -1.80033338 -2.30353165  3.52872467 -3.39907217 -2.95028925 -3.49888325\n",
      " -1.2025547   1.75463414  1.11777985 -1.28290212 -0.4823595  -2.1557827\n",
      "  1.00445235 -0.90416312 -1.22584236  1.23336506 -4.85008574 -1.20090008\n",
      "  0.5470711   3.50436044 -2.97067928  2.84481049  1.66059792 -2.09772372\n",
      "  0.80928236 -2.35795093  0.03973359  1.73381543  2.59498119  2.38566947\n",
      "  1.68310928  1.52183914  1.3391943  -0.38291061 -2.3213501   1.21402967\n",
      " -0.521321    2.02367258 -1.94274604  6.08550262 -2.94834542 -2.26034689\n",
      " -5.46228695  0.66035336 -4.53587103  4.45590734 -0.42273942  5.93331718\n",
      " -3.12295508 -0.8147946  -1.1383189   0.23851477  0.43526816  2.4931848\n",
      " -0.76968288  4.62639904 -3.73897052 -0.07077727  0.51328176 -1.6040206\n",
      "  2.5985775  -1.99572694  3.85340643  2.64461279  1.75012565 -0.86618167\n",
      " -3.25600028  1.82988381  1.17169917 -1.45463634 -2.08663177 -1.05781114\n",
      " -0.33115426  2.09109092  0.42128369  4.68616056 -2.30439544  2.52157116\n",
      "  3.3712759  -4.95086145 -0.74677199  3.00776553  1.00501037 -0.57313061\n",
      "  0.26774493 -0.63240474  1.3183378   0.49372688  0.01891159  0.71355766\n",
      " -1.90010107 -0.53908855]\n"
     ]
    }
   ],
   "source": [
    "print(train_set[0, :25])\n",
    "print(train_set[0, 25:50])\n",
    "print(train_set[0, 50:])"
   ]
  },
  {
   "cell_type": "code",
   "execution_count": 13,
   "metadata": {},
   "outputs": [
    {
     "name": "stdout",
     "output_type": "stream",
     "text": [
      "(3689, 9)\n",
      "[0 0 0 0 0 0 1 0 0]\n",
      "[0 0 0 1 0 0 0 0 0]\n"
     ]
    }
   ],
   "source": [
    "print(encoded_y.shape)\n",
    "print(encoded_y[300])\n",
    "print(encoded_y[1000])"
   ]
  },
  {
   "cell_type": "code",
   "execution_count": 14,
   "metadata": {
    "collapsed": true
   },
   "outputs": [],
   "source": [
    "v1 = train_set[0]\n",
    "v2 = train_set[1]"
   ]
  },
  {
   "cell_type": "code",
   "execution_count": null,
   "metadata": {
    "collapsed": true
   },
   "outputs": [],
   "source": [
    "np.dot(v1, v2)"
   ]
  },
  {
   "cell_type": "code",
   "execution_count": null,
   "metadata": {
    "collapsed": true
   },
   "outputs": [],
   "source": [
    "from baseline_classification import *"
   ]
  },
  {
   "cell_type": "code",
   "execution_count": null,
   "metadata": {
    "collapsed": true
   },
   "outputs": [],
   "source": [
    "computeSim(v2, v1, [25, 25, 200])"
   ]
  },
  {
   "cell_type": "code",
   "execution_count": 34,
   "metadata": {},
   "outputs": [
    {
     "name": "stdout",
     "output_type": "stream",
     "text": [
      "(3689, 9)\n"
     ]
    }
   ],
   "source": [
    "print(encoded_y.shape)"
   ]
  },
  {
   "cell_type": "code",
   "execution_count": 36,
   "metadata": {
    "collapsed": true
   },
   "outputs": [],
   "source": [
    "def getLabels(encoding):\n",
    "    return [ np.where(r==1)[0][0] for r in encoding ]"
   ]
  },
  {
   "cell_type": "code",
   "execution_count": 77,
   "metadata": {},
   "outputs": [
    {
     "name": "stdout",
     "output_type": "stream",
     "text": [
      "(3689, 250)\n",
      "(3689,)\n"
     ]
    }
   ],
   "source": [
    "y = np.array(getLabels(encoded_y))\n",
    "X = np.array(train_set)\n",
    "print(X.shape)\n",
    "print(y.shape)"
   ]
  },
  {
   "cell_type": "code",
   "execution_count": 78,
   "metadata": {},
   "outputs": [
    {
     "name": "stdout",
     "output_type": "stream",
     "text": [
      "[0 1 1 2 3 3 4 0 3 3]\n",
      "[[  2.48455806e-23   5.95345506e-19   2.55148417e-20 ...,   7.13557661e-01\n",
      "   -1.90010107e+00  -5.39088547e-01]\n",
      " [ -8.97003400e-21  -2.56787169e-16  -1.19273061e-15 ...,   2.48599529e+00\n",
      "    1.99950952e-02   1.58506441e+00]\n",
      " [ -1.01263684e-20  -2.87102850e-16  -2.91398299e-16 ...,   2.54142594e+00\n",
      "   -4.61241193e-02   1.78198898e+00]\n",
      " ..., \n",
      " [ -1.01210515e-20  -2.86650396e-16  -3.14243845e-16 ...,   2.78275681e+00\n",
      "   -7.79538870e-01   2.13473153e+00]\n",
      " [ -1.01210509e-20  -2.86650392e-16  -3.14244014e-16 ...,   3.60708332e+00\n",
      "    9.91484880e-01   2.21232915e+00]\n",
      " [ -1.01210509e-20  -2.86650392e-16  -3.14244015e-16 ...,   4.12722254e+00\n",
      "    6.26037717e-01   2.80597425e+00]]\n"
     ]
    }
   ],
   "source": [
    "print(y[0:10])\n",
    "print(X[0:10])"
   ]
  },
  {
   "cell_type": "code",
   "execution_count": 166,
   "metadata": {
    "collapsed": true
   },
   "outputs": [],
   "source": [
    "def myKNN(X, y, skf):\n",
    "    # metrics support: ACC, NMI, Confusion_matrix, \n",
    "\n",
    "    #skf = StratifiedKFold(n_splits=10, random_state = 66, shuffle = True)\n",
    "    ret = []\n",
    "    mat = 0\n",
    "    LOSS = []\n",
    "    ACC = []\n",
    "    NMI = []\n",
    "\n",
    "    for train_index, test_index in skf.split(X, y):\n",
    "        X_train, X_test = X[train_index], X[test_index]\n",
    "        y_train, y_test = y[train_index], y[test_index]\n",
    "        neigh = KNeighborsClassifier(n_neighbors=3)\n",
    "        neigh.fit(X_train, y_train)\n",
    "        #clf = NearestCentroid()\n",
    "        #clf.fit(X_train, y_train)\n",
    "        y_pred = neigh.predict(X_test)\n",
    "        y_pred_proba = neigh.predict_proba(X_test)\n",
    "        acc = accuracy_score(y_test, y_pred)\n",
    "        nmi = normalized_mutual_info_score(y_pred, y_test)\n",
    "        loss = log_loss(y_test, y_pred_proba)\n",
    "        ACC.append(acc)\n",
    "        LOSS.append(loss)\n",
    "        NMI.append(nmi)\n",
    "\n",
    "        #print(\"acc: \" + str(acc))\n",
    "        #print(\"NMI: \" + str(nmi))\n",
    "        #print(\"log_loss: \" + str(log_loss))\n",
    "        cnf_matrix = confusion_matrix(y_test, y_pred)\n",
    "        mat = mat + cnf_matrix\n",
    "\n",
    "    mat = mat / 10\n",
    "    print(\"Accuracy: %.4f ± %.4f\" % (np.mean(ACC), np.std(ACC)))\n",
    "    print(\"NMI: %.4f ± %.4f\" % (np.mean(NMI), np.std(NMI)))\n",
    "    print(\"Log_loss: %.4f ± %.4f\" % (np.mean(LOSS), np.std(LOSS)))\n",
    "    print(mat)"
   ]
  },
  {
   "cell_type": "code",
   "execution_count": 167,
   "metadata": {},
   "outputs": [
    {
     "name": "stdout",
     "output_type": "stream",
     "text": [
      "Accuracy: 0.6110 ± 0.0214\n",
      "NMI: 0.3925 ± 0.0274\n",
      "Log_loss: 6.5794 ± 0.5453\n",
      "[[ 40.2   1.8   0.7  15.3   4.4   2.1   1.6   0.1   0. ]\n",
      " [  3.5  24.8   0.6   1.7   0.9   1.   17.3   0.    0. ]\n",
      " [  0.9   0.3   3.7   1.9   0.4   0.    2.4   0.    0. ]\n",
      " [ 17.4   1.6   0.8  50.6   2.4   0.4   1.8   0.    0.1]\n",
      " [  7.1   1.5   0.8   3.4   9.6   1.1   3.2   0.    0. ]\n",
      " [  4.3   3.    0.2   1.5   1.   17.5   2.1   0.1   0. ]\n",
      " [  5.2  16.9   3.4   1.9   1.7   0.7  75.2   0.    0.4]\n",
      " [  0.3   0.5   0.    0.1   0.    0.    0.3   0.4   0.5]\n",
      " [  0.4   0.1   0.    0.1   0.1   0.    0.2   0.    3.4]]\n"
     ]
    }
   ],
   "source": [
    "ret = myKNN(X, y, StratifiedKFold(n_splits=10, random_state = 66, shuffle = True))"
   ]
  },
  {
   "cell_type": "code",
   "execution_count": 105,
   "metadata": {},
   "outputs": [
    {
     "data": {
      "text/plain": [
       "(374,)"
      ]
     },
     "execution_count": 105,
     "metadata": {},
     "output_type": "execute_result"
    }
   ],
   "source": [
    "ret[0].shape"
   ]
  },
  {
   "cell_type": "code",
   "execution_count": null,
   "metadata": {
    "collapsed": true
   },
   "outputs": [],
   "source": []
  }
 ],
 "metadata": {
  "kernelspec": {
   "display_name": "Python 3",
   "language": "python",
   "name": "python3"
  },
  "language_info": {
   "codemirror_mode": {
    "name": "ipython",
    "version": 3
   },
   "file_extension": ".py",
   "mimetype": "text/x-python",
   "name": "python",
   "nbconvert_exporter": "python",
   "pygments_lexer": "ipython3",
   "version": "3.5.4"
  }
 },
 "nbformat": 4,
 "nbformat_minor": 2
}
