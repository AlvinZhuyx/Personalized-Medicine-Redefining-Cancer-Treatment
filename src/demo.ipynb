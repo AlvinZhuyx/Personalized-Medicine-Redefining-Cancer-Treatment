{
 "cells": [
  {
   "cell_type": "code",
   "execution_count": 4,
   "metadata": {},
   "outputs": [],
   "source": [
    "import os\n",
    "import re\n",
    "import tqdm\n",
    "import string\n",
    "import pandas as pd\n",
    "import numpy as np\n",
    "import util\n",
    "from sklearn.decomposition import TruncatedSVD\n",
    "from data_preprocessing import *\n",
    "import word_embedding_load as wel\n",
    "from classification import *\n",
    "from xgboost_classifier import *\n",
    "from testaccuracy import *"
   ]
  },
  {
   "cell_type": "code",
   "execution_count": 5,
   "metadata": {
    "collapsed": true
   },
   "outputs": [],
   "source": [
    "[all_data, train_size, test_size, train_x, train_y, test_x] = util.loadData()\n",
    "sentences = data_preprocess(all_data)"
   ]
  },
  {
   "cell_type": "code",
   "execution_count": 11,
   "metadata": {
    "collapsed": true
   },
   "outputs": [],
   "source": [
    "Text_INPUT_DIM=200\n",
    "GENE_INPUT_DIM=25\n",
    "TEXT_INPUT_DIM=200\n",
    "PATH = '../model/doc2vec/'\n",
    "modelName='docEmbeddings_30_load_all.d2v'"
   ]
  },
  {
   "cell_type": "code",
   "execution_count": 12,
   "metadata": {
    "collapsed": true
   },
   "outputs": [],
   "source": [
    "param = util.Doc2VecParam(1, 2, 200, 1e-4, 5, 4, 30, 1)"
   ]
  },
  {
   "cell_type": "code",
   "execution_count": 13,
   "metadata": {
    "collapsed": true
   },
   "outputs": [],
   "source": [
    "svd = TruncatedSVD(n_components=GENE_INPUT_DIM, n_iter=25, random_state=12)"
   ]
  },
  {
   "cell_type": "code",
   "execution_count": 14,
   "metadata": {},
   "outputs": [
    {
     "name": "stdout",
     "output_type": "stream",
     "text": [
      "Successfully loaded the textmodel from ../model/doc2vec/docEmbeddings_30_load_all.d2v\n"
     ]
    }
   ],
   "source": [
    "#load a pre-trained text model\n",
    "text_model = wel.loadTextModel(PATH + modelName)\n",
    "\n",
    "#To train a new text model, default without outside data:\n",
    "#text_model = wel.trainTextModel(sentences, param, 'newModelName', PATH)\n",
    "\n",
    "#To train a new text model with outside data:\n",
    "#sourceFile = '../data/bio_nlp_vec/PubMed-shuffle-win-30.bin'\n",
    "#text_model = wel.trainTextModel(sentences, param, 'newModelName', PATH, True, sourceFile)"
   ]
  },
  {
   "cell_type": "code",
   "execution_count": 16,
   "metadata": {},
   "outputs": [],
   "source": [
    "truncated_one_hot_gene = wel.getGeneVec(all_data, svd)\n",
    "truncated_one_hot_variation = wel.getVariationVec(all_data, svd)\n",
    "text_train_arrays, text_test_arrays = wel.getTextVec(text_model, train_size, test_size, TEXT_INPUT_DIM)"
   ]
  },
  {
   "cell_type": "code",
   "execution_count": 17,
   "metadata": {},
   "outputs": [
    {
     "name": "stdout",
     "output_type": "stream",
     "text": [
      "(3689, 200)\n",
      "(986, 200)\n"
     ]
    },
    {
     "data": {
      "text/plain": [
       "array([-4.32804871, -1.51728463, -1.11980414, -1.48884988, -1.94485927,\n",
       "        2.92375898,  0.50411427, -1.12256765,  3.63756609,  0.98047012,\n",
       "       -3.59505153, -1.69239998,  1.08154798,  0.04358532, -1.45718324,\n",
       "       -1.40607941, -0.81513387, -1.83771491,  0.84762865,  1.21229076,\n",
       "        2.47014523, -2.76897311,  1.76767576,  0.63634545, -1.18918824,\n",
       "        0.41207117,  0.46613771, -0.66748267, -0.08578082,  0.74831831,\n",
       "       -0.27361712, -1.59590268, -0.68817914,  1.80353093, -2.18088555,\n",
       "       -0.95929134,  3.10893011,  1.76786911, -0.6726135 ,  1.6783632 ,\n",
       "        0.86585337,  2.32940316,  3.42221165, -1.29582059,  1.10946131,\n",
       "       -1.03413177,  1.08570337, -1.0144273 ,  0.31510681,  0.28210998,\n",
       "        2.33720469,  0.54392654, -2.83733749, -1.03502595, -0.16337521,\n",
       "       -3.04194999, -0.25847396, -2.89910054,  1.95583844,  2.05173278,\n",
       "       -0.68942761,  2.17256355, -2.50274634,  2.23825169, -2.29581237,\n",
       "        4.42594433,  2.62937164,  2.88882828, -0.28914687, -2.05301738,\n",
       "        2.42624092,  0.81631041, -0.05633804, -2.24176931, -1.21103251,\n",
       "        2.55568957, -0.86910236, -2.25507951, -1.09151304, -1.73973799,\n",
       "       -0.16871761, -0.40487349, -1.12941527, -0.95880264,  0.46782079,\n",
       "        0.22563271, -1.98252702,  2.01012659,  0.8518284 ,  0.99762881,\n",
       "       -0.69664699,  2.59870815, -5.35548782, -3.19942975,  2.04077053,\n",
       "       -1.05241048,  1.96582294, -1.55142868, -0.49188197,  0.72479969,\n",
       "        0.62990528,  0.13269678, -0.03072512,  2.87265563,  3.87445092,\n",
       "        1.93292189, -2.65379143,  3.67112923, -1.80033338, -2.30353165,\n",
       "        3.52872467, -3.39907217, -2.95028925, -3.49888325, -1.2025547 ,\n",
       "        1.75463414,  1.11777985, -1.28290212, -0.4823595 , -2.1557827 ,\n",
       "        1.00445235, -0.90416312, -1.22584236,  1.23336506, -4.85008574,\n",
       "       -1.20090008,  0.5470711 ,  3.50436044, -2.97067928,  2.84481049,\n",
       "        1.66059792, -2.09772372,  0.80928236, -2.35795093,  0.03973359,\n",
       "        1.73381543,  2.59498119,  2.38566947,  1.68310928,  1.52183914,\n",
       "        1.3391943 , -0.38291061, -2.3213501 ,  1.21402967, -0.521321  ,\n",
       "        2.02367258, -1.94274604,  6.08550262, -2.94834542, -2.26034689,\n",
       "       -5.46228695,  0.66035336, -4.53587103,  4.45590734, -0.42273942,\n",
       "        5.93331718, -3.12295508, -0.8147946 , -1.1383189 ,  0.23851477,\n",
       "        0.43526816,  2.4931848 , -0.76968288,  4.62639904, -3.73897052,\n",
       "       -0.07077727,  0.51328176, -1.6040206 ,  2.5985775 , -1.99572694,\n",
       "        3.85340643,  2.64461279,  1.75012565, -0.86618167, -3.25600028,\n",
       "        1.82988381,  1.17169917, -1.45463634, -2.08663177, -1.05781114,\n",
       "       -0.33115426,  2.09109092,  0.42128369,  4.68616056, -2.30439544,\n",
       "        2.52157116,  3.3712759 , -4.95086145, -0.74677199,  3.00776553,\n",
       "        1.00501037, -0.57313061,  0.26774493, -0.63240474,  1.3183378 ,\n",
       "        0.49372688,  0.01891159,  0.71355766, -1.90010107, -0.53908855])"
      ]
     },
     "execution_count": 17,
     "metadata": {},
     "output_type": "execute_result"
    }
   ],
   "source": [
    "print(text_train_arrays.shape)\n",
    "print(text_test_arrays.shape)\n",
    "text_train_arrays[0]"
   ]
  },
  {
   "cell_type": "code",
   "execution_count": 18,
   "metadata": {},
   "outputs": [
    {
     "name": "stdout",
     "output_type": "stream",
     "text": [
      "(3689, 9)\n"
     ]
    }
   ],
   "source": [
    "train_set = np.hstack((truncated_one_hot_gene[:train_size], truncated_one_hot_variation[:train_size], text_train_arrays))\n",
    "test_set = np.hstack((truncated_one_hot_gene[train_size:], truncated_one_hot_variation[train_size:], text_test_arrays))\n",
    "encoded_y = pd.get_dummies(train_y)\n",
    "encoded_y = np.array(encoded_y)\n",
    "print(encoded_y.shape)"
   ]
  },
  {
   "cell_type": "code",
   "execution_count": 19,
   "metadata": {},
   "outputs": [
    {
     "name": "stdout",
     "output_type": "stream",
     "text": [
      "(3689, 250)\n",
      "(986, 250)\n"
     ]
    },
    {
     "data": {
      "text/plain": [
       "array([  1.00000000e+00,   7.43920261e-19,   1.86967768e-19,\n",
       "         2.36987218e-29,   3.78288394e-25,   7.97142704e-23,\n",
       "        -1.06895319e-20,   6.87926690e-21,   4.36854413e-21,\n",
       "        -4.04470778e-21,   8.91881464e-21,   6.59040569e-18,\n",
       "         5.67979623e-19,  -3.15512997e-18,  -9.40491899e-18,\n",
       "        -6.36407932e-18,  -3.20292165e-18,   9.53349364e-18,\n",
       "         7.28293876e-18,   2.84124514e-17,  -1.85442723e-17,\n",
       "         1.28733104e-17,   1.05102497e-17,   4.67448189e-17,\n",
       "        -8.77125342e-21])"
      ]
     },
     "execution_count": 19,
     "metadata": {},
     "output_type": "execute_result"
    }
   ],
   "source": [
    "print(train_set.shape)\n",
    "print(test_set.shape)\n",
    "train_set[0, 25:50]"
   ]
  },
  {
   "cell_type": "code",
   "execution_count": 14,
   "metadata": {},
   "outputs": [
    {
     "name": "stderr",
     "output_type": "stream",
     "text": [
      "C:\\Users\\zhuya\\Desktop\\semester 1\\249 data structure\\project\\src\\classification.py:28: UserWarning: Update your `Dense` call to the Keras 2 API: `Dense(256, kernel_initializer=\"normal\", input_dim=250, activation=\"relu\")`\n",
      "  model.add(Dense(256, input_dim=Text_INPUT_DIM+ Gene_INPUT_DIM + Variation_INPUT_DIM, init='normal', activation='relu'))\n",
      "C:\\Users\\zhuya\\Desktop\\semester 1\\249 data structure\\project\\src\\classification.py:30: UserWarning: Update your `Dense` call to the Keras 2 API: `Dense(256, kernel_initializer=\"normal\", activation=\"relu\")`\n",
      "  model.add(Dense(256, init='normal', activation='relu'))\n",
      "C:\\Users\\zhuya\\Desktop\\semester 1\\249 data structure\\project\\src\\classification.py:32: UserWarning: Update your `Dense` call to the Keras 2 API: `Dense(80, kernel_initializer=\"normal\", activation=\"relu\")`\n",
      "  model.add(Dense(80, init='normal', activation='relu'))\n",
      "C:\\Users\\zhuya\\Desktop\\semester 1\\249 data structure\\project\\src\\classification.py:33: UserWarning: Update your `Dense` call to the Keras 2 API: `Dense(9, kernel_initializer=\"normal\", activation=\"softmax\")`\n",
      "  model.add(Dense(9, init='normal', activation=\"softmax\"))\n"
     ]
    },
    {
     "name": "stdout",
     "output_type": "stream",
     "text": [
      "_________________________________________________________________\n",
      "Layer (type)                 Output Shape              Param #   \n",
      "=================================================================\n",
      "dense_5 (Dense)              (None, 256)               64256     \n",
      "_________________________________________________________________\n",
      "dropout_3 (Dropout)          (None, 256)               0         \n",
      "_________________________________________________________________\n",
      "dense_6 (Dense)              (None, 256)               65792     \n",
      "_________________________________________________________________\n",
      "dropout_4 (Dropout)          (None, 256)               0         \n",
      "_________________________________________________________________\n",
      "dense_7 (Dense)              (None, 80)                20560     \n",
      "_________________________________________________________________\n",
      "dense_8 (Dense)              (None, 9)                 729       \n",
      "=================================================================\n",
      "Total params: 151,337\n",
      "Trainable params: 151,337\n",
      "Non-trainable params: 0\n",
      "_________________________________________________________________\n"
     ]
    }
   ],
   "source": [
    "# this is the 4 layer full-connected nerual network model\n",
    "model = nn_baseline_model(TEXT_INPUT_DIM, GENE_INPUT_DIM, GENE_INPUT_DIM)\n",
    "model.summary()"
   ]
  },
  {
   "cell_type": "code",
   "execution_count": 15,
   "metadata": {},
   "outputs": [
    {
     "name": "stdout",
     "output_type": "stream",
     "text": [
      "successful load\n",
      "\n",
      " 32/986 [..............................] - ETA: 0s"
     ]
    }
   ],
   "source": [
    "model = train_nn_model(model, train_set, encoded_y, filename = 'try(win2load).h5')\n",
    "y_predict = model.predict_proba(test_set)"
   ]
  },
  {
   "cell_type": "code",
   "execution_count": 20,
   "metadata": {
    "collapsed": true
   },
   "outputs": [],
   "source": [
    "#the xgboost classfication model\n",
    "#first deal with the input label, transfrom it from 1-9 to 0-8(required by the xgboost)\n",
    "for i in range(len(train_y)):\n",
    "    train_y[i] -=1  "
   ]
  },
  {
   "cell_type": "code",
   "execution_count": 21,
   "metadata": {},
   "outputs": [
    {
     "name": "stdout",
     "output_type": "stream",
     "text": [
      "[0]\ttrain-mlogloss:2.11096\tvalid-mlogloss:2.13755\n",
      "Multiple eval metrics have been passed: 'valid-mlogloss' will be used for early stopping.\n",
      "\n",
      "Will train until valid-mlogloss hasn't improved in 100 rounds.\n",
      "[50]\ttrain-mlogloss:0.546776\tvalid-mlogloss:1.16003\n",
      "[100]\ttrain-mlogloss:0.200471\tvalid-mlogloss:0.985421\n",
      "[150]\ttrain-mlogloss:0.089525\tvalid-mlogloss:0.949457\n",
      "[200]\ttrain-mlogloss:0.047857\tvalid-mlogloss:0.95521\n",
      "[250]\ttrain-mlogloss:0.030732\tvalid-mlogloss:0.97078\n",
      "Stopping. Best iteration:\n",
      "[171]\ttrain-mlogloss:0.067177\tvalid-mlogloss:0.948514\n",
      "\n",
      "0.948514315681\n",
      "1\n"
     ]
    }
   ],
   "source": [
    "y_predict = xgbclassifier(train_set, train_y, test_set, 5, 10, 1000)"
   ]
  },
  {
   "cell_type": "code",
   "execution_count": 22,
   "metadata": {
    "collapsed": true
   },
   "outputs": [],
   "source": [
    "savesubmisstion(y_predict, test_x, filename = \"submission_all.csv\")"
   ]
  },
  {
   "cell_type": "code",
   "execution_count": null,
   "metadata": {
    "collapsed": true
   },
   "outputs": [],
   "source": []
  }
 ],
 "metadata": {
  "kernelspec": {
   "display_name": "Python 3",
   "language": "python",
   "name": "python3"
  },
  "language_info": {
   "codemirror_mode": {
    "name": "ipython",
    "version": 3
   },
   "file_extension": ".py",
   "mimetype": "text/x-python",
   "name": "python",
   "nbconvert_exporter": "python",
   "pygments_lexer": "ipython3",
   "version": "3.6.3"
  }
 },
 "nbformat": 4,
 "nbformat_minor": 2
}
