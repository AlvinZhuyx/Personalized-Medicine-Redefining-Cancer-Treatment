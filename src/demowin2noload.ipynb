{
 "cells": [
  {
   "cell_type": "code",
   "execution_count": 1,
   "metadata": {},
   "outputs": [
    {
     "name": "stderr",
     "output_type": "stream",
     "text": [
      "C:\\Users\\zhuya\\Anaconda3\\envs\\tensorflow\\lib\\site-packages\\gensim\\utils.py:862: UserWarning: detected Windows; aliasing chunkize to chunkize_serial\n",
      "  warnings.warn(\"detected Windows; aliasing chunkize to chunkize_serial\")\n",
      "Using TensorFlow backend.\n",
      "C:\\Users\\zhuya\\Anaconda3\\envs\\tensorflow\\lib\\site-packages\\sklearn\\cross_validation.py:41: DeprecationWarning: This module was deprecated in version 0.18 in favor of the model_selection module into which all the refactored classes and functions are moved. Also note that the interface of the new CV iterators are different from that of this module. This module will be removed in 0.20.\n",
      "  \"This module will be removed in 0.20.\", DeprecationWarning)\n"
     ]
    }
   ],
   "source": [
    "import os\n",
    "import re\n",
    "import tqdm\n",
    "import string\n",
    "import pandas as pd\n",
    "import numpy as np\n",
    "import util\n",
    "from sklearn.decomposition import TruncatedSVD\n",
    "from data_preprocessing import *\n",
    "import word_embedding_load as wel\n",
    "from classification import *\n",
    "from xgboost_classifier import *\n",
    "from testaccuracy import *"
   ]
  },
  {
   "cell_type": "code",
   "execution_count": 2,
   "metadata": {
    "collapsed": true
   },
   "outputs": [],
   "source": [
    "[all_data, train_size, test_size, train_x, train_y, test_x] = util.loadData()\n",
    "sentences = data_preprocess(all_data)"
   ]
  },
  {
   "cell_type": "code",
   "execution_count": 3,
   "metadata": {
    "collapsed": true
   },
   "outputs": [],
   "source": [
    "Text_INPUT_DIM=200\n",
    "GENE_INPUT_DIM=25\n",
    "TEXT_INPUT_DIM=200\n",
    "PATH = '../model/doc2vec/'\n",
    "modelName='textModel_win=2_no_outside'"
   ]
  },
  {
   "cell_type": "code",
   "execution_count": 4,
   "metadata": {
    "collapsed": true
   },
   "outputs": [],
   "source": [
    "param = util.Doc2VecParam(1, 2, 200, 1e-4, 5, 4, 30, 1)"
   ]
  },
  {
   "cell_type": "code",
   "execution_count": 5,
   "metadata": {
    "collapsed": true
   },
   "outputs": [],
   "source": [
    "svd = TruncatedSVD(n_components=GENE_INPUT_DIM, n_iter=25, random_state=12)"
   ]
  },
  {
   "cell_type": "code",
   "execution_count": 6,
   "metadata": {},
   "outputs": [
    {
     "name": "stdout",
     "output_type": "stream",
     "text": [
      "Successfully loaded the textmodel from ../model/doc2vec/textModel_win=2_no_outside\n"
     ]
    }
   ],
   "source": [
    "#load a pre-trained text model\n",
    "text_model = wel.loadTextModel(PATH + modelName)\n",
    "\n",
    "#To train a new text model, default without outside data:\n",
    "#text_model = wel.trainTextModel(sentences, param, 'newModelName', PATH)\n",
    "\n",
    "#To train a new text model with outside data:\n",
    "#sourceFile = '../data/bio_nlp_vec/PubMed-shuffle-win-30.bin'\n",
    "#text_model = wel.trainTextModel(sentences, param, 'newModelName', PATH, True, sourceFile)"
   ]
  },
  {
   "cell_type": "code",
   "execution_count": 7,
   "metadata": {},
   "outputs": [],
   "source": [
    "truncated_one_hot_gene = wel.getGeneVec(all_data, svd)\n",
    "truncated_one_hot_variation = wel.getVariationVec(all_data, svd)\n",
    "text_train_arrays, text_test_arrays = wel.getTextVec(text_model, train_size, test_size, TEXT_INPUT_DIM)"
   ]
  },
  {
   "cell_type": "code",
   "execution_count": 8,
   "metadata": {},
   "outputs": [
    {
     "name": "stdout",
     "output_type": "stream",
     "text": [
      "(3689, 200)\n",
      "(986, 200)\n"
     ]
    },
    {
     "data": {
      "text/plain": [
       "array([ 1.39154303,  2.02667713, -0.2595    ,  0.40349838, -2.51128626,\n",
       "       -0.57653749, -0.2880269 ,  0.79625225, -1.72736251, -0.55669445,\n",
       "       -0.1103246 , -0.25622737,  0.51354522,  1.64991832,  0.15828428,\n",
       "       -1.31404865, -0.38595071,  0.11359195, -1.80308282, -0.3853884 ,\n",
       "        0.12366654,  0.73094928, -0.59017813, -0.57282758, -0.56738102,\n",
       "       -0.58856642, -0.1689133 , -1.38690603, -1.10290945,  2.44333291,\n",
       "        0.85595089, -0.83670229, -0.46628171,  0.80855757,  1.76998258,\n",
       "       -1.79520845,  0.25988749, -0.36671975,  0.7018944 , -1.01795661,\n",
       "        0.97518283, -0.88528377, -0.26272607, -0.72158974,  0.17883518,\n",
       "       -0.84870034, -1.12246311, -1.30428255,  0.55243754, -1.49376571,\n",
       "       -0.97371197, -0.530312  ,  0.11352377, -0.07217326, -1.17716205,\n",
       "       -0.98013484, -0.5437516 ,  1.75924706,  1.57688129,  1.23722923,\n",
       "       -0.81333536, -0.88027573,  0.03753718, -0.96783006, -2.49287248,\n",
       "        0.39773917, -1.93843079,  0.16352667, -1.13692153, -1.02465498,\n",
       "        0.49100515, -0.17209618, -0.00348914, -1.44198215,  0.84070438,\n",
       "       -0.78737158,  0.92058992, -0.94133806, -0.42242008,  0.98378408,\n",
       "       -0.00334732, -0.28362641,  0.87834871,  0.8661446 ,  0.6940642 ,\n",
       "       -0.01109836, -0.53586382,  0.1921947 , -0.34452128,  1.59309721,\n",
       "       -0.80002183, -0.4601382 ,  0.04081428,  0.04629377, -0.35938993,\n",
       "       -0.46426368, -1.21024621,  1.5245955 ,  1.52262592, -0.65726477,\n",
       "       -0.7298153 , -1.39358294, -0.35205856,  0.07905246,  0.28774843,\n",
       "       -0.03078634,  0.14396021, -0.22043593, -0.47169593, -1.970101  ,\n",
       "        0.11241458, -0.60918063,  0.07469159,  0.87241769,  0.65549654,\n",
       "       -0.42404538,  0.96998125, -0.46119103, -1.06527519,  0.59405893,\n",
       "        1.35175264, -0.12270138,  0.00309376, -0.38142636,  0.90490896,\n",
       "        0.4831458 , -0.03836576,  0.35524315,  0.76893771, -0.83464909,\n",
       "       -0.15331581, -0.73333448, -2.72390437, -0.06881049,  0.35405377,\n",
       "        0.6532523 ,  1.64431441, -0.87524319, -1.69056511, -0.98018748,\n",
       "       -0.0628045 ,  0.4022584 ,  1.02410591, -1.20403767,  0.85039598,\n",
       "       -0.76765478, -0.73596817, -0.6108529 , -1.98588002,  0.31390306,\n",
       "       -0.30500817, -2.30876684,  0.75242186, -1.72434056,  1.13635671,\n",
       "        2.46085405,  1.35439444, -0.573057  ,  0.96305478,  0.77701497,\n",
       "        0.04221632,  0.18350257,  0.50475365, -0.85454452, -1.43079948,\n",
       "       -0.18374483,  2.65653324,  0.814744  , -1.58598244, -1.52683222,\n",
       "        0.43748677,  0.474177  , -0.78660917,  0.45915282, -0.07681553,\n",
       "        1.20739722, -0.14775582, -0.31944117, -1.33630955, -2.66240287,\n",
       "        0.69759768,  0.78746265,  0.26419282,  0.33944705, -1.8655678 ,\n",
       "        0.20668876, -1.36809731,  0.01789042,  0.48901019, -1.5597204 ,\n",
       "       -0.68945593,  1.42228901,  2.25127959,  0.29051664,  0.12367328,\n",
       "       -0.165216  ,  0.9757095 ,  0.74739391, -0.57577246,  0.40093857])"
      ]
     },
     "execution_count": 8,
     "metadata": {},
     "output_type": "execute_result"
    }
   ],
   "source": [
    "print(text_train_arrays.shape)\n",
    "print(text_test_arrays.shape)\n",
    "text_train_arrays[0]"
   ]
  },
  {
   "cell_type": "code",
   "execution_count": 9,
   "metadata": {},
   "outputs": [
    {
     "name": "stdout",
     "output_type": "stream",
     "text": [
      "(3689, 9)\n"
     ]
    }
   ],
   "source": [
    "train_set = np.hstack((truncated_one_hot_gene[:train_size], truncated_one_hot_variation[:train_size], text_train_arrays))\n",
    "test_set = np.hstack((truncated_one_hot_gene[train_size:], truncated_one_hot_variation[train_size:], text_test_arrays))\n",
    "encoded_y = pd.get_dummies(train_y)\n",
    "encoded_y = np.array(encoded_y)\n",
    "print(encoded_y.shape)"
   ]
  },
  {
   "cell_type": "code",
   "execution_count": 10,
   "metadata": {},
   "outputs": [
    {
     "name": "stdout",
     "output_type": "stream",
     "text": [
      "(3689, 250)\n",
      "(986, 250)\n"
     ]
    },
    {
     "data": {
      "text/plain": [
       "array([  1.00000000e+00,   4.18523246e-19,   1.82140582e-19,\n",
       "         5.52932734e-29,   9.01317672e-25,   1.47967745e-22,\n",
       "        -8.38240178e-21,   2.00300590e-21,   9.74158370e-21,\n",
       "        -9.34683441e-21,   1.91083889e-20,   6.55003880e-19,\n",
       "        -1.09276438e-17,  -1.56730196e-18,  -2.12913704e-18,\n",
       "        -4.51096312e-18,  -3.82900024e-19,   1.15894157e-17,\n",
       "         1.59938703e-17,   3.58735292e-17,  -3.35304994e-18,\n",
       "         1.68462844e-17,   6.76851697e-18,   5.86047343e-17,\n",
       "         7.80129580e-21])"
      ]
     },
     "execution_count": 10,
     "metadata": {},
     "output_type": "execute_result"
    }
   ],
   "source": [
    "print(train_set.shape)\n",
    "print(test_set.shape)\n",
    "train_set[0, 25:50]"
   ]
  },
  {
   "cell_type": "code",
   "execution_count": 13,
   "metadata": {},
   "outputs": [
    {
     "name": "stderr",
     "output_type": "stream",
     "text": [
      "C:\\Users\\zhuya\\Desktop\\semester 1\\249 data structure\\project\\src\\src\\classification.py:28: UserWarning: Update your `Dense` call to the Keras 2 API: `Dense(256, kernel_initializer=\"normal\", activation=\"relu\", input_dim=250)`\n",
      "  model.add(Dense(256, input_dim=Text_INPUT_DIM+ Gene_INPUT_DIM + Variation_INPUT_DIM, init='normal', activation='relu'))\n",
      "C:\\Users\\zhuya\\Desktop\\semester 1\\249 data structure\\project\\src\\src\\classification.py:30: UserWarning: Update your `Dense` call to the Keras 2 API: `Dense(256, activation=\"relu\", kernel_initializer=\"normal\")`\n",
      "  model.add(Dense(256, init='normal', activation='relu'))\n",
      "C:\\Users\\zhuya\\Desktop\\semester 1\\249 data structure\\project\\src\\src\\classification.py:32: UserWarning: Update your `Dense` call to the Keras 2 API: `Dense(80, activation=\"relu\", kernel_initializer=\"normal\")`\n",
      "  model.add(Dense(80, init='normal', activation='relu'))\n",
      "C:\\Users\\zhuya\\Desktop\\semester 1\\249 data structure\\project\\src\\src\\classification.py:33: UserWarning: Update your `Dense` call to the Keras 2 API: `Dense(9, activation=\"softmax\", kernel_initializer=\"normal\")`\n",
      "  model.add(Dense(9, init='normal', activation=\"softmax\"))\n"
     ]
    },
    {
     "name": "stdout",
     "output_type": "stream",
     "text": [
      "_________________________________________________________________\n",
      "Layer (type)                 Output Shape              Param #   \n",
      "=================================================================\n",
      "dense_5 (Dense)              (None, 256)               64256     \n",
      "_________________________________________________________________\n",
      "dropout_3 (Dropout)          (None, 256)               0         \n",
      "_________________________________________________________________\n",
      "dense_6 (Dense)              (None, 256)               65792     \n",
      "_________________________________________________________________\n",
      "dropout_4 (Dropout)          (None, 256)               0         \n",
      "_________________________________________________________________\n",
      "dense_7 (Dense)              (None, 80)                20560     \n",
      "_________________________________________________________________\n",
      "dense_8 (Dense)              (None, 9)                 729       \n",
      "=================================================================\n",
      "Total params: 151,337\n",
      "Trainable params: 151,337\n",
      "Non-trainable params: 0\n",
      "_________________________________________________________________\n"
     ]
    }
   ],
   "source": [
    "# this is the 4 layer full-connected nerual network model\n",
    "model = nn_baseline_model(TEXT_INPUT_DIM, GENE_INPUT_DIM, GENE_INPUT_DIM)\n",
    "model.summary()"
   ]
  },
  {
   "cell_type": "code",
   "execution_count": 14,
   "metadata": {},
   "outputs": [
    {
     "name": "stdout",
     "output_type": "stream",
     "text": [
      "begin training\n",
      "\n",
      "Train on 2951 samples, validate on 738 samples\n",
      "Epoch 1/2\n",
      "2951/2951 [==============================] - ETA: 13s - loss: 2.1812 - acc: 0.12 - ETA: 1s - loss: 2.1581 - acc: 0.1777 - ETA: 0s - loss: 2.1186 - acc: 0.220 - ETA: 0s - loss: 2.0727 - acc: 0.245 - ETA: 0s - loss: 2.0127 - acc: 0.261 - ETA: 0s - loss: 1.9784 - acc: 0.268 - 0s - loss: 1.9651 - acc: 0.2769 - val_loss: 1.7104 - val_acc: 0.4377\n",
      "Epoch 2/2\n",
      "2951/2951 [==============================] - ETA: 0s - loss: 1.8472 - acc: 0.234 - ETA: 0s - loss: 1.8114 - acc: 0.368 - ETA: 0s - loss: 1.7475 - acc: 0.394 - ETA: 0s - loss: 1.7202 - acc: 0.401 - ETA: 0s - loss: 1.7133 - acc: 0.397 - 0s - loss: 1.6917 - acc: 0.4036 - val_loss: 1.4350 - val_acc: 0.4702\n",
      "Training accuracy: 40.36% / Best validation accuracy: 47.02%\n",
      "Train on 2951 samples, validate on 738 samples\n",
      "Epoch 1/2\n",
      "2951/2951 [==============================] - ETA: 0s - loss: 1.5541 - acc: 0.421 - ETA: 0s - loss: 1.5455 - acc: 0.409 - ETA: 0s - loss: 1.5431 - acc: 0.428 - ETA: 0s - loss: 1.5051 - acc: 0.446 - ETA: 0s - loss: 1.4876 - acc: 0.451 - 0s - loss: 1.4812 - acc: 0.4537 - val_loss: 1.3571 - val_acc: 0.4675\n",
      "Epoch 2/2\n",
      "2951/2951 [==============================] - ETA: 0s - loss: 1.5744 - acc: 0.437 - ETA: 0s - loss: 1.4033 - acc: 0.493 - ETA: 0s - loss: 1.3719 - acc: 0.480 - ETA: 0s - loss: 1.3557 - acc: 0.486 - ETA: 0s - loss: 1.3356 - acc: 0.499 - 0s - loss: 1.3489 - acc: 0.4964 - val_loss: 1.2860 - val_acc: 0.5393\n",
      "Training accuracy: 49.64% / Best validation accuracy: 53.93%\n",
      "Train on 2951 samples, validate on 738 samples\n",
      "Epoch 1/2\n",
      "2951/2951 [==============================] - ETA: 0s - loss: 1.2861 - acc: 0.546 - ETA: 0s - loss: 1.2567 - acc: 0.574 - ETA: 0s - loss: 1.2777 - acc: 0.544 - ETA: 0s - loss: 1.2757 - acc: 0.530 - ETA: 0s - loss: 1.2648 - acc: 0.532 - ETA: 0s - loss: 1.2711 - acc: 0.527 - 0s - loss: 1.2716 - acc: 0.5263 - val_loss: 1.2851 - val_acc: 0.4946\n",
      "Epoch 2/2\n",
      "2951/2951 [==============================] - ETA: 0s - loss: 1.3648 - acc: 0.484 - ETA: 0s - loss: 1.2206 - acc: 0.550 - ETA: 0s - loss: 1.2471 - acc: 0.536 - ETA: 0s - loss: 1.2411 - acc: 0.538 - ETA: 0s - loss: 1.2256 - acc: 0.539 - 0s - loss: 1.2207 - acc: 0.5388 - val_loss: 1.2276 - val_acc: 0.5149\n",
      "Training accuracy: 53.88% / Best validation accuracy: 53.93%\n",
      "Train on 2951 samples, validate on 738 samples\n",
      "Epoch 1/2\n",
      "2951/2951 [==============================] - ETA: 0s - loss: 1.1763 - acc: 0.515 - ETA: 0s - loss: 1.2553 - acc: 0.554 - ETA: 0s - loss: 1.2289 - acc: 0.550 - ETA: 0s - loss: 1.2172 - acc: 0.543 - ETA: 0s - loss: 1.2011 - acc: 0.551 - ETA: 0s - loss: 1.1968 - acc: 0.557 - 0s - loss: 1.1882 - acc: 0.5625 - val_loss: 1.2714 - val_acc: 0.5244\n",
      "Epoch 2/2\n",
      "2951/2951 [==============================] - ETA: 0s - loss: 1.0389 - acc: 0.609 - ETA: 0s - loss: 1.1356 - acc: 0.551 - ETA: 0s - loss: 1.1522 - acc: 0.569 - ETA: 0s - loss: 1.1588 - acc: 0.566 - ETA: 0s - loss: 1.1556 - acc: 0.571 - 0s - loss: 1.1368 - acc: 0.5812 - val_loss: 1.2165 - val_acc: 0.5407\n",
      "Training accuracy: 58.12% / Best validation accuracy: 54.07%\n",
      "Train on 2951 samples, validate on 738 samples\n",
      "Epoch 1/2\n",
      "2951/2951 [==============================] - ETA: 0s - loss: 1.3356 - acc: 0.515 - ETA: 0s - loss: 1.1726 - acc: 0.568 - ETA: 0s - loss: 1.1352 - acc: 0.577 - ETA: 0s - loss: 1.1045 - acc: 0.585 - ETA: 0s - loss: 1.1250 - acc: 0.577 - 0s - loss: 1.1194 - acc: 0.5774 - val_loss: 1.2210 - val_acc: 0.5393\n",
      "Epoch 2/2\n",
      "2951/2951 [==============================] - ETA: 0s - loss: 1.2165 - acc: 0.578 - ETA: 0s - loss: 1.1186 - acc: 0.592 - ETA: 0s - loss: 1.1094 - acc: 0.588 - ETA: 0s - loss: 1.0981 - acc: 0.593 - ETA: 0s - loss: 1.0904 - acc: 0.594 - 0s - loss: 1.0921 - acc: 0.5900 - val_loss: 1.2168 - val_acc: 0.5122\n",
      "Training accuracy: 59.00% / Best validation accuracy: 54.07%\n",
      "Train on 2951 samples, validate on 738 samples\n",
      "Epoch 1/2\n",
      "2951/2951 [==============================] - ETA: 0s - loss: 1.0851 - acc: 0.640 - ETA: 0s - loss: 1.1015 - acc: 0.593 - ETA: 0s - loss: 1.0702 - acc: 0.598 - ETA: 0s - loss: 1.0694 - acc: 0.601 - ETA: 0s - loss: 1.0737 - acc: 0.605 - 0s - loss: 1.0690 - acc: 0.6052 - val_loss: 1.2271 - val_acc: 0.5190\n",
      "Epoch 2/2\n",
      "2951/2951 [==============================] - ETA: 0s - loss: 0.8702 - acc: 0.750 - ETA: 0s - loss: 1.0357 - acc: 0.612 - ETA: 0s - loss: 1.0364 - acc: 0.613 - ETA: 0s - loss: 1.0321 - acc: 0.615 - ETA: 0s - loss: 1.0382 - acc: 0.615 - 0s - loss: 1.0380 - acc: 0.6144 - val_loss: 1.2198 - val_acc: 0.5068\n",
      "Training accuracy: 61.44% / Best validation accuracy: 54.07%\n",
      "Train on 2951 samples, validate on 738 samples\n",
      "Epoch 1/2\n",
      "2951/2951 [==============================] - ETA: 0s - loss: 1.1910 - acc: 0.562 - ETA: 0s - loss: 1.0739 - acc: 0.621 - ETA: 0s - loss: 1.0253 - acc: 0.635 - ETA: 0s - loss: 1.0187 - acc: 0.631 - ETA: 0s - loss: 1.0180 - acc: 0.630 - ETA: 0s - loss: 1.0129 - acc: 0.629 - 0s - loss: 1.0169 - acc: 0.6266 - val_loss: 1.2028 - val_acc: 0.5163\n",
      "Epoch 2/2\n",
      "2951/2951 [==============================] - ETA: 0s - loss: 0.8999 - acc: 0.640 - ETA: 0s - loss: 0.9401 - acc: 0.642 - ETA: 0s - loss: 0.9915 - acc: 0.612 - ETA: 0s - loss: 1.0024 - acc: 0.611 - ETA: 0s - loss: 1.0307 - acc: 0.607 - ETA: 0s - loss: 1.0182 - acc: 0.615 - 0s - loss: 1.0198 - acc: 0.6150 - val_loss: 1.2034 - val_acc: 0.5068\n",
      "Training accuracy: 61.50% / Best validation accuracy: 54.07%\n",
      "Train on 2951 samples, validate on 738 samples\n",
      "Epoch 1/2\n",
      "2951/2951 [==============================] - ETA: 0s - loss: 1.0243 - acc: 0.593 - ETA: 0s - loss: 0.9841 - acc: 0.637 - ETA: 0s - loss: 1.0181 - acc: 0.631 - ETA: 0s - loss: 1.0265 - acc: 0.622 - ETA: 0s - loss: 1.0212 - acc: 0.623 - 0s - loss: 1.0053 - acc: 0.6337 - val_loss: 1.2196 - val_acc: 0.5393\n",
      "Epoch 2/2\n",
      "2951/2951 [==============================] - ETA: 0s - loss: 1.2064 - acc: 0.562 - ETA: 0s - loss: 1.0232 - acc: 0.621 - ETA: 0s - loss: 0.9786 - acc: 0.636 - ETA: 0s - loss: 0.9619 - acc: 0.641 - ETA: 0s - loss: 0.9652 - acc: 0.641 - ETA: 0s - loss: 0.9688 - acc: 0.640 - 0s - loss: 0.9672 - acc: 0.6411 - val_loss: 1.1934 - val_acc: 0.5257\n",
      "Training accuracy: 64.11% / Best validation accuracy: 54.07%\n",
      "Train on 2951 samples, validate on 738 samples\n",
      "Epoch 1/2\n",
      "2951/2951 [==============================] - ETA: 0s - loss: 0.9844 - acc: 0.656 - ETA: 0s - loss: 0.9386 - acc: 0.640 - ETA: 0s - loss: 0.9314 - acc: 0.653 - ETA: 0s - loss: 0.9463 - acc: 0.658 - ETA: 0s - loss: 0.9725 - acc: 0.649 - 0s - loss: 0.9655 - acc: 0.6554 - val_loss: 1.2277 - val_acc: 0.5312\n",
      "Epoch 2/2\n",
      "2951/2951 [==============================] - ETA: 0s - loss: 1.0715 - acc: 0.625 - ETA: 0s - loss: 0.9328 - acc: 0.661 - ETA: 0s - loss: 0.9708 - acc: 0.650 - ETA: 0s - loss: 0.9543 - acc: 0.649 - ETA: 0s - loss: 0.9614 - acc: 0.646 - ETA: 0s - loss: 0.9627 - acc: 0.653 - 0s - loss: 0.9664 - acc: 0.6523 - val_loss: 1.1930 - val_acc: 0.5298\n",
      "Training accuracy: 65.23% / Best validation accuracy: 54.07%\n",
      "Train on 2951 samples, validate on 738 samples\n",
      "Epoch 1/2\n",
      "2951/2951 [==============================] - ETA: 0s - loss: 0.6886 - acc: 0.828 - ETA: 0s - loss: 0.9071 - acc: 0.678 - ETA: 0s - loss: 0.9290 - acc: 0.663 - ETA: 0s - loss: 0.9275 - acc: 0.661 - ETA: 0s - loss: 0.9374 - acc: 0.658 - 0s - loss: 0.9376 - acc: 0.6557 - val_loss: 1.2156 - val_acc: 0.5366\n",
      "Epoch 2/2\n",
      "2951/2951 [==============================] - ETA: 0s - loss: 0.8137 - acc: 0.671 - ETA: 0s - loss: 0.8816 - acc: 0.666 - ETA: 0s - loss: 0.8782 - acc: 0.677 - ETA: 0s - loss: 0.9101 - acc: 0.662 - ETA: 0s - loss: 0.9088 - acc: 0.665 - 0s - loss: 0.9207 - acc: 0.6615 - val_loss: 1.2159 - val_acc: 0.5352\n",
      "Training accuracy: 66.15% / Best validation accuracy: 54.07%\n",
      "Train on 2951 samples, validate on 738 samples\n",
      "Epoch 1/2\n",
      "2951/2951 [==============================] - ETA: 0s - loss: 0.9389 - acc: 0.640 - ETA: 0s - loss: 0.8926 - acc: 0.680 - ETA: 0s - loss: 0.8848 - acc: 0.677 - ETA: 0s - loss: 0.8938 - acc: 0.669 - ETA: 0s - loss: 0.8971 - acc: 0.666 - ETA: 0s - loss: 0.8997 - acc: 0.666 - 0s - loss: 0.9030 - acc: 0.6682 - val_loss: 1.2002 - val_acc: 0.5325\n",
      "Epoch 2/2\n"
     ]
    },
    {
     "name": "stdout",
     "output_type": "stream",
     "text": [
      "2951/2951 [==============================] - ETA: 0s - loss: 0.9617 - acc: 0.656 - ETA: 0s - loss: 1.0104 - acc: 0.618 - ETA: 0s - loss: 0.9209 - acc: 0.638 - ETA: 0s - loss: 0.9158 - acc: 0.650 - ETA: 0s - loss: 0.9115 - acc: 0.653 - ETA: 0s - loss: 0.9010 - acc: 0.661 - 0s - loss: 0.8991 - acc: 0.6635 - val_loss: 1.2034 - val_acc: 0.5352\n",
      "Training accuracy: 66.35% / Best validation accuracy: 54.07%\n",
      "Train on 2951 samples, validate on 738 samples\n",
      "Epoch 1/2\n",
      "2951/2951 [==============================] - ETA: 0s - loss: 0.7272 - acc: 0.687 - ETA: 0s - loss: 0.9255 - acc: 0.673 - ETA: 0s - loss: 0.9199 - acc: 0.662 - ETA: 0s - loss: 0.8985 - acc: 0.672 - ETA: 0s - loss: 0.8999 - acc: 0.671 - ETA: 0s - loss: 0.8997 - acc: 0.673 - 0s - loss: 0.8892 - acc: 0.6754 - val_loss: 1.2087 - val_acc: 0.5244\n",
      "Epoch 2/2\n",
      "2951/2951 [==============================] - ETA: 0s - loss: 0.7007 - acc: 0.750 - ETA: 0s - loss: 0.8495 - acc: 0.691 - ETA: 0s - loss: 0.8456 - acc: 0.694 - ETA: 0s - loss: 0.8587 - acc: 0.682 - ETA: 0s - loss: 0.8576 - acc: 0.683 - 0s - loss: 0.8637 - acc: 0.6791 - val_loss: 1.1977 - val_acc: 0.5339\n",
      "Training accuracy: 67.91% / Best validation accuracy: 54.07%\n",
      "Train on 2951 samples, validate on 738 samples\n",
      "Epoch 1/2\n",
      "2951/2951 [==============================] - ETA: 0s - loss: 0.9354 - acc: 0.640 - ETA: 0s - loss: 0.8527 - acc: 0.668 - ETA: 0s - loss: 0.8864 - acc: 0.665 - ETA: 0s - loss: 0.8791 - acc: 0.666 - ETA: 0s - loss: 0.8848 - acc: 0.666 - ETA: 0s - loss: 0.8859 - acc: 0.669 - 0s - loss: 0.8854 - acc: 0.6682 - val_loss: 1.2187 - val_acc: 0.5163\n",
      "Epoch 2/2\n",
      "2951/2951 [==============================] - ETA: 0s - loss: 1.0681 - acc: 0.578 - ETA: 0s - loss: 0.9075 - acc: 0.676 - ETA: 0s - loss: 0.8911 - acc: 0.674 - ETA: 0s - loss: 0.8589 - acc: 0.685 - ETA: 0s - loss: 0.8614 - acc: 0.686 - 0s - loss: 0.8550 - acc: 0.6882 - val_loss: 1.2100 - val_acc: 0.5312\n",
      "Training accuracy: 68.82% / Best validation accuracy: 54.07%\n",
      "Train on 2951 samples, validate on 738 samples\n",
      "Epoch 1/2\n",
      "2951/2951 [==============================] - ETA: 0s - loss: 0.8970 - acc: 0.671 - ETA: 0s - loss: 0.8710 - acc: 0.695 - ETA: 0s - loss: 0.8607 - acc: 0.687 - ETA: 0s - loss: 0.8714 - acc: 0.685 - ETA: 0s - loss: 0.8724 - acc: 0.683 - ETA: 0s - loss: 0.8548 - acc: 0.690 - 0s - loss: 0.8463 - acc: 0.6903 - val_loss: 1.2218 - val_acc: 0.5339\n",
      "Epoch 2/2\n",
      "2951/2951 [==============================] - ETA: 0s - loss: 0.9238 - acc: 0.734 - ETA: 0s - loss: 0.8433 - acc: 0.709 - ETA: 0s - loss: 0.8463 - acc: 0.699 - ETA: 0s - loss: 0.8297 - acc: 0.696 - ETA: 0s - loss: 0.8240 - acc: 0.696 - 0s - loss: 0.8267 - acc: 0.6957 - val_loss: 1.2379 - val_acc: 0.5407\n",
      "Training accuracy: 69.57% / Best validation accuracy: 54.07%\n",
      "Train on 2951 samples, validate on 738 samples\n",
      "Epoch 1/2\n",
      "2951/2951 [==============================] - ETA: 0s - loss: 0.8655 - acc: 0.718 - ETA: 0s - loss: 0.8835 - acc: 0.666 - ETA: 0s - loss: 0.8525 - acc: 0.680 - ETA: 0s - loss: 0.8405 - acc: 0.681 - ETA: 0s - loss: 0.8426 - acc: 0.679 - ETA: 0s - loss: 0.8284 - acc: 0.685 - ETA: 0s - loss: 0.8336 - acc: 0.683 - 0s - loss: 0.8318 - acc: 0.6852 - val_loss: 1.2200 - val_acc: 0.5244\n",
      "Epoch 2/2\n",
      "2951/2951 [==============================] - ETA: 0s - loss: 0.8563 - acc: 0.703 - ETA: 0s - loss: 0.8496 - acc: 0.679 - ETA: 0s - loss: 0.8054 - acc: 0.704 - ETA: 0s - loss: 0.8015 - acc: 0.699 - ETA: 0s - loss: 0.7971 - acc: 0.697 - 0s - loss: 0.8043 - acc: 0.6933 - val_loss: 1.2360 - val_acc: 0.5244\n",
      "Training accuracy: 69.33% / Best validation accuracy: 54.07%\n",
      "Train on 2951 samples, validate on 738 samples\n",
      "Epoch 1/2\n",
      "2951/2951 [==============================] - ETA: 0s - loss: 0.8124 - acc: 0.750 - ETA: 0s - loss: 0.8179 - acc: 0.703 - ETA: 0s - loss: 0.8137 - acc: 0.696 - ETA: 0s - loss: 0.7976 - acc: 0.700 - ETA: 0s - loss: 0.8134 - acc: 0.694 - 0s - loss: 0.8190 - acc: 0.6947 - val_loss: 1.2084 - val_acc: 0.5407\n",
      "Epoch 2/2\n",
      "2951/2951 [==============================] - ETA: 0s - loss: 0.7320 - acc: 0.671 - ETA: 0s - loss: 0.7572 - acc: 0.706 - ETA: 0s - loss: 0.7806 - acc: 0.702 - ETA: 0s - loss: 0.7687 - acc: 0.713 - ETA: 0s - loss: 0.7894 - acc: 0.701 - ETA: 0s - loss: 0.8001 - acc: 0.699 - ETA: 0s - loss: 0.7962 - acc: 0.705 - 0s - loss: 0.8032 - acc: 0.6994 - val_loss: 1.2218 - val_acc: 0.5257\n",
      "Training accuracy: 69.94% / Best validation accuracy: 54.07%\n",
      "Train on 2951 samples, validate on 738 samples\n",
      "Epoch 1/2\n",
      "2951/2951 [==============================] - ETA: 0s - loss: 0.8828 - acc: 0.656 - ETA: 0s - loss: 0.7724 - acc: 0.701 - ETA: 0s - loss: 0.7826 - acc: 0.707 - ETA: 0s - loss: 0.8003 - acc: 0.703 - ETA: 0s - loss: 0.7966 - acc: 0.709 - ETA: 0s - loss: 0.7874 - acc: 0.711 - 0s - loss: 0.7859 - acc: 0.7089 - val_loss: 1.2649 - val_acc: 0.5379\n",
      "Epoch 2/2\n",
      "2951/2951 [==============================] - ETA: 0s - loss: 0.9183 - acc: 0.609 - ETA: 0s - loss: 0.7531 - acc: 0.718 - ETA: 0s - loss: 0.7814 - acc: 0.708 - ETA: 0s - loss: 0.7620 - acc: 0.713 - ETA: 0s - loss: 0.7726 - acc: 0.708 - ETA: 0s - loss: 0.7815 - acc: 0.704 - 0s - loss: 0.7858 - acc: 0.7021 - val_loss: 1.2262 - val_acc: 0.5257\n",
      "Training accuracy: 70.21% / Best validation accuracy: 54.07%\n",
      "Train on 2951 samples, validate on 738 samples\n",
      "Epoch 1/2\n",
      "2951/2951 [==============================] - ETA: 0s - loss: 0.6752 - acc: 0.781 - ETA: 0s - loss: 0.7326 - acc: 0.712 - ETA: 0s - loss: 0.7517 - acc: 0.716 - ETA: 0s - loss: 0.7599 - acc: 0.715 - ETA: 0s - loss: 0.7688 - acc: 0.712 - ETA: 0s - loss: 0.7599 - acc: 0.713 - 0s - loss: 0.7616 - acc: 0.7130 - val_loss: 1.2397 - val_acc: 0.5244\n",
      "Epoch 2/2\n",
      "2951/2951 [==============================] - ETA: 0s - loss: 0.5287 - acc: 0.734 - ETA: 0s - loss: 0.7540 - acc: 0.696 - ETA: 0s - loss: 0.7524 - acc: 0.713 - ETA: 0s - loss: 0.7518 - acc: 0.715 - ETA: 0s - loss: 0.7585 - acc: 0.712 - 0s - loss: 0.7608 - acc: 0.7103 - val_loss: 1.2396 - val_acc: 0.5379\n",
      "Training accuracy: 71.03% / Best validation accuracy: 54.07%\n",
      "Train on 2951 samples, validate on 738 samples\n",
      "Epoch 1/2\n",
      "2951/2951 [==============================] - ETA: 0s - loss: 0.8220 - acc: 0.671 - ETA: 0s - loss: 0.7164 - acc: 0.737 - ETA: 0s - loss: 0.7470 - acc: 0.722 - ETA: 0s - loss: 0.7568 - acc: 0.719 - ETA: 0s - loss: 0.7584 - acc: 0.720 - ETA: 0s - loss: 0.7568 - acc: 0.724 - ETA: 0s - loss: 0.7572 - acc: 0.725 - 0s - loss: 0.7575 - acc: 0.7252 - val_loss: 1.2405 - val_acc: 0.5352\n",
      "Epoch 2/2\n",
      "2951/2951 [==============================] - ETA: 0s - loss: 0.7120 - acc: 0.796 - ETA: 0s - loss: 0.7537 - acc: 0.725 - ETA: 0s - loss: 0.7691 - acc: 0.717 - ETA: 0s - loss: 0.7458 - acc: 0.725 - ETA: 0s - loss: 0.7505 - acc: 0.719 - ETA: 0s - loss: 0.7478 - acc: 0.719 - 0s - loss: 0.7515 - acc: 0.7181 - val_loss: 1.2356 - val_acc: 0.5312\n",
      "Training accuracy: 71.81% / Best validation accuracy: 54.07%\n",
      "Train on 2951 samples, validate on 738 samples\n",
      "Epoch 1/2\n",
      "2951/2951 [==============================] - ETA: 0s - loss: 0.6647 - acc: 0.718 - ETA: 0s - loss: 0.7976 - acc: 0.708 - ETA: 0s - loss: 0.7861 - acc: 0.710 - ETA: 0s - loss: 0.7583 - acc: 0.714 - ETA: 0s - loss: 0.7436 - acc: 0.720 - ETA: 0s - loss: 0.7371 - acc: 0.722 - 0s - loss: 0.7315 - acc: 0.7238 - val_loss: 1.2291 - val_acc: 0.5434\n",
      "Epoch 2/2\n",
      "2951/2951 [==============================] - ETA: 0s - loss: 0.6111 - acc: 0.781 - ETA: 0s - loss: 0.6911 - acc: 0.743 - ETA: 0s - loss: 0.7118 - acc: 0.729 - ETA: 0s - loss: 0.7167 - acc: 0.731 - ETA: 0s - loss: 0.7186 - acc: 0.725 - ETA: 0s - loss: 0.7292 - acc: 0.720 - 0s - loss: 0.7286 - acc: 0.7204 - val_loss: 1.2327 - val_acc: 0.5434\n",
      "Training accuracy: 72.04% / Best validation accuracy: 54.34%\n",
      "Train on 2951 samples, validate on 738 samples\n",
      "Epoch 1/2\n",
      "2951/2951 [==============================] - ETA: 0s - loss: 0.7174 - acc: 0.796 - ETA: 0s - loss: 0.7440 - acc: 0.725 - ETA: 0s - loss: 0.7323 - acc: 0.716 - ETA: 0s - loss: 0.7369 - acc: 0.724 - ETA: 0s - loss: 0.7534 - acc: 0.718 - ETA: 0s - loss: 0.7362 - acc: 0.725 - ETA: 0s - loss: 0.7393 - acc: 0.724 - 0s - loss: 0.7352 - acc: 0.7279 - val_loss: 1.2601 - val_acc: 0.5420\n",
      "Epoch 2/2\n"
     ]
    },
    {
     "name": "stdout",
     "output_type": "stream",
     "text": [
      "2951/2951 [==============================] - ETA: 0s - loss: 0.6380 - acc: 0.781 - ETA: 0s - loss: 0.7566 - acc: 0.738 - ETA: 0s - loss: 0.7261 - acc: 0.729 - ETA: 0s - loss: 0.7284 - acc: 0.724 - ETA: 0s - loss: 0.7172 - acc: 0.729 - ETA: 0s - loss: 0.7092 - acc: 0.732 - 0s - loss: 0.7015 - acc: 0.7384 - val_loss: 1.2439 - val_acc: 0.5366\n",
      "Training accuracy: 73.84% / Best validation accuracy: 54.34%\n",
      "Train on 2951 samples, validate on 738 samples\n",
      "Epoch 1/2\n",
      "2951/2951 [==============================] - ETA: 0s - loss: 0.7204 - acc: 0.750 - ETA: 0s - loss: 0.7140 - acc: 0.762 - ETA: 0s - loss: 0.7009 - acc: 0.745 - ETA: 0s - loss: 0.7033 - acc: 0.744 - ETA: 0s - loss: 0.7013 - acc: 0.738 - 0s - loss: 0.7121 - acc: 0.7350 - val_loss: 1.2402 - val_acc: 0.5488\n",
      "Epoch 2/2\n",
      "2951/2951 [==============================] - ETA: 0s - loss: 0.6080 - acc: 0.765 - ETA: 0s - loss: 0.7346 - acc: 0.729 - ETA: 0s - loss: 0.7420 - acc: 0.724 - ETA: 0s - loss: 0.7381 - acc: 0.723 - ETA: 0s - loss: 0.7290 - acc: 0.728 - ETA: 0s - loss: 0.7288 - acc: 0.725 - 0s - loss: 0.7184 - acc: 0.7309 - val_loss: 1.2493 - val_acc: 0.5339\n",
      "Training accuracy: 73.09% / Best validation accuracy: 54.34%\n",
      "Train on 2951 samples, validate on 738 samples\n",
      "Epoch 1/2\n",
      "2951/2951 [==============================] - ETA: 0s - loss: 0.7512 - acc: 0.687 - ETA: 0s - loss: 0.6977 - acc: 0.734 - ETA: 0s - loss: 0.6907 - acc: 0.747 - ETA: 0s - loss: 0.6843 - acc: 0.748 - ETA: 0s - loss: 0.6920 - acc: 0.746 - 0s - loss: 0.6922 - acc: 0.7438 - val_loss: 1.2406 - val_acc: 0.5515\n",
      "Epoch 2/2\n",
      "2951/2951 [==============================] - ETA: 0s - loss: 0.6729 - acc: 0.718 - ETA: 0s - loss: 0.6414 - acc: 0.776 - ETA: 0s - loss: 0.6705 - acc: 0.763 - ETA: 0s - loss: 0.6711 - acc: 0.756 - ETA: 0s - loss: 0.6811 - acc: 0.746 - 0s - loss: 0.6906 - acc: 0.7414 - val_loss: 1.2411 - val_acc: 0.5556\n",
      "Training accuracy: 74.14% / Best validation accuracy: 55.56%\n",
      "Train on 2951 samples, validate on 738 samples\n",
      "Epoch 1/2\n",
      "2951/2951 [==============================] - ETA: 0s - loss: 0.6235 - acc: 0.734 - ETA: 0s - loss: 0.6464 - acc: 0.765 - ETA: 0s - loss: 0.6671 - acc: 0.750 - ETA: 0s - loss: 0.6723 - acc: 0.741 - ETA: 0s - loss: 0.6789 - acc: 0.740 - ETA: 0s - loss: 0.6796 - acc: 0.744 - 0s - loss: 0.6793 - acc: 0.7448 - val_loss: 1.2813 - val_acc: 0.5501\n",
      "Epoch 2/2\n",
      "2951/2951 [==============================] - ETA: 0s - loss: 0.6810 - acc: 0.718 - ETA: 0s - loss: 0.7066 - acc: 0.713 - ETA: 0s - loss: 0.6866 - acc: 0.731 - ETA: 0s - loss: 0.6779 - acc: 0.745 - ETA: 0s - loss: 0.6868 - acc: 0.741 - 0s - loss: 0.6800 - acc: 0.7445 - val_loss: 1.2546 - val_acc: 0.5623\n",
      "Training accuracy: 74.45% / Best validation accuracy: 56.23%\n",
      "Train on 2951 samples, validate on 738 samples\n",
      "Epoch 1/2\n",
      "2951/2951 [==============================] - ETA: 0s - loss: 0.5204 - acc: 0.812 - ETA: 0s - loss: 0.6727 - acc: 0.742 - ETA: 0s - loss: 0.6641 - acc: 0.740 - ETA: 0s - loss: 0.6559 - acc: 0.747 - ETA: 0s - loss: 0.6621 - acc: 0.749 - ETA: 0s - loss: 0.6582 - acc: 0.752 - 0s - loss: 0.6620 - acc: 0.7503 - val_loss: 1.2562 - val_acc: 0.5420\n",
      "Epoch 2/2\n",
      "2951/2951 [==============================] - ETA: 0s - loss: 0.6978 - acc: 0.750 - ETA: 0s - loss: 0.6361 - acc: 0.760 - ETA: 0s - loss: 0.6510 - acc: 0.752 - ETA: 0s - loss: 0.6466 - acc: 0.752 - ETA: 0s - loss: 0.6526 - acc: 0.753 - 0s - loss: 0.6532 - acc: 0.7533 - val_loss: 1.2650 - val_acc: 0.5542\n",
      "Training accuracy: 75.33% / Best validation accuracy: 56.23%\n",
      "Train on 2951 samples, validate on 738 samples\n",
      "Epoch 1/2\n",
      "2951/2951 [==============================] - ETA: 0s - loss: 0.5648 - acc: 0.765 - ETA: 0s - loss: 0.6569 - acc: 0.756 - ETA: 0s - loss: 0.6628 - acc: 0.749 - ETA: 0s - loss: 0.6715 - acc: 0.743 - ETA: 0s - loss: 0.6685 - acc: 0.745 - ETA: 0s - loss: 0.6653 - acc: 0.744 - 0s - loss: 0.6618 - acc: 0.7452 - val_loss: 1.2768 - val_acc: 0.5474\n",
      "Epoch 2/2\n",
      "2951/2951 [==============================] - ETA: 0s - loss: 0.5154 - acc: 0.781 - ETA: 0s - loss: 0.6879 - acc: 0.743 - ETA: 0s - loss: 0.6809 - acc: 0.747 - ETA: 0s - loss: 0.6543 - acc: 0.750 - ETA: 0s - loss: 0.6477 - acc: 0.751 - ETA: 0s - loss: 0.6546 - acc: 0.746 - 0s - loss: 0.6531 - acc: 0.7482 - val_loss: 1.2696 - val_acc: 0.5569\n",
      "Training accuracy: 74.82% / Best validation accuracy: 56.23%\n",
      "Train on 2951 samples, validate on 738 samples\n",
      "Epoch 1/2\n",
      "2951/2951 [==============================] - ETA: 0s - loss: 0.4868 - acc: 0.828 - ETA: 0s - loss: 0.6262 - acc: 0.769 - ETA: 0s - loss: 0.6533 - acc: 0.758 - ETA: 0s - loss: 0.6598 - acc: 0.759 - ETA: 0s - loss: 0.6530 - acc: 0.760 - ETA: 0s - loss: 0.6368 - acc: 0.766 - 0s - loss: 0.6376 - acc: 0.7658 - val_loss: 1.2892 - val_acc: 0.5474\n",
      "Epoch 2/2\n",
      "2951/2951 [==============================] - ETA: 0s - loss: 0.5527 - acc: 0.781 - ETA: 0s - loss: 0.6065 - acc: 0.770 - ETA: 0s - loss: 0.6282 - acc: 0.767 - ETA: 0s - loss: 0.6200 - acc: 0.769 - ETA: 0s - loss: 0.6197 - acc: 0.765 - ETA: 0s - loss: 0.6299 - acc: 0.762 - 0s - loss: 0.6400 - acc: 0.7557 - val_loss: 1.2734 - val_acc: 0.5488\n",
      "Training accuracy: 75.57% / Best validation accuracy: 56.23%\n",
      "Train on 2951 samples, validate on 738 samples\n",
      "Epoch 1/2\n",
      "2951/2951 [==============================] - ETA: 0s - loss: 0.6755 - acc: 0.765 - ETA: 0s - loss: 0.6314 - acc: 0.765 - ETA: 0s - loss: 0.6294 - acc: 0.773 - ETA: 0s - loss: 0.6371 - acc: 0.765 - ETA: 0s - loss: 0.6246 - acc: 0.767 - ETA: 0s - loss: 0.6261 - acc: 0.766 - 0s - loss: 0.6253 - acc: 0.7669 - val_loss: 1.2980 - val_acc: 0.5366\n",
      "Epoch 2/2\n",
      "2951/2951 [==============================] - ETA: 0s - loss: 0.5674 - acc: 0.828 - ETA: 0s - loss: 0.6232 - acc: 0.758 - ETA: 0s - loss: 0.6215 - acc: 0.770 - ETA: 0s - loss: 0.6391 - acc: 0.768 - ETA: 0s - loss: 0.6410 - acc: 0.768 - ETA: 0s - loss: 0.6381 - acc: 0.769 - 0s - loss: 0.6357 - acc: 0.7692 - val_loss: 1.2838 - val_acc: 0.5515\n",
      "Training accuracy: 76.92% / Best validation accuracy: 56.23%\n",
      "Train on 2951 samples, validate on 738 samples\n",
      "Epoch 1/2\n",
      "2951/2951 [==============================] - ETA: 0s - loss: 0.4984 - acc: 0.859 - ETA: 0s - loss: 0.5973 - acc: 0.781 - ETA: 0s - loss: 0.6040 - acc: 0.777 - ETA: 0s - loss: 0.5865 - acc: 0.781 - ETA: 0s - loss: 0.5789 - acc: 0.785 - ETA: 0s - loss: 0.6075 - acc: 0.771 - 0s - loss: 0.6141 - acc: 0.7679 - val_loss: 1.2774 - val_acc: 0.5569\n",
      "Epoch 2/2\n",
      "2951/2951 [==============================] - ETA: 0s - loss: 0.7358 - acc: 0.718 - ETA: 0s - loss: 0.6468 - acc: 0.746 - ETA: 0s - loss: 0.6333 - acc: 0.759 - ETA: 0s - loss: 0.6148 - acc: 0.757 - ETA: 0s - loss: 0.6111 - acc: 0.756 - ETA: 0s - loss: 0.6207 - acc: 0.755 - 0s - loss: 0.6138 - acc: 0.7567 - val_loss: 1.2885 - val_acc: 0.5515\n",
      "Training accuracy: 75.67% / Best validation accuracy: 56.23%\n",
      "Train on 2951 samples, validate on 738 samples\n",
      "Epoch 1/2\n",
      "2951/2951 [==============================] - ETA: 0s - loss: 0.6277 - acc: 0.796 - ETA: 0s - loss: 0.6003 - acc: 0.763 - ETA: 0s - loss: 0.6126 - acc: 0.761 - ETA: 0s - loss: 0.6043 - acc: 0.767 - ETA: 0s - loss: 0.6044 - acc: 0.768 - ETA: 0s - loss: 0.6093 - acc: 0.769 - 0s - loss: 0.6095 - acc: 0.7716 - val_loss: 1.3089 - val_acc: 0.5488\n",
      "Epoch 2/2\n",
      "2951/2951 [==============================] - ETA: 0s - loss: 0.4808 - acc: 0.796 - ETA: 0s - loss: 0.5873 - acc: 0.752 - ETA: 0s - loss: 0.5724 - acc: 0.765 - ETA: 0s - loss: 0.5869 - acc: 0.767 - ETA: 0s - loss: 0.5850 - acc: 0.767 - ETA: 0s - loss: 0.5843 - acc: 0.775 - ETA: 0s - loss: 0.5822 - acc: 0.775 - 0s - loss: 0.5917 - acc: 0.7709 - val_loss: 1.2969 - val_acc: 0.5488\n",
      "Training accuracy: 77.09% / Best validation accuracy: 56.23%\n"
     ]
    },
    {
     "data": {
      "image/png": "[encoded data removed]",
      "text/plain": [
       "<matplotlib.figure.Figure at 0x1e6db05cda0>"
      ]
     },
     "metadata": {},
     "output_type": "display_data"
    },
    {
     "data": {
      "image/png": "[encoded data removed]",
      "text/plain": [
       "<matplotlib.figure.Figure at 0x1e6db0cca58>"
      ]
     },
     "metadata": {},
     "output_type": "display_data"
    },
    {
     "name": "stdout",
     "output_type": "stream",
     "text": [
      "832/986 [========================>.....] - ETA:  - ETA: 0s"
     ]
    }
   ],
   "source": [
    "model = train_nn_model(model, train_set, encoded_y, filename = 'try(win2).h5')\n",
    "y_predict = model.predict_proba(test_set)"
   ]
  },
  {
   "cell_type": "code",
   "execution_count": 15,
   "metadata": {
    "collapsed": true
   },
   "outputs": [],
   "source": [
    "#the xgboost classfication model\n",
    "#first deal with the input label, transfrom it from 1-9 to 0-8(required by the xgboost)\n",
    "for i in range(len(train_y)):\n",
    "    train_y[i] -=1  "
   ]
  },
  {
   "cell_type": "code",
   "execution_count": 16,
   "metadata": {},
   "outputs": [
    {
     "name": "stdout",
     "output_type": "stream",
     "text": [
      "[0]\ttrain-mlogloss:2.11745\tvalid-mlogloss:2.1404\n",
      "Multiple eval metrics have been passed: 'valid-mlogloss' will be used for early stopping.\n",
      "\n",
      "Will train until valid-mlogloss hasn't improved in 100 rounds.\n",
      "[25]\ttrain-mlogloss:1.05798\tvalid-mlogloss:1.44264\n",
      "[50]\ttrain-mlogloss:0.610543\tvalid-mlogloss:1.18428\n",
      "[75]\ttrain-mlogloss:0.381413\tvalid-mlogloss:1.05781\n",
      "[100]\ttrain-mlogloss:0.258938\tvalid-mlogloss:0.994616\n",
      "[125]\ttrain-mlogloss:0.177905\tvalid-mlogloss:0.964828\n",
      "[150]\ttrain-mlogloss:0.126354\tvalid-mlogloss:0.95418\n",
      "[175]\ttrain-mlogloss:0.091554\tvalid-mlogloss:0.95067\n",
      "[200]\ttrain-mlogloss:0.068454\tvalid-mlogloss:0.951511\n",
      "[225]\ttrain-mlogloss:0.05209\tvalid-mlogloss:0.957504\n",
      "[250]\ttrain-mlogloss:0.041341\tvalid-mlogloss:0.965543\n",
      "Stopping. Best iteration:\n",
      "[172]\ttrain-mlogloss:0.095087\tvalid-mlogloss:0.949843\n",
      "\n",
      "0.949843439014\n",
      "1\n"
     ]
    }
   ],
   "source": [
    "y_predict = xgbclassifier(train_set, train_y, test_set, 1, 8, 1000)"
   ]
  },
  {
   "cell_type": "code",
   "execution_count": 18,
   "metadata": {
    "collapsed": true
   },
   "outputs": [],
   "source": [
    "savesubmisstion(y_predict, test_x, filename = \"submission_allwin2noload.csv\")"
   ]
  },
  {
   "cell_type": "code",
   "execution_count": null,
   "metadata": {
    "collapsed": true
   },
   "outputs": [],
   "source": []
  }
 ],
 "metadata": {
  "kernelspec": {
   "display_name": "Python 3",
   "language": "python",
   "name": "python3"
  },
  "language_info": {
   "codemirror_mode": {
    "name": "ipython",
    "version": 3
   },
   "file_extension": ".py",
   "mimetype": "text/x-python",
   "name": "python",
   "nbconvert_exporter": "python",
   "pygments_lexer": "ipython3",
   "version": "3.5.4"
  }
 },
 "nbformat": 4,
 "nbformat_minor": 2
}
