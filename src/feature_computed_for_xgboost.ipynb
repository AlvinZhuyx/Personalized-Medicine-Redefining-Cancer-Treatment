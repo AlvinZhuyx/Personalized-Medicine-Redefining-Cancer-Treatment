{
 "cells": [
  {
   "cell_type": "code",
   "execution_count": 1,
   "metadata": {},
   "outputs": [
    {
     "name": "stderr",
     "output_type": "stream",
     "text": [
      "C:\\Users\\zhuya\\Anaconda3\\envs\\tensorflow\\lib\\site-packages\\gensim\\utils.py:862: UserWarning: detected Windows; aliasing chunkize to chunkize_serial\n",
      "  warnings.warn(\"detected Windows; aliasing chunkize to chunkize_serial\")\n",
      "C:\\Users\\zhuya\\Anaconda3\\envs\\tensorflow\\lib\\site-packages\\sklearn\\cross_validation.py:41: DeprecationWarning: This module was deprecated in version 0.18 in favor of the model_selection module into which all the refactored classes and functions are moved. Also note that the interface of the new CV iterators are different from that of this module. This module will be removed in 0.20.\n",
      "  \"This module will be removed in 0.20.\", DeprecationWarning)\n"
     ]
    }
   ],
   "source": [
    "import os\n",
    "import re\n",
    "import tqdm\n",
    "import string\n",
    "import pandas as pd\n",
    "import numpy as np\n",
    "import util\n",
    "from sklearn.decomposition import TruncatedSVD\n",
    "#from data_preprocessing import *\n",
    "import word_embedding_load as wel\n",
    "import baseline_classification as bc\n",
    "import matplotlib.pyplot as plt\n",
    "import feature_selection_evaluation as fse\n",
    "import pickle\n",
    "from xgboost_classifier import *\n",
    "from testaccuracy import *"
   ]
  },
  {
   "cell_type": "code",
   "execution_count": 2,
   "metadata": {
    "collapsed": true
   },
   "outputs": [],
   "source": [
    "modelName = 'docEmbeddings_win2_load_all.d2v'"
   ]
  },
  {
   "cell_type": "code",
   "execution_count": null,
   "metadata": {
    "collapsed": true
   },
   "outputs": [],
   "source": [
    "res = fse.getFeature(modelName, 100)\n",
    "X_100_train = res['X_train']\n",
    "X_100_test = res['X_test']\n",
    "y = res['label']"
   ]
  },
  {
   "cell_type": "code",
   "execution_count": 6,
   "metadata": {},
   "outputs": [
    {
     "name": "stdout",
     "output_type": "stream",
     "text": [
      "Successfully loaded the textmodel from ../model/doc2vec/docEmbeddings_win2_load_all.d2v\n",
      "Feature with length 175 using docEmbeddings_win2_load_all.d2v\n"
     ]
    }
   ],
   "source": [
    "res = fse.getFeature(modelName, 175)\n",
    "X_175_train = res['X_train']\n",
    "X_175_test = res['X_test']"
   ]
  },
  {
   "cell_type": "code",
   "execution_count": 7,
   "metadata": {},
   "outputs": [
    {
     "name": "stdout",
     "output_type": "stream",
     "text": [
      "(3689, 100)\n",
      "(986, 100)\n",
      "(3689, 175)\n",
      "(986, 175)\n",
      "(3689,)\n"
     ]
    }
   ],
   "source": [
    "print(X_100_train.shape)\n",
    "print(X_100_test.shape)\n",
    "print(X_175_train.shape)\n",
    "print(X_175_test.shape)\n",
    "print(y.shape)"
   ]
  },
  {
   "cell_type": "code",
   "execution_count": 6,
   "metadata": {
    "collapsed": true
   },
   "outputs": [],
   "source": [
    "if not os.path.isdir('../data/feature'):\n",
    "    os.mkdir('../data/feature')\n"
   ]
  },
  {
   "cell_type": "code",
   "execution_count": 8,
   "metadata": {
    "collapsed": true
   },
   "outputs": [],
   "source": [
    " #save feature data to ../data/feature/\n",
    "\n",
    "with open('../data/feature/docFeat_100_train.pkl', 'wb') as f:\n",
    "    pickle.dump(X_100_train, f)\n",
    "    f.close()\n",
    "with open('../data/feature/docFeat_175_train.pkl', 'wb') as f:\n",
    "    pickle.dump(X_175_train, f)\n",
    "    f.close()\n",
    "with open('../data/feature/docFeat_100_test.pkl', 'wb') as f:\n",
    "    pickle.dump(X_100_test, f)\n",
    "    f.close()\n",
    "with open('../data/feature/docFeat_175_test.pkl', 'wb') as f:\n",
    "    pickle.dump(X_175_test, f)\n",
    "    f.close()\n",
    "with open('../data/feature/docLabel.pkl', 'wb') as f:\n",
    "    pickle.dump(y, f)\n",
    "    f.close()\n"
   ]
  },
  {
   "cell_type": "code",
   "execution_count": 2,
   "metadata": {
    "collapsed": true
   },
   "outputs": [],
   "source": [
    "# load feature data from earlier computed \n",
    "with open('../data/feature/docFeat_100_train.pkl', 'rb') as f:\n",
    "    X_100_train = pickle.load(f)\n",
    "    f.close()\n",
    "with open('../data/feature/docFeat_175_train.pkl', 'rb') as f:\n",
    "    X_175_train = pickle.load(f)\n",
    "    f.close()\n",
    "with open('../data/feature/docFeat_100_test.pkl', 'rb') as f:\n",
    "    X_100_test = pickle.load(f)\n",
    "    f.close()\n",
    "with open('../data/feature/docFeat_175_test.pkl', 'rb') as f:\n",
    "    X_175_test = pickle.load(f)\n",
    "    f.close()\n",
    "with open('../data/feature/docLabel.pkl', 'rb') as f:\n",
    "    y = pickle.load(f)\n",
    "    f.close()"
   ]
  },
  {
   "cell_type": "code",
   "execution_count": 3,
   "metadata": {},
   "outputs": [
    {
     "name": "stdout",
     "output_type": "stream",
     "text": [
      "(3689, 100)\n",
      "(986, 100)\n",
      "(3689, 175)\n",
      "(986, 175)\n",
      "(3689,)\n"
     ]
    }
   ],
   "source": [
    "print(X_100_train.shape)\n",
    "print(X_100_test.shape)\n",
    "print(X_175_train.shape)\n",
    "print(X_175_test.shape)\n",
    "print(y.shape)"
   ]
  },
  {
   "cell_type": "code",
   "execution_count": 4,
   "metadata": {
    "collapsed": true
   },
   "outputs": [],
   "source": [
    "[all_data, train_size, test_size, train_x, train_y, test_x] = util.loadData()\n",
    "for i in range(len(train_y)):\n",
    "    train_y[i] -=1  "
   ]
  },
  {
   "cell_type": "code",
   "execution_count": 5,
   "metadata": {},
   "outputs": [
    {
     "name": "stdout",
     "output_type": "stream",
     "text": [
      "[0]\ttrain-mlogloss:2.12065\tvalid-mlogloss:2.14319\n",
      "Multiple eval metrics have been passed: 'valid-mlogloss' will be used for early stopping.\n",
      "\n",
      "Will train until valid-mlogloss hasn't improved in 100 rounds.\n",
      "[25]\ttrain-mlogloss:1.08116\tvalid-mlogloss:1.47622\n",
      "[50]\ttrain-mlogloss:0.641457\tvalid-mlogloss:1.22074\n",
      "[75]\ttrain-mlogloss:0.409081\tvalid-mlogloss:1.10375\n",
      "[100]\ttrain-mlogloss:0.275661\tvalid-mlogloss:1.04461\n",
      "[125]\ttrain-mlogloss:0.195875\tvalid-mlogloss:1.01644\n",
      "[150]\ttrain-mlogloss:0.141437\tvalid-mlogloss:1.00516\n",
      "[175]\ttrain-mlogloss:0.10504\tvalid-mlogloss:1.00261\n",
      "[200]\ttrain-mlogloss:0.07972\tvalid-mlogloss:1.00707\n",
      "[225]\ttrain-mlogloss:0.061824\tvalid-mlogloss:1.0127\n",
      "[250]\ttrain-mlogloss:0.049253\tvalid-mlogloss:1.0204\n",
      "Stopping. Best iteration:\n",
      "[174]\ttrain-mlogloss:0.106197\tvalid-mlogloss:1.00255\n",
      "\n",
      "final validation loss:\n",
      "1.0025462156\n",
      "final validation accuracy:\n",
      "0.66015037594\n"
     ]
    }
   ],
   "source": [
    "y_predict = xgbclassifier(X_175_train, train_y, X_175_test, 1, 8, 1000)"
   ]
  },
  {
   "cell_type": "code",
   "execution_count": 6,
   "metadata": {
    "collapsed": true
   },
   "outputs": [],
   "source": [
    "savesubmisstion(y_predict, test_x, filename = \"submission_svd175.csv\")"
   ]
  },
  {
   "cell_type": "code",
   "execution_count": null,
   "metadata": {
    "collapsed": true
   },
   "outputs": [],
   "source": []
  }
 ],
 "metadata": {
  "kernelspec": {
   "display_name": "Python 3",
   "language": "python",
   "name": "python3"
  },
  "language_info": {
   "codemirror_mode": {
    "name": "ipython",
    "version": 3
   },
   "file_extension": ".py",
   "mimetype": "text/x-python",
   "name": "python",
   "nbconvert_exporter": "python",
   "pygments_lexer": "ipython3",
   "version": "3.6.3"
  }
 },
 "nbformat": 4,
 "nbformat_minor": 2
}
