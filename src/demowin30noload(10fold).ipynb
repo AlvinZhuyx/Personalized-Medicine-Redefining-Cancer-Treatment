{
 "cells": [
  {
   "cell_type": "code",
   "execution_count": 1,
   "metadata": {},
   "outputs": [
    {
     "name": "stderr",
     "output_type": "stream",
     "text": [
      "C:\\Users\\zhuya\\Anaconda3\\envs\\tensorflow\\lib\\site-packages\\gensim\\utils.py:862: UserWarning: detected Windows; aliasing chunkize to chunkize_serial\n",
      "  warnings.warn(\"detected Windows; aliasing chunkize to chunkize_serial\")\n",
      "Using TensorFlow backend.\n",
      "C:\\Users\\zhuya\\Anaconda3\\envs\\tensorflow\\lib\\site-packages\\sklearn\\cross_validation.py:41: DeprecationWarning: This module was deprecated in version 0.18 in favor of the model_selection module into which all the refactored classes and functions are moved. Also note that the interface of the new CV iterators are different from that of this module. This module will be removed in 0.20.\n",
      "  \"This module will be removed in 0.20.\", DeprecationWarning)\n"
     ]
    }
   ],
   "source": [
    "import os\n",
    "import re\n",
    "import tqdm\n",
    "import string\n",
    "import pandas as pd\n",
    "import numpy as np\n",
    "import util\n",
    "from sklearn.decomposition import TruncatedSVD\n",
    "from data_preprocessing import *\n",
    "import word_embedding_load as wel\n",
    "from classification import *\n",
    "from xgboost_classifier import *\n",
    "from testaccuracy import *"
   ]
  },
  {
   "cell_type": "code",
   "execution_count": 2,
   "metadata": {
    "collapsed": true
   },
   "outputs": [],
   "source": [
    "[all_data, train_size, test_size, train_x, train_y, test_x] = util.loadData()\n",
    "sentences = data_preprocess(all_data)"
   ]
  },
  {
   "cell_type": "code",
   "execution_count": 3,
   "metadata": {
    "collapsed": true
   },
   "outputs": [],
   "source": [
    "Text_INPUT_DIM=200\n",
    "GENE_INPUT_DIM=25\n",
    "TEXT_INPUT_DIM=200\n",
    "PATH = '../model/doc2vec/'\n",
    "modelName='textModel_win=30_no_outside'"
   ]
  },
  {
   "cell_type": "code",
   "execution_count": 4,
   "metadata": {
    "collapsed": true
   },
   "outputs": [],
   "source": [
    "param = util.Doc2VecParam(1, 2, 200, 1e-4, 5, 4, 30, 1)"
   ]
  },
  {
   "cell_type": "code",
   "execution_count": 5,
   "metadata": {
    "collapsed": true
   },
   "outputs": [],
   "source": [
    "svd = TruncatedSVD(n_components=GENE_INPUT_DIM, n_iter=25, random_state=12)"
   ]
  },
  {
   "cell_type": "code",
   "execution_count": 6,
   "metadata": {},
   "outputs": [
    {
     "name": "stdout",
     "output_type": "stream",
     "text": [
      "Successfully loaded the textmodel from ../model/doc2vec/textModel_win=30_no_outside\n"
     ]
    }
   ],
   "source": [
    "#load a pre-trained text model\n",
    "text_model = wel.loadTextModel(PATH + modelName)\n",
    "\n",
    "#To train a new text model, default without outside data:\n",
    "#text_model = wel.trainTextModel(sentences, param, 'newModelName', PATH)\n",
    "\n",
    "#To train a new text model with outside data:\n",
    "#sourceFile = '../data/bio_nlp_vec/PubMed-shuffle-win-30.bin'\n",
    "#text_model = wel.trainTextModel(sentences, param, 'newModelName', PATH, True, sourceFile)"
   ]
  },
  {
   "cell_type": "code",
   "execution_count": 7,
   "metadata": {
    "collapsed": true
   },
   "outputs": [],
   "source": [
    "truncated_one_hot_gene = wel.getGeneVec(all_data, svd)\n",
    "truncated_one_hot_variation = wel.getVariationVec(all_data, svd)\n",
    "text_train_arrays, text_test_arrays = wel.getTextVec(text_model, train_size, test_size, TEXT_INPUT_DIM)"
   ]
  },
  {
   "cell_type": "code",
   "execution_count": 8,
   "metadata": {},
   "outputs": [
    {
     "name": "stdout",
     "output_type": "stream",
     "text": [
      "(3689, 200)\n",
      "(986, 200)\n"
     ]
    },
    {
     "data": {
      "text/plain": [
       "array([-0.17289065, -3.8296752 ,  0.06695388,  3.82798338, -0.2867583 ,\n",
       "       -0.6928432 ,  2.93742371,  2.01823235, -0.32684457, -1.44869399,\n",
       "        0.27529755, -0.79016078,  1.79306448,  4.28960419,  0.13605687,\n",
       "       -2.43463802,  0.09181995, -0.04406718,  2.46003342,  4.73867655,\n",
       "        1.97732508,  2.34663606, -0.11793029, -3.57738924, -0.45679718,\n",
       "       -3.54198337,  4.34884214,  2.30379629,  4.62182856,  2.40693569,\n",
       "        1.11229527,  1.03004909, -0.47451738, -1.17208731, -1.95631719,\n",
       "        0.94235301, -1.72339058,  0.94970924,  1.68300402,  5.48246861,\n",
       "       -2.90595341,  2.47609782,  2.60338545, -0.22896838,  0.26752338,\n",
       "        0.79036963, -1.86278892,  1.52235138, -0.40399107, -3.93441987,\n",
       "       -0.16414452,  3.76050663, -0.12991294,  1.8676033 , -4.16120958,\n",
       "        1.54574025, -2.70265174,  0.9447946 , -0.35614172,  0.77467412,\n",
       "        0.18951511, -3.21754813,  1.22369778, -4.41033459,  1.06871235,\n",
       "       -2.62220693, -1.1595726 , -0.85579103, -4.74306965,  0.44803134,\n",
       "       -2.15414453, -0.23955402,  2.98476219,  1.67248857,  3.17216706,\n",
       "        0.69889808,  1.04754877,  1.81206036, -1.85312212,  0.16848567,\n",
       "        2.53934383, -1.72583973, -0.26371157, -1.87229276,  0.92838508,\n",
       "        0.91792822, -1.36402476,  3.54377866,  2.37788677, -3.46608496,\n",
       "       -1.09065771, -0.666098  , -2.2170341 , -3.57022142, -0.82380354,\n",
       "       -1.42618465, -0.27533513,  1.32945299,  0.66136092, -1.63998568,\n",
       "        3.20128989, -6.04491949, -0.30420786, -1.70897889,  2.67743778,\n",
       "        1.90950286, -4.48505163, -2.03824067, -2.46897316, -2.46615386,\n",
       "       -0.54036379,  0.34434596,  0.62943888,  2.53847289, -0.22288637,\n",
       "        2.40424681,  0.55524141, -0.67404705,  0.95844811, -4.95249796,\n",
       "        2.22058678, -0.24500769,  0.94187874,  0.95604706,  2.06792712,\n",
       "        4.22703075,  0.7540549 , -4.70066547,  2.12475729,  1.15884399,\n",
       "       -0.19490728, -0.12247698, -0.18956196, -0.74539417, -3.05677319,\n",
       "       -1.80076122,  0.82678634, -1.90855968,  2.73518467,  0.40386128,\n",
       "       -2.39189076, -0.16516663, -0.71431017,  0.38154206, -0.17210551,\n",
       "       -5.43467999,  0.99866182, -2.24288321,  3.80912018, -2.92926931,\n",
       "       -2.3591218 ,  0.75605172, -0.17845501, -2.96130037,  1.32757354,\n",
       "        1.45651734,  2.72758341, -1.12223494,  2.69179463,  3.19696903,\n",
       "        0.22242275, -2.82159019, -1.40356684, -1.81734049,  1.9248035 ,\n",
       "        3.33615446, -1.85116529,  0.45467877, -4.12419796,  2.12393188,\n",
       "        0.76262909, -1.2225126 , -1.31494117,  0.83723497,  0.81891078,\n",
       "        2.56812549, -0.55772948, -1.07732844, -0.60978442, -4.65888548,\n",
       "       -1.53573513, -1.27501214, -0.15966956,  0.22463255,  0.64679074,\n",
       "       -0.89074963,  2.27557087,  1.21546972,  2.59099436, -2.32345223,\n",
       "       -1.17904949,  5.71171379,  5.24551201,  1.33496249, -1.81136525,\n",
       "       -6.65980101,  3.69896531,  0.32377377,  0.85187089,  0.5352335 ])"
      ]
     },
     "execution_count": 8,
     "metadata": {},
     "output_type": "execute_result"
    }
   ],
   "source": [
    "print(text_train_arrays.shape)\n",
    "print(text_test_arrays.shape)\n",
    "text_train_arrays[0]"
   ]
  },
  {
   "cell_type": "code",
   "execution_count": 9,
   "metadata": {},
   "outputs": [
    {
     "name": "stdout",
     "output_type": "stream",
     "text": [
      "(3689, 9)\n"
     ]
    }
   ],
   "source": [
    "train_set = np.hstack((truncated_one_hot_gene[:train_size], truncated_one_hot_variation[:train_size], text_train_arrays))\n",
    "test_set = np.hstack((truncated_one_hot_gene[train_size:], truncated_one_hot_variation[train_size:], text_test_arrays))\n",
    "encoded_y = pd.get_dummies(train_y)\n",
    "encoded_y = np.array(encoded_y)\n",
    "print(encoded_y.shape)"
   ]
  },
  {
   "cell_type": "code",
   "execution_count": 10,
   "metadata": {},
   "outputs": [
    {
     "name": "stdout",
     "output_type": "stream",
     "text": [
      "(3689, 250)\n",
      "(986, 250)\n"
     ]
    },
    {
     "data": {
      "text/plain": [
       "array([  1.00000000e+00,   4.18523246e-19,   1.82140582e-19,\n",
       "         5.52932734e-29,   9.01317672e-25,   1.47967745e-22,\n",
       "        -8.38240178e-21,   2.00300590e-21,   9.74158370e-21,\n",
       "        -9.34683441e-21,   1.91083889e-20,   6.55003880e-19,\n",
       "        -1.09276438e-17,  -1.56730196e-18,  -2.12913704e-18,\n",
       "        -4.51096312e-18,  -3.82900024e-19,   1.15894157e-17,\n",
       "         1.59938703e-17,   3.58735292e-17,  -3.35304994e-18,\n",
       "         1.68462844e-17,   6.76851697e-18,   5.86047343e-17,\n",
       "         7.80129580e-21])"
      ]
     },
     "execution_count": 10,
     "metadata": {},
     "output_type": "execute_result"
    }
   ],
   "source": [
    "print(train_set.shape)\n",
    "print(test_set.shape)\n",
    "train_set[0, 25:50]"
   ]
  },
  {
   "cell_type": "code",
   "execution_count": 11,
   "metadata": {
    "collapsed": true
   },
   "outputs": [],
   "source": [
    "#the xgboost classfication model\n",
    "#first deal with the input label, transfrom it from 1-9 to 0-8(required by the xgboost)\n",
    "for i in range(len(train_y)):\n",
    "    train_y[i] -=1  "
   ]
  },
  {
   "cell_type": "code",
   "execution_count": 12,
   "metadata": {},
   "outputs": [
    {
     "name": "stdout",
     "output_type": "stream",
     "text": [
      "[0]\ttrain-mlogloss:2.12136\tvalid-mlogloss:2.14335\n",
      "Multiple eval metrics have been passed: 'valid-mlogloss' will be used for early stopping.\n",
      "\n",
      "Will train until valid-mlogloss hasn't improved in 100 rounds.\n",
      "[25]\ttrain-mlogloss:1.12636\tvalid-mlogloss:1.47589\n",
      "[50]\ttrain-mlogloss:0.675256\tvalid-mlogloss:1.20598\n",
      "[75]\ttrain-mlogloss:0.436221\tvalid-mlogloss:1.08835\n",
      "[100]\ttrain-mlogloss:0.29858\tvalid-mlogloss:1.01638\n",
      "[125]\ttrain-mlogloss:0.205644\tvalid-mlogloss:0.984552\n",
      "[150]\ttrain-mlogloss:0.145017\tvalid-mlogloss:0.967574\n",
      "[175]\ttrain-mlogloss:0.104283\tvalid-mlogloss:0.965492\n",
      "[200]\ttrain-mlogloss:0.077105\tvalid-mlogloss:0.965019\n",
      "[225]\ttrain-mlogloss:0.058967\tvalid-mlogloss:0.964441\n",
      "[250]\ttrain-mlogloss:0.045912\tvalid-mlogloss:0.96622\n",
      "[275]\ttrain-mlogloss:0.036822\tvalid-mlogloss:0.970268\n",
      "[300]\ttrain-mlogloss:0.030353\tvalid-mlogloss:0.973773\n",
      "Stopping. Best iteration:\n",
      "[215]\ttrain-mlogloss:0.065424\tvalid-mlogloss:0.962906\n",
      "\n",
      "final validation loss:\n",
      "0.962906420789\n",
      "final validation accuracy:\n",
      "0.677506775068\n",
      "[0]\ttrain-mlogloss:2.12117\tvalid-mlogloss:2.13833\n",
      "Multiple eval metrics have been passed: 'valid-mlogloss' will be used for early stopping.\n",
      "\n",
      "Will train until valid-mlogloss hasn't improved in 100 rounds.\n",
      "[25]\ttrain-mlogloss:1.15146\tvalid-mlogloss:1.45217\n",
      "[50]\ttrain-mlogloss:0.704911\tvalid-mlogloss:1.18891\n",
      "[75]\ttrain-mlogloss:0.460152\tvalid-mlogloss:1.05699\n",
      "[100]\ttrain-mlogloss:0.313608\tvalid-mlogloss:0.984086\n",
      "[125]\ttrain-mlogloss:0.216247\tvalid-mlogloss:0.933329\n",
      "[150]\ttrain-mlogloss:0.151588\tvalid-mlogloss:0.900998\n",
      "[175]\ttrain-mlogloss:0.10904\tvalid-mlogloss:0.88132\n",
      "[200]\ttrain-mlogloss:0.08032\tvalid-mlogloss:0.872004\n",
      "[225]\ttrain-mlogloss:0.060879\tvalid-mlogloss:0.868897\n",
      "[250]\ttrain-mlogloss:0.047711\tvalid-mlogloss:0.86286\n",
      "[275]\ttrain-mlogloss:0.038242\tvalid-mlogloss:0.864153\n",
      "[300]\ttrain-mlogloss:0.031554\tvalid-mlogloss:0.863558\n",
      "[325]\ttrain-mlogloss:0.026708\tvalid-mlogloss:0.862995\n",
      "[350]\ttrain-mlogloss:0.023035\tvalid-mlogloss:0.864507\n",
      "Stopping. Best iteration:\n",
      "[252]\ttrain-mlogloss:0.046806\tvalid-mlogloss:0.862448\n",
      "\n",
      "final validation loss:\n",
      "0.862448249361\n",
      "final validation accuracy:\n",
      "0.69647696477\n",
      "[0]\ttrain-mlogloss:2.12376\tvalid-mlogloss:2.14381\n",
      "Multiple eval metrics have been passed: 'valid-mlogloss' will be used for early stopping.\n",
      "\n",
      "Will train until valid-mlogloss hasn't improved in 100 rounds.\n",
      "[25]\ttrain-mlogloss:1.14671\tvalid-mlogloss:1.47257\n",
      "[50]\ttrain-mlogloss:0.691191\tvalid-mlogloss:1.19888\n",
      "[75]\ttrain-mlogloss:0.450407\tvalid-mlogloss:1.06885\n",
      "[100]\ttrain-mlogloss:0.308452\tvalid-mlogloss:0.998083\n",
      "[125]\ttrain-mlogloss:0.212978\tvalid-mlogloss:0.954768\n",
      "[150]\ttrain-mlogloss:0.148137\tvalid-mlogloss:0.926021\n",
      "[175]\ttrain-mlogloss:0.106312\tvalid-mlogloss:0.91267\n",
      "[200]\ttrain-mlogloss:0.078454\tvalid-mlogloss:0.907426\n",
      "[225]\ttrain-mlogloss:0.059562\tvalid-mlogloss:0.904531\n",
      "[250]\ttrain-mlogloss:0.046578\tvalid-mlogloss:0.905694\n",
      "[275]\ttrain-mlogloss:0.037288\tvalid-mlogloss:0.907918\n",
      "[300]\ttrain-mlogloss:0.030856\tvalid-mlogloss:0.912902\n",
      "[325]\ttrain-mlogloss:0.026047\tvalid-mlogloss:0.917001\n",
      "Stopping. Best iteration:\n",
      "[225]\ttrain-mlogloss:0.059562\tvalid-mlogloss:0.904531\n",
      "\n",
      "final validation loss:\n",
      "0.904531049052\n",
      "final validation accuracy:\n",
      "0.677506775068\n",
      "[0]\ttrain-mlogloss:2.12257\tvalid-mlogloss:2.1362\n",
      "Multiple eval metrics have been passed: 'valid-mlogloss' will be used for early stopping.\n",
      "\n",
      "Will train until valid-mlogloss hasn't improved in 100 rounds.\n",
      "[25]\ttrain-mlogloss:1.15649\tvalid-mlogloss:1.46998\n",
      "[50]\ttrain-mlogloss:0.704282\tvalid-mlogloss:1.20697\n",
      "[75]\ttrain-mlogloss:0.464355\tvalid-mlogloss:1.09289\n",
      "[100]\ttrain-mlogloss:0.317831\tvalid-mlogloss:1.03412\n",
      "[125]\ttrain-mlogloss:0.222085\tvalid-mlogloss:0.999239\n",
      "[150]\ttrain-mlogloss:0.155998\tvalid-mlogloss:0.979889\n",
      "[175]\ttrain-mlogloss:0.111842\tvalid-mlogloss:0.972084\n",
      "[200]\ttrain-mlogloss:0.082862\tvalid-mlogloss:0.971993\n",
      "[225]\ttrain-mlogloss:0.063016\tvalid-mlogloss:0.971735\n",
      "[250]\ttrain-mlogloss:0.049205\tvalid-mlogloss:0.975635\n",
      "[275]\ttrain-mlogloss:0.039371\tvalid-mlogloss:0.98245\n",
      "Stopping. Best iteration:\n",
      "[199]\ttrain-mlogloss:0.083852\tvalid-mlogloss:0.97117\n",
      "\n",
      "final validation loss:\n",
      "0.971170423017\n",
      "final validation accuracy:\n",
      "0.674796747967\n",
      "[0]\ttrain-mlogloss:2.12161\tvalid-mlogloss:2.14319\n",
      "Multiple eval metrics have been passed: 'valid-mlogloss' will be used for early stopping.\n",
      "\n",
      "Will train until valid-mlogloss hasn't improved in 100 rounds.\n",
      "[25]\ttrain-mlogloss:1.14242\tvalid-mlogloss:1.47507\n",
      "[50]\ttrain-mlogloss:0.698208\tvalid-mlogloss:1.22247\n",
      "[75]\ttrain-mlogloss:0.452422\tvalid-mlogloss:1.0986\n",
      "[100]\ttrain-mlogloss:0.305096\tvalid-mlogloss:1.02885\n",
      "[125]\ttrain-mlogloss:0.211986\tvalid-mlogloss:0.987111\n",
      "[150]\ttrain-mlogloss:0.148374\tvalid-mlogloss:0.962971\n",
      "[175]\ttrain-mlogloss:0.105397\tvalid-mlogloss:0.951617\n",
      "[200]\ttrain-mlogloss:0.077441\tvalid-mlogloss:0.949748\n",
      "[225]\ttrain-mlogloss:0.058648\tvalid-mlogloss:0.951238\n",
      "[250]\ttrain-mlogloss:0.0459\tvalid-mlogloss:0.954152\n",
      "[275]\ttrain-mlogloss:0.036832\tvalid-mlogloss:0.957853\n",
      "Stopping. Best iteration:\n",
      "[186]\ttrain-mlogloss:0.091576\tvalid-mlogloss:0.94904\n",
      "\n",
      "final validation loss:\n",
      "0.949039691494\n",
      "final validation accuracy:\n",
      "0.663956639566\n",
      "[0]\ttrain-mlogloss:2.12132\tvalid-mlogloss:2.14266\n",
      "Multiple eval metrics have been passed: 'valid-mlogloss' will be used for early stopping.\n",
      "\n",
      "Will train until valid-mlogloss hasn't improved in 100 rounds.\n",
      "[25]\ttrain-mlogloss:1.13349\tvalid-mlogloss:1.49672\n",
      "[50]\ttrain-mlogloss:0.682858\tvalid-mlogloss:1.27156\n",
      "[75]\ttrain-mlogloss:0.445338\tvalid-mlogloss:1.17519\n",
      "[100]\ttrain-mlogloss:0.304754\tvalid-mlogloss:1.12267\n",
      "[125]\ttrain-mlogloss:0.211799\tvalid-mlogloss:1.09965\n",
      "[150]\ttrain-mlogloss:0.147929\tvalid-mlogloss:1.0901\n",
      "[175]\ttrain-mlogloss:0.105443\tvalid-mlogloss:1.08701\n",
      "[200]\ttrain-mlogloss:0.07815\tvalid-mlogloss:1.09337\n",
      "[225]\ttrain-mlogloss:0.059318\tvalid-mlogloss:1.1004\n",
      "[250]\ttrain-mlogloss:0.046426\tvalid-mlogloss:1.11004\n",
      "Stopping. Best iteration:\n",
      "[174]\ttrain-mlogloss:0.10681\tvalid-mlogloss:1.08663\n",
      "\n",
      "final validation loss:\n",
      "1.08662830234\n",
      "final validation accuracy:\n",
      "0.623306233062\n",
      "[0]\ttrain-mlogloss:2.12151\tvalid-mlogloss:2.14497\n",
      "Multiple eval metrics have been passed: 'valid-mlogloss' will be used for early stopping.\n",
      "\n",
      "Will train until valid-mlogloss hasn't improved in 100 rounds.\n",
      "[25]\ttrain-mlogloss:1.14579\tvalid-mlogloss:1.48147\n",
      "[50]\ttrain-mlogloss:0.698654\tvalid-mlogloss:1.23086\n",
      "[75]\ttrain-mlogloss:0.457451\tvalid-mlogloss:1.11618\n",
      "[100]\ttrain-mlogloss:0.311784\tvalid-mlogloss:1.05912\n",
      "[125]\ttrain-mlogloss:0.220592\tvalid-mlogloss:1.03507\n",
      "[150]\ttrain-mlogloss:0.154085\tvalid-mlogloss:1.02185\n",
      "[175]\ttrain-mlogloss:0.109023\tvalid-mlogloss:1.01651\n",
      "[200]\ttrain-mlogloss:0.079884\tvalid-mlogloss:1.01816\n",
      "[225]\ttrain-mlogloss:0.060367\tvalid-mlogloss:1.02566\n",
      "[250]\ttrain-mlogloss:0.047042\tvalid-mlogloss:1.03054\n",
      "[275]\ttrain-mlogloss:0.037859\tvalid-mlogloss:1.03675\n",
      "Stopping. Best iteration:\n",
      "[186]\ttrain-mlogloss:0.094819\tvalid-mlogloss:1.0158\n",
      "\n",
      "final validation loss:\n",
      "1.01580304721\n",
      "final validation accuracy:\n",
      "0.663956639566\n",
      "[0]\ttrain-mlogloss:2.12242\tvalid-mlogloss:2.14412\n",
      "Multiple eval metrics have been passed: 'valid-mlogloss' will be used for early stopping.\n",
      "\n",
      "Will train until valid-mlogloss hasn't improved in 100 rounds.\n",
      "[25]\ttrain-mlogloss:1.14171\tvalid-mlogloss:1.49494\n",
      "[50]\ttrain-mlogloss:0.685646\tvalid-mlogloss:1.24456\n",
      "[75]\ttrain-mlogloss:0.445848\tvalid-mlogloss:1.13186\n",
      "[100]\ttrain-mlogloss:0.302863\tvalid-mlogloss:1.06861\n",
      "[125]\ttrain-mlogloss:0.209973\tvalid-mlogloss:1.0321\n",
      "[150]\ttrain-mlogloss:0.148951\tvalid-mlogloss:1.00986\n",
      "[175]\ttrain-mlogloss:0.106981\tvalid-mlogloss:0.99876\n",
      "[200]\ttrain-mlogloss:0.077877\tvalid-mlogloss:0.996902\n",
      "[225]\ttrain-mlogloss:0.058839\tvalid-mlogloss:0.996624\n",
      "[250]\ttrain-mlogloss:0.045831\tvalid-mlogloss:0.996793\n",
      "[275]\ttrain-mlogloss:0.036757\tvalid-mlogloss:1.00088\n",
      "[300]\ttrain-mlogloss:0.030204\tvalid-mlogloss:1.00529\n",
      "[325]\ttrain-mlogloss:0.025504\tvalid-mlogloss:1.01354\n",
      "Stopping. Best iteration:\n",
      "[238]\ttrain-mlogloss:0.051403\tvalid-mlogloss:0.994976\n",
      "\n",
      "final validation loss:\n",
      "0.994975546925\n",
      "final validation accuracy:\n",
      "0.655826558266\n",
      "[0]\ttrain-mlogloss:2.12055\tvalid-mlogloss:2.14346\n",
      "Multiple eval metrics have been passed: 'valid-mlogloss' will be used for early stopping.\n",
      "\n",
      "Will train until valid-mlogloss hasn't improved in 100 rounds.\n",
      "[25]\ttrain-mlogloss:1.14245\tvalid-mlogloss:1.47689\n"
     ]
    },
    {
     "name": "stdout",
     "output_type": "stream",
     "text": [
      "[50]\ttrain-mlogloss:0.692299\tvalid-mlogloss:1.20201\n",
      "[75]\ttrain-mlogloss:0.458963\tvalid-mlogloss:1.07443\n",
      "[100]\ttrain-mlogloss:0.317107\tvalid-mlogloss:1.01145\n",
      "[125]\ttrain-mlogloss:0.219208\tvalid-mlogloss:0.974031\n",
      "[150]\ttrain-mlogloss:0.151165\tvalid-mlogloss:0.952535\n",
      "[175]\ttrain-mlogloss:0.107954\tvalid-mlogloss:0.937861\n",
      "[200]\ttrain-mlogloss:0.079412\tvalid-mlogloss:0.933214\n",
      "[225]\ttrain-mlogloss:0.060281\tvalid-mlogloss:0.932632\n",
      "[250]\ttrain-mlogloss:0.047077\tvalid-mlogloss:0.932818\n",
      "[275]\ttrain-mlogloss:0.037852\tvalid-mlogloss:0.930958\n",
      "[300]\ttrain-mlogloss:0.031261\tvalid-mlogloss:0.931508\n",
      "Stopping. Best iteration:\n",
      "[215]\ttrain-mlogloss:0.066962\tvalid-mlogloss:0.930294\n",
      "\n",
      "final validation loss:\n",
      "0.930293962158\n",
      "final validation accuracy:\n",
      "0.644986449864\n",
      "[0]\ttrain-mlogloss:2.12095\tvalid-mlogloss:2.14102\n",
      "Multiple eval metrics have been passed: 'valid-mlogloss' will be used for early stopping.\n",
      "\n",
      "Will train until valid-mlogloss hasn't improved in 100 rounds.\n",
      "[25]\ttrain-mlogloss:1.13982\tvalid-mlogloss:1.51216\n",
      "[50]\ttrain-mlogloss:0.682111\tvalid-mlogloss:1.26537\n",
      "[75]\ttrain-mlogloss:0.441727\tvalid-mlogloss:1.15113\n",
      "[100]\ttrain-mlogloss:0.301406\tvalid-mlogloss:1.09613\n",
      "[125]\ttrain-mlogloss:0.210426\tvalid-mlogloss:1.06563\n",
      "[150]\ttrain-mlogloss:0.148399\tvalid-mlogloss:1.04525\n",
      "[175]\ttrain-mlogloss:0.105633\tvalid-mlogloss:1.03728\n",
      "[200]\ttrain-mlogloss:0.077286\tvalid-mlogloss:1.03799\n",
      "[225]\ttrain-mlogloss:0.058473\tvalid-mlogloss:1.04425\n",
      "[250]\ttrain-mlogloss:0.045784\tvalid-mlogloss:1.04902\n",
      "[275]\ttrain-mlogloss:0.036897\tvalid-mlogloss:1.05572\n",
      "Stopping. Best iteration:\n",
      "[188]\ttrain-mlogloss:0.089474\tvalid-mlogloss:1.03673\n",
      "\n",
      "final validation loss:\n",
      "1.03673358259\n",
      "final validation accuracy:\n",
      "0.644986449864\n",
      "Accuracy: 0.6623 ± 0.0199\n",
      "NMI: 0.4473 ± 0.0226\n",
      "Log_loss: 0.9715 ± 0.0622\n",
      "Normalized confusion matrix\n",
      "[[ 0.62940276  0.01990812  0.00306279  0.237366    0.05053599  0.01531394\n",
      "   0.04287902  0.00153139  0.        ]\n",
      " [ 0.01782178  0.46732673  0.0019802   0.03168317  0.00990099  0.0019802\n",
      "   0.46930693  0.          0.        ]\n",
      " [ 0.07619048  0.          0.14285714  0.26666667  0.11428571  0.          0.4\n",
      "   0.          0.        ]\n",
      " [ 0.16120907  0.00755668  0.00377834  0.75440806  0.02518892  0.00377834\n",
      "   0.0440806   0.          0.        ]\n",
      " [ 0.2248996   0.04417671  0.00401606  0.12449799  0.36144578  0.05220884\n",
      "   0.18875502  0.          0.        ]\n",
      " [ 0.12627986  0.06484642  0.00682594  0.05460751  0.04778157  0.53583618\n",
      "   0.16382253  0.          0.        ]\n",
      " [ 0.00391007  0.08602151  0.00391007  0.00879765  0.00782014  0.00195503\n",
      "   0.88758553  0.          0.        ]\n",
      " [ 0.04761905  0.14285714  0.          0.          0.          0.\n",
      "   0.52380952  0.0952381   0.19047619]\n",
      " [ 0.04255319  0.06382979  0.          0.10638298  0.0212766   0.\n",
      "   0.21276596  0.          0.55319149]]\n"
     ]
    },
    {
     "data": {
      "image/png": "[encoded data removed]",
      "text/plain": [
       "<matplotlib.figure.Figure at 0x20e3a152b38>"
      ]
     },
     "metadata": {},
     "output_type": "display_data"
    }
   ],
   "source": [
    "y_predict = xgbclassifier(train_set, train_y, test_set, 10, 8, 1000)"
   ]
  },
  {
   "cell_type": "code",
   "execution_count": 13,
   "metadata": {
    "collapsed": true
   },
   "outputs": [],
   "source": [
    "savesubmisstion(y_predict, test_x, filename = \"submission_allwin30noload10fold.csv\")"
   ]
  },
  {
   "cell_type": "code",
   "execution_count": null,
   "metadata": {
    "collapsed": true
   },
   "outputs": [],
   "source": []
  }
 ],
 "metadata": {
  "kernelspec": {
   "display_name": "Python 3",
   "language": "python",
   "name": "python3"
  },
  "language_info": {
   "codemirror_mode": {
    "name": "ipython",
    "version": 3
   },
   "file_extension": ".py",
   "mimetype": "text/x-python",
   "name": "python",
   "nbconvert_exporter": "python",
   "pygments_lexer": "ipython3",
   "version": "3.5.4"
  }
 },
 "nbformat": 4,
 "nbformat_minor": 2
}
