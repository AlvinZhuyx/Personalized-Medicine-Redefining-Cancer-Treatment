{
 "cells": [
  {
   "cell_type": "code",
   "execution_count": 16,
   "metadata": {},
   "outputs": [],
   "source": [
    "import os\n",
    "import re\n",
    "import tqdm\n",
    "import string\n",
    "import pandas as pd\n",
    "import numpy as np\n",
    "import util\n",
    "from sklearn.decomposition import TruncatedSVD\n",
    "from data_preprocessing import *\n",
    "import word_embedding_load as wel\n",
    "from classification import *\n",
    "from xgboost_classifier import *\n",
    "from testaccuracy import *"
   ]
  },
  {
   "cell_type": "code",
   "execution_count": 17,
   "metadata": {
    "collapsed": true
   },
   "outputs": [],
   "source": [
    "[all_data, train_size, test_size, train_x, train_y, test_x] = util.loadData()\n",
    "sentences = data_preprocess(all_data)"
   ]
  },
  {
   "cell_type": "code",
   "execution_count": 18,
   "metadata": {
    "collapsed": true
   },
   "outputs": [],
   "source": [
    "Text_INPUT_DIM=200\n",
    "GENE_INPUT_DIM=25\n",
    "TEXT_INPUT_DIM=200\n",
    "PATH = '../model/doc2vec/'\n",
    "modelName='textModel_win=30_no_outside'"
   ]
  },
  {
   "cell_type": "code",
   "execution_count": 19,
   "metadata": {
    "collapsed": true
   },
   "outputs": [],
   "source": [
    "param = util.Doc2VecParam(1, 2, 200, 1e-4, 5, 4, 30, 1)"
   ]
  },
  {
   "cell_type": "code",
   "execution_count": 20,
   "metadata": {
    "collapsed": true
   },
   "outputs": [],
   "source": [
    "svd = TruncatedSVD(n_components=GENE_INPUT_DIM, n_iter=25, random_state=12)"
   ]
  },
  {
   "cell_type": "code",
   "execution_count": 21,
   "metadata": {},
   "outputs": [
    {
     "name": "stdout",
     "output_type": "stream",
     "text": [
      "Successfully loaded the textmodel from ../model/doc2vec/textModel_win=30_no_outside\n"
     ]
    }
   ],
   "source": [
    "#load a pre-trained text model\n",
    "text_model = wel.loadTextModel(PATH + modelName)\n",
    "\n",
    "#To train a new text model, default without outside data:\n",
    "#text_model = wel.trainTextModel(sentences, param, 'newModelName', PATH)\n",
    "\n",
    "#To train a new text model with outside data:\n",
    "#sourceFile = '../data/bio_nlp_vec/PubMed-shuffle-win-30.bin'\n",
    "#text_model = wel.trainTextModel(sentences, param, 'newModelName', PATH, True, sourceFile)"
   ]
  },
  {
   "cell_type": "code",
   "execution_count": 22,
   "metadata": {
    "collapsed": true
   },
   "outputs": [],
   "source": [
    "truncated_one_hot_gene = wel.getGeneVec(all_data, svd)\n",
    "truncated_one_hot_variation = wel.getVariationVec(all_data, svd)\n",
    "text_train_arrays, text_test_arrays = wel.getTextVec(text_model, train_size, test_size, TEXT_INPUT_DIM)"
   ]
  },
  {
   "cell_type": "code",
   "execution_count": 23,
   "metadata": {},
   "outputs": [
    {
     "name": "stdout",
     "output_type": "stream",
     "text": [
      "(3689, 200)\n",
      "(986, 200)\n"
     ]
    },
    {
     "data": {
      "text/plain": [
       "array([-0.17289065, -3.8296752 ,  0.06695388,  3.82798338, -0.2867583 ,\n",
       "       -0.6928432 ,  2.93742371,  2.01823235, -0.32684457, -1.44869399,\n",
       "        0.27529755, -0.79016078,  1.79306448,  4.28960419,  0.13605687,\n",
       "       -2.43463802,  0.09181995, -0.04406718,  2.46003342,  4.73867655,\n",
       "        1.97732508,  2.34663606, -0.11793029, -3.57738924, -0.45679718,\n",
       "       -3.54198337,  4.34884214,  2.30379629,  4.62182856,  2.40693569,\n",
       "        1.11229527,  1.03004909, -0.47451738, -1.17208731, -1.95631719,\n",
       "        0.94235301, -1.72339058,  0.94970924,  1.68300402,  5.48246861,\n",
       "       -2.90595341,  2.47609782,  2.60338545, -0.22896838,  0.26752338,\n",
       "        0.79036963, -1.86278892,  1.52235138, -0.40399107, -3.93441987,\n",
       "       -0.16414452,  3.76050663, -0.12991294,  1.8676033 , -4.16120958,\n",
       "        1.54574025, -2.70265174,  0.9447946 , -0.35614172,  0.77467412,\n",
       "        0.18951511, -3.21754813,  1.22369778, -4.41033459,  1.06871235,\n",
       "       -2.62220693, -1.1595726 , -0.85579103, -4.74306965,  0.44803134,\n",
       "       -2.15414453, -0.23955402,  2.98476219,  1.67248857,  3.17216706,\n",
       "        0.69889808,  1.04754877,  1.81206036, -1.85312212,  0.16848567,\n",
       "        2.53934383, -1.72583973, -0.26371157, -1.87229276,  0.92838508,\n",
       "        0.91792822, -1.36402476,  3.54377866,  2.37788677, -3.46608496,\n",
       "       -1.09065771, -0.666098  , -2.2170341 , -3.57022142, -0.82380354,\n",
       "       -1.42618465, -0.27533513,  1.32945299,  0.66136092, -1.63998568,\n",
       "        3.20128989, -6.04491949, -0.30420786, -1.70897889,  2.67743778,\n",
       "        1.90950286, -4.48505163, -2.03824067, -2.46897316, -2.46615386,\n",
       "       -0.54036379,  0.34434596,  0.62943888,  2.53847289, -0.22288637,\n",
       "        2.40424681,  0.55524141, -0.67404705,  0.95844811, -4.95249796,\n",
       "        2.22058678, -0.24500769,  0.94187874,  0.95604706,  2.06792712,\n",
       "        4.22703075,  0.7540549 , -4.70066547,  2.12475729,  1.15884399,\n",
       "       -0.19490728, -0.12247698, -0.18956196, -0.74539417, -3.05677319,\n",
       "       -1.80076122,  0.82678634, -1.90855968,  2.73518467,  0.40386128,\n",
       "       -2.39189076, -0.16516663, -0.71431017,  0.38154206, -0.17210551,\n",
       "       -5.43467999,  0.99866182, -2.24288321,  3.80912018, -2.92926931,\n",
       "       -2.3591218 ,  0.75605172, -0.17845501, -2.96130037,  1.32757354,\n",
       "        1.45651734,  2.72758341, -1.12223494,  2.69179463,  3.19696903,\n",
       "        0.22242275, -2.82159019, -1.40356684, -1.81734049,  1.9248035 ,\n",
       "        3.33615446, -1.85116529,  0.45467877, -4.12419796,  2.12393188,\n",
       "        0.76262909, -1.2225126 , -1.31494117,  0.83723497,  0.81891078,\n",
       "        2.56812549, -0.55772948, -1.07732844, -0.60978442, -4.65888548,\n",
       "       -1.53573513, -1.27501214, -0.15966956,  0.22463255,  0.64679074,\n",
       "       -0.89074963,  2.27557087,  1.21546972,  2.59099436, -2.32345223,\n",
       "       -1.17904949,  5.71171379,  5.24551201,  1.33496249, -1.81136525,\n",
       "       -6.65980101,  3.69896531,  0.32377377,  0.85187089,  0.5352335 ])"
      ]
     },
     "execution_count": 23,
     "metadata": {},
     "output_type": "execute_result"
    }
   ],
   "source": [
    "print(text_train_arrays.shape)\n",
    "print(text_test_arrays.shape)\n",
    "text_train_arrays[0]"
   ]
  },
  {
   "cell_type": "code",
   "execution_count": 24,
   "metadata": {},
   "outputs": [
    {
     "name": "stdout",
     "output_type": "stream",
     "text": [
      "(3689, 9)\n"
     ]
    }
   ],
   "source": [
    "train_set = np.hstack((truncated_one_hot_gene[:train_size], truncated_one_hot_variation[:train_size], text_train_arrays))\n",
    "test_set = np.hstack((truncated_one_hot_gene[train_size:], truncated_one_hot_variation[train_size:], text_test_arrays))\n",
    "encoded_y = pd.get_dummies(train_y)\n",
    "encoded_y = np.array(encoded_y)\n",
    "print(encoded_y.shape)"
   ]
  },
  {
   "cell_type": "code",
   "execution_count": 25,
   "metadata": {},
   "outputs": [
    {
     "name": "stdout",
     "output_type": "stream",
     "text": [
      "(3689, 250)\n",
      "(986, 250)\n"
     ]
    },
    {
     "data": {
      "text/plain": [
       "array([  1.00000000e+00,   4.18523246e-19,   1.82140582e-19,\n",
       "         5.52932734e-29,   9.01317672e-25,   1.47967745e-22,\n",
       "        -8.38240178e-21,   2.00300590e-21,   9.74158370e-21,\n",
       "        -9.34683441e-21,   1.91083889e-20,   6.55003880e-19,\n",
       "        -1.09276438e-17,  -1.56730196e-18,  -2.12913704e-18,\n",
       "        -4.51096312e-18,  -3.82900024e-19,   1.15894157e-17,\n",
       "         1.59938703e-17,   3.58735292e-17,  -3.35304994e-18,\n",
       "         1.68462844e-17,   6.76851697e-18,   5.86047343e-17,\n",
       "         7.80129580e-21])"
      ]
     },
     "execution_count": 25,
     "metadata": {},
     "output_type": "execute_result"
    }
   ],
   "source": [
    "print(train_set.shape)\n",
    "print(test_set.shape)\n",
    "train_set[0, 25:50]"
   ]
  },
  {
   "cell_type": "code",
   "execution_count": 26,
   "metadata": {},
   "outputs": [
    {
     "name": "stderr",
     "output_type": "stream",
     "text": [
      "C:\\Users\\zhuya\\Desktop\\semester 1\\249 data structure\\project\\src\\src\\classification.py:28: UserWarning: Update your `Dense` call to the Keras 2 API: `Dense(256, kernel_initializer=\"normal\", activation=\"relu\", input_dim=250)`\n",
      "  model.add(Dense(256, input_dim=Text_INPUT_DIM+ Gene_INPUT_DIM + Variation_INPUT_DIM, init='normal', activation='relu'))\n",
      "C:\\Users\\zhuya\\Desktop\\semester 1\\249 data structure\\project\\src\\src\\classification.py:30: UserWarning: Update your `Dense` call to the Keras 2 API: `Dense(256, kernel_initializer=\"normal\", activation=\"relu\")`\n",
      "  model.add(Dense(256, init='normal', activation='relu'))\n",
      "C:\\Users\\zhuya\\Desktop\\semester 1\\249 data structure\\project\\src\\src\\classification.py:32: UserWarning: Update your `Dense` call to the Keras 2 API: `Dense(80, kernel_initializer=\"normal\", activation=\"relu\")`\n",
      "  model.add(Dense(80, init='normal', activation='relu'))\n",
      "C:\\Users\\zhuya\\Desktop\\semester 1\\249 data structure\\project\\src\\src\\classification.py:33: UserWarning: Update your `Dense` call to the Keras 2 API: `Dense(9, kernel_initializer=\"normal\", activation=\"softmax\")`\n",
      "  model.add(Dense(9, init='normal', activation=\"softmax\"))\n"
     ]
    },
    {
     "name": "stdout",
     "output_type": "stream",
     "text": [
      "_________________________________________________________________\n",
      "Layer (type)                 Output Shape              Param #   \n",
      "=================================================================\n",
      "dense_5 (Dense)              (None, 256)               64256     \n",
      "_________________________________________________________________\n",
      "dropout_3 (Dropout)          (None, 256)               0         \n",
      "_________________________________________________________________\n",
      "dense_6 (Dense)              (None, 256)               65792     \n",
      "_________________________________________________________________\n",
      "dropout_4 (Dropout)          (None, 256)               0         \n",
      "_________________________________________________________________\n",
      "dense_7 (Dense)              (None, 80)                20560     \n",
      "_________________________________________________________________\n",
      "dense_8 (Dense)              (None, 9)                 729       \n",
      "=================================================================\n",
      "Total params: 151,337\n",
      "Trainable params: 151,337\n",
      "Non-trainable params: 0\n",
      "_________________________________________________________________\n"
     ]
    }
   ],
   "source": [
    "# this is the 4 layer full-connected nerual network model\n",
    "model = nn_baseline_model(TEXT_INPUT_DIM, GENE_INPUT_DIM, GENE_INPUT_DIM)\n",
    "model.summary()"
   ]
  },
  {
   "cell_type": "code",
   "execution_count": 27,
   "metadata": {},
   "outputs": [
    {
     "name": "stdout",
     "output_type": "stream",
     "text": [
      "begin training\n",
      "\n",
      "Train on 2951 samples, validate on 738 samples\n",
      "Epoch 1/2\n",
      "2951/2951 [==============================] - ETA: 18s - loss: 2.3516 - acc: 0.04 - ETA: 2s - loss: 2.2778 - acc: 0.0781 - ETA: 0s - loss: 2.1990 - acc: 0.136 - ETA: 0s - loss: 2.1504 - acc: 0.171 - ETA: 0s - loss: 2.0840 - acc: 0.210 - ETA: 0s - loss: 2.0516 - acc: 0.224 - 0s - loss: 2.0413 - acc: 0.2257 - val_loss: 1.7783 - val_acc: 0.3889\n",
      "Epoch 2/2\n",
      "2951/2951 [==============================] - ETA: 0s - loss: 1.9513 - acc: 0.281 - ETA: 0s - loss: 1.8750 - acc: 0.286 - ETA: 0s - loss: 1.8539 - acc: 0.291 - ETA: 0s - loss: 1.8510 - acc: 0.299 - ETA: 0s - loss: 1.8377 - acc: 0.302 - 0s - loss: 1.8314 - acc: 0.3063 - val_loss: 1.6857 - val_acc: 0.4173\n",
      "Training accuracy: 30.63% / Best validation accuracy: 41.73%\n",
      "Train on 2951 samples, validate on 738 samples\n",
      "Epoch 1/2\n",
      "2951/2951 [==============================] - ETA: 0s - loss: 1.7511 - acc: 0.312 - ETA: 0s - loss: 1.7085 - acc: 0.365 - ETA: 0s - loss: 1.7216 - acc: 0.369 - ETA: 0s - loss: 1.7447 - acc: 0.364 - ETA: 0s - loss: 1.7470 - acc: 0.365 - ETA: 0s - loss: 1.7401 - acc: 0.364 - 0s - loss: 1.7374 - acc: 0.3673 - val_loss: 1.5545 - val_acc: 0.4526\n",
      "Epoch 2/2\n",
      "2951/2951 [==============================] - ETA: 0s - loss: 1.7796 - acc: 0.421 - ETA: 0s - loss: 1.6674 - acc: 0.384 - ETA: 0s - loss: 1.6570 - acc: 0.405 - ETA: 0s - loss: 1.6571 - acc: 0.399 - ETA: 0s - loss: 1.6506 - acc: 0.399 - 0s - loss: 1.6378 - acc: 0.4029 - val_loss: 1.5304 - val_acc: 0.4512\n",
      "Training accuracy: 40.29% / Best validation accuracy: 45.12%\n",
      "Train on 2951 samples, validate on 738 samples\n",
      "Epoch 1/2\n",
      "2951/2951 [==============================] - ETA: 0s - loss: 1.4918 - acc: 0.468 - ETA: 0s - loss: 1.5918 - acc: 0.423 - ETA: 0s - loss: 1.5767 - acc: 0.431 - ETA: 0s - loss: 1.5787 - acc: 0.426 - ETA: 0s - loss: 1.5660 - acc: 0.434 - ETA: 0s - loss: 1.5543 - acc: 0.433 - ETA: 0s - loss: 1.5530 - acc: 0.431 - 0s - loss: 1.5533 - acc: 0.4307 - val_loss: 1.4435 - val_acc: 0.4824\n",
      "Epoch 2/2\n",
      "2951/2951 [==============================] - ETA: 0s - loss: 1.6976 - acc: 0.328 - ETA: 0s - loss: 1.5211 - acc: 0.433 - ETA: 0s - loss: 1.4874 - acc: 0.454 - ETA: 0s - loss: 1.4851 - acc: 0.456 - ETA: 0s - loss: 1.4979 - acc: 0.451 - ETA: 0s - loss: 1.4891 - acc: 0.452 - 0s - loss: 1.4854 - acc: 0.4531 - val_loss: 1.3900 - val_acc: 0.4566\n",
      "Training accuracy: 45.31% / Best validation accuracy: 45.66%\n",
      "Train on 2951 samples, validate on 738 samples\n",
      "Epoch 1/2\n",
      "2951/2951 [==============================] - ETA: 0s - loss: 1.4493 - acc: 0.453 - ETA: 0s - loss: 1.4689 - acc: 0.480 - ETA: 0s - loss: 1.4655 - acc: 0.452 - ETA: 0s - loss: 1.4461 - acc: 0.463 - ETA: 0s - loss: 1.4544 - acc: 0.463 - ETA: 0s - loss: 1.4490 - acc: 0.460 - 0s - loss: 1.4463 - acc: 0.4598 - val_loss: 1.3981 - val_acc: 0.4580\n",
      "Epoch 2/2\n",
      "2951/2951 [==============================] - ETA: 0s - loss: 1.4585 - acc: 0.484 - ETA: 0s - loss: 1.3999 - acc: 0.454 - ETA: 0s - loss: 1.4185 - acc: 0.459 - ETA: 0s - loss: 1.4005 - acc: 0.477 - ETA: 0s - loss: 1.4202 - acc: 0.474 - ETA: 0s - loss: 1.4076 - acc: 0.480 - 0s - loss: 1.4082 - acc: 0.4792 - val_loss: 1.4105 - val_acc: 0.4526\n",
      "Training accuracy: 47.92% / Best validation accuracy: 45.66%\n",
      "Train on 2951 samples, validate on 738 samples\n",
      "Epoch 1/2\n",
      "2951/2951 [==============================] - ETA: 0s - loss: 1.3499 - acc: 0.515 - ETA: 0s - loss: 1.3431 - acc: 0.506 - ETA: 0s - loss: 1.3621 - acc: 0.491 - ETA: 0s - loss: 1.3648 - acc: 0.486 - ETA: 0s - loss: 1.3460 - acc: 0.497 - ETA: 0s - loss: 1.3529 - acc: 0.501 - ETA: 0s - loss: 1.3569 - acc: 0.501 - 0s - loss: 1.3566 - acc: 0.4981 - val_loss: 1.3682 - val_acc: 0.4946\n",
      "Epoch 2/2\n",
      "2951/2951 [==============================] - ETA: 0s - loss: 1.3503 - acc: 0.531 - ETA: 0s - loss: 1.3166 - acc: 0.500 - ETA: 0s - loss: 1.3268 - acc: 0.504 - ETA: 0s - loss: 1.3299 - acc: 0.516 - ETA: 0s - loss: 1.3488 - acc: 0.504 - ETA: 0s - loss: 1.3457 - acc: 0.507 - 0s - loss: 1.3457 - acc: 0.5056 - val_loss: 1.4435 - val_acc: 0.4621\n",
      "Training accuracy: 50.56% / Best validation accuracy: 46.21%\n",
      "Train on 2951 samples, validate on 738 samples\n",
      "Epoch 1/2\n",
      "2951/2951 [==============================] - ETA: 0s - loss: 1.2672 - acc: 0.468 - ETA: 0s - loss: 1.2782 - acc: 0.506 - ETA: 0s - loss: 1.2929 - acc: 0.529 - ETA: 0s - loss: 1.2951 - acc: 0.529 - ETA: 0s - loss: 1.3224 - acc: 0.531 - ETA: 0s - loss: 1.3148 - acc: 0.534 - ETA: 0s - loss: 1.3121 - acc: 0.531 - 0s - loss: 1.3129 - acc: 0.5324 - val_loss: 1.4221 - val_acc: 0.4946\n",
      "Epoch 2/2\n",
      "2951/2951 [==============================] - ETA: 0s - loss: 1.3957 - acc: 0.500 - ETA: 0s - loss: 1.3180 - acc: 0.510 - ETA: 0s - loss: 1.3107 - acc: 0.524 - ETA: 0s - loss: 1.2905 - acc: 0.535 - ETA: 0s - loss: 1.3018 - acc: 0.526 - ETA: 0s - loss: 1.2845 - acc: 0.532 - ETA: 0s - loss: 1.2913 - acc: 0.533 - 0s - loss: 1.2883 - acc: 0.5351 - val_loss: 1.4009 - val_acc: 0.4756\n",
      "Training accuracy: 53.51% / Best validation accuracy: 47.56%\n",
      "Train on 2951 samples, validate on 738 samples\n",
      "Epoch 1/2\n",
      "2951/2951 [==============================] - ETA: 0s - loss: 1.4118 - acc: 0.484 - ETA: 0s - loss: 1.3060 - acc: 0.523 - ETA: 0s - loss: 1.2582 - acc: 0.552 - ETA: 0s - loss: 1.2463 - acc: 0.554 - ETA: 0s - loss: 1.2576 - acc: 0.542 - ETA: 0s - loss: 1.2507 - acc: 0.544 - 0s - loss: 1.2543 - acc: 0.5425 - val_loss: 1.3989 - val_acc: 0.4837\n",
      "Epoch 2/2\n",
      "2951/2951 [==============================] - ETA: 0s - loss: 1.2975 - acc: 0.484 - ETA: 0s - loss: 1.2313 - acc: 0.567 - ETA: 0s - loss: 1.2636 - acc: 0.559 - ETA: 0s - loss: 1.2440 - acc: 0.549 - ETA: 0s - loss: 1.2290 - acc: 0.554 - ETA: 0s - loss: 1.2229 - acc: 0.553 - 0s - loss: 1.2260 - acc: 0.5551 - val_loss: 1.3909 - val_acc: 0.4729\n",
      "Training accuracy: 55.51% / Best validation accuracy: 47.56%\n",
      "Train on 2951 samples, validate on 738 samples\n",
      "Epoch 1/2\n",
      "2951/2951 [==============================] - ETA: 0s - loss: 1.2728 - acc: 0.515 - ETA: 0s - loss: 1.1333 - acc: 0.597 - ETA: 0s - loss: 1.1355 - acc: 0.600 - ETA: 0s - loss: 1.1583 - acc: 0.589 - ETA: 0s - loss: 1.1857 - acc: 0.576 - ETA: 0s - loss: 1.1987 - acc: 0.571 - ETA: 0s - loss: 1.1917 - acc: 0.575 - 0s - loss: 1.1916 - acc: 0.5727 - val_loss: 1.4062 - val_acc: 0.4810\n",
      "Epoch 2/2\n",
      "2951/2951 [==============================] - ETA: 0s - loss: 1.0245 - acc: 0.687 - ETA: 0s - loss: 1.1411 - acc: 0.596 - ETA: 0s - loss: 1.1673 - acc: 0.572 - ETA: 0s - loss: 1.1777 - acc: 0.566 - ETA: 0s - loss: 1.1670 - acc: 0.574 - ETA: 0s - loss: 1.1734 - acc: 0.574 - ETA: 0s - loss: 1.1763 - acc: 0.575 - 0s - loss: 1.1684 - acc: 0.5734 - val_loss: 1.4459 - val_acc: 0.4756\n",
      "Training accuracy: 57.34% / Best validation accuracy: 47.56%\n",
      "Train on 2951 samples, validate on 738 samples\n",
      "Epoch 1/2\n",
      "2951/2951 [==============================] - ETA: 0s - loss: 1.0370 - acc: 0.578 - ETA: 0s - loss: 1.1432 - acc: 0.584 - ETA: 0s - loss: 1.1597 - acc: 0.579 - ETA: 0s - loss: 1.1602 - acc: 0.588 - ETA: 0s - loss: 1.1696 - acc: 0.581 - ETA: 0s - loss: 1.1607 - acc: 0.582 - 0s - loss: 1.1527 - acc: 0.5883 - val_loss: 1.4235 - val_acc: 0.4878\n",
      "Epoch 2/2\n",
      "2951/2951 [==============================] - ETA: 0s - loss: 1.2606 - acc: 0.531 - ETA: 0s - loss: 1.0799 - acc: 0.635 - ETA: 0s - loss: 1.0977 - acc: 0.617 - ETA: 0s - loss: 1.1151 - acc: 0.599 - ETA: 0s - loss: 1.1094 - acc: 0.603 - ETA: 0s - loss: 1.1115 - acc: 0.604 - ETA: 0s - loss: 1.1155 - acc: 0.609 - 0s - loss: 1.1156 - acc: 0.6066 - val_loss: 1.4160 - val_acc: 0.4932\n",
      "Training accuracy: 60.66% / Best validation accuracy: 49.32%\n",
      "Train on 2951 samples, validate on 738 samples\n",
      "Epoch 1/2\n",
      "2951/2951 [==============================] - ETA: 0s - loss: 1.1672 - acc: 0.578 - ETA: 0s - loss: 1.1579 - acc: 0.578 - ETA: 0s - loss: 1.1292 - acc: 0.576 - ETA: 0s - loss: 1.1105 - acc: 0.585 - ETA: 0s - loss: 1.1123 - acc: 0.586 - ETA: 0s - loss: 1.1101 - acc: 0.587 - ETA: 0s - loss: 1.1086 - acc: 0.590 - 0s - loss: 1.1091 - acc: 0.5903 - val_loss: 1.4409 - val_acc: 0.4892\n",
      "Epoch 2/2\n"
     ]
    },
    {
     "name": "stdout",
     "output_type": "stream",
     "text": [
      "2951/2951 [==============================] - ETA: 0s - loss: 1.0871 - acc: 0.671 - ETA: 0s - loss: 1.0570 - acc: 0.631 - ETA: 0s - loss: 1.0861 - acc: 0.616 - ETA: 0s - loss: 1.1084 - acc: 0.603 - ETA: 0s - loss: 1.0960 - acc: 0.614 - ETA: 0s - loss: 1.0846 - acc: 0.620 - ETA: 0s - loss: 1.0862 - acc: 0.620 - 0s - loss: 1.0870 - acc: 0.6201 - val_loss: 1.4288 - val_acc: 0.5149\n",
      "Training accuracy: 62.01% / Best validation accuracy: 51.49%\n",
      "Train on 2951 samples, validate on 738 samples\n",
      "Epoch 1/2\n",
      "2951/2951 [==============================] - ETA: 0s - loss: 1.0666 - acc: 0.640 - ETA: 0s - loss: 1.0223 - acc: 0.644 - ETA: 0s - loss: 1.0692 - acc: 0.634 - ETA: 0s - loss: 1.0700 - acc: 0.629 - ETA: 0s - loss: 1.0705 - acc: 0.632 - ETA: 0s - loss: 1.0814 - acc: 0.626 - 0s - loss: 1.0788 - acc: 0.6269 - val_loss: 1.4308 - val_acc: 0.5054\n",
      "Epoch 2/2\n",
      "2951/2951 [==============================] - ETA: 0s - loss: 0.9146 - acc: 0.625 - ETA: 0s - loss: 1.0272 - acc: 0.628 - ETA: 0s - loss: 1.0215 - acc: 0.650 - ETA: 0s - loss: 1.0346 - acc: 0.637 - ETA: 0s - loss: 1.0286 - acc: 0.644 - ETA: 0s - loss: 1.0414 - acc: 0.635 - 0s - loss: 1.0407 - acc: 0.6357 - val_loss: 1.4679 - val_acc: 0.4553\n",
      "Training accuracy: 63.57% / Best validation accuracy: 51.49%\n",
      "Train on 2951 samples, validate on 738 samples\n",
      "Epoch 1/2\n",
      "2951/2951 [==============================] - ETA: 0s - loss: 1.1386 - acc: 0.515 - ETA: 0s - loss: 1.0433 - acc: 0.610 - ETA: 0s - loss: 1.0502 - acc: 0.612 - ETA: 0s - loss: 1.0500 - acc: 0.615 - ETA: 0s - loss: 1.0525 - acc: 0.617 - 0s - loss: 1.0362 - acc: 0.6242 - val_loss: 1.4663 - val_acc: 0.5000\n",
      "Epoch 2/2\n",
      "2951/2951 [==============================] - ETA: 0s - loss: 0.9991 - acc: 0.671 - ETA: 0s - loss: 1.0340 - acc: 0.631 - ETA: 0s - loss: 1.0500 - acc: 0.627 - ETA: 0s - loss: 1.0441 - acc: 0.635 - ETA: 0s - loss: 1.0454 - acc: 0.634 - ETA: 0s - loss: 1.0326 - acc: 0.636 - 0s - loss: 1.0267 - acc: 0.6384 - val_loss: 1.4638 - val_acc: 0.4919\n",
      "Training accuracy: 63.84% / Best validation accuracy: 51.49%\n",
      "Train on 2951 samples, validate on 738 samples\n",
      "Epoch 1/2\n",
      "2951/2951 [==============================] - ETA: 0s - loss: 0.9166 - acc: 0.703 - ETA: 0s - loss: 1.0554 - acc: 0.630 - ETA: 0s - loss: 1.0445 - acc: 0.635 - ETA: 0s - loss: 1.0372 - acc: 0.640 - ETA: 0s - loss: 1.0140 - acc: 0.644 - ETA: 0s - loss: 0.9964 - acc: 0.653 - 0s - loss: 0.9977 - acc: 0.6516 - val_loss: 1.4729 - val_acc: 0.4743\n",
      "Epoch 2/2\n",
      "2951/2951 [==============================] - ETA: 0s - loss: 1.1547 - acc: 0.578 - ETA: 0s - loss: 1.0049 - acc: 0.640 - ETA: 0s - loss: 1.0010 - acc: 0.641 - ETA: 0s - loss: 0.9855 - acc: 0.655 - ETA: 0s - loss: 0.9736 - acc: 0.661 - 0s - loss: 0.9883 - acc: 0.6510 - val_loss: 1.5151 - val_acc: 0.4864\n",
      "Training accuracy: 65.10% / Best validation accuracy: 51.49%\n",
      "Train on 2951 samples, validate on 738 samples\n",
      "Epoch 1/2\n",
      "2951/2951 [==============================] - ETA: 0s - loss: 0.7748 - acc: 0.765 - ETA: 0s - loss: 0.9480 - acc: 0.667 - ETA: 0s - loss: 0.9286 - acc: 0.677 - ETA: 0s - loss: 0.9372 - acc: 0.674 - ETA: 0s - loss: 0.9472 - acc: 0.668 - ETA: 0s - loss: 0.9484 - acc: 0.672 - 0s - loss: 0.9486 - acc: 0.6723 - val_loss: 1.4799 - val_acc: 0.4932\n",
      "Epoch 2/2\n",
      "2951/2951 [==============================] - ETA: 0s - loss: 0.9243 - acc: 0.703 - ETA: 0s - loss: 1.0555 - acc: 0.600 - ETA: 0s - loss: 1.0113 - acc: 0.636 - ETA: 0s - loss: 0.9876 - acc: 0.657 - ETA: 0s - loss: 0.9780 - acc: 0.659 - ETA: 0s - loss: 0.9763 - acc: 0.657 - ETA: 0s - loss: 0.9605 - acc: 0.660 - 0s - loss: 0.9610 - acc: 0.6605 - val_loss: 1.4712 - val_acc: 0.4973\n",
      "Training accuracy: 66.05% / Best validation accuracy: 51.49%\n",
      "Train on 2951 samples, validate on 738 samples\n",
      "Epoch 1/2\n",
      "2951/2951 [==============================] - ETA: 0s - loss: 0.8111 - acc: 0.703 - ETA: 0s - loss: 1.0086 - acc: 0.632 - ETA: 0s - loss: 0.9565 - acc: 0.652 - ETA: 0s - loss: 0.9579 - acc: 0.651 - ETA: 0s - loss: 0.9545 - acc: 0.656 - ETA: 0s - loss: 0.9487 - acc: 0.663 - 0s - loss: 0.9411 - acc: 0.6672 - val_loss: 1.4960 - val_acc: 0.5122\n",
      "Epoch 2/2\n",
      "2951/2951 [==============================] - ETA: 0s - loss: 0.7464 - acc: 0.765 - ETA: 0s - loss: 0.8114 - acc: 0.725 - ETA: 0s - loss: 0.8897 - acc: 0.688 - ETA: 0s - loss: 0.9256 - acc: 0.680 - ETA: 0s - loss: 0.9128 - acc: 0.687 - ETA: 0s - loss: 0.9222 - acc: 0.680 - ETA: 0s - loss: 0.9180 - acc: 0.679 - 0s - loss: 0.9201 - acc: 0.6788 - val_loss: 1.4695 - val_acc: 0.4973\n",
      "Training accuracy: 67.88% / Best validation accuracy: 51.49%\n",
      "Train on 2951 samples, validate on 738 samples\n",
      "Epoch 1/2\n",
      "2951/2951 [==============================] - ETA: 0s - loss: 0.8958 - acc: 0.609 - ETA: 0s - loss: 0.8520 - acc: 0.698 - ETA: 0s - loss: 0.8583 - acc: 0.696 - ETA: 0s - loss: 0.8600 - acc: 0.696 - ETA: 0s - loss: 0.8931 - acc: 0.683 - ETA: 0s - loss: 0.9051 - acc: 0.680 - ETA: 0s - loss: 0.9051 - acc: 0.683 - 0s - loss: 0.9118 - acc: 0.6794 - val_loss: 1.5074 - val_acc: 0.4959\n",
      "Epoch 2/2\n",
      "2951/2951 [==============================] - ETA: 0s - loss: 0.6433 - acc: 0.765 - ETA: 0s - loss: 0.8127 - acc: 0.687 - ETA: 0s - loss: 0.8202 - acc: 0.699 - ETA: 0s - loss: 0.8409 - acc: 0.696 - ETA: 0s - loss: 0.8713 - acc: 0.681 - ETA: 0s - loss: 0.8807 - acc: 0.679 - ETA: 0s - loss: 0.8850 - acc: 0.679 - 0s - loss: 0.8876 - acc: 0.6777 - val_loss: 1.4784 - val_acc: 0.5054\n",
      "Training accuracy: 67.77% / Best validation accuracy: 51.49%\n",
      "Train on 2951 samples, validate on 738 samples\n",
      "Epoch 1/2\n",
      "2951/2951 [==============================] - ETA: 0s - loss: 0.7955 - acc: 0.734 - ETA: 0s - loss: 0.8593 - acc: 0.720 - ETA: 0s - loss: 0.8654 - acc: 0.706 - ETA: 0s - loss: 0.8783 - acc: 0.700 - ETA: 0s - loss: 0.8744 - acc: 0.698 - ETA: 0s - loss: 0.8834 - acc: 0.693 - ETA: 0s - loss: 0.8892 - acc: 0.692 - ETA: 0s - loss: 0.8804 - acc: 0.687 - 0s - loss: 0.8821 - acc: 0.6869 - val_loss: 1.5351 - val_acc: 0.4946\n",
      "Epoch 2/2\n",
      "2951/2951 [==============================] - ETA: 0s - loss: 0.6055 - acc: 0.843 - ETA: 0s - loss: 0.8450 - acc: 0.720 - ETA: 0s - loss: 0.8668 - acc: 0.706 - ETA: 0s - loss: 0.8681 - acc: 0.701 - ETA: 0s - loss: 0.8917 - acc: 0.688 - ETA: 0s - loss: 0.8723 - acc: 0.694 - ETA: 0s - loss: 0.8724 - acc: 0.691 - ETA: 0s - loss: 0.8623 - acc: 0.691 - 0s - loss: 0.8653 - acc: 0.6903 - val_loss: 1.5244 - val_acc: 0.4932\n",
      "Training accuracy: 69.03% / Best validation accuracy: 51.49%\n",
      "Train on 2951 samples, validate on 738 samples\n",
      "Epoch 1/2\n",
      "2951/2951 [==============================] - ETA: 0s - loss: 0.7180 - acc: 0.781 - ETA: 0s - loss: 0.7740 - acc: 0.718 - ETA: 0s - loss: 0.8101 - acc: 0.695 - ETA: 0s - loss: 0.8507 - acc: 0.680 - ETA: 0s - loss: 0.8462 - acc: 0.688 - ETA: 0s - loss: 0.8383 - acc: 0.695 - 0s - loss: 0.8362 - acc: 0.7001 - val_loss: 1.5775 - val_acc: 0.5000\n",
      "Epoch 2/2\n",
      "2951/2951 [==============================] - ETA: 0s - loss: 0.7708 - acc: 0.734 - ETA: 0s - loss: 0.7973 - acc: 0.671 - ETA: 0s - loss: 0.8326 - acc: 0.684 - ETA: 0s - loss: 0.8408 - acc: 0.690 - ETA: 0s - loss: 0.8193 - acc: 0.704 - ETA: 0s - loss: 0.8159 - acc: 0.706 - ETA: 0s - loss: 0.8253 - acc: 0.708 - ETA: 0s - loss: 0.8248 - acc: 0.710 - 0s - loss: 0.8239 - acc: 0.7109 - val_loss: 1.5488 - val_acc: 0.5000\n",
      "Training accuracy: 71.09% / Best validation accuracy: 51.49%\n",
      "Train on 2951 samples, validate on 738 samples\n",
      "Epoch 1/2\n",
      "2951/2951 [==============================] - ETA: 0s - loss: 0.6515 - acc: 0.796 - ETA: 0s - loss: 0.8288 - acc: 0.714 - ETA: 0s - loss: 0.8299 - acc: 0.719 - ETA: 0s - loss: 0.8396 - acc: 0.714 - ETA: 0s - loss: 0.8349 - acc: 0.708 - ETA: 0s - loss: 0.8277 - acc: 0.711 - 0s - loss: 0.8286 - acc: 0.7109 - val_loss: 1.6072 - val_acc: 0.5041\n",
      "Epoch 2/2\n",
      "2951/2951 [==============================] - ETA: 0s - loss: 0.7038 - acc: 0.734 - ETA: 0s - loss: 0.8347 - acc: 0.708 - ETA: 0s - loss: 0.8137 - acc: 0.716 - ETA: 0s - loss: 0.8040 - acc: 0.720 - ETA: 0s - loss: 0.8258 - acc: 0.714 - ETA: 0s - loss: 0.8078 - acc: 0.720 - ETA: 0s - loss: 0.8187 - acc: 0.716 - ETA: 0s - loss: 0.8162 - acc: 0.714 - 0s - loss: 0.8166 - acc: 0.7143 - val_loss: 1.5518 - val_acc: 0.5108\n",
      "Training accuracy: 71.43% / Best validation accuracy: 51.49%\n",
      "Train on 2951 samples, validate on 738 samples\n",
      "Epoch 1/2\n"
     ]
    },
    {
     "name": "stdout",
     "output_type": "stream",
     "text": [
      "2951/2951 [==============================] - ETA: 0s - loss: 0.9147 - acc: 0.703 - ETA: 0s - loss: 0.7785 - acc: 0.738 - ETA: 0s - loss: 0.8098 - acc: 0.728 - ETA: 0s - loss: 0.8090 - acc: 0.716 - ETA: 0s - loss: 0.7978 - acc: 0.713 - ETA: 0s - loss: 0.7985 - acc: 0.708 - 0s - loss: 0.7981 - acc: 0.7086 - val_loss: 1.5491 - val_acc: 0.5136\n",
      "Epoch 2/2\n",
      "2951/2951 [==============================] - ETA: 0s - loss: 0.8126 - acc: 0.671 - ETA: 0s - loss: 0.7602 - acc: 0.723 - ETA: 0s - loss: 0.7907 - acc: 0.717 - ETA: 0s - loss: 0.7676 - acc: 0.726 - ETA: 0s - loss: 0.7883 - acc: 0.719 - ETA: 0s - loss: 0.7833 - acc: 0.720 - 0s - loss: 0.7824 - acc: 0.7204 - val_loss: 1.6408 - val_acc: 0.5054\n",
      "Training accuracy: 72.04% / Best validation accuracy: 51.49%\n",
      "Train on 2951 samples, validate on 738 samples\n",
      "Epoch 1/2\n",
      "2951/2951 [==============================] - ETA: 0s - loss: 0.9728 - acc: 0.687 - ETA: 0s - loss: 0.8165 - acc: 0.715 - ETA: 0s - loss: 0.7860 - acc: 0.716 - ETA: 0s - loss: 0.7891 - acc: 0.712 - ETA: 0s - loss: 0.7764 - acc: 0.717 - ETA: 0s - loss: 0.7766 - acc: 0.721 - 0s - loss: 0.7798 - acc: 0.7225 - val_loss: 1.6494 - val_acc: 0.4932\n",
      "Epoch 2/2\n",
      "2951/2951 [==============================] - ETA: 0s - loss: 0.8555 - acc: 0.687 - ETA: 0s - loss: 0.7702 - acc: 0.730 - ETA: 0s - loss: 0.7808 - acc: 0.726 - ETA: 0s - loss: 0.7646 - acc: 0.731 - ETA: 0s - loss: 0.7556 - acc: 0.734 - ETA: 0s - loss: 0.7597 - acc: 0.729 - 0s - loss: 0.7640 - acc: 0.7286 - val_loss: 1.6110 - val_acc: 0.5217\n",
      "Training accuracy: 72.86% / Best validation accuracy: 52.17%\n",
      "Train on 2951 samples, validate on 738 samples\n",
      "Epoch 1/2\n",
      "2951/2951 [==============================] - ETA: 0s - loss: 0.6338 - acc: 0.765 - ETA: 0s - loss: 0.7343 - acc: 0.725 - ETA: 0s - loss: 0.7154 - acc: 0.746 - ETA: 0s - loss: 0.7333 - acc: 0.741 - ETA: 0s - loss: 0.7486 - acc: 0.734 - ETA: 0s - loss: 0.7543 - acc: 0.730 - 0s - loss: 0.7578 - acc: 0.7296 - val_loss: 1.5849 - val_acc: 0.5149\n",
      "Epoch 2/2\n",
      "2951/2951 [==============================] - ETA: 0s - loss: 0.6802 - acc: 0.781 - ETA: 0s - loss: 0.7563 - acc: 0.720 - ETA: 0s - loss: 0.7419 - acc: 0.731 - ETA: 0s - loss: 0.7418 - acc: 0.733 - ETA: 0s - loss: 0.7377 - acc: 0.731 - 0s - loss: 0.7418 - acc: 0.7306 - val_loss: 1.6126 - val_acc: 0.5163\n",
      "Training accuracy: 73.06% / Best validation accuracy: 52.17%\n",
      "Train on 2951 samples, validate on 738 samples\n",
      "Epoch 1/2\n",
      "2951/2951 [==============================] - ETA: 0s - loss: 0.5809 - acc: 0.781 - ETA: 0s - loss: 0.6171 - acc: 0.796 - ETA: 0s - loss: 0.6917 - acc: 0.767 - ETA: 0s - loss: 0.7183 - acc: 0.752 - ETA: 0s - loss: 0.7272 - acc: 0.745 - ETA: 0s - loss: 0.7217 - acc: 0.744 - 0s - loss: 0.7220 - acc: 0.7442 - val_loss: 1.5984 - val_acc: 0.5230\n",
      "Epoch 2/2\n",
      "2951/2951 [==============================] - ETA: 0s - loss: 0.9917 - acc: 0.671 - ETA: 0s - loss: 0.7288 - acc: 0.748 - ETA: 0s - loss: 0.7124 - acc: 0.752 - ETA: 0s - loss: 0.7292 - acc: 0.742 - ETA: 0s - loss: 0.7329 - acc: 0.743 - ETA: 0s - loss: 0.7287 - acc: 0.745 - ETA: 0s - loss: 0.7337 - acc: 0.743 - 0s - loss: 0.7277 - acc: 0.7458 - val_loss: 1.6550 - val_acc: 0.5095\n",
      "Training accuracy: 74.58% / Best validation accuracy: 52.17%\n",
      "Train on 2951 samples, validate on 738 samples\n",
      "Epoch 1/2\n",
      "2951/2951 [==============================] - ETA: 0s - loss: 0.7112 - acc: 0.718 - ETA: 0s - loss: 0.7390 - acc: 0.752 - ETA: 0s - loss: 0.7319 - acc: 0.748 - ETA: 0s - loss: 0.7460 - acc: 0.743 - ETA: 0s - loss: 0.7401 - acc: 0.747 - ETA: 0s - loss: 0.7326 - acc: 0.747 - ETA: 0s - loss: 0.7252 - acc: 0.747 - 0s - loss: 0.7293 - acc: 0.7462 - val_loss: 1.6653 - val_acc: 0.5054\n",
      "Epoch 2/2\n",
      "2951/2951 [==============================] - ETA: 0s - loss: 0.7403 - acc: 0.765 - ETA: 0s - loss: 0.6628 - acc: 0.763 - ETA: 0s - loss: 0.6765 - acc: 0.766 - ETA: 0s - loss: 0.6869 - acc: 0.761 - ETA: 0s - loss: 0.6848 - acc: 0.762 - ETA: 0s - loss: 0.6966 - acc: 0.755 - ETA: 0s - loss: 0.7011 - acc: 0.755 - 0s - loss: 0.7003 - acc: 0.7577 - val_loss: 1.6699 - val_acc: 0.5000\n",
      "Training accuracy: 75.77% / Best validation accuracy: 52.17%\n",
      "Train on 2951 samples, validate on 738 samples\n",
      "Epoch 1/2\n",
      "2951/2951 [==============================] - ETA: 0s - loss: 0.4345 - acc: 0.906 - ETA: 0s - loss: 0.7304 - acc: 0.728 - ETA: 0s - loss: 0.7078 - acc: 0.746 - ETA: 0s - loss: 0.6947 - acc: 0.751 - ETA: 0s - loss: 0.6960 - acc: 0.751 - ETA: 0s - loss: 0.7007 - acc: 0.753 - 0s - loss: 0.6995 - acc: 0.7513 - val_loss: 1.6498 - val_acc: 0.5122\n",
      "Epoch 2/2\n",
      "2951/2951 [==============================] - ETA: 0s - loss: 0.5265 - acc: 0.765 - ETA: 0s - loss: 0.7401 - acc: 0.728 - ETA: 0s - loss: 0.6978 - acc: 0.747 - ETA: 0s - loss: 0.6961 - acc: 0.753 - ETA: 0s - loss: 0.6923 - acc: 0.756 - ETA: 0s - loss: 0.6951 - acc: 0.755 - 0s - loss: 0.6945 - acc: 0.7526 - val_loss: 1.6658 - val_acc: 0.5149\n",
      "Training accuracy: 75.26% / Best validation accuracy: 52.17%\n",
      "Train on 2951 samples, validate on 738 samples\n",
      "Epoch 1/2\n",
      "2951/2951 [==============================] - ETA: 0s - loss: 0.7318 - acc: 0.718 - ETA: 0s - loss: 0.6593 - acc: 0.759 - ETA: 0s - loss: 0.6682 - acc: 0.753 - ETA: 0s - loss: 0.6761 - acc: 0.752 - ETA: 0s - loss: 0.6852 - acc: 0.747 - ETA: 0s - loss: 0.6776 - acc: 0.755 - ETA: 0s - loss: 0.6716 - acc: 0.760 - 0s - loss: 0.6687 - acc: 0.7645 - val_loss: 1.6913 - val_acc: 0.5136\n",
      "Epoch 2/2\n",
      "2951/2951 [==============================] - ETA: 0s - loss: 0.8300 - acc: 0.734 - ETA: 0s - loss: 0.6261 - acc: 0.783 - ETA: 0s - loss: 0.6812 - acc: 0.764 - ETA: 0s - loss: 0.6875 - acc: 0.755 - ETA: 0s - loss: 0.6800 - acc: 0.761 - ETA: 0s - loss: 0.6927 - acc: 0.753 - ETA: 0s - loss: 0.6910 - acc: 0.751 - 0s - loss: 0.6795 - acc: 0.7557 - val_loss: 1.6792 - val_acc: 0.5122\n",
      "Training accuracy: 75.57% / Best validation accuracy: 52.17%\n",
      "Train on 2951 samples, validate on 738 samples\n",
      "Epoch 1/2\n",
      "2951/2951 [==============================] - ETA: 0s - loss: 0.5017 - acc: 0.828 - ETA: 0s - loss: 0.6836 - acc: 0.753 - ETA: 0s - loss: 0.6542 - acc: 0.765 - ETA: 0s - loss: 0.6546 - acc: 0.769 - ETA: 0s - loss: 0.6564 - acc: 0.771 - ETA: 0s - loss: 0.6541 - acc: 0.768 - ETA: 0s - loss: 0.6568 - acc: 0.768 - 0s - loss: 0.6556 - acc: 0.7682 - val_loss: 1.6898 - val_acc: 0.5190\n",
      "Epoch 2/2\n",
      "2951/2951 [==============================] - ETA: 0s - loss: 0.5002 - acc: 0.843 - ETA: 0s - loss: 0.6496 - acc: 0.775 - ETA: 0s - loss: 0.6594 - acc: 0.758 - ETA: 0s - loss: 0.6569 - acc: 0.760 - ETA: 0s - loss: 0.6662 - acc: 0.757 - ETA: 0s - loss: 0.6674 - acc: 0.756 - 0s - loss: 0.6588 - acc: 0.7570 - val_loss: 1.7315 - val_acc: 0.5095\n",
      "Training accuracy: 75.70% / Best validation accuracy: 52.17%\n",
      "Train on 2951 samples, validate on 738 samples\n",
      "Epoch 1/2\n",
      "2951/2951 [==============================] - ETA: 0s - loss: 0.5298 - acc: 0.843 - ETA: 0s - loss: 0.5754 - acc: 0.794 - ETA: 0s - loss: 0.5887 - acc: 0.786 - ETA: 0s - loss: 0.5967 - acc: 0.784 - ETA: 0s - loss: 0.6161 - acc: 0.774 - ETA: 0s - loss: 0.6214 - acc: 0.774 - ETA: 0s - loss: 0.6285 - acc: 0.772 - 0s - loss: 0.6449 - acc: 0.7652 - val_loss: 1.8133 - val_acc: 0.5068\n",
      "Epoch 2/2\n",
      "2951/2951 [==============================] - ETA: 0s - loss: 0.4724 - acc: 0.843 - ETA: 0s - loss: 0.6117 - acc: 0.783 - ETA: 0s - loss: 0.6213 - acc: 0.779 - ETA: 0s - loss: 0.6254 - acc: 0.774 - ETA: 0s - loss: 0.6234 - acc: 0.773 - ETA: 0s - loss: 0.6237 - acc: 0.772 - ETA: 0s - loss: 0.6187 - acc: 0.776 - 0s - loss: 0.6242 - acc: 0.7747 - val_loss: 1.7362 - val_acc: 0.5163\n",
      "Training accuracy: 77.47% / Best validation accuracy: 52.17%\n",
      "Train on 2951 samples, validate on 738 samples\n",
      "Epoch 1/2\n",
      "2951/2951 [==============================] - ETA: 0s - loss: 0.4316 - acc: 0.828 - ETA: 0s - loss: 0.6836 - acc: 0.765 - ETA: 0s - loss: 0.6353 - acc: 0.777 - ETA: 0s - loss: 0.6324 - acc: 0.779 - ETA: 0s - loss: 0.6370 - acc: 0.779 - ETA: 0s - loss: 0.6264 - acc: 0.778 - 0s - loss: 0.6263 - acc: 0.7777 - val_loss: 1.7843 - val_acc: 0.5041\n",
      "Epoch 2/2\n"
     ]
    },
    {
     "name": "stdout",
     "output_type": "stream",
     "text": [
      "2951/2951 [==============================] - ETA: 0s - loss: 0.5935 - acc: 0.781 - ETA: 0s - loss: 0.6171 - acc: 0.770 - ETA: 0s - loss: 0.6048 - acc: 0.774 - ETA: 0s - loss: 0.5910 - acc: 0.784 - ETA: 0s - loss: 0.6112 - acc: 0.776 - ETA: 0s - loss: 0.6191 - acc: 0.778 - 0s - loss: 0.6292 - acc: 0.7750 - val_loss: 1.7657 - val_acc: 0.4878\n",
      "Training accuracy: 77.50% / Best validation accuracy: 52.17%\n",
      "Train on 2951 samples, validate on 738 samples\n",
      "Epoch 1/2\n",
      "2951/2951 [==============================] - ETA: 0s - loss: 0.5694 - acc: 0.781 - ETA: 0s - loss: 0.6020 - acc: 0.771 - ETA: 0s - loss: 0.6250 - acc: 0.767 - ETA: 0s - loss: 0.6310 - acc: 0.764 - ETA: 0s - loss: 0.6162 - acc: 0.768 - 0s - loss: 0.6049 - acc: 0.7777 - val_loss: 1.7602 - val_acc: 0.5176\n",
      "Epoch 2/2\n",
      "2951/2951 [==============================] - ETA: 0s - loss: 0.5680 - acc: 0.765 - ETA: 0s - loss: 0.5535 - acc: 0.809 - ETA: 0s - loss: 0.5802 - acc: 0.796 - ETA: 0s - loss: 0.5793 - acc: 0.797 - ETA: 0s - loss: 0.5945 - acc: 0.792 - 0s - loss: 0.5994 - acc: 0.7875 - val_loss: 1.8254 - val_acc: 0.4986\n",
      "Training accuracy: 78.75% / Best validation accuracy: 52.17%\n"
     ]
    },
    {
     "data": {
      "image/png": "[encoded data removed]",
      "text/plain": [
       "<matplotlib.figure.Figure at 0x275be97ad68>"
      ]
     },
     "metadata": {},
     "output_type": "display_data"
    },
    {
     "data": {
      "image/png": "[encoded data removed]",
      "text/plain": [
       "<matplotlib.figure.Figure at 0x275db65d908>"
      ]
     },
     "metadata": {},
     "output_type": "display_data"
    },
    {
     "name": "stdout",
     "output_type": "stream",
     "text": [
      "960/986 [============================>.] - ETA:  - ETA: 0s"
     ]
    }
   ],
   "source": [
    "model = train_nn_model(model, train_set, encoded_y, filename = 'try(win30)noload.h5')\n",
    "y_predict = model.predict_proba(test_set)"
   ]
  },
  {
   "cell_type": "code",
   "execution_count": 32,
   "metadata": {
    "collapsed": true
   },
   "outputs": [],
   "source": [
    "#the xgboost classfication model\n",
    "#first deal with the input label, transfrom it from 1-9 to 0-8(required by the xgboost)\n",
    "for i in range(len(train_y)):\n",
    "    train_y[i] -=1  "
   ]
  },
  {
   "cell_type": "code",
   "execution_count": null,
   "metadata": {},
   "outputs": [
    {
     "name": "stdout",
     "output_type": "stream",
     "text": [
      "[0]\ttrain-mlogloss:2.12142\tvalid-mlogloss:2.14445\n",
      "Multiple eval metrics have been passed: 'valid-mlogloss' will be used for early stopping.\n",
      "\n",
      "Will train until valid-mlogloss hasn't improved in 100 rounds.\n",
      "[25]\ttrain-mlogloss:1.12861\tvalid-mlogloss:1.47769\n",
      "[50]\ttrain-mlogloss:0.674425\tvalid-mlogloss:1.21393\n",
      "[75]\ttrain-mlogloss:0.434762\tvalid-mlogloss:1.09193\n"
     ]
    }
   ],
   "source": [
    "y_predict = xgbclassifier(train_set, train_y, test_set, 1, 8, 1000)"
   ]
  },
  {
   "cell_type": "code",
   "execution_count": 29,
   "metadata": {
    "collapsed": true
   },
   "outputs": [],
   "source": [
    "savesubmisstion(y_predict, test_x, filename = \"submission_allwin30noload.csv\")"
   ]
  },
  {
   "cell_type": "code",
   "execution_count": null,
   "metadata": {
    "collapsed": true
   },
   "outputs": [],
   "source": []
  }
 ],
 "metadata": {
  "kernelspec": {
   "display_name": "Python 3",
   "language": "python",
   "name": "python3"
  },
  "language_info": {
   "codemirror_mode": {
    "name": "ipython",
    "version": 3
   },
   "file_extension": ".py",
   "mimetype": "text/x-python",
   "name": "python",
   "nbconvert_exporter": "python",
   "pygments_lexer": "ipython3",
   "version": "3.5.4"
  }
 },
 "nbformat": 4,
 "nbformat_minor": 2
}
