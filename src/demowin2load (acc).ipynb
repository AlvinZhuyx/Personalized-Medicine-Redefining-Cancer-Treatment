{
 "cells": [
  {
   "cell_type": "code",
   "execution_count": 1,
   "metadata": {},
   "outputs": [
    {
     "name": "stderr",
     "output_type": "stream",
     "text": [
      "C:\\Users\\zhuya\\Anaconda3\\envs\\tensorflow\\lib\\site-packages\\gensim\\utils.py:862: UserWarning: detected Windows; aliasing chunkize to chunkize_serial\n",
      "  warnings.warn(\"detected Windows; aliasing chunkize to chunkize_serial\")\n",
      "Using TensorFlow backend.\n",
      "C:\\Users\\zhuya\\Anaconda3\\envs\\tensorflow\\lib\\site-packages\\sklearn\\cross_validation.py:41: DeprecationWarning: This module was deprecated in version 0.18 in favor of the model_selection module into which all the refactored classes and functions are moved. Also note that the interface of the new CV iterators are different from that of this module. This module will be removed in 0.20.\n",
      "  \"This module will be removed in 0.20.\", DeprecationWarning)\n"
     ]
    }
   ],
   "source": [
    "import os\n",
    "import re\n",
    "import tqdm\n",
    "import string\n",
    "import pandas as pd\n",
    "import numpy as np\n",
    "import util\n",
    "from sklearn.decomposition import TruncatedSVD\n",
    "from data_preprocessing import *\n",
    "import word_embedding_load as wel\n",
    "from classification import *\n",
    "from xgboost_classifier import *\n",
    "from testaccuracy import *"
   ]
  },
  {
   "cell_type": "code",
   "execution_count": 2,
   "metadata": {
    "collapsed": true
   },
   "outputs": [],
   "source": [
    "[all_data, train_size, test_size, train_x, train_y, test_x] = util.loadData()\n",
    "sentences = data_preprocess(all_data)"
   ]
  },
  {
   "cell_type": "code",
   "execution_count": 3,
   "metadata": {
    "collapsed": true
   },
   "outputs": [],
   "source": [
    "Text_INPUT_DIM=200\n",
    "GENE_INPUT_DIM=25\n",
    "TEXT_INPUT_DIM=200\n",
    "PATH = '../model/doc2vec/'\n",
    "modelName='docEmbeddings_win2_load_all.d2v'"
   ]
  },
  {
   "cell_type": "code",
   "execution_count": 4,
   "metadata": {
    "collapsed": true
   },
   "outputs": [],
   "source": [
    "param = util.Doc2VecParam(1, 2, 200, 1e-4, 5, 4, 30, 1)"
   ]
  },
  {
   "cell_type": "code",
   "execution_count": 5,
   "metadata": {
    "collapsed": true
   },
   "outputs": [],
   "source": [
    "svd = TruncatedSVD(n_components=GENE_INPUT_DIM, n_iter=25, random_state=12)"
   ]
  },
  {
   "cell_type": "code",
   "execution_count": 6,
   "metadata": {},
   "outputs": [
    {
     "name": "stdout",
     "output_type": "stream",
     "text": [
      "Successfully loaded the textmodel from ../model/doc2vec/docEmbeddings_win2_load_all.d2v\n"
     ]
    }
   ],
   "source": [
    "#load a pre-trained text model\n",
    "text_model = wel.loadTextModel(PATH + modelName)\n",
    "\n",
    "#To train a new text model, default without outside data:\n",
    "#text_model = wel.trainTextModel(sentences, param, 'newModelName', PATH)\n",
    "\n",
    "#To train a new text model with outside data:\n",
    "#sourceFile = '../data/bio_nlp_vec/PubMed-shuffle-win-30.bin'\n",
    "#text_model = wel.trainTextModel(sentences, param, 'newModelName', PATH, True, sourceFile)"
   ]
  },
  {
   "cell_type": "code",
   "execution_count": 7,
   "metadata": {
    "collapsed": true
   },
   "outputs": [],
   "source": [
    "truncated_one_hot_gene = wel.getGeneVec(all_data, svd)\n",
    "truncated_one_hot_variation = wel.getVariationVec(all_data, svd)\n",
    "text_train_arrays, text_test_arrays = wel.getTextVec(text_model, train_size, test_size, TEXT_INPUT_DIM)"
   ]
  },
  {
   "cell_type": "code",
   "execution_count": 8,
   "metadata": {},
   "outputs": [
    {
     "name": "stdout",
     "output_type": "stream",
     "text": [
      "(3689, 200)\n",
      "(986, 200)\n"
     ]
    },
    {
     "data": {
      "text/plain": [
       "array([ 1.9926796 , -0.95616704, -0.41943806,  1.05640149, -0.17750672,\n",
       "       -0.22473556, -1.14849627, -1.04512095,  0.72278821, -0.26906219,\n",
       "       -0.12173071,  0.27951074,  0.85554093,  1.4066658 , -0.66658169,\n",
       "       -3.5733881 ,  0.61995304, -2.23058319, -0.13402276,  2.12668133,\n",
       "       -0.35180882, -0.27377269,  0.54994392, -1.48118317, -1.4935751 ,\n",
       "       -1.68159318,  0.34006077,  2.6541965 , -0.45972574, -0.43201742,\n",
       "        0.3170231 , -1.63518965,  2.0632391 ,  1.46774471, -0.95080161,\n",
       "        0.16261423,  1.81780541,  0.94335526, -0.02719352,  0.66872084,\n",
       "        0.53617448,  0.2284466 ,  1.14089978, -1.53023636, -0.30838454,\n",
       "        1.86624837, -0.64276832,  0.49743181, -0.53058469,  1.06889701,\n",
       "        0.34412953,  0.14060664,  1.23631251,  0.41249499, -0.50394237,\n",
       "        0.92049599,  0.2226413 , -0.11276353, -0.56527591,  0.82244128,\n",
       "       -0.99196661, -0.42952666, -0.88652813,  0.43424979, -1.98911691,\n",
       "        1.09482539, -2.45888305,  1.73302603,  2.20067   , -0.6085186 ,\n",
       "       -1.25785565, -0.44117382,  1.98833013, -0.51232427, -1.10979819,\n",
       "       -0.54445004, -1.16707098, -1.31837153, -0.53253657,  1.59991312,\n",
       "       -0.20664276, -1.05685711,  0.31082043, -0.2043286 ,  0.77633107,\n",
       "        0.85860324, -2.03887677,  1.49911261, -0.39974245,  0.91128081,\n",
       "        1.13125467, -2.09005117, -0.41554201, -1.55264652,  0.44138581,\n",
       "        0.49449065, -2.13298559,  2.20955014,  0.95500571,  0.41129953,\n",
       "       -0.87113571,  0.98770237,  0.38444752,  0.63010305,  1.8368659 ,\n",
       "       -0.14130785, -0.32579213,  0.86784047,  1.06677532,  0.67403376,\n",
       "       -1.06961429, -1.40743053,  1.35656881,  1.58909762, -1.9294008 ,\n",
       "        0.939282  ,  0.39813891, -1.23754907,  2.85993528,  0.95143169,\n",
       "       -0.82528299, -0.78427643, -1.12611341, -1.30386949, -0.7302534 ,\n",
       "       -2.40704179, -1.25131738, -2.22095847, -0.61212695,  2.46631312,\n",
       "       -1.45429885,  0.024306  ,  1.18339205, -0.09788334, -0.23530199,\n",
       "       -0.14920838,  0.45473397, -1.07566762, -0.2484591 , -0.61140323,\n",
       "        2.3258121 , -0.68689275,  1.68472815,  1.7551837 ,  0.01643275,\n",
       "        1.61395371, -0.65283042,  1.57991278,  1.2904892 , -1.71622753,\n",
       "        0.6634233 ,  0.58639234, -1.34056306,  0.28264776, -2.64078593,\n",
       "        0.66478187, -1.04393971, -0.69477886,  0.55568027,  1.07313037,\n",
       "        1.97054124, -0.79388338,  0.30255207,  1.81174207,  0.62831497,\n",
       "       -0.39802322,  1.16715777, -0.69539362, -0.1725876 , -0.4010261 ,\n",
       "       -1.53010333,  1.78115654,  0.45922974, -1.49840677, -0.73476058,\n",
       "       -1.40930474, -1.35155988, -0.66272843, -1.22934783, -0.63275701,\n",
       "        1.06155419,  1.50083339,  0.0615571 ,  0.4066731 , -0.32978195,\n",
       "        0.70330983,  1.51849055,  1.75434244,  1.91263461,  1.88655174,\n",
       "       -0.2432631 , -0.86476576,  3.33272672, -0.36880228,  1.19287694,\n",
       "       -1.752213  , -1.39517832, -2.54406714, -0.45961851,  0.53956795])"
      ]
     },
     "execution_count": 8,
     "metadata": {},
     "output_type": "execute_result"
    }
   ],
   "source": [
    "print(text_train_arrays.shape)\n",
    "print(text_test_arrays.shape)\n",
    "text_train_arrays[0]"
   ]
  },
  {
   "cell_type": "code",
   "execution_count": 9,
   "metadata": {},
   "outputs": [
    {
     "name": "stdout",
     "output_type": "stream",
     "text": [
      "(3689, 9)\n"
     ]
    }
   ],
   "source": [
    "train_set = np.hstack((truncated_one_hot_gene[:train_size], truncated_one_hot_variation[:train_size], text_train_arrays))\n",
    "test_set = np.hstack((truncated_one_hot_gene[train_size:], truncated_one_hot_variation[train_size:], text_test_arrays))\n",
    "encoded_y = pd.get_dummies(train_y)\n",
    "encoded_y = np.array(encoded_y)\n",
    "print(encoded_y.shape)"
   ]
  },
  {
   "cell_type": "code",
   "execution_count": 10,
   "metadata": {},
   "outputs": [
    {
     "name": "stdout",
     "output_type": "stream",
     "text": [
      "(3689, 250)\n",
      "(986, 250)\n"
     ]
    },
    {
     "data": {
      "text/plain": [
       "array([  1.00000000e+00,   4.18523246e-19,   1.82140582e-19,\n",
       "         5.52932734e-29,   9.01317672e-25,   1.47967745e-22,\n",
       "        -8.38240178e-21,   2.00300590e-21,   9.74158370e-21,\n",
       "        -9.34683441e-21,   1.91083889e-20,   6.55003880e-19,\n",
       "        -1.09276438e-17,  -1.56730196e-18,  -2.12913704e-18,\n",
       "        -4.51096312e-18,  -3.82900024e-19,   1.15894157e-17,\n",
       "         1.59938703e-17,   3.58735292e-17,  -3.35304994e-18,\n",
       "         1.68462844e-17,   6.76851697e-18,   5.86047343e-17,\n",
       "         7.80129580e-21])"
      ]
     },
     "execution_count": 10,
     "metadata": {},
     "output_type": "execute_result"
    }
   ],
   "source": [
    "print(train_set.shape)\n",
    "print(test_set.shape)\n",
    "train_set[0, 25:50]"
   ]
  },
  {
   "cell_type": "code",
   "execution_count": 29,
   "metadata": {},
   "outputs": [
    {
     "name": "stderr",
     "output_type": "stream",
     "text": [
      "C:\\Users\\zhuya\\Desktop\\semester 1\\249 data structure\\project\\src\\src\\classification.py:28: UserWarning: Update your `Dense` call to the Keras 2 API: `Dense(256, kernel_initializer=\"normal\", activation=\"relu\", input_dim=250)`\n",
      "  model.add(Dense(256, input_dim=Text_INPUT_DIM+ Gene_INPUT_DIM + Variation_INPUT_DIM, init='normal', activation='relu'))\n",
      "C:\\Users\\zhuya\\Desktop\\semester 1\\249 data structure\\project\\src\\src\\classification.py:30: UserWarning: Update your `Dense` call to the Keras 2 API: `Dense(256, activation=\"relu\", kernel_initializer=\"normal\")`\n",
      "  model.add(Dense(256, init='normal', activation='relu'))\n",
      "C:\\Users\\zhuya\\Desktop\\semester 1\\249 data structure\\project\\src\\src\\classification.py:32: UserWarning: Update your `Dense` call to the Keras 2 API: `Dense(80, activation=\"relu\", kernel_initializer=\"normal\")`\n",
      "  model.add(Dense(80, init='normal', activation='relu'))\n",
      "C:\\Users\\zhuya\\Desktop\\semester 1\\249 data structure\\project\\src\\src\\classification.py:33: UserWarning: Update your `Dense` call to the Keras 2 API: `Dense(9, activation=\"softmax\", kernel_initializer=\"normal\")`\n",
      "  model.add(Dense(9, init='normal', activation=\"softmax\"))\n"
     ]
    },
    {
     "name": "stdout",
     "output_type": "stream",
     "text": [
      "_________________________________________________________________\n",
      "Layer (type)                 Output Shape              Param #   \n",
      "=================================================================\n",
      "dense_13 (Dense)             (None, 256)               64256     \n",
      "_________________________________________________________________\n",
      "dropout_7 (Dropout)          (None, 256)               0         \n",
      "_________________________________________________________________\n",
      "dense_14 (Dense)             (None, 256)               65792     \n",
      "_________________________________________________________________\n",
      "dropout_8 (Dropout)          (None, 256)               0         \n",
      "_________________________________________________________________\n",
      "dense_15 (Dense)             (None, 80)                20560     \n",
      "_________________________________________________________________\n",
      "dense_16 (Dense)             (None, 9)                 729       \n",
      "=================================================================\n",
      "Total params: 151,337\n",
      "Trainable params: 151,337\n",
      "Non-trainable params: 0\n",
      "_________________________________________________________________\n"
     ]
    }
   ],
   "source": [
    "# this is the 4 layer full-connected nerual network model\n",
    "model = nn_baseline_model(TEXT_INPUT_DIM, GENE_INPUT_DIM, GENE_INPUT_DIM)\n",
    "model.summary()"
   ]
  },
  {
   "cell_type": "code",
   "execution_count": 30,
   "metadata": {},
   "outputs": [
    {
     "name": "stdout",
     "output_type": "stream",
     "text": [
      "begin training\n",
      "\n",
      "Train on 2951 samples, validate on 738 samples\n",
      "Epoch 1/2\n",
      "2951/2951 [==============================] - ETA: 37s - loss: 2.2197 - acc: 0.09 - ETA: 2s - loss: 2.1698 - acc: 0.1349 - ETA: 1s - loss: 2.1059 - acc: 0.201 - ETA: 0s - loss: 2.0486 - acc: 0.225 - ETA: 0s - loss: 1.9959 - acc: 0.246 - 1s - loss: 1.9826 - acc: 0.2528 - val_loss: 1.7023 - val_acc: 0.4580\n",
      "Epoch 2/2\n",
      "2951/2951 [==============================] - ETA: 0s - loss: 1.8792 - acc: 0.375 - ETA: 0s - loss: 1.7666 - acc: 0.357 - ETA: 0s - loss: 1.7243 - acc: 0.376 - ETA: 0s - loss: 1.6932 - acc: 0.397 - ETA: 0s - loss: 1.6670 - acc: 0.406 - 0s - loss: 1.6470 - acc: 0.4134 - val_loss: 1.3624 - val_acc: 0.5081\n",
      "Training accuracy: 41.34% / Best validation accuracy: 50.81%\n",
      "Train on 2951 samples, validate on 738 samples\n",
      "Epoch 1/2\n",
      "2951/2951 [==============================] - ETA: 0s - loss: 1.3939 - acc: 0.546 - ETA: 0s - loss: 1.4627 - acc: 0.486 - ETA: 0s - loss: 1.4483 - acc: 0.478 - ETA: 0s - loss: 1.4414 - acc: 0.479 - ETA: 0s - loss: 1.4366 - acc: 0.471 - 0s - loss: 1.4321 - acc: 0.4764 - val_loss: 1.2806 - val_acc: 0.5230\n",
      "Epoch 2/2\n",
      "2951/2951 [==============================] - ETA: 0s - loss: 1.3719 - acc: 0.375 - ETA: 0s - loss: 1.3191 - acc: 0.498 - ETA: 0s - loss: 1.3747 - acc: 0.493 - ETA: 0s - loss: 1.3395 - acc: 0.499 - ETA: 0s - loss: 1.3300 - acc: 0.512 - 0s - loss: 1.3239 - acc: 0.5117 - val_loss: 1.2346 - val_acc: 0.5298\n",
      "Training accuracy: 51.17% / Best validation accuracy: 52.98%\n",
      "Train on 2951 samples, validate on 738 samples\n",
      "Epoch 1/2\n",
      "2951/2951 [==============================] - ETA: 0s - loss: 1.2502 - acc: 0.609 - ETA: 0s - loss: 1.2628 - acc: 0.542 - ETA: 0s - loss: 1.2817 - acc: 0.542 - ETA: 0s - loss: 1.2859 - acc: 0.534 - ETA: 0s - loss: 1.2714 - acc: 0.538 - 0s - loss: 1.2551 - acc: 0.5452 - val_loss: 1.2118 - val_acc: 0.5528\n",
      "Epoch 2/2\n",
      "2951/2951 [==============================] - ETA: 0s - loss: 1.1618 - acc: 0.609 - ETA: 0s - loss: 1.1892 - acc: 0.585 - ETA: 0s - loss: 1.1980 - acc: 0.566 - ETA: 0s - loss: 1.2198 - acc: 0.550 - ETA: 0s - loss: 1.2047 - acc: 0.556 - ETA: 0s - loss: 1.2085 - acc: 0.554 - 0s - loss: 1.2089 - acc: 0.5547 - val_loss: 1.1901 - val_acc: 0.5556\n",
      "Training accuracy: 55.47% / Best validation accuracy: 55.56%\n",
      "Train on 2951 samples, validate on 738 samples\n",
      "Epoch 1/2\n",
      "2951/2951 [==============================] - ETA: 0s - loss: 1.0118 - acc: 0.609 - ETA: 0s - loss: 1.2056 - acc: 0.529 - ETA: 0s - loss: 1.2149 - acc: 0.534 - ETA: 0s - loss: 1.2009 - acc: 0.558 - ETA: 0s - loss: 1.1841 - acc: 0.566 - 0s - loss: 1.1668 - acc: 0.5768 - val_loss: 1.2248 - val_acc: 0.5257\n",
      "Epoch 2/2\n",
      "2951/2951 [==============================] - ETA: 0s - loss: 1.0875 - acc: 0.640 - ETA: 0s - loss: 1.1335 - acc: 0.587 - ETA: 0s - loss: 1.1130 - acc: 0.588 - ETA: 0s - loss: 1.1215 - acc: 0.579 - ETA: 0s - loss: 1.1395 - acc: 0.576 - 0s - loss: 1.1361 - acc: 0.5778 - val_loss: 1.1790 - val_acc: 0.5528\n",
      "Training accuracy: 57.78% / Best validation accuracy: 55.56%\n",
      "Train on 2951 samples, validate on 738 samples\n",
      "Epoch 1/2\n",
      "2951/2951 [==============================] - ETA: 0s - loss: 0.9064 - acc: 0.671 - ETA: 0s - loss: 1.0999 - acc: 0.597 - ETA: 0s - loss: 1.1156 - acc: 0.590 - ETA: 0s - loss: 1.1020 - acc: 0.596 - ETA: 0s - loss: 1.1116 - acc: 0.595 - 0s - loss: 1.1150 - acc: 0.5940 - val_loss: 1.1752 - val_acc: 0.5664\n",
      "Epoch 2/2\n",
      "2951/2951 [==============================] - ETA: 0s - loss: 1.0576 - acc: 0.609 - ETA: 0s - loss: 1.0786 - acc: 0.618 - ETA: 0s - loss: 1.0999 - acc: 0.598 - ETA: 0s - loss: 1.0965 - acc: 0.603 - ETA: 0s - loss: 1.0965 - acc: 0.600 - 0s - loss: 1.0942 - acc: 0.6039 - val_loss: 1.1830 - val_acc: 0.5556\n",
      "Training accuracy: 60.39% / Best validation accuracy: 55.56%\n",
      "Train on 2951 samples, validate on 738 samples\n",
      "Epoch 1/2\n",
      "2951/2951 [==============================] - ETA: 0s - loss: 0.8886 - acc: 0.718 - ETA: 0s - loss: 1.1038 - acc: 0.593 - ETA: 0s - loss: 1.0782 - acc: 0.593 - ETA: 0s - loss: 1.0511 - acc: 0.606 - ETA: 0s - loss: 1.0569 - acc: 0.609 - 0s - loss: 1.0595 - acc: 0.6086 - val_loss: 1.1549 - val_acc: 0.5745\n",
      "Epoch 2/2\n",
      "2951/2951 [==============================] - ETA: 0s - loss: 1.2661 - acc: 0.578 - ETA: 0s - loss: 1.0448 - acc: 0.632 - ETA: 0s - loss: 1.0324 - acc: 0.628 - ETA: 0s - loss: 1.0364 - acc: 0.616 - ETA: 0s - loss: 1.0530 - acc: 0.612 - 0s - loss: 1.0460 - acc: 0.6076 - val_loss: 1.1569 - val_acc: 0.5488\n",
      "Training accuracy: 60.76% / Best validation accuracy: 55.56%\n",
      "Train on 2951 samples, validate on 738 samples\n",
      "Epoch 1/2\n",
      "2951/2951 [==============================] - ETA: 0s - loss: 0.8671 - acc: 0.718 - ETA: 0s - loss: 0.9869 - acc: 0.639 - ETA: 0s - loss: 0.9922 - acc: 0.644 - ETA: 0s - loss: 1.0056 - acc: 0.631 - ETA: 0s - loss: 1.0145 - acc: 0.628 - 0s - loss: 1.0223 - acc: 0.6276 - val_loss: 1.1566 - val_acc: 0.5488\n",
      "Epoch 2/2\n",
      "2951/2951 [==============================] - ETA: 0s - loss: 1.1885 - acc: 0.562 - ETA: 0s - loss: 0.9939 - acc: 0.612 - ETA: 0s - loss: 0.9990 - acc: 0.610 - ETA: 0s - loss: 1.0238 - acc: 0.607 - ETA: 0s - loss: 1.0209 - acc: 0.607 - ETA: 0s - loss: 0.9962 - acc: 0.624 - 0s - loss: 1.0007 - acc: 0.6239 - val_loss: 1.1476 - val_acc: 0.5488\n",
      "Training accuracy: 62.39% / Best validation accuracy: 55.56%\n",
      "Train on 2951 samples, validate on 738 samples\n",
      "Epoch 1/2\n",
      "2951/2951 [==============================] - ETA: 0s - loss: 1.0136 - acc: 0.625 - ETA: 0s - loss: 0.9926 - acc: 0.629 - ETA: 0s - loss: 0.9817 - acc: 0.618 - ETA: 0s - loss: 0.9760 - acc: 0.629 - ETA: 0s - loss: 0.9935 - acc: 0.621 - 0s - loss: 0.9901 - acc: 0.6256 - val_loss: 1.1541 - val_acc: 0.5447\n",
      "Epoch 2/2\n",
      "2951/2951 [==============================] - ETA: 0s - loss: 0.9186 - acc: 0.578 - ETA: 0s - loss: 0.9474 - acc: 0.637 - ETA: 0s - loss: 0.9854 - acc: 0.624 - ETA: 0s - loss: 0.9749 - acc: 0.634 - ETA: 0s - loss: 0.9789 - acc: 0.630 - 0s - loss: 0.9726 - acc: 0.6323 - val_loss: 1.1643 - val_acc: 0.5325\n",
      "Training accuracy: 63.23% / Best validation accuracy: 55.56%\n",
      "Train on 2951 samples, validate on 738 samples\n",
      "Epoch 1/2\n",
      "2951/2951 [==============================] - ETA: 0s - loss: 0.7172 - acc: 0.703 - ETA: 0s - loss: 0.9309 - acc: 0.647 - ETA: 0s - loss: 0.9275 - acc: 0.645 - ETA: 0s - loss: 0.9415 - acc: 0.645 - ETA: 0s - loss: 0.9696 - acc: 0.634 - ETA: 0s - loss: 0.9696 - acc: 0.635 - 0s - loss: 0.9698 - acc: 0.6357 - val_loss: 1.1422 - val_acc: 0.5488\n",
      "Epoch 2/2\n",
      "2951/2951 [==============================] - ETA: 0s - loss: 1.0042 - acc: 0.671 - ETA: 0s - loss: 0.9106 - acc: 0.667 - ETA: 0s - loss: 0.9092 - acc: 0.669 - ETA: 0s - loss: 0.9373 - acc: 0.655 - ETA: 0s - loss: 0.9286 - acc: 0.658 - ETA: 0s - loss: 0.9323 - acc: 0.658 - 0s - loss: 0.9363 - acc: 0.6567 - val_loss: 1.1607 - val_acc: 0.5285\n",
      "Training accuracy: 65.67% / Best validation accuracy: 55.56%\n",
      "Train on 2951 samples, validate on 738 samples\n",
      "Epoch 1/2\n",
      "2951/2951 [==============================] - ETA: 0s - loss: 1.0108 - acc: 0.671 - ETA: 0s - loss: 0.9463 - acc: 0.640 - ETA: 0s - loss: 0.9272 - acc: 0.651 - ETA: 0s - loss: 0.9304 - acc: 0.645 - ETA: 0s - loss: 0.9204 - acc: 0.653 - 0s - loss: 0.9227 - acc: 0.6520 - val_loss: 1.1429 - val_acc: 0.5691\n",
      "Epoch 2/2\n",
      "2951/2951 [==============================] - ETA: 0s - loss: 0.8308 - acc: 0.703 - ETA: 0s - loss: 0.9090 - acc: 0.659 - ETA: 0s - loss: 0.9198 - acc: 0.660 - ETA: 0s - loss: 0.9028 - acc: 0.670 - ETA: 0s - loss: 0.9124 - acc: 0.665 - ETA: 0s - loss: 0.9191 - acc: 0.662 - 0s - loss: 0.9228 - acc: 0.6601 - val_loss: 1.1432 - val_acc: 0.5637\n",
      "Training accuracy: 66.01% / Best validation accuracy: 56.37%\n",
      "Train on 2951 samples, validate on 738 samples\n",
      "Epoch 1/2\n",
      "2951/2951 [==============================] - ETA: 0s - loss: 0.9743 - acc: 0.687 - ETA: 0s - loss: 0.8618 - acc: 0.675 - ETA: 0s - loss: 0.8700 - acc: 0.673 - ETA: 0s - loss: 0.8905 - acc: 0.667 - ETA: 0s - loss: 0.8902 - acc: 0.670 - ETA: 0s - loss: 0.8977 - acc: 0.668 - ETA: 0s - loss: 0.9103 - acc: 0.668 - 0s - loss: 0.9094 - acc: 0.6679 - val_loss: 1.1486 - val_acc: 0.5447\n",
      "Epoch 2/2\n",
      "2951/2951 [==============================] - ETA: 0s - loss: 0.9499 - acc: 0.656 - ETA: 0s - loss: 0.9368 - acc: 0.659 - ETA: 0s - loss: 0.9155 - acc: 0.653 - ETA: 0s - loss: 0.9030 - acc: 0.660 - ETA: 0s - loss: 0.9074 - acc: 0.660 - ETA: 0s - loss: 0.9124 - acc: 0.659 - 0s - loss: 0.9120 - acc: 0.6601 - val_loss: 1.1454 - val_acc: 0.5718\n",
      "Training accuracy: 66.01% / Best validation accuracy: 57.18%\n",
      "Train on 2951 samples, validate on 738 samples\n",
      "Epoch 1/2\n",
      "2951/2951 [==============================] - ETA: 0s - loss: 0.9095 - acc: 0.671 - ETA: 0s - loss: 0.9138 - acc: 0.671 - ETA: 0s - loss: 0.8971 - acc: 0.671 - ETA: 0s - loss: 0.8898 - acc: 0.679 - ETA: 0s - loss: 0.8877 - acc: 0.679 - 0s - loss: 0.8824 - acc: 0.6801 - val_loss: 1.1513 - val_acc: 0.5447\n",
      "Epoch 2/2\n",
      "2951/2951 [==============================] - ETA: 0s - loss: 0.8546 - acc: 0.671 - ETA: 0s - loss: 0.9032 - acc: 0.656 - ETA: 0s - loss: 0.8762 - acc: 0.677 - ETA: 0s - loss: 0.8976 - acc: 0.670 - ETA: 0s - loss: 0.8820 - acc: 0.677 - 0s - loss: 0.8863 - acc: 0.6767 - val_loss: 1.1529 - val_acc: 0.5542\n",
      "Training accuracy: 67.67% / Best validation accuracy: 57.18%\n",
      "Train on 2951 samples, validate on 738 samples\n",
      "Epoch 1/2\n",
      "2951/2951 [==============================] - ETA: 0s - loss: 0.9757 - acc: 0.625 - ETA: 0s - loss: 0.8685 - acc: 0.676 - ETA: 0s - loss: 0.8853 - acc: 0.669 - ETA: 0s - loss: 0.8881 - acc: 0.665 - ETA: 0s - loss: 0.8640 - acc: 0.675 - 0s - loss: 0.8635 - acc: 0.6774 - val_loss: 1.2019 - val_acc: 0.5230\n",
      "Epoch 2/2\n",
      "2951/2951 [==============================] - ETA: 0s - loss: 0.8190 - acc: 0.656 - ETA: 0s - loss: 0.8376 - acc: 0.696 - ETA: 0s - loss: 0.8403 - acc: 0.690 - ETA: 0s - loss: 0.8293 - acc: 0.693 - ETA: 0s - loss: 0.8348 - acc: 0.689 - 0s - loss: 0.8432 - acc: 0.6896 - val_loss: 1.1417 - val_acc: 0.5596\n",
      "Training accuracy: 68.96% / Best validation accuracy: 57.18%\n",
      "Train on 2951 samples, validate on 738 samples\n",
      "Epoch 1/2\n",
      "2951/2951 [==============================] - ETA: 0s - loss: 0.6578 - acc: 0.718 - ETA: 0s - loss: 0.7936 - acc: 0.687 - ETA: 0s - loss: 0.8471 - acc: 0.676 - ETA: 0s - loss: 0.8429 - acc: 0.683 - ETA: 0s - loss: 0.8401 - acc: 0.689 - ETA: 0s - loss: 0.8369 - acc: 0.684 - 0s - loss: 0.8352 - acc: 0.6896 - val_loss: 1.1462 - val_acc: 0.5583\n",
      "Epoch 2/2\n",
      "2951/2951 [==============================] - ETA: 0s - loss: 0.9759 - acc: 0.718 - ETA: 0s - loss: 0.8749 - acc: 0.687 - ETA: 0s - loss: 0.8133 - acc: 0.698 - ETA: 0s - loss: 0.8310 - acc: 0.685 - ETA: 0s - loss: 0.8371 - acc: 0.686 - ETA: 0s - loss: 0.8379 - acc: 0.686 - 0s - loss: 0.8337 - acc: 0.6865 - val_loss: 1.1565 - val_acc: 0.5434\n",
      "Training accuracy: 68.65% / Best validation accuracy: 57.18%\n",
      "Train on 2951 samples, validate on 738 samples\n",
      "Epoch 1/2\n",
      "2951/2951 [==============================] - ETA: 0s - loss: 0.7746 - acc: 0.750 - ETA: 0s - loss: 0.7843 - acc: 0.743 - ETA: 0s - loss: 0.8079 - acc: 0.726 - ETA: 0s - loss: 0.8369 - acc: 0.704 - ETA: 0s - loss: 0.8314 - acc: 0.701 - ETA: 0s - loss: 0.8335 - acc: 0.698 - 0s - loss: 0.8341 - acc: 0.6991 - val_loss: 1.1435 - val_acc: 0.5461\n",
      "Epoch 2/2\n",
      "2951/2951 [==============================] - ETA: 0s - loss: 0.6608 - acc: 0.812 - ETA: 0s - loss: 0.7572 - acc: 0.750 - ETA: 0s - loss: 0.7777 - acc: 0.713 - ETA: 0s - loss: 0.7669 - acc: 0.716 - ETA: 0s - loss: 0.7920 - acc: 0.707 - ETA: 0s - loss: 0.8132 - acc: 0.701 - 0s - loss: 0.8199 - acc: 0.7004 - val_loss: 1.1411 - val_acc: 0.5610\n",
      "Training accuracy: 70.04% / Best validation accuracy: 57.18%\n",
      "Train on 2951 samples, validate on 738 samples\n",
      "Epoch 1/2\n",
      "2951/2951 [==============================] - ETA: 0s - loss: 0.7920 - acc: 0.687 - ETA: 0s - loss: 0.7296 - acc: 0.738 - ETA: 0s - loss: 0.8053 - acc: 0.702 - ETA: 0s - loss: 0.8049 - acc: 0.695 - ETA: 0s - loss: 0.8065 - acc: 0.697 - ETA: 0s - loss: 0.8073 - acc: 0.699 - 0s - loss: 0.8071 - acc: 0.7028 - val_loss: 1.1543 - val_acc: 0.5583\n",
      "Epoch 2/2\n",
      "2951/2951 [==============================] - ETA: 0s - loss: 0.7331 - acc: 0.718 - ETA: 0s - loss: 0.8005 - acc: 0.706 - ETA: 0s - loss: 0.7631 - acc: 0.715 - ETA: 0s - loss: 0.7693 - acc: 0.717 - ETA: 0s - loss: 0.7835 - acc: 0.703 - ETA: 0s - loss: 0.7918 - acc: 0.701 - ETA: 0s - loss: 0.7950 - acc: 0.699 - 0s - loss: 0.7941 - acc: 0.6994 - val_loss: 1.1478 - val_acc: 0.5799\n",
      "Training accuracy: 69.94% / Best validation accuracy: 57.99%\n",
      "Train on 2951 samples, validate on 738 samples\n",
      "Epoch 1/2\n",
      "2951/2951 [==============================] - ETA: 0s - loss: 0.8496 - acc: 0.718 - ETA: 0s - loss: 0.8042 - acc: 0.701 - ETA: 0s - loss: 0.8290 - acc: 0.696 - ETA: 0s - loss: 0.8206 - acc: 0.700 - ETA: 0s - loss: 0.8075 - acc: 0.701 - ETA: 0s - loss: 0.8053 - acc: 0.702 - 0s - loss: 0.8048 - acc: 0.7015 - val_loss: 1.1411 - val_acc: 0.5759\n",
      "Epoch 2/2\n",
      "2951/2951 [==============================] - ETA: 0s - loss: 0.7216 - acc: 0.718 - ETA: 0s - loss: 0.7118 - acc: 0.734 - ETA: 0s - loss: 0.7198 - acc: 0.736 - ETA: 0s - loss: 0.7333 - acc: 0.723 - ETA: 0s - loss: 0.7565 - acc: 0.713 - ETA: 0s - loss: 0.7730 - acc: 0.706 - 0s - loss: 0.7789 - acc: 0.7042 - val_loss: 1.1442 - val_acc: 0.5650\n",
      "Training accuracy: 70.42% / Best validation accuracy: 57.99%\n",
      "Train on 2951 samples, validate on 738 samples\n",
      "Epoch 1/2\n",
      "2951/2951 [==============================] - ETA: 0s - loss: 0.7568 - acc: 0.734 - ETA: 0s - loss: 0.7677 - acc: 0.732 - ETA: 0s - loss: 0.7808 - acc: 0.719 - ETA: 0s - loss: 0.7978 - acc: 0.707 - ETA: 0s - loss: 0.7742 - acc: 0.717 - ETA: 0s - loss: 0.7800 - acc: 0.714 - ETA: 0s - loss: 0.7861 - acc: 0.709 - ETA: 0s - loss: 0.7756 - acc: 0.716 - 0s - loss: 0.7851 - acc: 0.7103 - val_loss: 1.1647 - val_acc: 0.5691\n",
      "Epoch 2/2\n",
      "2951/2951 [==============================] - ETA: 0s - loss: 0.8607 - acc: 0.734 - ETA: 0s - loss: 0.7944 - acc: 0.697 - ETA: 0s - loss: 0.7572 - acc: 0.716 - ETA: 0s - loss: 0.7455 - acc: 0.722 - ETA: 0s - loss: 0.7638 - acc: 0.715 - ETA: 0s - loss: 0.7684 - acc: 0.708 - ETA: 0s - loss: 0.7732 - acc: 0.709 - 0s - loss: 0.7730 - acc: 0.7099 - val_loss: 1.1407 - val_acc: 0.5854\n",
      "Training accuracy: 70.99% / Best validation accuracy: 58.54%\n",
      "Train on 2951 samples, validate on 738 samples\n",
      "Epoch 1/2\n",
      "2951/2951 [==============================] - ETA: 0s - loss: 0.8599 - acc: 0.703 - ETA: 0s - loss: 0.7329 - acc: 0.720 - ETA: 0s - loss: 0.7342 - acc: 0.726 - ETA: 0s - loss: 0.7505 - acc: 0.716 - ETA: 0s - loss: 0.7479 - acc: 0.723 - ETA: 0s - loss: 0.7587 - acc: 0.721 - 0s - loss: 0.7572 - acc: 0.7221 - val_loss: 1.1444 - val_acc: 0.5759\n",
      "Epoch 2/2\n",
      "2951/2951 [==============================] - ETA: 0s - loss: 0.5765 - acc: 0.750 - ETA: 0s - loss: 0.7728 - acc: 0.697 - ETA: 0s - loss: 0.7866 - acc: 0.691 - ETA: 0s - loss: 0.7739 - acc: 0.703 - ETA: 0s - loss: 0.7745 - acc: 0.712 - ETA: 0s - loss: 0.7557 - acc: 0.719 - 0s - loss: 0.7552 - acc: 0.7201 - val_loss: 1.1431 - val_acc: 0.5718\n",
      "Training accuracy: 72.01% / Best validation accuracy: 58.54%\n",
      "Train on 2951 samples, validate on 738 samples\n",
      "Epoch 1/2\n",
      "2951/2951 [==============================] - ETA: 0s - loss: 0.8042 - acc: 0.750 - ETA: 0s - loss: 0.7311 - acc: 0.736 - ETA: 0s - loss: 0.7358 - acc: 0.738 - ETA: 0s - loss: 0.7511 - acc: 0.729 - ETA: 0s - loss: 0.7518 - acc: 0.729 - ETA: 0s - loss: 0.7558 - acc: 0.724 - 0s - loss: 0.7588 - acc: 0.7231 - val_loss: 1.1679 - val_acc: 0.5569\n",
      "Epoch 2/2\n",
      "2951/2951 [==============================] - ETA: 0s - loss: 0.5385 - acc: 0.781 - ETA: 0s - loss: 0.7011 - acc: 0.741 - ETA: 0s - loss: 0.7029 - acc: 0.724 - ETA: 0s - loss: 0.7346 - acc: 0.717 - ETA: 0s - loss: 0.7417 - acc: 0.717 - ETA: 0s - loss: 0.7374 - acc: 0.718 - 0s - loss: 0.7409 - acc: 0.7170 - val_loss: 1.1373 - val_acc: 0.5650\n",
      "Training accuracy: 71.70% / Best validation accuracy: 58.54%\n",
      "Train on 2951 samples, validate on 738 samples\n",
      "Epoch 1/2\n",
      "2951/2951 [==============================] - ETA: 0s - loss: 0.6978 - acc: 0.687 - ETA: 0s - loss: 0.6960 - acc: 0.746 - ETA: 0s - loss: 0.7467 - acc: 0.728 - ETA: 0s - loss: 0.7277 - acc: 0.731 - ETA: 0s - loss: 0.7249 - acc: 0.733 - ETA: 0s - loss: 0.7311 - acc: 0.730 - 0s - loss: 0.7323 - acc: 0.7320 - val_loss: 1.1480 - val_acc: 0.5650\n",
      "Epoch 2/2\n"
     ]
    },
    {
     "name": "stdout",
     "output_type": "stream",
     "text": [
      "2951/2951 [==============================] - ETA: 0s - loss: 0.7884 - acc: 0.750 - ETA: 0s - loss: 0.7615 - acc: 0.712 - ETA: 0s - loss: 0.7390 - acc: 0.716 - ETA: 0s - loss: 0.7516 - acc: 0.713 - ETA: 0s - loss: 0.7396 - acc: 0.717 - 0s - loss: 0.7415 - acc: 0.7170 - val_loss: 1.1541 - val_acc: 0.5799\n",
      "Training accuracy: 71.70% / Best validation accuracy: 58.54%\n",
      "Train on 2951 samples, validate on 738 samples\n",
      "Epoch 1/2\n",
      "2951/2951 [==============================] - ETA: 0s - loss: 0.6387 - acc: 0.734 - ETA: 0s - loss: 0.7003 - acc: 0.724 - ETA: 0s - loss: 0.7050 - acc: 0.728 - ETA: 0s - loss: 0.7168 - acc: 0.724 - ETA: 0s - loss: 0.7112 - acc: 0.726 - 0s - loss: 0.7161 - acc: 0.7231 - val_loss: 1.1628 - val_acc: 0.5596\n",
      "Epoch 2/2\n",
      "2951/2951 [==============================] - ETA: 0s - loss: 0.8052 - acc: 0.671 - ETA: 0s - loss: 0.7357 - acc: 0.709 - ETA: 0s - loss: 0.7151 - acc: 0.718 - ETA: 0s - loss: 0.7048 - acc: 0.728 - ETA: 0s - loss: 0.7127 - acc: 0.728 - 0s - loss: 0.7142 - acc: 0.7262 - val_loss: 1.1637 - val_acc: 0.5786\n",
      "Training accuracy: 72.62% / Best validation accuracy: 58.54%\n",
      "Train on 2951 samples, validate on 738 samples\n",
      "Epoch 1/2\n",
      "2951/2951 [==============================] - ETA: 0s - loss: 0.7177 - acc: 0.765 - ETA: 0s - loss: 0.6697 - acc: 0.751 - ETA: 0s - loss: 0.7097 - acc: 0.734 - ETA: 0s - loss: 0.7106 - acc: 0.732 - ETA: 0s - loss: 0.7219 - acc: 0.731 - 0s - loss: 0.7210 - acc: 0.7323 - val_loss: 1.1552 - val_acc: 0.5664\n",
      "Epoch 2/2\n",
      "2951/2951 [==============================] - ETA: 0s - loss: 0.7639 - acc: 0.734 - ETA: 0s - loss: 0.7025 - acc: 0.752 - ETA: 0s - loss: 0.6820 - acc: 0.755 - ETA: 0s - loss: 0.6811 - acc: 0.747 - ETA: 0s - loss: 0.6979 - acc: 0.739 - 0s - loss: 0.7001 - acc: 0.7377 - val_loss: 1.1729 - val_acc: 0.5501\n",
      "Training accuracy: 73.77% / Best validation accuracy: 58.54%\n",
      "Train on 2951 samples, validate on 738 samples\n",
      "Epoch 1/2\n",
      "2951/2951 [==============================] - ETA: 0s - loss: 0.6112 - acc: 0.734 - ETA: 0s - loss: 0.6651 - acc: 0.744 - ETA: 0s - loss: 0.6840 - acc: 0.731 - ETA: 0s - loss: 0.6927 - acc: 0.733 - ETA: 0s - loss: 0.6962 - acc: 0.736 - 0s - loss: 0.7026 - acc: 0.7336 - val_loss: 1.1681 - val_acc: 0.5596\n",
      "Epoch 2/2\n",
      "2951/2951 [==============================] - ETA: 0s - loss: 0.7080 - acc: 0.734 - ETA: 0s - loss: 0.7169 - acc: 0.734 - ETA: 0s - loss: 0.7119 - acc: 0.733 - ETA: 0s - loss: 0.7081 - acc: 0.732 - ETA: 0s - loss: 0.6991 - acc: 0.739 - 0s - loss: 0.7025 - acc: 0.7384 - val_loss: 1.1740 - val_acc: 0.5840\n",
      "Training accuracy: 73.84% / Best validation accuracy: 58.54%\n",
      "Train on 2951 samples, validate on 738 samples\n",
      "Epoch 1/2\n",
      "2951/2951 [==============================] - ETA: 0s - loss: 0.5450 - acc: 0.796 - ETA: 0s - loss: 0.7291 - acc: 0.701 - ETA: 0s - loss: 0.6845 - acc: 0.726 - ETA: 0s - loss: 0.6831 - acc: 0.732 - ETA: 0s - loss: 0.6973 - acc: 0.730 - 0s - loss: 0.6985 - acc: 0.7306 - val_loss: 1.1997 - val_acc: 0.5569\n",
      "Epoch 2/2\n",
      "2951/2951 [==============================] - ETA: 0s - loss: 0.7188 - acc: 0.703 - ETA: 0s - loss: 0.6436 - acc: 0.740 - ETA: 0s - loss: 0.6587 - acc: 0.742 - ETA: 0s - loss: 0.6767 - acc: 0.746 - ETA: 0s - loss: 0.6844 - acc: 0.745 - 0s - loss: 0.6822 - acc: 0.7462 - val_loss: 1.1661 - val_acc: 0.5799\n",
      "Training accuracy: 74.62% / Best validation accuracy: 58.54%\n",
      "Train on 2951 samples, validate on 738 samples\n",
      "Epoch 1/2\n",
      "2951/2951 [==============================] - ETA: 0s - loss: 0.6730 - acc: 0.796 - ETA: 0s - loss: 0.6258 - acc: 0.764 - ETA: 0s - loss: 0.6563 - acc: 0.752 - ETA: 0s - loss: 0.6471 - acc: 0.757 - ETA: 0s - loss: 0.6814 - acc: 0.741 - 0s - loss: 0.6810 - acc: 0.7414 - val_loss: 1.1766 - val_acc: 0.5569\n",
      "Epoch 2/2\n",
      "2951/2951 [==============================] - ETA: 0s - loss: 0.6819 - acc: 0.781 - ETA: 0s - loss: 0.6318 - acc: 0.770 - ETA: 0s - loss: 0.6398 - acc: 0.758 - ETA: 0s - loss: 0.6522 - acc: 0.751 - ETA: 0s - loss: 0.6660 - acc: 0.748 - 0s - loss: 0.6698 - acc: 0.7455 - val_loss: 1.1729 - val_acc: 0.5772\n",
      "Training accuracy: 74.55% / Best validation accuracy: 58.54%\n",
      "Train on 2951 samples, validate on 738 samples\n",
      "Epoch 1/2\n",
      "2951/2951 [==============================] - ETA: 0s - loss: 0.6052 - acc: 0.718 - ETA: 0s - loss: 0.6463 - acc: 0.752 - ETA: 0s - loss: 0.6710 - acc: 0.743 - ETA: 0s - loss: 0.6747 - acc: 0.745 - ETA: 0s - loss: 0.6728 - acc: 0.745 - 0s - loss: 0.6745 - acc: 0.7448 - val_loss: 1.1784 - val_acc: 0.5759\n",
      "Epoch 2/2\n",
      "2951/2951 [==============================] - ETA: 0s - loss: 0.7855 - acc: 0.703 - ETA: 0s - loss: 0.6796 - acc: 0.725 - ETA: 0s - loss: 0.6496 - acc: 0.747 - ETA: 0s - loss: 0.6719 - acc: 0.740 - ETA: 0s - loss: 0.6649 - acc: 0.743 - ETA: 0s - loss: 0.6694 - acc: 0.742 - 0s - loss: 0.6698 - acc: 0.7425 - val_loss: 1.1716 - val_acc: 0.5718\n",
      "Training accuracy: 74.25% / Best validation accuracy: 58.54%\n",
      "Train on 2951 samples, validate on 738 samples\n",
      "Epoch 1/2\n",
      "2951/2951 [==============================] - ETA: 0s - loss: 0.8111 - acc: 0.656 - ETA: 0s - loss: 0.6550 - acc: 0.734 - ETA: 0s - loss: 0.6528 - acc: 0.730 - ETA: 0s - loss: 0.6243 - acc: 0.748 - ETA: 0s - loss: 0.6357 - acc: 0.746 - ETA: 0s - loss: 0.6498 - acc: 0.743 - 0s - loss: 0.6531 - acc: 0.7421 - val_loss: 1.2194 - val_acc: 0.5542\n",
      "Epoch 2/2\n",
      "2951/2951 [==============================] - ETA: 0s - loss: 0.7618 - acc: 0.703 - ETA: 0s - loss: 0.6413 - acc: 0.760 - ETA: 0s - loss: 0.6508 - acc: 0.746 - ETA: 0s - loss: 0.6548 - acc: 0.753 - ETA: 0s - loss: 0.6593 - acc: 0.748 - 0s - loss: 0.6602 - acc: 0.7472 - val_loss: 1.1800 - val_acc: 0.5596\n",
      "Training accuracy: 74.72% / Best validation accuracy: 58.54%\n",
      "Train on 2951 samples, validate on 738 samples\n",
      "Epoch 1/2\n",
      "2951/2951 [==============================] - ETA: 0s - loss: 0.7275 - acc: 0.734 - ETA: 0s - loss: 0.6803 - acc: 0.757 - ETA: 0s - loss: 0.6328 - acc: 0.758 - ETA: 0s - loss: 0.6475 - acc: 0.752 - ETA: 0s - loss: 0.6482 - acc: 0.750 - ETA: 0s - loss: 0.6411 - acc: 0.754 - 0s - loss: 0.6442 - acc: 0.7530 - val_loss: 1.1898 - val_acc: 0.5894\n",
      "Epoch 2/2\n",
      "2951/2951 [==============================] - ETA: 0s - loss: 0.5123 - acc: 0.796 - ETA: 0s - loss: 0.6574 - acc: 0.757 - ETA: 0s - loss: 0.6482 - acc: 0.764 - ETA: 0s - loss: 0.6394 - acc: 0.762 - ETA: 0s - loss: 0.6479 - acc: 0.760 - ETA: 0s - loss: 0.6482 - acc: 0.755 - 0s - loss: 0.6522 - acc: 0.7530 - val_loss: 1.1986 - val_acc: 0.5637\n",
      "Training accuracy: 75.30% / Best validation accuracy: 58.54%\n",
      "Train on 2951 samples, validate on 738 samples\n",
      "Epoch 1/2\n",
      "2951/2951 [==============================] - ETA: 0s - loss: 0.6792 - acc: 0.671 - ETA: 0s - loss: 0.7160 - acc: 0.707 - ETA: 0s - loss: 0.6960 - acc: 0.736 - ETA: 0s - loss: 0.6573 - acc: 0.749 - ETA: 0s - loss: 0.6503 - acc: 0.745 - ETA: 0s - loss: 0.6456 - acc: 0.747 - ETA: 0s - loss: 0.6529 - acc: 0.745 - 0s - loss: 0.6550 - acc: 0.7448 - val_loss: 1.2027 - val_acc: 0.5515\n",
      "Epoch 2/2\n",
      "2951/2951 [==============================] - ETA: 0s - loss: 0.5305 - acc: 0.796 - ETA: 0s - loss: 0.6655 - acc: 0.757 - ETA: 0s - loss: 0.6348 - acc: 0.752 - ETA: 0s - loss: 0.6459 - acc: 0.747 - ETA: 0s - loss: 0.6456 - acc: 0.750 - ETA: 0s - loss: 0.6506 - acc: 0.744 - 0s - loss: 0.6480 - acc: 0.7452 - val_loss: 1.1857 - val_acc: 0.6057\n",
      "Training accuracy: 74.52% / Best validation accuracy: 60.57%\n"
     ]
    },
    {
     "data": {
      "image/png": "[encoded data removed]",
      "text/plain": [
       "<matplotlib.figure.Figure at 0x1e6b8ff51d0>"
      ]
     },
     "metadata": {},
     "output_type": "display_data"
    },
    {
     "data": {
      "image/png": "[encoded data removed]",
      "text/plain": [
       "<matplotlib.figure.Figure at 0x1e6e14b44a8>"
      ]
     },
     "metadata": {},
     "output_type": "display_data"
    },
    {
     "name": "stdout",
     "output_type": "stream",
     "text": [
      "800/986 [=======================>......] - ETA:  - ETA: 0s"
     ]
    }
   ],
   "source": [
    "model = train_nn_model(model, train_set, encoded_y, filename = 'try(win2)load.h5')\n",
    "y_predict = model.predict_proba(test_set)"
   ]
  },
  {
   "cell_type": "code",
   "execution_count": 11,
   "metadata": {
    "collapsed": true
   },
   "outputs": [],
   "source": [
    "#the xgboost classfication model\n",
    "#first deal with the input label, transfrom it from 1-9 to 0-8(required by the xgboost)\n",
    "for i in range(len(train_y)):\n",
    "    train_y[i] -=1  "
   ]
  },
  {
   "cell_type": "code",
   "execution_count": 12,
   "metadata": {},
   "outputs": [
    {
     "name": "stdout",
     "output_type": "stream",
     "text": [
      "[0]\ttrain-mlogloss:2.12103\tvalid-mlogloss:2.1398\n",
      "Multiple eval metrics have been passed: 'valid-mlogloss' will be used for early stopping.\n",
      "\n",
      "Will train until valid-mlogloss hasn't improved in 100 rounds.\n",
      "[25]\ttrain-mlogloss:1.08195\tvalid-mlogloss:1.41429\n",
      "[50]\ttrain-mlogloss:0.635513\tvalid-mlogloss:1.14206\n",
      "[75]\ttrain-mlogloss:0.39622\tvalid-mlogloss:1.02263\n",
      "[100]\ttrain-mlogloss:0.266812\tvalid-mlogloss:0.9639\n",
      "[125]\ttrain-mlogloss:0.190721\tvalid-mlogloss:0.934005\n",
      "[150]\ttrain-mlogloss:0.135582\tvalid-mlogloss:0.923324\n",
      "[175]\ttrain-mlogloss:0.099365\tvalid-mlogloss:0.923035\n",
      "[200]\ttrain-mlogloss:0.075394\tvalid-mlogloss:0.92593\n",
      "[225]\ttrain-mlogloss:0.057861\tvalid-mlogloss:0.930044\n",
      "[250]\ttrain-mlogloss:0.04554\tvalid-mlogloss:0.938324\n",
      "Stopping. Best iteration:\n",
      "[171]\ttrain-mlogloss:0.104246\tvalid-mlogloss:0.922356\n",
      "\n",
      "final validation loss:\n",
      "0.922356043781\n",
      "final validation accuracy:\n",
      "0.676691729323\n"
     ]
    }
   ],
   "source": [
    "y_predict, y_predict2 = xgbclassifier(train_set, train_y, test_set, 1, 8, 1000)"
   ]
  },
  {
   "cell_type": "code",
   "execution_count": 13,
   "metadata": {
    "collapsed": true
   },
   "outputs": [],
   "source": [
    "savesubmisstion(y_predict, test_x, filename = \"submission_allwin2load.csv\")"
   ]
  },
  {
   "cell_type": "code",
   "execution_count": 14,
   "metadata": {
    "collapsed": true
   },
   "outputs": [],
   "source": [
    "savesubmisstion(y_predict, test_x, filename = \"submission_allwin2loadnolimit.csv\")"
   ]
  },
  {
   "cell_type": "code",
   "execution_count": null,
   "metadata": {
    "collapsed": true
   },
   "outputs": [],
   "source": []
  }
 ],
 "metadata": {
  "kernelspec": {
   "display_name": "Python 3",
   "language": "python",
   "name": "python3"
  },
  "language_info": {
   "codemirror_mode": {
    "name": "ipython",
    "version": 3
   },
   "file_extension": ".py",
   "mimetype": "text/x-python",
   "name": "python",
   "nbconvert_exporter": "python",
   "pygments_lexer": "ipython3",
   "version": "3.5.4"
  }
 },
 "nbformat": 4,
 "nbformat_minor": 2
}
