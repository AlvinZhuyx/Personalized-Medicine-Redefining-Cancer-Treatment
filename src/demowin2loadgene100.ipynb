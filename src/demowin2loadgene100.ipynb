{
 "cells": [
  {
   "cell_type": "code",
   "execution_count": 1,
   "metadata": {},
   "outputs": [
    {
     "name": "stderr",
     "output_type": "stream",
     "text": [
      "C:\\Users\\zhuya\\Anaconda3\\envs\\tensorflow\\lib\\site-packages\\gensim\\utils.py:862: UserWarning: detected Windows; aliasing chunkize to chunkize_serial\n",
      "  warnings.warn(\"detected Windows; aliasing chunkize to chunkize_serial\")\n",
      "Using TensorFlow backend.\n",
      "C:\\Users\\zhuya\\Anaconda3\\envs\\tensorflow\\lib\\site-packages\\sklearn\\cross_validation.py:41: DeprecationWarning: This module was deprecated in version 0.18 in favor of the model_selection module into which all the refactored classes and functions are moved. Also note that the interface of the new CV iterators are different from that of this module. This module will be removed in 0.20.\n",
      "  \"This module will be removed in 0.20.\", DeprecationWarning)\n"
     ]
    }
   ],
   "source": [
    "import os\n",
    "import re\n",
    "import tqdm\n",
    "import string\n",
    "import pandas as pd\n",
    "import numpy as np\n",
    "import util\n",
    "from sklearn.decomposition import TruncatedSVD\n",
    "from data_preprocessing import *\n",
    "import word_embedding_load as wel\n",
    "from classification import *\n",
    "from xgboost_classifier import *\n",
    "from testaccuracy import *"
   ]
  },
  {
   "cell_type": "code",
   "execution_count": 2,
   "metadata": {
    "collapsed": true
   },
   "outputs": [],
   "source": [
    "[all_data, train_size, test_size, train_x, train_y, test_x] = util.loadData()\n",
    "sentences = data_preprocess(all_data)"
   ]
  },
  {
   "cell_type": "code",
   "execution_count": 3,
   "metadata": {
    "collapsed": true
   },
   "outputs": [],
   "source": [
    "Text_INPUT_DIM=200\n",
    "GENE_INPUT_DIM=50\n",
    "TEXT_INPUT_DIM=200\n",
    "PATH = '../model/doc2vec/'\n",
    "modelName='docEmbeddings_win2_load_all.d2v'"
   ]
  },
  {
   "cell_type": "code",
   "execution_count": 4,
   "metadata": {
    "collapsed": true
   },
   "outputs": [],
   "source": [
    "param = util.Doc2VecParam(1, 2, 200, 1e-4, 5, 4, 30, 1)"
   ]
  },
  {
   "cell_type": "code",
   "execution_count": 5,
   "metadata": {
    "collapsed": true
   },
   "outputs": [],
   "source": [
    "svd = TruncatedSVD(n_components=GENE_INPUT_DIM, n_iter=25, random_state=12)"
   ]
  },
  {
   "cell_type": "code",
   "execution_count": 6,
   "metadata": {},
   "outputs": [
    {
     "name": "stdout",
     "output_type": "stream",
     "text": [
      "Successfully loaded the textmodel from ../model/doc2vec/docEmbeddings_win2_load_all.d2v\n"
     ]
    }
   ],
   "source": [
    "#load a pre-trained text model\n",
    "text_model = wel.loadTextModel(PATH + modelName)\n",
    "\n",
    "#To train a new text model, default without outside data:\n",
    "#text_model = wel.trainTextModel(sentences, param, 'newModelName', PATH)\n",
    "\n",
    "#To train a new text model with outside data:\n",
    "#sourceFile = '../data/bio_nlp_vec/PubMed-shuffle-win-30.bin'\n",
    "#text_model = wel.trainTextModel(sentences, param, 'newModelName', PATH, True, sourceFile)"
   ]
  },
  {
   "cell_type": "code",
   "execution_count": 7,
   "metadata": {
    "collapsed": true
   },
   "outputs": [],
   "source": [
    "truncated_one_hot_gene = wel.getGeneVec(all_data, svd)\n",
    "truncated_one_hot_variation = wel.getVariationVec(all_data, svd)\n",
    "text_train_arrays, text_test_arrays = wel.getTextVec(text_model, train_size, test_size, TEXT_INPUT_DIM)"
   ]
  },
  {
   "cell_type": "code",
   "execution_count": 8,
   "metadata": {},
   "outputs": [
    {
     "name": "stdout",
     "output_type": "stream",
     "text": [
      "(3689, 200)\n",
      "(986, 200)\n"
     ]
    },
    {
     "data": {
      "text/plain": [
       "array([ 1.9926796 , -0.95616704, -0.41943806,  1.05640149, -0.17750672,\n",
       "       -0.22473556, -1.14849627, -1.04512095,  0.72278821, -0.26906219,\n",
       "       -0.12173071,  0.27951074,  0.85554093,  1.4066658 , -0.66658169,\n",
       "       -3.5733881 ,  0.61995304, -2.23058319, -0.13402276,  2.12668133,\n",
       "       -0.35180882, -0.27377269,  0.54994392, -1.48118317, -1.4935751 ,\n",
       "       -1.68159318,  0.34006077,  2.6541965 , -0.45972574, -0.43201742,\n",
       "        0.3170231 , -1.63518965,  2.0632391 ,  1.46774471, -0.95080161,\n",
       "        0.16261423,  1.81780541,  0.94335526, -0.02719352,  0.66872084,\n",
       "        0.53617448,  0.2284466 ,  1.14089978, -1.53023636, -0.30838454,\n",
       "        1.86624837, -0.64276832,  0.49743181, -0.53058469,  1.06889701,\n",
       "        0.34412953,  0.14060664,  1.23631251,  0.41249499, -0.50394237,\n",
       "        0.92049599,  0.2226413 , -0.11276353, -0.56527591,  0.82244128,\n",
       "       -0.99196661, -0.42952666, -0.88652813,  0.43424979, -1.98911691,\n",
       "        1.09482539, -2.45888305,  1.73302603,  2.20067   , -0.6085186 ,\n",
       "       -1.25785565, -0.44117382,  1.98833013, -0.51232427, -1.10979819,\n",
       "       -0.54445004, -1.16707098, -1.31837153, -0.53253657,  1.59991312,\n",
       "       -0.20664276, -1.05685711,  0.31082043, -0.2043286 ,  0.77633107,\n",
       "        0.85860324, -2.03887677,  1.49911261, -0.39974245,  0.91128081,\n",
       "        1.13125467, -2.09005117, -0.41554201, -1.55264652,  0.44138581,\n",
       "        0.49449065, -2.13298559,  2.20955014,  0.95500571,  0.41129953,\n",
       "       -0.87113571,  0.98770237,  0.38444752,  0.63010305,  1.8368659 ,\n",
       "       -0.14130785, -0.32579213,  0.86784047,  1.06677532,  0.67403376,\n",
       "       -1.06961429, -1.40743053,  1.35656881,  1.58909762, -1.9294008 ,\n",
       "        0.939282  ,  0.39813891, -1.23754907,  2.85993528,  0.95143169,\n",
       "       -0.82528299, -0.78427643, -1.12611341, -1.30386949, -0.7302534 ,\n",
       "       -2.40704179, -1.25131738, -2.22095847, -0.61212695,  2.46631312,\n",
       "       -1.45429885,  0.024306  ,  1.18339205, -0.09788334, -0.23530199,\n",
       "       -0.14920838,  0.45473397, -1.07566762, -0.2484591 , -0.61140323,\n",
       "        2.3258121 , -0.68689275,  1.68472815,  1.7551837 ,  0.01643275,\n",
       "        1.61395371, -0.65283042,  1.57991278,  1.2904892 , -1.71622753,\n",
       "        0.6634233 ,  0.58639234, -1.34056306,  0.28264776, -2.64078593,\n",
       "        0.66478187, -1.04393971, -0.69477886,  0.55568027,  1.07313037,\n",
       "        1.97054124, -0.79388338,  0.30255207,  1.81174207,  0.62831497,\n",
       "       -0.39802322,  1.16715777, -0.69539362, -0.1725876 , -0.4010261 ,\n",
       "       -1.53010333,  1.78115654,  0.45922974, -1.49840677, -0.73476058,\n",
       "       -1.40930474, -1.35155988, -0.66272843, -1.22934783, -0.63275701,\n",
       "        1.06155419,  1.50083339,  0.0615571 ,  0.4066731 , -0.32978195,\n",
       "        0.70330983,  1.51849055,  1.75434244,  1.91263461,  1.88655174,\n",
       "       -0.2432631 , -0.86476576,  3.33272672, -0.36880228,  1.19287694,\n",
       "       -1.752213  , -1.39517832, -2.54406714, -0.45961851,  0.53956795])"
      ]
     },
     "execution_count": 8,
     "metadata": {},
     "output_type": "execute_result"
    }
   ],
   "source": [
    "print(text_train_arrays.shape)\n",
    "print(text_test_arrays.shape)\n",
    "text_train_arrays[0]"
   ]
  },
  {
   "cell_type": "code",
   "execution_count": 9,
   "metadata": {},
   "outputs": [
    {
     "name": "stdout",
     "output_type": "stream",
     "text": [
      "(3689, 9)\n"
     ]
    }
   ],
   "source": [
    "train_set = np.hstack((truncated_one_hot_gene[:train_size], truncated_one_hot_variation[:train_size], text_train_arrays))\n",
    "test_set = np.hstack((truncated_one_hot_gene[train_size:], truncated_one_hot_variation[train_size:], text_test_arrays))\n",
    "encoded_y = pd.get_dummies(train_y)\n",
    "encoded_y = np.array(encoded_y)\n",
    "print(encoded_y.shape)"
   ]
  },
  {
   "cell_type": "code",
   "execution_count": 10,
   "metadata": {},
   "outputs": [
    {
     "name": "stdout",
     "output_type": "stream",
     "text": [
      "(3689, 300)\n",
      "(986, 300)\n"
     ]
    },
    {
     "data": {
      "text/plain": [
       "array([ -2.54895630e-23,   5.88010267e-23,   2.81650348e-21,\n",
       "         1.04493651e-20,  -1.60715583e-20,   1.24434412e-19,\n",
       "         6.60616769e-20,  -5.26539765e-20,  -3.85386446e-20,\n",
       "         2.52483776e-20,   1.39661431e-20,   8.50140906e-20,\n",
       "         3.79913131e-22,  -4.83528457e-23,  -4.21427623e-21,\n",
       "         4.14869235e-22,  -8.26349734e-21,  -3.16981263e-21,\n",
       "        -5.90581183e-21,   9.49572313e-22,  -3.37592662e-22,\n",
       "         5.28774098e-22,  -2.67761091e-22,   4.69345218e-23,\n",
       "        -1.12498628e-22])"
      ]
     },
     "execution_count": 10,
     "metadata": {},
     "output_type": "execute_result"
    }
   ],
   "source": [
    "print(train_set.shape)\n",
    "print(test_set.shape)\n",
    "train_set[0, 25:50]"
   ]
  },
  {
   "cell_type": "code",
   "execution_count": 11,
   "metadata": {},
   "outputs": [
    {
     "name": "stderr",
     "output_type": "stream",
     "text": [
      "C:\\Users\\zhuya\\Desktop\\semester 1\\249 data structure\\project\\src\\src\\classification.py:28: UserWarning: Update your `Dense` call to the Keras 2 API: `Dense(256, activation=\"relu\", input_dim=300, kernel_initializer=\"normal\")`\n",
      "  model.add(Dense(256, input_dim=Text_INPUT_DIM+ Gene_INPUT_DIM + Variation_INPUT_DIM, init='normal', activation='relu'))\n",
      "C:\\Users\\zhuya\\Desktop\\semester 1\\249 data structure\\project\\src\\src\\classification.py:30: UserWarning: Update your `Dense` call to the Keras 2 API: `Dense(256, activation=\"relu\", kernel_initializer=\"normal\")`\n",
      "  model.add(Dense(256, init='normal', activation='relu'))\n",
      "C:\\Users\\zhuya\\Desktop\\semester 1\\249 data structure\\project\\src\\src\\classification.py:32: UserWarning: Update your `Dense` call to the Keras 2 API: `Dense(80, activation=\"relu\", kernel_initializer=\"normal\")`\n",
      "  model.add(Dense(80, init='normal', activation='relu'))\n",
      "C:\\Users\\zhuya\\Desktop\\semester 1\\249 data structure\\project\\src\\src\\classification.py:33: UserWarning: Update your `Dense` call to the Keras 2 API: `Dense(9, activation=\"softmax\", kernel_initializer=\"normal\")`\n",
      "  model.add(Dense(9, init='normal', activation=\"softmax\"))\n"
     ]
    },
    {
     "name": "stdout",
     "output_type": "stream",
     "text": [
      "_________________________________________________________________\n",
      "Layer (type)                 Output Shape              Param #   \n",
      "=================================================================\n",
      "dense_1 (Dense)              (None, 256)               77056     \n",
      "_________________________________________________________________\n",
      "dropout_1 (Dropout)          (None, 256)               0         \n",
      "_________________________________________________________________\n",
      "dense_2 (Dense)              (None, 256)               65792     \n",
      "_________________________________________________________________\n",
      "dropout_2 (Dropout)          (None, 256)               0         \n",
      "_________________________________________________________________\n",
      "dense_3 (Dense)              (None, 80)                20560     \n",
      "_________________________________________________________________\n",
      "dense_4 (Dense)              (None, 9)                 729       \n",
      "=================================================================\n",
      "Total params: 164,137\n",
      "Trainable params: 164,137\n",
      "Non-trainable params: 0\n",
      "_________________________________________________________________\n"
     ]
    }
   ],
   "source": [
    "# this is the 4 layer full-connected nerual network model\n",
    "model = nn_baseline_model(TEXT_INPUT_DIM, GENE_INPUT_DIM, GENE_INPUT_DIM)\n",
    "model.summary()"
   ]
  },
  {
   "cell_type": "code",
   "execution_count": 13,
   "metadata": {},
   "outputs": [
    {
     "name": "stdout",
     "output_type": "stream",
     "text": [
      "begin training\n",
      "\n",
      "Train on 2951 samples, validate on 738 samples\n",
      "Epoch 1/2\n",
      "2951/2951 [==============================] - ETA: 16s - loss: 2.1999 - acc: 0.10 - ETA: 1s - loss: 2.1646 - acc: 0.1594 - ETA: 0s - loss: 2.1112 - acc: 0.202 - ETA: 0s - loss: 2.0673 - acc: 0.217 - ETA: 0s - loss: 2.0267 - acc: 0.236 - 0s - loss: 1.9860 - acc: 0.2542 - val_loss: 1.6948 - val_acc: 0.3753\n",
      "Epoch 2/2\n",
      "2951/2951 [==============================] - ETA: 0s - loss: 1.7520 - acc: 0.359 - ETA: 0s - loss: 1.7900 - acc: 0.349 - ETA: 0s - loss: 1.7780 - acc: 0.358 - ETA: 0s - loss: 1.7656 - acc: 0.365 - ETA: 0s - loss: 1.7196 - acc: 0.380 - 0s - loss: 1.7109 - acc: 0.3846 - val_loss: 1.4492 - val_acc: 0.4743\n",
      "Training accuracy: 38.46% / Best validation accuracy: 47.43%\n",
      "Train on 2951 samples, validate on 738 samples\n",
      "Epoch 1/2\n",
      "2951/2951 [==============================] - ETA: 0s - loss: 1.5208 - acc: 0.421 - ETA: 0s - loss: 1.4792 - acc: 0.451 - ETA: 0s - loss: 1.4906 - acc: 0.468 - ETA: 0s - loss: 1.4921 - acc: 0.461 - ETA: 0s - loss: 1.4846 - acc: 0.464 - ETA: 0s - loss: 1.4778 - acc: 0.464 - 0s - loss: 1.4707 - acc: 0.4680 - val_loss: 1.3364 - val_acc: 0.4878\n",
      "Epoch 2/2\n",
      "2951/2951 [==============================] - ETA: 0s - loss: 1.4301 - acc: 0.468 - ETA: 0s - loss: 1.3677 - acc: 0.486 - ETA: 0s - loss: 1.3612 - acc: 0.493 - ETA: 0s - loss: 1.3393 - acc: 0.502 - ETA: 0s - loss: 1.3358 - acc: 0.512 - ETA: 0s - loss: 1.3247 - acc: 0.517 - 0s - loss: 1.3244 - acc: 0.5178 - val_loss: 1.2904 - val_acc: 0.5136\n",
      "Training accuracy: 51.78% / Best validation accuracy: 51.36%\n",
      "Train on 2951 samples, validate on 738 samples\n",
      "Epoch 1/2\n",
      "2951/2951 [==============================] - ETA: 0s - loss: 1.2647 - acc: 0.515 - ETA: 0s - loss: 1.3389 - acc: 0.484 - ETA: 0s - loss: 1.3323 - acc: 0.503 - ETA: 0s - loss: 1.2972 - acc: 0.522 - ETA: 0s - loss: 1.2613 - acc: 0.537 - ETA: 0s - loss: 1.2593 - acc: 0.541 - 0s - loss: 1.2572 - acc: 0.5378 - val_loss: 1.2727 - val_acc: 0.5054\n",
      "Epoch 2/2\n",
      "2951/2951 [==============================] - ETA: 0s - loss: 1.1721 - acc: 0.546 - ETA: 0s - loss: 1.1618 - acc: 0.559 - ETA: 0s - loss: 1.2095 - acc: 0.559 - ETA: 0s - loss: 1.2016 - acc: 0.554 - ETA: 0s - loss: 1.1966 - acc: 0.555 - ETA: 0s - loss: 1.1953 - acc: 0.558 - 0s - loss: 1.1971 - acc: 0.5588 - val_loss: 1.2291 - val_acc: 0.5583\n",
      "Training accuracy: 55.88% / Best validation accuracy: 55.83%\n",
      "Train on 2951 samples, validate on 738 samples\n",
      "Epoch 1/2\n",
      "2951/2951 [==============================] - ETA: 0s - loss: 1.0154 - acc: 0.609 - ETA: 0s - loss: 1.1346 - acc: 0.578 - ETA: 0s - loss: 1.1648 - acc: 0.563 - ETA: 0s - loss: 1.1573 - acc: 0.567 - ETA: 0s - loss: 1.1334 - acc: 0.576 - ETA: 0s - loss: 1.1562 - acc: 0.567 - 0s - loss: 1.1602 - acc: 0.5673 - val_loss: 1.2207 - val_acc: 0.5623\n",
      "Epoch 2/2\n",
      "2951/2951 [==============================] - ETA: 0s - loss: 1.0835 - acc: 0.546 - ETA: 0s - loss: 1.1222 - acc: 0.548 - ETA: 0s - loss: 1.1536 - acc: 0.554 - ETA: 0s - loss: 1.1442 - acc: 0.564 - ETA: 0s - loss: 1.1255 - acc: 0.574 - ETA: 0s - loss: 1.1273 - acc: 0.574 - ETA: 0s - loss: 1.1345 - acc: 0.574 - 0s - loss: 1.1337 - acc: 0.5747 - val_loss: 1.2467 - val_acc: 0.5230\n",
      "Training accuracy: 57.47% / Best validation accuracy: 55.83%\n",
      "Train on 2951 samples, validate on 738 samples\n",
      "Epoch 1/2\n",
      "2951/2951 [==============================] - ETA: 0s - loss: 1.1579 - acc: 0.546 - ETA: 0s - loss: 1.1355 - acc: 0.566 - ETA: 0s - loss: 1.1140 - acc: 0.584 - ETA: 0s - loss: 1.1022 - acc: 0.590 - ETA: 0s - loss: 1.1006 - acc: 0.586 - ETA: 0s - loss: 1.0968 - acc: 0.588 - 0s - loss: 1.0968 - acc: 0.5886 - val_loss: 1.2072 - val_acc: 0.5488\n",
      "Epoch 2/2\n",
      "2951/2951 [==============================] - ETA: 0s - loss: 1.1346 - acc: 0.515 - ETA: 0s - loss: 1.0412 - acc: 0.605 - ETA: 0s - loss: 1.0824 - acc: 0.605 - ETA: 0s - loss: 1.0651 - acc: 0.608 - ETA: 0s - loss: 1.0680 - acc: 0.603 - ETA: 0s - loss: 1.0692 - acc: 0.600 - 0s - loss: 1.0701 - acc: 0.6001 - val_loss: 1.2052 - val_acc: 0.5393\n",
      "Training accuracy: 60.01% / Best validation accuracy: 55.83%\n",
      "Train on 2951 samples, validate on 738 samples\n",
      "Epoch 1/2\n",
      "2951/2951 [==============================] - ETA: 0s - loss: 1.1758 - acc: 0.546 - ETA: 0s - loss: 1.0126 - acc: 0.598 - ETA: 0s - loss: 1.0094 - acc: 0.614 - ETA: 0s - loss: 1.0188 - acc: 0.622 - ETA: 0s - loss: 1.0029 - acc: 0.630 - ETA: 0s - loss: 1.0298 - acc: 0.621 - 0s - loss: 1.0412 - acc: 0.6184 - val_loss: 1.2312 - val_acc: 0.4892\n",
      "Epoch 2/2\n",
      "2951/2951 [==============================] - ETA: 0s - loss: 1.0457 - acc: 0.656 - ETA: 0s - loss: 0.9550 - acc: 0.670 - ETA: 0s - loss: 0.9848 - acc: 0.640 - ETA: 0s - loss: 0.9905 - acc: 0.639 - ETA: 0s - loss: 1.0055 - acc: 0.626 - ETA: 0s - loss: 1.0191 - acc: 0.620 - 0s - loss: 1.0165 - acc: 0.6239 - val_loss: 1.2070 - val_acc: 0.5501\n",
      "Training accuracy: 62.39% / Best validation accuracy: 55.83%\n",
      "Train on 2951 samples, validate on 738 samples\n",
      "Epoch 1/2\n",
      "2951/2951 [==============================] - ETA: 0s - loss: 0.9248 - acc: 0.718 - ETA: 0s - loss: 1.0089 - acc: 0.631 - ETA: 0s - loss: 1.0075 - acc: 0.612 - ETA: 0s - loss: 1.0059 - acc: 0.630 - ETA: 0s - loss: 1.0041 - acc: 0.626 - ETA: 0s - loss: 1.0129 - acc: 0.621 - ETA: 0s - loss: 1.0013 - acc: 0.624 - ETA: 0s - loss: 1.0062 - acc: 0.624 - 0s - loss: 1.0045 - acc: 0.6256 - val_loss: 1.2205 - val_acc: 0.5447\n",
      "Epoch 2/2\n",
      "2951/2951 [==============================] - ETA: 0s - loss: 0.9995 - acc: 0.640 - ETA: 0s - loss: 0.9720 - acc: 0.635 - ETA: 0s - loss: 0.9826 - acc: 0.631 - ETA: 0s - loss: 0.9684 - acc: 0.639 - ETA: 0s - loss: 0.9634 - acc: 0.645 - ETA: 0s - loss: 0.9697 - acc: 0.640 - ETA: 0s - loss: 0.9795 - acc: 0.638 - 0s - loss: 0.9782 - acc: 0.6394 - val_loss: 1.2188 - val_acc: 0.5352\n",
      "Training accuracy: 63.94% / Best validation accuracy: 55.83%\n",
      "Train on 2951 samples, validate on 738 samples\n",
      "Epoch 1/2\n",
      "2951/2951 [==============================] - ETA: 0s - loss: 0.9655 - acc: 0.734 - ETA: 0s - loss: 1.0324 - acc: 0.627 - ETA: 0s - loss: 1.0184 - acc: 0.633 - ETA: 0s - loss: 0.9629 - acc: 0.639 - ETA: 0s - loss: 0.9737 - acc: 0.637 - ETA: 0s - loss: 0.9709 - acc: 0.646 - ETA: 0s - loss: 0.9651 - acc: 0.646 - ETA: 0s - loss: 0.9703 - acc: 0.642 - 0s - loss: 0.9692 - acc: 0.6425 - val_loss: 1.2050 - val_acc: 0.5528\n",
      "Epoch 2/2\n",
      "2951/2951 [==============================] - ETA: 0s - loss: 0.9219 - acc: 0.609 - ETA: 0s - loss: 0.9044 - acc: 0.645 - ETA: 0s - loss: 0.9439 - acc: 0.646 - ETA: 0s - loss: 0.9343 - acc: 0.639 - ETA: 0s - loss: 0.9384 - acc: 0.642 - ETA: 0s - loss: 0.9480 - acc: 0.637 - ETA: 0s - loss: 0.9561 - acc: 0.636 - 0s - loss: 0.9569 - acc: 0.6388 - val_loss: 1.1976 - val_acc: 0.5745\n",
      "Training accuracy: 63.88% / Best validation accuracy: 57.45%\n",
      "Train on 2951 samples, validate on 738 samples\n",
      "Epoch 1/2\n",
      "2951/2951 [==============================] - ETA: 0s - loss: 0.8371 - acc: 0.687 - ETA: 0s - loss: 1.0049 - acc: 0.643 - ETA: 0s - loss: 0.9736 - acc: 0.650 - ETA: 0s - loss: 0.9486 - acc: 0.655 - ETA: 0s - loss: 0.9455 - acc: 0.654 - 0s - loss: 0.9374 - acc: 0.6520 - val_loss: 1.2119 - val_acc: 0.5434\n",
      "Epoch 2/2\n",
      "2951/2951 [==============================] - ETA: 0s - loss: 0.9378 - acc: 0.625 - ETA: 0s - loss: 0.9457 - acc: 0.632 - ETA: 0s - loss: 0.9351 - acc: 0.651 - ETA: 0s - loss: 0.9444 - acc: 0.647 - ETA: 0s - loss: 0.9321 - acc: 0.647 - ETA: 0s - loss: 0.9313 - acc: 0.651 - 0s - loss: 0.9324 - acc: 0.6523 - val_loss: 1.2144 - val_acc: 0.5461\n",
      "Training accuracy: 65.23% / Best validation accuracy: 57.45%\n",
      "Train on 2951 samples, validate on 738 samples\n",
      "Epoch 1/2\n",
      "2951/2951 [==============================] - ETA: 0s - loss: 0.8876 - acc: 0.750 - ETA: 0s - loss: 0.8971 - acc: 0.661 - ETA: 0s - loss: 0.9107 - acc: 0.671 - ETA: 0s - loss: 0.9281 - acc: 0.660 - ETA: 0s - loss: 0.9213 - acc: 0.665 - 0s - loss: 0.9230 - acc: 0.6601 - val_loss: 1.2053 - val_acc: 0.5230\n",
      "Epoch 2/2\n",
      "2951/2951 [==============================] - ETA: 0s - loss: 0.8564 - acc: 0.625 - ETA: 0s - loss: 0.9331 - acc: 0.645 - ETA: 0s - loss: 0.9434 - acc: 0.652 - ETA: 0s - loss: 0.9141 - acc: 0.669 - ETA: 0s - loss: 0.9103 - acc: 0.668 - ETA: 0s - loss: 0.9025 - acc: 0.669 - 0s - loss: 0.9052 - acc: 0.6672 - val_loss: 1.2124 - val_acc: 0.5014\n"
     ]
    },
    {
     "name": "stdout",
     "output_type": "stream",
     "text": [
      "Training accuracy: 66.72% / Best validation accuracy: 57.45%\n",
      "Train on 2951 samples, validate on 738 samples\n",
      "Epoch 1/2\n",
      "2951/2951 [==============================] - ETA: 0s - loss: 0.8607 - acc: 0.687 - ETA: 0s - loss: 0.8889 - acc: 0.675 - ETA: 0s - loss: 0.9015 - acc: 0.666 - ETA: 0s - loss: 0.9036 - acc: 0.664 - ETA: 0s - loss: 0.9123 - acc: 0.660 - 0s - loss: 0.9095 - acc: 0.6621 - val_loss: 1.2072 - val_acc: 0.5203\n",
      "Epoch 2/2\n",
      "2951/2951 [==============================] - ETA: 0s - loss: 0.8960 - acc: 0.640 - ETA: 0s - loss: 0.8897 - acc: 0.649 - ETA: 0s - loss: 0.8904 - acc: 0.662 - ETA: 0s - loss: 0.8831 - acc: 0.664 - ETA: 0s - loss: 0.8867 - acc: 0.668 - 0s - loss: 0.8904 - acc: 0.6686 - val_loss: 1.1849 - val_acc: 0.5691\n",
      "Training accuracy: 66.86% / Best validation accuracy: 57.45%\n",
      "Train on 2951 samples, validate on 738 samples\n",
      "Epoch 1/2\n",
      "2951/2951 [==============================] - ETA: 0s - loss: 0.7319 - acc: 0.734 - ETA: 0s - loss: 0.8502 - acc: 0.681 - ETA: 0s - loss: 0.8460 - acc: 0.685 - ETA: 0s - loss: 0.8745 - acc: 0.676 - ETA: 0s - loss: 0.8732 - acc: 0.675 - 0s - loss: 0.8810 - acc: 0.6699 - val_loss: 1.1928 - val_acc: 0.5786\n",
      "Epoch 2/2\n",
      "2951/2951 [==============================] - ETA: 0s - loss: 0.5794 - acc: 0.796 - ETA: 0s - loss: 0.8495 - acc: 0.699 - ETA: 0s - loss: 0.8624 - acc: 0.690 - ETA: 0s - loss: 0.8688 - acc: 0.690 - ETA: 0s - loss: 0.8714 - acc: 0.679 - 0s - loss: 0.8675 - acc: 0.6791 - val_loss: 1.1943 - val_acc: 0.5610\n",
      "Training accuracy: 67.91% / Best validation accuracy: 57.45%\n",
      "Train on 2951 samples, validate on 738 samples\n",
      "Epoch 1/2\n",
      "2951/2951 [==============================] - ETA: 0s - loss: 1.0008 - acc: 0.609 - ETA: 0s - loss: 0.9225 - acc: 0.651 - ETA: 0s - loss: 0.9187 - acc: 0.652 - ETA: 0s - loss: 0.8894 - acc: 0.663 - ETA: 0s - loss: 0.8754 - acc: 0.675 - ETA: 0s - loss: 0.8600 - acc: 0.679 - 0s - loss: 0.8538 - acc: 0.6808 - val_loss: 1.2172 - val_acc: 0.5569\n",
      "Epoch 2/2\n",
      "2951/2951 [==============================] - ETA: 0s - loss: 0.8058 - acc: 0.718 - ETA: 0s - loss: 0.8250 - acc: 0.692 - ETA: 0s - loss: 0.8412 - acc: 0.678 - ETA: 0s - loss: 0.8542 - acc: 0.665 - ETA: 0s - loss: 0.8456 - acc: 0.677 - 0s - loss: 0.8481 - acc: 0.6764 - val_loss: 1.1947 - val_acc: 0.5799\n",
      "Training accuracy: 67.64% / Best validation accuracy: 57.99%\n",
      "Train on 2951 samples, validate on 738 samples\n",
      "Epoch 1/2\n",
      "2951/2951 [==============================] - ETA: 0s - loss: 0.8649 - acc: 0.640 - ETA: 0s - loss: 0.8774 - acc: 0.677 - ETA: 0s - loss: 0.8447 - acc: 0.683 - ETA: 0s - loss: 0.8596 - acc: 0.675 - ETA: 0s - loss: 0.8537 - acc: 0.680 - 0s - loss: 0.8515 - acc: 0.6832 - val_loss: 1.1957 - val_acc: 0.5352\n",
      "Epoch 2/2\n",
      "2951/2951 [==============================] - ETA: 0s - loss: 0.7948 - acc: 0.640 - ETA: 0s - loss: 0.8303 - acc: 0.665 - ETA: 0s - loss: 0.8391 - acc: 0.680 - ETA: 0s - loss: 0.8206 - acc: 0.692 - ETA: 0s - loss: 0.8222 - acc: 0.688 - 0s - loss: 0.8179 - acc: 0.6903 - val_loss: 1.2101 - val_acc: 0.5312\n",
      "Training accuracy: 69.03% / Best validation accuracy: 57.99%\n",
      "Train on 2951 samples, validate on 738 samples\n",
      "Epoch 1/2\n",
      "2951/2951 [==============================] - ETA: 0s - loss: 0.8707 - acc: 0.656 - ETA: 0s - loss: 0.7877 - acc: 0.703 - ETA: 0s - loss: 0.7763 - acc: 0.707 - ETA: 0s - loss: 0.7966 - acc: 0.693 - ETA: 0s - loss: 0.7960 - acc: 0.690 - ETA: 0s - loss: 0.8083 - acc: 0.687 - 0s - loss: 0.8180 - acc: 0.6869 - val_loss: 1.1938 - val_acc: 0.5569\n",
      "Epoch 2/2\n",
      "2951/2951 [==============================] - ETA: 0s - loss: 0.7549 - acc: 0.703 - ETA: 0s - loss: 0.8235 - acc: 0.699 - ETA: 0s - loss: 0.8336 - acc: 0.693 - ETA: 0s - loss: 0.8302 - acc: 0.689 - ETA: 0s - loss: 0.8210 - acc: 0.696 - ETA: 0s - loss: 0.8221 - acc: 0.697 - 0s - loss: 0.8165 - acc: 0.6991 - val_loss: 1.1903 - val_acc: 0.5637\n",
      "Training accuracy: 69.91% / Best validation accuracy: 57.99%\n",
      "Train on 2951 samples, validate on 738 samples\n",
      "Epoch 1/2\n",
      "2951/2951 [==============================] - ETA: 0s - loss: 0.7188 - acc: 0.734 - ETA: 0s - loss: 0.8263 - acc: 0.698 - ETA: 0s - loss: 0.7969 - acc: 0.702 - ETA: 0s - loss: 0.8042 - acc: 0.694 - ETA: 0s - loss: 0.8021 - acc: 0.701 - ETA: 0s - loss: 0.8080 - acc: 0.695 - 0s - loss: 0.8080 - acc: 0.6954 - val_loss: 1.2044 - val_acc: 0.5298\n",
      "Epoch 2/2\n",
      "2951/2951 [==============================] - ETA: 0s - loss: 0.6550 - acc: 0.750 - ETA: 0s - loss: 0.7837 - acc: 0.707 - ETA: 0s - loss: 0.7906 - acc: 0.700 - ETA: 0s - loss: 0.7977 - acc: 0.701 - ETA: 0s - loss: 0.8094 - acc: 0.695 - 0s - loss: 0.8021 - acc: 0.7011 - val_loss: 1.2055 - val_acc: 0.5623\n",
      "Training accuracy: 70.11% / Best validation accuracy: 57.99%\n",
      "Train on 2951 samples, validate on 738 samples\n",
      "Epoch 1/2\n",
      "2951/2951 [==============================] - ETA: 0s - loss: 1.0398 - acc: 0.593 - ETA: 0s - loss: 0.7524 - acc: 0.721 - ETA: 0s - loss: 0.7536 - acc: 0.714 - ETA: 0s - loss: 0.7651 - acc: 0.709 - ETA: 0s - loss: 0.7839 - acc: 0.704 - ETA: 0s - loss: 0.7835 - acc: 0.703 - 0s - loss: 0.7865 - acc: 0.7035 - val_loss: 1.2084 - val_acc: 0.5285\n",
      "Epoch 2/2\n",
      "2951/2951 [==============================] - ETA: 0s - loss: 0.8410 - acc: 0.656 - ETA: 0s - loss: 0.7982 - acc: 0.692 - ETA: 0s - loss: 0.7887 - acc: 0.693 - ETA: 0s - loss: 0.7778 - acc: 0.700 - ETA: 0s - loss: 0.7741 - acc: 0.699 - ETA: 0s - loss: 0.7804 - acc: 0.697 - ETA: 0s - loss: 0.7873 - acc: 0.690 - 0s - loss: 0.7879 - acc: 0.6903 - val_loss: 1.1931 - val_acc: 0.5786\n",
      "Training accuracy: 69.03% / Best validation accuracy: 57.99%\n",
      "Train on 2951 samples, validate on 738 samples\n",
      "Epoch 1/2\n",
      "2951/2951 [==============================] - ETA: 0s - loss: 0.7263 - acc: 0.703 - ETA: 0s - loss: 0.7521 - acc: 0.716 - ETA: 0s - loss: 0.7743 - acc: 0.713 - ETA: 0s - loss: 0.7475 - acc: 0.724 - ETA: 0s - loss: 0.7412 - acc: 0.728 - ETA: 0s - loss: 0.7544 - acc: 0.718 - ETA: 0s - loss: 0.7545 - acc: 0.717 - 0s - loss: 0.7587 - acc: 0.7154 - val_loss: 1.1958 - val_acc: 0.5623\n",
      "Epoch 2/2\n",
      "2951/2951 [==============================] - ETA: 0s - loss: 0.8517 - acc: 0.640 - ETA: 0s - loss: 0.7766 - acc: 0.712 - ETA: 0s - loss: 0.7687 - acc: 0.710 - ETA: 0s - loss: 0.7618 - acc: 0.716 - ETA: 0s - loss: 0.7658 - acc: 0.715 - ETA: 0s - loss: 0.7669 - acc: 0.711 - 0s - loss: 0.7714 - acc: 0.7099 - val_loss: 1.1998 - val_acc: 0.5528\n",
      "Training accuracy: 70.99% / Best validation accuracy: 57.99%\n",
      "Train on 2951 samples, validate on 738 samples\n",
      "Epoch 1/2\n",
      "2951/2951 [==============================] - ETA: 0s - loss: 0.7679 - acc: 0.656 - ETA: 0s - loss: 0.7962 - acc: 0.709 - ETA: 0s - loss: 0.7894 - acc: 0.703 - ETA: 0s - loss: 0.7692 - acc: 0.706 - ETA: 0s - loss: 0.7579 - acc: 0.712 - ETA: 0s - loss: 0.7598 - acc: 0.712 - ETA: 0s - loss: 0.7574 - acc: 0.711 - 0s - loss: 0.7576 - acc: 0.7126 - val_loss: 1.2058 - val_acc: 0.5501\n",
      "Epoch 2/2\n",
      "2951/2951 [==============================] - ETA: 0s - loss: 0.8255 - acc: 0.703 - ETA: 0s - loss: 0.7314 - acc: 0.712 - ETA: 0s - loss: 0.7488 - acc: 0.714 - ETA: 0s - loss: 0.7508 - acc: 0.706 - ETA: 0s - loss: 0.7644 - acc: 0.701 - ETA: 0s - loss: 0.7498 - acc: 0.709 - ETA: 0s - loss: 0.7513 - acc: 0.713 - 0s - loss: 0.7531 - acc: 0.7133 - val_loss: 1.2018 - val_acc: 0.5745\n",
      "Training accuracy: 71.33% / Best validation accuracy: 57.99%\n",
      "Train on 2951 samples, validate on 738 samples\n",
      "Epoch 1/2\n",
      "2951/2951 [==============================] - ETA: 0s - loss: 0.8622 - acc: 0.656 - ETA: 0s - loss: 0.7824 - acc: 0.703 - ETA: 0s - loss: 0.7531 - acc: 0.713 - ETA: 0s - loss: 0.7659 - acc: 0.712 - ETA: 0s - loss: 0.7624 - acc: 0.711 - ETA: 0s - loss: 0.7574 - acc: 0.711 - 0s - loss: 0.7579 - acc: 0.7089 - val_loss: 1.2018 - val_acc: 0.5637\n",
      "Epoch 2/2\n",
      "2951/2951 [==============================] - ETA: 0s - loss: 0.6330 - acc: 0.765 - ETA: 0s - loss: 0.7479 - acc: 0.700 - ETA: 0s - loss: 0.7384 - acc: 0.709 - ETA: 0s - loss: 0.7432 - acc: 0.714 - ETA: 0s - loss: 0.7505 - acc: 0.713 - ETA: 0s - loss: 0.7423 - acc: 0.720 - ETA: 0s - loss: 0.7487 - acc: 0.720 - 0s - loss: 0.7524 - acc: 0.7187 - val_loss: 1.2075 - val_acc: 0.5732\n",
      "Training accuracy: 71.87% / Best validation accuracy: 57.99%\n",
      "Train on 2951 samples, validate on 738 samples\n",
      "Epoch 1/2\n"
     ]
    },
    {
     "name": "stdout",
     "output_type": "stream",
     "text": [
      "2951/2951 [==============================] - ETA: 0s - loss: 0.6813 - acc: 0.656 - ETA: 0s - loss: 0.8354 - acc: 0.666 - ETA: 0s - loss: 0.7640 - acc: 0.696 - ETA: 0s - loss: 0.7468 - acc: 0.703 - ETA: 0s - loss: 0.7604 - acc: 0.698 - ETA: 0s - loss: 0.7530 - acc: 0.702 - 0s - loss: 0.7518 - acc: 0.7055 - val_loss: 1.1970 - val_acc: 0.5718\n",
      "Epoch 2/2\n",
      "2951/2951 [==============================] - ETA: 0s - loss: 0.7118 - acc: 0.750 - ETA: 0s - loss: 0.7177 - acc: 0.732 - ETA: 0s - loss: 0.7281 - acc: 0.744 - ETA: 0s - loss: 0.7320 - acc: 0.734 - ETA: 0s - loss: 0.7333 - acc: 0.733 - 0s - loss: 0.7368 - acc: 0.7323 - val_loss: 1.2021 - val_acc: 0.5691\n",
      "Training accuracy: 73.23% / Best validation accuracy: 57.99%\n",
      "Train on 2951 samples, validate on 738 samples\n",
      "Epoch 1/2\n",
      "2951/2951 [==============================] - ETA: 0s - loss: 0.6412 - acc: 0.765 - ETA: 0s - loss: 0.7205 - acc: 0.712 - ETA: 0s - loss: 0.7313 - acc: 0.706 - ETA: 0s - loss: 0.7218 - acc: 0.721 - ETA: 0s - loss: 0.7277 - acc: 0.720 - 0s - loss: 0.7274 - acc: 0.7208 - val_loss: 1.2076 - val_acc: 0.5705\n",
      "Epoch 2/2\n",
      "2951/2951 [==============================] - ETA: 0s - loss: 0.7373 - acc: 0.703 - ETA: 0s - loss: 0.7035 - acc: 0.743 - ETA: 0s - loss: 0.7012 - acc: 0.744 - ETA: 0s - loss: 0.7084 - acc: 0.742 - ETA: 0s - loss: 0.7108 - acc: 0.737 - ETA: 0s - loss: 0.7146 - acc: 0.735 - 0s - loss: 0.7198 - acc: 0.7343 - val_loss: 1.2030 - val_acc: 0.5705\n",
      "Training accuracy: 73.43% / Best validation accuracy: 57.99%\n",
      "Train on 2951 samples, validate on 738 samples\n",
      "Epoch 1/2\n",
      "2951/2951 [==============================] - ETA: 0s - loss: 0.8458 - acc: 0.687 - ETA: 0s - loss: 0.7240 - acc: 0.721 - ETA: 0s - loss: 0.7153 - acc: 0.714 - ETA: 0s - loss: 0.7120 - acc: 0.714 - ETA: 0s - loss: 0.7205 - acc: 0.719 - ETA: 0s - loss: 0.7121 - acc: 0.722 - 0s - loss: 0.7109 - acc: 0.7218 - val_loss: 1.2110 - val_acc: 0.5772\n",
      "Epoch 2/2\n",
      "2951/2951 [==============================] - ETA: 0s - loss: 0.7835 - acc: 0.718 - ETA: 0s - loss: 0.7371 - acc: 0.714 - ETA: 0s - loss: 0.7302 - acc: 0.716 - ETA: 0s - loss: 0.7110 - acc: 0.738 - ETA: 0s - loss: 0.7088 - acc: 0.737 - ETA: 0s - loss: 0.6891 - acc: 0.741 - 0s - loss: 0.6903 - acc: 0.7411 - val_loss: 1.2036 - val_acc: 0.5786\n",
      "Training accuracy: 74.11% / Best validation accuracy: 57.99%\n",
      "Train on 2951 samples, validate on 738 samples\n",
      "Epoch 1/2\n",
      "2951/2951 [==============================] - ETA: 0s - loss: 0.6303 - acc: 0.781 - ETA: 0s - loss: 0.6805 - acc: 0.751 - ETA: 0s - loss: 0.7117 - acc: 0.731 - ETA: 0s - loss: 0.7206 - acc: 0.726 - ETA: 0s - loss: 0.7245 - acc: 0.723 - ETA: 0s - loss: 0.7002 - acc: 0.730 - 0s - loss: 0.7000 - acc: 0.7303 - val_loss: 1.2040 - val_acc: 0.5813\n",
      "Epoch 2/2\n",
      "2951/2951 [==============================] - ETA: 0s - loss: 0.6123 - acc: 0.781 - ETA: 0s - loss: 0.7612 - acc: 0.713 - ETA: 0s - loss: 0.7287 - acc: 0.724 - ETA: 0s - loss: 0.7010 - acc: 0.736 - ETA: 0s - loss: 0.7036 - acc: 0.733 - ETA: 0s - loss: 0.7014 - acc: 0.732 - 0s - loss: 0.7016 - acc: 0.7326 - val_loss: 1.2306 - val_acc: 0.5474\n",
      "Training accuracy: 73.26% / Best validation accuracy: 57.99%\n",
      "Train on 2951 samples, validate on 738 samples\n",
      "Epoch 1/2\n",
      "2951/2951 [==============================] - ETA: 0s - loss: 0.7186 - acc: 0.718 - ETA: 0s - loss: 0.6309 - acc: 0.776 - ETA: 0s - loss: 0.6670 - acc: 0.757 - ETA: 0s - loss: 0.6875 - acc: 0.735 - ETA: 0s - loss: 0.6903 - acc: 0.733 - 0s - loss: 0.6882 - acc: 0.7340 - val_loss: 1.2332 - val_acc: 0.5407\n",
      "Epoch 2/2\n",
      "2951/2951 [==============================] - ETA: 0s - loss: 0.7278 - acc: 0.718 - ETA: 0s - loss: 0.6723 - acc: 0.744 - ETA: 0s - loss: 0.6386 - acc: 0.756 - ETA: 0s - loss: 0.6615 - acc: 0.744 - ETA: 0s - loss: 0.6692 - acc: 0.741 - ETA: 0s - loss: 0.6732 - acc: 0.739 - 0s - loss: 0.6748 - acc: 0.7377 - val_loss: 1.2329 - val_acc: 0.5678\n",
      "Training accuracy: 73.77% / Best validation accuracy: 57.99%\n",
      "Train on 2951 samples, validate on 738 samples\n",
      "Epoch 1/2\n",
      "2951/2951 [==============================] - ETA: 0s - loss: 0.7341 - acc: 0.734 - ETA: 0s - loss: 0.6583 - acc: 0.743 - ETA: 0s - loss: 0.6648 - acc: 0.741 - ETA: 0s - loss: 0.6935 - acc: 0.726 - ETA: 0s - loss: 0.6894 - acc: 0.727 - ETA: 0s - loss: 0.6768 - acc: 0.738 - 0s - loss: 0.6798 - acc: 0.7384 - val_loss: 1.2167 - val_acc: 0.5732\n",
      "Epoch 2/2\n",
      "2951/2951 [==============================] - ETA: 0s - loss: 0.6533 - acc: 0.734 - ETA: 0s - loss: 0.6599 - acc: 0.753 - ETA: 0s - loss: 0.6792 - acc: 0.739 - ETA: 0s - loss: 0.6823 - acc: 0.735 - ETA: 0s - loss: 0.6621 - acc: 0.742 - ETA: 0s - loss: 0.6595 - acc: 0.745 - 0s - loss: 0.6752 - acc: 0.7404 - val_loss: 1.2489 - val_acc: 0.5610\n",
      "Training accuracy: 74.04% / Best validation accuracy: 57.99%\n",
      "Train on 2951 samples, validate on 738 samples\n",
      "Epoch 1/2\n",
      "2951/2951 [==============================] - ETA: 0s - loss: 0.6970 - acc: 0.765 - ETA: 0s - loss: 0.6663 - acc: 0.732 - ETA: 0s - loss: 0.6845 - acc: 0.735 - ETA: 0s - loss: 0.6764 - acc: 0.731 - ETA: 0s - loss: 0.6756 - acc: 0.726 - ETA: 0s - loss: 0.6740 - acc: 0.731 - ETA: 0s - loss: 0.6875 - acc: 0.728 - 0s - loss: 0.6878 - acc: 0.7282 - val_loss: 1.2619 - val_acc: 0.5366\n",
      "Epoch 2/2\n",
      "2951/2951 [==============================] - ETA: 0s - loss: 0.6970 - acc: 0.687 - ETA: 0s - loss: 0.6663 - acc: 0.725 - ETA: 0s - loss: 0.6732 - acc: 0.741 - ETA: 0s - loss: 0.6571 - acc: 0.750 - ETA: 0s - loss: 0.6491 - acc: 0.753 - ETA: 0s - loss: 0.6630 - acc: 0.746 - ETA: 0s - loss: 0.6704 - acc: 0.744 - 0s - loss: 0.6666 - acc: 0.7486 - val_loss: 1.2407 - val_acc: 0.5799\n",
      "Training accuracy: 74.86% / Best validation accuracy: 57.99%\n",
      "Train on 2951 samples, validate on 738 samples\n",
      "Epoch 1/2\n",
      "2951/2951 [==============================] - ETA: 0s - loss: 0.7497 - acc: 0.656 - ETA: 0s - loss: 0.6715 - acc: 0.732 - ETA: 0s - loss: 0.6257 - acc: 0.754 - ETA: 0s - loss: 0.6405 - acc: 0.754 - ETA: 0s - loss: 0.6516 - acc: 0.750 - ETA: 0s - loss: 0.6488 - acc: 0.751 - 0s - loss: 0.6502 - acc: 0.7499 - val_loss: 1.2340 - val_acc: 0.5718\n",
      "Epoch 2/2\n",
      "2951/2951 [==============================] - ETA: 0s - loss: 0.5551 - acc: 0.781 - ETA: 0s - loss: 0.6330 - acc: 0.752 - ETA: 0s - loss: 0.6549 - acc: 0.749 - ETA: 0s - loss: 0.6670 - acc: 0.734 - ETA: 0s - loss: 0.6705 - acc: 0.733 - ETA: 0s - loss: 0.6579 - acc: 0.741 - 0s - loss: 0.6557 - acc: 0.7448 - val_loss: 1.2443 - val_acc: 0.5596\n",
      "Training accuracy: 74.48% / Best validation accuracy: 57.99%\n",
      "Train on 2951 samples, validate on 738 samples\n",
      "Epoch 1/2\n",
      "2951/2951 [==============================] - ETA: 0s - loss: 0.6041 - acc: 0.781 - ETA: 0s - loss: 0.5896 - acc: 0.777 - ETA: 0s - loss: 0.6545 - acc: 0.747 - ETA: 0s - loss: 0.6544 - acc: 0.745 - ETA: 0s - loss: 0.6696 - acc: 0.741 - ETA: 0s - loss: 0.6548 - acc: 0.750 - ETA: 0s - loss: 0.6462 - acc: 0.750 - 0s - loss: 0.6424 - acc: 0.7523 - val_loss: 1.2546 - val_acc: 0.5705\n",
      "Epoch 2/2\n",
      "2951/2951 [==============================] - ETA: 0s - loss: 0.5717 - acc: 0.734 - ETA: 0s - loss: 0.7212 - acc: 0.710 - ETA: 0s - loss: 0.6931 - acc: 0.729 - ETA: 0s - loss: 0.6839 - acc: 0.740 - ETA: 0s - loss: 0.6612 - acc: 0.748 - ETA: 0s - loss: 0.6496 - acc: 0.752 - ETA: 0s - loss: 0.6490 - acc: 0.750 - 0s - loss: 0.6546 - acc: 0.7489 - val_loss: 1.2353 - val_acc: 0.5799\n",
      "Training accuracy: 74.89% / Best validation accuracy: 57.99%\n",
      "Train on 2951 samples, validate on 738 samples\n",
      "Epoch 1/2\n",
      "2951/2951 [==============================] - ETA: 0s - loss: 0.6140 - acc: 0.750 - ETA: 0s - loss: 0.6307 - acc: 0.746 - ETA: 0s - loss: 0.6237 - acc: 0.755 - ETA: 0s - loss: 0.6132 - acc: 0.759 - ETA: 0s - loss: 0.6300 - acc: 0.756 - ETA: 0s - loss: 0.6375 - acc: 0.750 - 0s - loss: 0.6384 - acc: 0.7489 - val_loss: 1.2603 - val_acc: 0.5664\n",
      "Epoch 2/2\n",
      "2951/2951 [==============================] - ETA: 0s - loss: 0.5556 - acc: 0.734 - ETA: 0s - loss: 0.6760 - acc: 0.726 - ETA: 0s - loss: 0.6605 - acc: 0.736 - ETA: 0s - loss: 0.6582 - acc: 0.741 - ETA: 0s - loss: 0.6375 - acc: 0.753 - ETA: 0s - loss: 0.6268 - acc: 0.761 - ETA: 0s - loss: 0.6347 - acc: 0.760 - 0s - loss: 0.6351 - acc: 0.7597 - val_loss: 1.2456 - val_acc: 0.5840\n",
      "Training accuracy: 75.97% / Best validation accuracy: 58.40%\n"
     ]
    },
    {
     "data": {
      "image/png": "[encoded data removed]",
      "text/plain": [
       "<matplotlib.figure.Figure at 0x1f2d76ae6a0>"
      ]
     },
     "metadata": {},
     "output_type": "display_data"
    },
    {
     "data": {
      "image/png": "[encoded data removed]",
      "text/plain": [
       "<matplotlib.figure.Figure at 0x1f2dbd6a9e8>"
      ]
     },
     "metadata": {},
     "output_type": "display_data"
    },
    {
     "name": "stdout",
     "output_type": "stream",
     "text": [
      " 32/986 [..............................] - ETA: 0s"
     ]
    }
   ],
   "source": [
    "model = train_nn_model(model, train_set, encoded_y, filename = 'try(win2)loadgene100.h5')\n",
    "y_predict = model.predict_proba(test_set)"
   ]
  },
  {
   "cell_type": "code",
   "execution_count": 14,
   "metadata": {
    "collapsed": true
   },
   "outputs": [],
   "source": [
    "#the xgboost classfication model\n",
    "#first deal with the input label, transfrom it from 1-9 to 0-8(required by the xgboost)\n",
    "for i in range(len(train_y)):\n",
    "    train_y[i] -=1  "
   ]
  },
  {
   "cell_type": "code",
   "execution_count": 15,
   "metadata": {},
   "outputs": [
    {
     "name": "stdout",
     "output_type": "stream",
     "text": [
      "[0]\ttrain-mlogloss:2.11698\tvalid-mlogloss:2.13688\n",
      "Multiple eval metrics have been passed: 'valid-mlogloss' will be used for early stopping.\n",
      "\n",
      "Will train until valid-mlogloss hasn't improved in 100 rounds.\n",
      "[25]\ttrain-mlogloss:1.06815\tvalid-mlogloss:1.41032\n",
      "[50]\ttrain-mlogloss:0.628532\tvalid-mlogloss:1.14877\n",
      "[75]\ttrain-mlogloss:0.385488\tvalid-mlogloss:1.03278\n",
      "[100]\ttrain-mlogloss:0.25754\tvalid-mlogloss:0.975977\n",
      "[125]\ttrain-mlogloss:0.179182\tvalid-mlogloss:0.949277\n",
      "[150]\ttrain-mlogloss:0.128167\tvalid-mlogloss:0.939165\n",
      "[175]\ttrain-mlogloss:0.093374\tvalid-mlogloss:0.93919\n",
      "[200]\ttrain-mlogloss:0.068502\tvalid-mlogloss:0.943457\n",
      "[225]\ttrain-mlogloss:0.052048\tvalid-mlogloss:0.94757\n",
      "[250]\ttrain-mlogloss:0.041119\tvalid-mlogloss:0.952544\n",
      "Stopping. Best iteration:\n",
      "[168]\ttrain-mlogloss:0.101939\tvalid-mlogloss:0.938151\n",
      "\n",
      "final validation loss:\n",
      "0.938151179632\n",
      "final validation accuracy:\n",
      "0.685714285714\n"
     ]
    }
   ],
   "source": [
    "y_predict = xgbclassifier(train_set, train_y, test_set, 1, 8, 1000)"
   ]
  },
  {
   "cell_type": "code",
   "execution_count": 16,
   "metadata": {
    "collapsed": true
   },
   "outputs": [],
   "source": [
    "savesubmisstion(y_predict, test_x, filename = \"submission_allwin2loadgene100.csv\")"
   ]
  },
  {
   "cell_type": "code",
   "execution_count": null,
   "metadata": {
    "collapsed": true
   },
   "outputs": [],
   "source": []
  }
 ],
 "metadata": {
  "kernelspec": {
   "display_name": "Python 3",
   "language": "python",
   "name": "python3"
  },
  "language_info": {
   "codemirror_mode": {
    "name": "ipython",
    "version": 3
   },
   "file_extension": ".py",
   "mimetype": "text/x-python",
   "name": "python",
   "nbconvert_exporter": "python",
   "pygments_lexer": "ipython3",
   "version": "3.5.4"
  }
 },
 "nbformat": 4,
 "nbformat_minor": 2
}
