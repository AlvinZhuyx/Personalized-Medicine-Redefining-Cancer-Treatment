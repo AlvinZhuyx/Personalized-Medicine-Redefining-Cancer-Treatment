{
 "cells": [
  {
   "cell_type": "code",
   "execution_count": null,
   "metadata": {
    "collapsed": true
   },
   "outputs": [],
   "source": [
    "'''\n",
    "Train text model using all_data, without importing outside data.\n",
    "parameter setting as following:\n",
    "\n",
    "1, (min_count=1, window=2, size=200, sample=1e-4, negative=5, workers=4, iter=30, seed=1)\n",
    "2, (min_count=1, window=30, size=200, sample=1e-4, negative=5, workers=4, iter=30, seed=1)\n",
    "\n",
    "Run the baseline test and get the evaluation by metrics: accuracy, NMI, log_loss, confusion_matrix\n",
    "\n",
    "'''"
   ]
  },
  {
   "cell_type": "code",
   "execution_count": 1,
   "metadata": {},
   "outputs": [],
   "source": [
    "import os\n",
    "import re\n",
    "import tqdm\n",
    "import string\n",
    "import pandas as pd\n",
    "import numpy as np\n",
    "import util\n",
    "from sklearn.decomposition import TruncatedSVD\n",
    "#from data_preprocessing import *\n",
    "import word_embedding_load as wel\n",
    "import baseline_classification as bc\n",
    "import matplotlib.pyplot as plt\n",
    "import feature_selection_evaluation as fse"
   ]
  },
  {
   "cell_type": "code",
   "execution_count": 2,
   "metadata": {
    "collapsed": true
   },
   "outputs": [],
   "source": [
    "[all_data, train_size, test_size, train_x, train_y, test_x] = util.loadData()\n",
    "sentences = util.data_preprocess(all_data)"
   ]
  },
  {
   "cell_type": "code",
   "execution_count": 3,
   "metadata": {},
   "outputs": [
    {
     "name": "stdout",
     "output_type": "stream",
     "text": [
      "Successfully trained the text model!\n",
      "Save the model to: ../model/doc2vec/\n"
     ]
    },
    {
     "data": {
      "text/plain": [
       "<gensim.models.doc2vec.Doc2Vec at 0x1a2d2822e8>"
      ]
     },
     "execution_count": 3,
     "metadata": {},
     "output_type": "execute_result"
    }
   ],
   "source": [
    "param = util.Doc2VecParam(1, 2)\n",
    "wel.trainTextModel(sentences, param, 'textModel_win=2_no_outside')"
   ]
  },
  {
   "cell_type": "code",
   "execution_count": 4,
   "metadata": {},
   "outputs": [
    {
     "name": "stdout",
     "output_type": "stream",
     "text": [
      "Successfully trained the text model!\n",
      "Save the model to: ../model/doc2vec/\n"
     ]
    },
    {
     "data": {
      "text/plain": [
       "<gensim.models.doc2vec.Doc2Vec at 0x1aa11a8c88>"
      ]
     },
     "execution_count": 4,
     "metadata": {},
     "output_type": "execute_result"
    }
   ],
   "source": [
    "param = util.Doc2VecParam(1, 30)\n",
    "wel.trainTextModel(sentences, param, 'textModel_win=30_no_outside')"
   ]
  },
  {
   "cell_type": "code",
   "execution_count": null,
   "metadata": {},
   "outputs": [
    {
     "name": "stdout",
     "output_type": "stream",
     "text": [
      "Successfully loaded the textmodel from ../model/doc2vec/textModel_win=2_no_outside\n",
      "Results for TextModel: textModel_win=2_no_outside\n"
     ]
    }
   ],
   "source": [
    "fse.runTextModelEval(['textModel_win=2_no_outside', 'textModel_win=30_no_outside'])"
   ]
  },
  {
   "cell_type": "code",
   "execution_count": null,
   "metadata": {
    "collapsed": true
   },
   "outputs": [],
   "source": []
  }
 ],
 "metadata": {
  "kernelspec": {
   "display_name": "Python 3",
   "language": "python",
   "name": "python3"
  },
  "language_info": {
   "codemirror_mode": {
    "name": "ipython",
    "version": 3
   },
   "file_extension": ".py",
   "mimetype": "text/x-python",
   "name": "python",
   "nbconvert_exporter": "python",
   "pygments_lexer": "ipython3",
   "version": "3.6.3"
  }
 },
 "nbformat": 4,
 "nbformat_minor": 2
}
