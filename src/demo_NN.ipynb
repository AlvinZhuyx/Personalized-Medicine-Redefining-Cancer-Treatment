{
 "cells": [
  {
   "cell_type": "code",
   "execution_count": 1,
   "metadata": {},
   "outputs": [
    {
     "name": "stderr",
     "output_type": "stream",
     "text": [
      "C:\\Users\\zhuya\\Anaconda3\\envs\\tensorflow\\lib\\site-packages\\gensim\\utils.py:862: UserWarning: detected Windows; aliasing chunkize to chunkize_serial\n",
      "  warnings.warn(\"detected Windows; aliasing chunkize to chunkize_serial\")\n",
      "Using TensorFlow backend.\n",
      "C:\\Users\\zhuya\\Anaconda3\\envs\\tensorflow\\lib\\site-packages\\sklearn\\cross_validation.py:41: DeprecationWarning: This module was deprecated in version 0.18 in favor of the model_selection module into which all the refactored classes and functions are moved. Also note that the interface of the new CV iterators are different from that of this module. This module will be removed in 0.20.\n",
      "  \"This module will be removed in 0.20.\", DeprecationWarning)\n"
     ]
    }
   ],
   "source": [
    "import os\n",
    "import re\n",
    "import tqdm\n",
    "import string\n",
    "import pandas as pd\n",
    "import numpy as np\n",
    "import util\n",
    "from sklearn.decomposition import TruncatedSVD\n",
    "from data_preprocessing import *\n",
    "import word_embedding_load as wel\n",
    "import nn_classification as nn\n",
    "from xgboost_classifier import *\n"
   ]
  },
  {
   "cell_type": "code",
   "execution_count": 2,
   "metadata": {
    "collapsed": true
   },
   "outputs": [],
   "source": [
    "#loading data\n",
    "[all_data, train_size, test_size, train_x, train_y, test_x] = util.loadData()\n",
    "sentences = data_preprocess(all_data)"
   ]
  },
  {
   "cell_type": "code",
   "execution_count": 7,
   "metadata": {
    "collapsed": true
   },
   "outputs": [],
   "source": [
    "#parameter setting\n",
    "Text_INPUT_DIM=200\n",
    "GENE_INPUT_DIM=25\n",
    "TEXT_INPUT_DIM=200\n",
    "PATH = '../model/doc2vec/'\n",
    "modelName='docEmbeddings_win30_load_all.d2v'"
   ]
  },
  {
   "cell_type": "code",
   "execution_count": 4,
   "metadata": {
    "collapsed": true
   },
   "outputs": [],
   "source": [
    "#Parameter defined for doc2vec model\n",
    "param = util.Doc2VecParam(1, 2, 200, 1e-4, 5, 4, 30, 1)"
   ]
  },
  {
   "cell_type": "code",
   "execution_count": 5,
   "metadata": {
    "collapsed": true
   },
   "outputs": [],
   "source": [
    "svd = TruncatedSVD(n_components=GENE_INPUT_DIM, n_iter=25, random_state=12)"
   ]
  },
  {
   "cell_type": "code",
   "execution_count": 8,
   "metadata": {},
   "outputs": [
    {
     "name": "stdout",
     "output_type": "stream",
     "text": [
      "Successfully loaded the textmodel from ../model/doc2vec/docEmbeddings_win30_load_all.d2v\n"
     ]
    }
   ],
   "source": [
    "#load a pre-trained text model\n",
    "text_model = wel.loadTextModel(PATH + modelName)\n",
    "\n",
    "#To train a new text model, default without outside data:\n",
    "#text_model = wel.trainTextModel(sentences, param, 'newModelName', PATH)\n",
    "\n",
    "#To train a new text model with outside data:\n",
    "#sourceFile = '../data/bio_nlp_vec/PubMed-shuffle-win-30.bin'\n",
    "#text_model = wel.trainTextModel(sentences, param, 'newModelName', PATH, True, sourceFile)"
   ]
  },
  {
   "cell_type": "code",
   "execution_count": 9,
   "metadata": {
    "collapsed": true
   },
   "outputs": [],
   "source": [
    "#prepare the feature vectors\n",
    "truncated_one_hot_gene = wel.getGeneVec(all_data, svd)\n",
    "truncated_one_hot_variation = wel.getVariationVec(all_data, svd)\n",
    "text_train_arrays, text_test_arrays = wel.getTextVec(text_model, train_size, test_size, TEXT_INPUT_DIM)"
   ]
  },
  {
   "cell_type": "code",
   "execution_count": 10,
   "metadata": {},
   "outputs": [
    {
     "name": "stdout",
     "output_type": "stream",
     "text": [
      "(3689, 200)\n",
      "(986, 200)\n"
     ]
    },
    {
     "data": {
      "text/plain": [
       "array([  1.26882315,   4.29688072,  -0.39038292,  -1.35480559,\n",
       "        -7.99099302,   4.77952766,   2.07057571,  -6.03570271,\n",
       "         0.86446071,   0.17202322,  -2.32006383,  -5.02870607,\n",
       "         6.17888403,  -0.33701557,  -1.9275701 ,  -4.0776453 ,\n",
       "        -0.09364942,  -2.15795469,   6.18154764,  -0.85709518,\n",
       "         3.39536762,  -2.35704374,   2.01819372,   2.00250816,\n",
       "        -2.80324435,  -1.02548444,  -8.66605091,  -4.82370663,\n",
       "         1.46748042,  -1.77919805,   3.44936085,   1.01866448,\n",
       "        -2.25563884,   5.47780323,  -3.01734948,  -4.96943665,\n",
       "         5.47637558,   6.81975794,  -6.858356  ,   4.44475985,\n",
       "         5.04804468,   1.93569362,  -1.02952111,   4.82035208,\n",
       "         4.84539604,   1.75127947,  -2.98756957,   2.69090438,\n",
       "         3.09679723,  -1.40729642,  -2.39587927,  -3.08425999,\n",
       "        -4.78242826,   0.60178131,  -1.22717583,   1.39289582,\n",
       "         3.20111299,  -3.3035841 ,  -1.39491498,  -0.63641626,\n",
       "         5.13298321,   3.72240472,  -7.51442385,   1.8516885 ,\n",
       "        -4.88651514,  -1.45495379,   2.01302576,   3.04722762,\n",
       "         0.11051378,  -6.57093668,   6.06087494,  -0.61167759,\n",
       "         4.96027517,  -3.13528228,  -6.90446663,   3.47242904,\n",
       "         2.35698938,  -5.86416912,  -1.91866398,  -3.93560958,\n",
       "        -1.05911148,   4.99971199,  -3.4770267 ,  -3.87379766,\n",
       "         0.30840349,  -8.70010376,   1.59937036,  -1.09231234,\n",
       "         5.93300819,   5.95688057,   5.84385538,   2.8082602 ,\n",
       "        -8.37995148,  -5.46461058,   6.28388166,   1.28767073,\n",
       "         5.22980928,  -0.96867514,   1.94742227,   1.75390804,\n",
       "        -0.62273747,  -4.32118607,  -2.39648175,   1.58767605,\n",
       "         5.13036537,   2.1489718 ,  -4.84158659,   0.13575916,\n",
       "        -0.9371748 ,   0.84898746,   7.28374577,  -1.47118771,\n",
       "        -6.63243341,  -8.34322262,   4.0225482 ,   5.79200172,\n",
       "         0.38585845,   1.49494731,  -7.84748507,   0.14071739,\n",
       "         0.28553963,   2.38586164,  -3.2775085 ,  -2.66684031,\n",
       "       -12.51475048,  -3.9522059 ,   3.99966717,  -0.06996217,\n",
       "        -1.02266383,  -1.32054877,  -0.55594498,   6.49171209,\n",
       "        -5.25268745,   1.52528322,   2.60282397,   4.61633825,\n",
       "         3.0439744 ,   3.83140135,  -0.28964326,  -2.62097692,\n",
       "         6.90558481,   5.66409063,   0.59007317,   1.10882044,\n",
       "         8.91846371,   2.0910542 ,   0.22964981,   5.85307741,\n",
       "         0.19095956,   7.77365112,  -8.43704414,   2.34406376,\n",
       "         1.94256127,   7.86369085,  -3.2263999 ,   0.15307111,\n",
       "        -1.67707753,   0.92646736,   7.45261669,  -1.61606336,\n",
       "        -0.01810012,   0.0151953 ,  -0.82770884,   0.18709694,\n",
       "       -10.3729248 ,  -3.79367018,  -0.01998394,  -2.69801116,\n",
       "         2.77848411,  -3.40242028,   1.88550568,   7.48389339,\n",
       "         1.15261984,   0.13570395,   0.17612015,   2.07140326,\n",
       "         1.86739194,  -4.83535051,  -6.8343215 ,  -2.6784513 ,\n",
       "         1.14210749,   0.20386359,   2.56413198,   5.47524357,\n",
       "        -3.11662126,   6.91925526,   1.63820171,  -4.04282904,\n",
       "        -1.71229708,  -1.82037711,   1.22913778,  -4.10257387,\n",
       "        -2.51509023,  -8.01251411,  -1.24027872,  -4.36969233,\n",
       "        -1.77097118,   2.30460072,  -4.764256  ,   0.15195805])"
      ]
     },
     "execution_count": 10,
     "metadata": {},
     "output_type": "execute_result"
    }
   ],
   "source": [
    "print(text_train_arrays.shape)\n",
    "print(text_test_arrays.shape)\n",
    "text_train_arrays[0]"
   ]
  },
  {
   "cell_type": "code",
   "execution_count": 11,
   "metadata": {},
   "outputs": [
    {
     "name": "stdout",
     "output_type": "stream",
     "text": [
      "(3689, 9)\n"
     ]
    }
   ],
   "source": [
    "#concatenate the doc feature vectors\n",
    "train_set = np.hstack((truncated_one_hot_gene[:train_size], truncated_one_hot_variation[:train_size], text_train_arrays))\n",
    "test_set = np.hstack((truncated_one_hot_gene[train_size:], truncated_one_hot_variation[train_size:], text_test_arrays))\n",
    "encoded_y = pd.get_dummies(train_y)\n",
    "encoded_y = np.array(encoded_y)\n",
    "print(encoded_y.shape)"
   ]
  },
  {
   "cell_type": "code",
   "execution_count": 12,
   "metadata": {},
   "outputs": [
    {
     "name": "stdout",
     "output_type": "stream",
     "text": [
      "(3689, 250)\n",
      "(986, 250)\n"
     ]
    },
    {
     "data": {
      "text/plain": [
       "array([  1.00000000e+00,   4.18523246e-19,   1.82140582e-19,\n",
       "         5.52932734e-29,   9.01317672e-25,   1.47967745e-22,\n",
       "        -8.38240178e-21,   2.00300590e-21,   9.74158370e-21,\n",
       "        -9.34683441e-21,   1.91083889e-20,   6.55003880e-19,\n",
       "        -1.09276438e-17,  -1.56730196e-18,  -2.12913704e-18,\n",
       "        -4.51096312e-18,  -3.82900024e-19,   1.15894157e-17,\n",
       "         1.59938703e-17,   3.58735292e-17,  -3.35304994e-18,\n",
       "         1.68462844e-17,   6.76851697e-18,   5.86047343e-17,\n",
       "         7.80129580e-21])"
      ]
     },
     "execution_count": 12,
     "metadata": {},
     "output_type": "execute_result"
    }
   ],
   "source": [
    "print(train_set.shape)\n",
    "print(test_set.shape)\n",
    "train_set[0, 25:50]"
   ]
  },
  {
   "cell_type": "code",
   "execution_count": 13,
   "metadata": {},
   "outputs": [
    {
     "name": "stderr",
     "output_type": "stream",
     "text": [
      "C:\\Users\\zhuya\\Desktop\\semester 1\\249 data structure\\project\\Personalized-Medicine-Redefining-Cancer-Treatment-release\\src\\nn_classification.py:28: UserWarning: Update your `Dense` call to the Keras 2 API: `Dense(256, kernel_initializer=\"normal\", input_dim=250, activation=\"relu\")`\n",
      "  model.add(Dense(256, input_dim=Text_INPUT_DIM+ Gene_INPUT_DIM + Variation_INPUT_DIM, init='normal', activation='relu'))\n",
      "C:\\Users\\zhuya\\Desktop\\semester 1\\249 data structure\\project\\Personalized-Medicine-Redefining-Cancer-Treatment-release\\src\\nn_classification.py:30: UserWarning: Update your `Dense` call to the Keras 2 API: `Dense(256, kernel_initializer=\"normal\", activation=\"relu\")`\n",
      "  model.add(Dense(256, init='normal', activation='relu'))\n",
      "C:\\Users\\zhuya\\Desktop\\semester 1\\249 data structure\\project\\Personalized-Medicine-Redefining-Cancer-Treatment-release\\src\\nn_classification.py:32: UserWarning: Update your `Dense` call to the Keras 2 API: `Dense(80, kernel_initializer=\"normal\", activation=\"relu\")`\n",
      "  model.add(Dense(80, init='normal', activation='relu'))\n",
      "C:\\Users\\zhuya\\Desktop\\semester 1\\249 data structure\\project\\Personalized-Medicine-Redefining-Cancer-Treatment-release\\src\\nn_classification.py:33: UserWarning: Update your `Dense` call to the Keras 2 API: `Dense(9, kernel_initializer=\"normal\", activation=\"softmax\")`\n",
      "  model.add(Dense(9, init='normal', activation=\"softmax\"))\n"
     ]
    },
    {
     "name": "stdout",
     "output_type": "stream",
     "text": [
      "_________________________________________________________________\n",
      "Layer (type)                 Output Shape              Param #   \n",
      "=================================================================\n",
      "dense_1 (Dense)              (None, 256)               64256     \n",
      "_________________________________________________________________\n",
      "dropout_1 (Dropout)          (None, 256)               0         \n",
      "_________________________________________________________________\n",
      "dense_2 (Dense)              (None, 256)               65792     \n",
      "_________________________________________________________________\n",
      "dropout_2 (Dropout)          (None, 256)               0         \n",
      "_________________________________________________________________\n",
      "dense_3 (Dense)              (None, 80)                20560     \n",
      "_________________________________________________________________\n",
      "dense_4 (Dense)              (None, 9)                 729       \n",
      "=================================================================\n",
      "Total params: 151,337\n",
      "Trainable params: 151,337\n",
      "Non-trainable params: 0\n",
      "_________________________________________________________________\n"
     ]
    }
   ],
   "source": [
    "# this is the 4 layer full-connected nerual network model\n",
    "model = nn.nn_baseline_model(TEXT_INPUT_DIM, GENE_INPUT_DIM, GENE_INPUT_DIM)\n",
    "model.summary()"
   ]
  },
  {
   "cell_type": "code",
   "execution_count": 14,
   "metadata": {},
   "outputs": [
    {
     "name": "stdout",
     "output_type": "stream",
     "text": [
      "begin training\n",
      "\n",
      "Train on 3320 samples, validate on 369 samples\n",
      "Epoch 1/2\n",
      "3320/3320 [==============================] - ETA: 18s - loss: 2.4870 - acc: 0.07 - ETA: 1s - loss: 2.3902 - acc: 0.0969 - ETA: 0s - loss: 2.2072 - acc: 0.174 - ETA: 0s - loss: 2.1167 - acc: 0.212 - ETA: 0s - loss: 2.0463 - acc: 0.242 - 0s - loss: 2.0048 - acc: 0.2596 - val_loss: 1.6473 - val_acc: 0.4173\n",
      "Epoch 2/2\n",
      "3320/3320 [==============================] - ETA: 0s - loss: 1.7130 - acc: 0.390 - ETA: 0s - loss: 1.7205 - acc: 0.362 - ETA: 0s - loss: 1.7059 - acc: 0.375 - ETA: 0s - loss: 1.6860 - acc: 0.392 - ETA: 0s - loss: 1.6744 - acc: 0.395 - 0s - loss: 1.6635 - acc: 0.3970 - val_loss: 1.4171 - val_acc: 0.4932\n",
      "Training accuracy: 39.70% / Best validation accuracy: 49.32%\n",
      "Train on 3320 samples, validate on 369 samples\n",
      "Epoch 1/2\n",
      "3320/3320 [==============================] - ETA: 0s - loss: 1.5026 - acc: 0.484 - ETA: 0s - loss: 1.5656 - acc: 0.468 - ETA: 0s - loss: 1.5611 - acc: 0.449 - ETA: 0s - loss: 1.5422 - acc: 0.456 - ETA: 0s - loss: 1.5350 - acc: 0.462 - ETA: 0s - loss: 1.5077 - acc: 0.467 - 0s - loss: 1.5037 - acc: 0.4663 - val_loss: 1.2566 - val_acc: 0.5528\n",
      "Epoch 2/2\n",
      "3320/3320 [==============================] - ETA: 0s - loss: 1.3835 - acc: 0.546 - ETA: 0s - loss: 1.3574 - acc: 0.527 - ETA: 0s - loss: 1.3753 - acc: 0.517 - ETA: 0s - loss: 1.3732 - acc: 0.514 - ETA: 0s - loss: 1.3756 - acc: 0.516 - ETA: 0s - loss: 1.3705 - acc: 0.518 - 0s - loss: 1.3716 - acc: 0.5184 - val_loss: 1.2054 - val_acc: 0.5393\n",
      "Training accuracy: 51.84% / Best validation accuracy: 53.93%\n",
      "Train on 3320 samples, validate on 369 samples\n",
      "Epoch 1/2\n",
      "3320/3320 [==============================] - ETA: 0s - loss: 1.2407 - acc: 0.578 - ETA: 0s - loss: 1.3429 - acc: 0.527 - ETA: 0s - loss: 1.3051 - acc: 0.537 - ETA: 0s - loss: 1.3099 - acc: 0.534 - ETA: 0s - loss: 1.3169 - acc: 0.537 - ETA: 0s - loss: 1.3077 - acc: 0.540 - 0s - loss: 1.3055 - acc: 0.5416 - val_loss: 1.1334 - val_acc: 0.6179\n",
      "Epoch 2/2\n",
      "3320/3320 [==============================] - ETA: 0s - loss: 1.1233 - acc: 0.671 - ETA: 0s - loss: 1.2406 - acc: 0.550 - ETA: 0s - loss: 1.2559 - acc: 0.540 - ETA: 0s - loss: 1.2404 - acc: 0.545 - ETA: 0s - loss: 1.2493 - acc: 0.546 - ETA: 0s - loss: 1.2476 - acc: 0.546 - 0s - loss: 1.2458 - acc: 0.5470 - val_loss: 1.0953 - val_acc: 0.6206\n",
      "Training accuracy: 54.70% / Best validation accuracy: 62.06%\n",
      "Train on 3320 samples, validate on 369 samples\n",
      "Epoch 1/2\n",
      "3320/3320 [==============================] - ETA: 0s - loss: 1.1052 - acc: 0.593 - ETA: 0s - loss: 1.1474 - acc: 0.580 - ETA: 0s - loss: 1.1734 - acc: 0.569 - ETA: 0s - loss: 1.1793 - acc: 0.563 - ETA: 0s - loss: 1.1897 - acc: 0.562 - ETA: 0s - loss: 1.1988 - acc: 0.560 - 0s - loss: 1.2020 - acc: 0.5599 - val_loss: 1.0775 - val_acc: 0.6233\n",
      "Epoch 2/2\n",
      "3320/3320 [==============================] - ETA: 0s - loss: 1.1448 - acc: 0.562 - ETA: 0s - loss: 1.1620 - acc: 0.592 - ETA: 0s - loss: 1.1517 - acc: 0.590 - ETA: 0s - loss: 1.1329 - acc: 0.596 - ETA: 0s - loss: 1.1692 - acc: 0.584 - ETA: 0s - loss: 1.1538 - acc: 0.589 - ETA: 0s - loss: 1.1538 - acc: 0.587 - 0s - loss: 1.1522 - acc: 0.5877 - val_loss: 1.0502 - val_acc: 0.6396\n",
      "Training accuracy: 58.77% / Best validation accuracy: 63.96%\n",
      "Train on 3320 samples, validate on 369 samples\n",
      "Epoch 1/2\n",
      "3320/3320 [==============================] - ETA: 0s - loss: 1.2622 - acc: 0.578 - ETA: 0s - loss: 1.1757 - acc: 0.567 - ETA: 0s - loss: 1.1812 - acc: 0.563 - ETA: 0s - loss: 1.1503 - acc: 0.569 - ETA: 0s - loss: 1.1278 - acc: 0.581 - ETA: 0s - loss: 1.1353 - acc: 0.585 - ETA: 0s - loss: 1.1347 - acc: 0.589 - ETA: 0s - loss: 1.1402 - acc: 0.585 - 0s - loss: 1.1354 - acc: 0.5864 - val_loss: 1.0377 - val_acc: 0.6233\n",
      "Epoch 2/2\n",
      "3320/3320 [==============================] - ETA: 0s - loss: 0.9564 - acc: 0.640 - ETA: 0s - loss: 1.0590 - acc: 0.621 - ETA: 0s - loss: 1.0730 - acc: 0.604 - ETA: 0s - loss: 1.0600 - acc: 0.610 - ETA: 0s - loss: 1.0810 - acc: 0.603 - ETA: 0s - loss: 1.0820 - acc: 0.602 - 0s - loss: 1.0825 - acc: 0.6063 - val_loss: 1.0235 - val_acc: 0.6504\n",
      "Training accuracy: 60.63% / Best validation accuracy: 65.04%\n",
      "Train on 3320 samples, validate on 369 samples\n",
      "Epoch 1/2\n",
      "3320/3320 [==============================] - ETA: 0s - loss: 0.9282 - acc: 0.609 - ETA: 0s - loss: 1.0862 - acc: 0.605 - ETA: 0s - loss: 1.0679 - acc: 0.594 - ETA: 0s - loss: 1.0792 - acc: 0.595 - ETA: 0s - loss: 1.0676 - acc: 0.607 - ETA: 0s - loss: 1.0629 - acc: 0.607 - ETA: 0s - loss: 1.0722 - acc: 0.603 - 0s - loss: 1.0612 - acc: 0.6117 - val_loss: 1.0237 - val_acc: 0.6314\n",
      "Epoch 2/2\n",
      "3320/3320 [==============================] - ETA: 0s - loss: 1.2688 - acc: 0.562 - ETA: 0s - loss: 0.9817 - acc: 0.654 - ETA: 0s - loss: 1.0151 - acc: 0.629 - ETA: 0s - loss: 1.0253 - acc: 0.620 - ETA: 0s - loss: 1.0269 - acc: 0.623 - ETA: 0s - loss: 1.0376 - acc: 0.617 - ETA: 0s - loss: 1.0381 - acc: 0.616 - ETA: 0s - loss: 1.0480 - acc: 0.613 - ETA: 0s - loss: 1.0504 - acc: 0.613 - 0s - loss: 1.0536 - acc: 0.6114 - val_loss: 0.9976 - val_acc: 0.6477\n",
      "Training accuracy: 61.14% / Best validation accuracy: 65.04%\n",
      "Train on 3320 samples, validate on 369 samples\n",
      "Epoch 1/2\n",
      "3320/3320 [==============================] - ETA: 0s - loss: 0.9315 - acc: 0.671 - ETA: 0s - loss: 0.9561 - acc: 0.651 - ETA: 0s - loss: 0.9671 - acc: 0.647 - ETA: 0s - loss: 0.9754 - acc: 0.645 - ETA: 0s - loss: 0.9819 - acc: 0.641 - ETA: 0s - loss: 1.0107 - acc: 0.635 - ETA: 0s - loss: 1.0128 - acc: 0.640 - ETA: 0s - loss: 1.0154 - acc: 0.635 - 0s - loss: 1.0189 - acc: 0.6361 - val_loss: 0.9866 - val_acc: 0.6558\n",
      "Epoch 2/2\n",
      "3320/3320 [==============================] - ETA: 0s - loss: 0.9919 - acc: 0.671 - ETA: 0s - loss: 0.9475 - acc: 0.661 - ETA: 0s - loss: 0.9806 - acc: 0.647 - ETA: 0s - loss: 0.9931 - acc: 0.639 - ETA: 0s - loss: 0.9828 - acc: 0.644 - ETA: 0s - loss: 0.9805 - acc: 0.643 - ETA: 0s - loss: 0.9890 - acc: 0.640 - ETA: 0s - loss: 1.0021 - acc: 0.628 - ETA: 0s - loss: 1.0041 - acc: 0.630 - 0s - loss: 1.0009 - acc: 0.6322 - val_loss: 0.9878 - val_acc: 0.6477\n",
      "Training accuracy: 63.22% / Best validation accuracy: 65.04%\n",
      "Train on 3320 samples, validate on 369 samples\n",
      "Epoch 1/2\n",
      "3320/3320 [==============================] - ETA: 0s - loss: 0.9814 - acc: 0.625 - ETA: 0s - loss: 0.9767 - acc: 0.647 - ETA: 0s - loss: 0.9522 - acc: 0.648 - ETA: 0s - loss: 0.9551 - acc: 0.649 - ETA: 0s - loss: 0.9333 - acc: 0.659 - ETA: 0s - loss: 0.9426 - acc: 0.658 - ETA: 0s - loss: 0.9588 - acc: 0.650 - ETA: 0s - loss: 0.9574 - acc: 0.651 - 0s - loss: 0.9575 - acc: 0.6512 - val_loss: 0.9614 - val_acc: 0.6558\n",
      "Epoch 2/2\n",
      "3320/3320 [==============================] - ETA: 0s - loss: 1.0494 - acc: 0.625 - ETA: 0s - loss: 0.9187 - acc: 0.651 - ETA: 0s - loss: 0.9624 - acc: 0.648 - ETA: 0s - loss: 0.9446 - acc: 0.651 - ETA: 0s - loss: 0.9554 - acc: 0.649 - ETA: 0s - loss: 0.9523 - acc: 0.650 - 0s - loss: 0.9447 - acc: 0.6527 - val_loss: 0.9698 - val_acc: 0.6558\n",
      "Training accuracy: 65.27% / Best validation accuracy: 65.58%\n",
      "Train on 3320 samples, validate on 369 samples\n",
      "Epoch 1/2\n",
      "3320/3320 [==============================] - ETA: 0s - loss: 1.0100 - acc: 0.703 - ETA: 0s - loss: 0.9393 - acc: 0.681 - ETA: 0s - loss: 0.9392 - acc: 0.666 - ETA: 0s - loss: 0.9295 - acc: 0.668 - ETA: 0s - loss: 0.9476 - acc: 0.661 - ETA: 0s - loss: 0.9314 - acc: 0.665 - ETA: 0s - loss: 0.9385 - acc: 0.662 - 0s - loss: 0.9352 - acc: 0.6642 - val_loss: 0.9597 - val_acc: 0.6450\n",
      "Epoch 2/2\n",
      "3320/3320 [==============================] - ETA: 0s - loss: 0.8924 - acc: 0.687 - ETA: 0s - loss: 0.8874 - acc: 0.673 - ETA: 0s - loss: 0.9153 - acc: 0.671 - ETA: 0s - loss: 0.9201 - acc: 0.668 - ETA: 0s - loss: 0.9215 - acc: 0.665 - ETA: 0s - loss: 0.9272 - acc: 0.664 - ETA: 0s - loss: 0.9257 - acc: 0.662 - 0s - loss: 0.9278 - acc: 0.6630 - val_loss: 0.9522 - val_acc: 0.6504\n",
      "Training accuracy: 66.30% / Best validation accuracy: 65.58%\n",
      "Train on 3320 samples, validate on 369 samples\n",
      "Epoch 1/2\n"
     ]
    },
    {
     "name": "stdout",
     "output_type": "stream",
     "text": [
      "3320/3320 [==============================] - ETA: 0s - loss: 0.7157 - acc: 0.750 - ETA: 0s - loss: 0.9042 - acc: 0.636 - ETA: 0s - loss: 0.8722 - acc: 0.666 - ETA: 0s - loss: 0.8914 - acc: 0.661 - ETA: 0s - loss: 0.8967 - acc: 0.664 - ETA: 0s - loss: 0.8928 - acc: 0.666 - ETA: 0s - loss: 0.8881 - acc: 0.668 - 0s - loss: 0.8841 - acc: 0.6708 - val_loss: 0.9540 - val_acc: 0.6558\n",
      "Epoch 2/2\n",
      "3320/3320 [==============================] - ETA: 0s - loss: 0.9849 - acc: 0.656 - ETA: 0s - loss: 0.9087 - acc: 0.662 - ETA: 0s - loss: 0.8973 - acc: 0.669 - ETA: 0s - loss: 0.9003 - acc: 0.664 - ETA: 0s - loss: 0.8899 - acc: 0.667 - 0s - loss: 0.8840 - acc: 0.6741 - val_loss: 0.9492 - val_acc: 0.6585\n",
      "Training accuracy: 67.41% / Best validation accuracy: 65.85%\n",
      "Train on 3320 samples, validate on 369 samples\n",
      "Epoch 1/2\n",
      "3320/3320 [==============================] - ETA: 0s - loss: 0.8787 - acc: 0.703 - ETA: 0s - loss: 0.8352 - acc: 0.687 - ETA: 0s - loss: 0.8344 - acc: 0.698 - ETA: 0s - loss: 0.8453 - acc: 0.686 - ETA: 0s - loss: 0.8735 - acc: 0.683 - 0s - loss: 0.8714 - acc: 0.6843 - val_loss: 0.9465 - val_acc: 0.6531\n",
      "Epoch 2/2\n",
      "3320/3320 [==============================] - ETA: 0s - loss: 0.8586 - acc: 0.656 - ETA: 0s - loss: 0.8326 - acc: 0.687 - ETA: 0s - loss: 0.8683 - acc: 0.675 - ETA: 0s - loss: 0.8722 - acc: 0.675 - ETA: 0s - loss: 0.8565 - acc: 0.685 - ETA: 0s - loss: 0.8660 - acc: 0.683 - 0s - loss: 0.8605 - acc: 0.6864 - val_loss: 0.9475 - val_acc: 0.6667\n",
      "Training accuracy: 68.64% / Best validation accuracy: 66.67%\n",
      "Train on 3320 samples, validate on 369 samples\n",
      "Epoch 1/2\n",
      "3320/3320 [==============================] - ETA: 0s - loss: 0.8315 - acc: 0.703 - ETA: 0s - loss: 0.8882 - acc: 0.688 - ETA: 0s - loss: 0.9004 - acc: 0.677 - ETA: 0s - loss: 0.8814 - acc: 0.686 - ETA: 0s - loss: 0.8805 - acc: 0.679 - 0s - loss: 0.8716 - acc: 0.6795 - val_loss: 0.9623 - val_acc: 0.6721\n",
      "Epoch 2/2\n",
      "3320/3320 [==============================] - ETA: 0s - loss: 0.8745 - acc: 0.671 - ETA: 0s - loss: 0.8540 - acc: 0.680 - ETA: 0s - loss: 0.8443 - acc: 0.681 - ETA: 0s - loss: 0.8387 - acc: 0.689 - ETA: 0s - loss: 0.8469 - acc: 0.684 - ETA: 0s - loss: 0.8516 - acc: 0.682 - ETA: 0s - loss: 0.8512 - acc: 0.682 - 0s - loss: 0.8489 - acc: 0.6843 - val_loss: 0.9412 - val_acc: 0.6640\n",
      "Training accuracy: 68.43% / Best validation accuracy: 66.67%\n",
      "Train on 3320 samples, validate on 369 samples\n",
      "Epoch 1/2\n",
      "3320/3320 [==============================] - ETA: 0s - loss: 0.8563 - acc: 0.734 - ETA: 0s - loss: 0.8532 - acc: 0.681 - ETA: 0s - loss: 0.8564 - acc: 0.686 - ETA: 0s - loss: 0.8542 - acc: 0.691 - ETA: 0s - loss: 0.8490 - acc: 0.685 - ETA: 0s - loss: 0.8372 - acc: 0.690 - 0s - loss: 0.8350 - acc: 0.6946 - val_loss: 0.9669 - val_acc: 0.6694\n",
      "Epoch 2/2\n",
      "3320/3320 [==============================] - ETA: 0s - loss: 0.7691 - acc: 0.750 - ETA: 0s - loss: 0.7729 - acc: 0.725 - ETA: 0s - loss: 0.7840 - acc: 0.724 - ETA: 0s - loss: 0.8001 - acc: 0.714 - ETA: 0s - loss: 0.7924 - acc: 0.712 - ETA: 0s - loss: 0.8016 - acc: 0.708 - 0s - loss: 0.8001 - acc: 0.7096 - val_loss: 0.9494 - val_acc: 0.6748\n",
      "Training accuracy: 70.96% / Best validation accuracy: 67.48%\n",
      "Train on 3320 samples, validate on 369 samples\n",
      "Epoch 1/2\n",
      "3320/3320 [==============================] - ETA: 0s - loss: 0.7208 - acc: 0.765 - ETA: 0s - loss: 0.7833 - acc: 0.720 - ETA: 0s - loss: 0.8016 - acc: 0.718 - ETA: 0s - loss: 0.8019 - acc: 0.719 - ETA: 0s - loss: 0.7984 - acc: 0.716 - ETA: 0s - loss: 0.8057 - acc: 0.715 - ETA: 0s - loss: 0.8176 - acc: 0.706 - 0s - loss: 0.8214 - acc: 0.7051 - val_loss: 0.9390 - val_acc: 0.6721\n",
      "Epoch 2/2\n",
      "3320/3320 [==============================] - ETA: 0s - loss: 0.7555 - acc: 0.765 - ETA: 0s - loss: 0.8167 - acc: 0.712 - ETA: 0s - loss: 0.8153 - acc: 0.713 - ETA: 0s - loss: 0.7968 - acc: 0.716 - ETA: 0s - loss: 0.7912 - acc: 0.712 - 0s - loss: 0.7942 - acc: 0.7066 - val_loss: 0.9599 - val_acc: 0.6667\n",
      "Training accuracy: 70.66% / Best validation accuracy: 67.48%\n",
      "Train on 3320 samples, validate on 369 samples\n",
      "Epoch 1/2\n",
      "3320/3320 [==============================] - ETA: 0s - loss: 0.7927 - acc: 0.718 - ETA: 0s - loss: 0.7511 - acc: 0.711 - ETA: 0s - loss: 0.7767 - acc: 0.704 - ETA: 0s - loss: 0.7756 - acc: 0.709 - ETA: 0s - loss: 0.7745 - acc: 0.715 - ETA: 0s - loss: 0.7811 - acc: 0.714 - 0s - loss: 0.7885 - acc: 0.7123 - val_loss: 0.9381 - val_acc: 0.6694\n",
      "Epoch 2/2\n",
      "3320/3320 [==============================] - ETA: 0s - loss: 0.7873 - acc: 0.718 - ETA: 0s - loss: 0.7657 - acc: 0.715 - ETA: 0s - loss: 0.7639 - acc: 0.711 - ETA: 0s - loss: 0.7673 - acc: 0.716 - ETA: 0s - loss: 0.7639 - acc: 0.716 - ETA: 0s - loss: 0.7779 - acc: 0.710 - 0s - loss: 0.7797 - acc: 0.7117 - val_loss: 0.9465 - val_acc: 0.6721\n",
      "Training accuracy: 71.17% / Best validation accuracy: 67.48%\n",
      "Train on 3320 samples, validate on 369 samples\n",
      "Epoch 1/2\n",
      "3320/3320 [==============================] - ETA: 0s - loss: 0.9047 - acc: 0.734 - ETA: 0s - loss: 0.8326 - acc: 0.692 - ETA: 0s - loss: 0.7638 - acc: 0.714 - ETA: 0s - loss: 0.7546 - acc: 0.718 - ETA: 0s - loss: 0.7613 - acc: 0.715 - ETA: 0s - loss: 0.7558 - acc: 0.718 - 0s - loss: 0.7616 - acc: 0.7172 - val_loss: 0.9531 - val_acc: 0.6775\n",
      "Epoch 2/2\n",
      "3320/3320 [==============================] - ETA: 0s - loss: 0.6450 - acc: 0.734 - ETA: 0s - loss: 0.7271 - acc: 0.725 - ETA: 0s - loss: 0.7174 - acc: 0.733 - ETA: 0s - loss: 0.7456 - acc: 0.714 - ETA: 0s - loss: 0.7713 - acc: 0.707 - ETA: 0s - loss: 0.7760 - acc: 0.705 - 0s - loss: 0.7737 - acc: 0.7069 - val_loss: 0.9424 - val_acc: 0.6748\n",
      "Training accuracy: 70.69% / Best validation accuracy: 67.48%\n",
      "Train on 3320 samples, validate on 369 samples\n",
      "Epoch 1/2\n",
      "3320/3320 [==============================] - ETA: 0s - loss: 0.7410 - acc: 0.734 - ETA: 0s - loss: 0.7279 - acc: 0.712 - ETA: 0s - loss: 0.7091 - acc: 0.738 - ETA: 0s - loss: 0.7197 - acc: 0.737 - ETA: 0s - loss: 0.7267 - acc: 0.734 - ETA: 0s - loss: 0.7390 - acc: 0.732 - 0s - loss: 0.7361 - acc: 0.7337 - val_loss: 0.9409 - val_acc: 0.6856\n",
      "Epoch 2/2\n",
      "3320/3320 [==============================] - ETA: 0s - loss: 0.8205 - acc: 0.671 - ETA: 0s - loss: 0.6662 - acc: 0.758 - ETA: 0s - loss: 0.7024 - acc: 0.744 - ETA: 0s - loss: 0.6961 - acc: 0.749 - ETA: 0s - loss: 0.7119 - acc: 0.740 - ETA: 0s - loss: 0.7149 - acc: 0.741 - 0s - loss: 0.7147 - acc: 0.7407 - val_loss: 0.9338 - val_acc: 0.6829\n",
      "Training accuracy: 74.07% / Best validation accuracy: 68.29%\n",
      "Train on 3320 samples, validate on 369 samples\n",
      "Epoch 1/2\n",
      "3320/3320 [==============================] - ETA: 1s - loss: 0.6499 - acc: 0.734 - ETA: 0s - loss: 0.6730 - acc: 0.730 - ETA: 0s - loss: 0.6944 - acc: 0.735 - ETA: 0s - loss: 0.7148 - acc: 0.735 - ETA: 0s - loss: 0.7198 - acc: 0.734 - ETA: 0s - loss: 0.7385 - acc: 0.725 - 0s - loss: 0.7446 - acc: 0.7235 - val_loss: 0.9333 - val_acc: 0.6667\n",
      "Epoch 2/2\n",
      "3320/3320 [==============================] - ETA: 0s - loss: 0.5279 - acc: 0.781 - ETA: 0s - loss: 0.7249 - acc: 0.741 - ETA: 0s - loss: 0.7126 - acc: 0.738 - ETA: 0s - loss: 0.7114 - acc: 0.734 - ETA: 0s - loss: 0.7055 - acc: 0.733 - 0s - loss: 0.7202 - acc: 0.7268 - val_loss: 0.9474 - val_acc: 0.6775\n",
      "Training accuracy: 72.68% / Best validation accuracy: 68.29%\n",
      "Train on 3320 samples, validate on 369 samples\n",
      "Epoch 1/2\n",
      "3320/3320 [==============================] - ETA: 0s - loss: 0.7001 - acc: 0.734 - ETA: 0s - loss: 0.7045 - acc: 0.741 - ETA: 0s - loss: 0.7531 - acc: 0.721 - ETA: 0s - loss: 0.7470 - acc: 0.719 - ETA: 0s - loss: 0.7294 - acc: 0.725 - ETA: 0s - loss: 0.7195 - acc: 0.729 - 0s - loss: 0.7183 - acc: 0.7301 - val_loss: 0.9554 - val_acc: 0.6856\n",
      "Epoch 2/2\n",
      "3320/3320 [==============================] - ETA: 0s - loss: 0.6321 - acc: 0.765 - ETA: 0s - loss: 0.6869 - acc: 0.738 - ETA: 0s - loss: 0.6975 - acc: 0.741 - ETA: 0s - loss: 0.6943 - acc: 0.735 - ETA: 0s - loss: 0.7036 - acc: 0.730 - 0s - loss: 0.7038 - acc: 0.7325 - val_loss: 0.9470 - val_acc: 0.6911\n",
      "Training accuracy: 73.25% / Best validation accuracy: 69.11%\n",
      "Train on 3320 samples, validate on 369 samples\n",
      "Epoch 1/2\n"
     ]
    },
    {
     "name": "stdout",
     "output_type": "stream",
     "text": [
      "3320/3320 [==============================] - ETA: 0s - loss: 0.8991 - acc: 0.562 - ETA: 0s - loss: 0.7430 - acc: 0.730 - ETA: 0s - loss: 0.6862 - acc: 0.742 - ETA: 0s - loss: 0.6868 - acc: 0.742 - ETA: 0s - loss: 0.6818 - acc: 0.739 - ETA: 0s - loss: 0.6864 - acc: 0.739 - 0s - loss: 0.6875 - acc: 0.7401 - val_loss: 0.9408 - val_acc: 0.6829\n",
      "Epoch 2/2\n",
      "3320/3320 [==============================] - ETA: 0s - loss: 0.7870 - acc: 0.687 - ETA: 0s - loss: 0.6774 - acc: 0.738 - ETA: 0s - loss: 0.6812 - acc: 0.732 - ETA: 0s - loss: 0.6901 - acc: 0.735 - ETA: 0s - loss: 0.6917 - acc: 0.734 - ETA: 0s - loss: 0.6970 - acc: 0.735 - 0s - loss: 0.6869 - acc: 0.7392 - val_loss: 0.9518 - val_acc: 0.6883\n",
      "Training accuracy: 73.92% / Best validation accuracy: 69.11%\n",
      "Train on 3320 samples, validate on 369 samples\n",
      "Epoch 1/2\n",
      "3320/3320 [==============================] - ETA: 0s - loss: 0.7007 - acc: 0.765 - ETA: 0s - loss: 0.6672 - acc: 0.750 - ETA: 0s - loss: 0.6803 - acc: 0.748 - ETA: 0s - loss: 0.6788 - acc: 0.749 - ETA: 0s - loss: 0.6958 - acc: 0.740 - ETA: 0s - loss: 0.6914 - acc: 0.739 - 0s - loss: 0.6911 - acc: 0.7401 - val_loss: 0.9488 - val_acc: 0.6938\n",
      "Epoch 2/2\n",
      "3320/3320 [==============================] - ETA: 0s - loss: 0.5444 - acc: 0.843 - ETA: 0s - loss: 0.6585 - acc: 0.767 - ETA: 0s - loss: 0.6749 - acc: 0.754 - ETA: 0s - loss: 0.6618 - acc: 0.756 - ETA: 0s - loss: 0.6658 - acc: 0.750 - ETA: 0s - loss: 0.6664 - acc: 0.752 - ETA: 0s - loss: 0.6763 - acc: 0.750 - 0s - loss: 0.6773 - acc: 0.7461 - val_loss: 0.9547 - val_acc: 0.6856\n",
      "Training accuracy: 74.61% / Best validation accuracy: 69.11%\n",
      "Train on 3320 samples, validate on 369 samples\n",
      "Epoch 1/2\n",
      "3320/3320 [==============================] - ETA: 0s - loss: 0.7459 - acc: 0.625 - ETA: 0s - loss: 0.6924 - acc: 0.713 - ETA: 0s - loss: 0.6606 - acc: 0.735 - ETA: 0s - loss: 0.6558 - acc: 0.743 - ETA: 0s - loss: 0.6397 - acc: 0.753 - ETA: 0s - loss: 0.6531 - acc: 0.751 - 0s - loss: 0.6533 - acc: 0.7512 - val_loss: 0.9669 - val_acc: 0.6748\n",
      "Epoch 2/2\n",
      "3320/3320 [==============================] - ETA: 0s - loss: 0.8230 - acc: 0.671 - ETA: 0s - loss: 0.6573 - acc: 0.727 - ETA: 0s - loss: 0.6370 - acc: 0.739 - ETA: 0s - loss: 0.6332 - acc: 0.743 - ETA: 0s - loss: 0.6465 - acc: 0.745 - 0s - loss: 0.6594 - acc: 0.7440 - val_loss: 0.9723 - val_acc: 0.6938\n",
      "Training accuracy: 74.40% / Best validation accuracy: 69.38%\n",
      "Train on 3320 samples, validate on 369 samples\n",
      "Epoch 1/2\n",
      "3320/3320 [==============================] - ETA: 0s - loss: 0.5705 - acc: 0.828 - ETA: 0s - loss: 0.6055 - acc: 0.777 - ETA: 0s - loss: 0.6496 - acc: 0.754 - ETA: 0s - loss: 0.6354 - acc: 0.759 - ETA: 0s - loss: 0.6356 - acc: 0.764 - ETA: 0s - loss: 0.6393 - acc: 0.758 - ETA: 0s - loss: 0.6417 - acc: 0.758 - 0s - loss: 0.6445 - acc: 0.7569 - val_loss: 0.9585 - val_acc: 0.6856\n",
      "Epoch 2/2\n",
      "3320/3320 [==============================] - ETA: 0s - loss: 0.4666 - acc: 0.828 - ETA: 0s - loss: 0.5701 - acc: 0.803 - ETA: 0s - loss: 0.6153 - acc: 0.776 - ETA: 0s - loss: 0.6266 - acc: 0.766 - ETA: 0s - loss: 0.6332 - acc: 0.761 - ETA: 0s - loss: 0.6447 - acc: 0.755 - 0s - loss: 0.6455 - acc: 0.7536 - val_loss: 0.9745 - val_acc: 0.6856\n",
      "Training accuracy: 75.36% / Best validation accuracy: 69.38%\n",
      "Train on 3320 samples, validate on 369 samples\n",
      "Epoch 1/2\n",
      "3320/3320 [==============================] - ETA: 0s - loss: 0.6831 - acc: 0.734 - ETA: 0s - loss: 0.6544 - acc: 0.753 - ETA: 0s - loss: 0.6111 - acc: 0.768 - ETA: 0s - loss: 0.6169 - acc: 0.771 - ETA: 0s - loss: 0.6262 - acc: 0.761 - ETA: 0s - loss: 0.6129 - acc: 0.768 - 0s - loss: 0.6187 - acc: 0.7648 - val_loss: 0.9626 - val_acc: 0.6802\n",
      "Epoch 2/2\n",
      "3320/3320 [==============================] - ETA: 0s - loss: 0.6858 - acc: 0.734 - ETA: 0s - loss: 0.6397 - acc: 0.772 - ETA: 0s - loss: 0.6613 - acc: 0.757 - ETA: 0s - loss: 0.6302 - acc: 0.763 - ETA: 0s - loss: 0.6417 - acc: 0.761 - 0s - loss: 0.6338 - acc: 0.7617 - val_loss: 0.9577 - val_acc: 0.6911\n",
      "Training accuracy: 76.17% / Best validation accuracy: 69.38%\n",
      "Train on 3320 samples, validate on 369 samples\n",
      "Epoch 1/2\n",
      "3320/3320 [==============================] - ETA: 0s - loss: 0.4631 - acc: 0.890 - ETA: 0s - loss: 0.5842 - acc: 0.798 - ETA: 0s - loss: 0.5991 - acc: 0.777 - ETA: 0s - loss: 0.6128 - acc: 0.770 - ETA: 0s - loss: 0.6278 - acc: 0.762 - ETA: 0s - loss: 0.6395 - acc: 0.758 - 0s - loss: 0.6385 - acc: 0.7599 - val_loss: 0.9569 - val_acc: 0.6829\n",
      "Epoch 2/2\n",
      "3320/3320 [==============================] - ETA: 0s - loss: 0.6115 - acc: 0.734 - ETA: 0s - loss: 0.5984 - acc: 0.762 - ETA: 0s - loss: 0.5916 - acc: 0.761 - ETA: 0s - loss: 0.6196 - acc: 0.757 - ETA: 0s - loss: 0.6248 - acc: 0.759 - ETA: 0s - loss: 0.6306 - acc: 0.756 - 0s - loss: 0.6260 - acc: 0.7611 - val_loss: 0.9535 - val_acc: 0.6938\n",
      "Training accuracy: 76.11% / Best validation accuracy: 69.38%\n",
      "Train on 3320 samples, validate on 369 samples\n",
      "Epoch 1/2\n",
      "3320/3320 [==============================] - ETA: 0s - loss: 0.4997 - acc: 0.828 - ETA: 0s - loss: 0.5895 - acc: 0.779 - ETA: 0s - loss: 0.6218 - acc: 0.761 - ETA: 0s - loss: 0.6190 - acc: 0.768 - ETA: 0s - loss: 0.6163 - acc: 0.769 - ETA: 0s - loss: 0.6124 - acc: 0.771 - 0s - loss: 0.6154 - acc: 0.7702 - val_loss: 0.9668 - val_acc: 0.6938\n",
      "Epoch 2/2\n",
      "3320/3320 [==============================] - ETA: 0s - loss: 0.6383 - acc: 0.796 - ETA: 0s - loss: 0.6136 - acc: 0.781 - ETA: 0s - loss: 0.6255 - acc: 0.758 - ETA: 0s - loss: 0.6227 - acc: 0.762 - ETA: 0s - loss: 0.6107 - acc: 0.772 - ETA: 0s - loss: 0.6163 - acc: 0.766 - ETA: 0s - loss: 0.6157 - acc: 0.769 - 0s - loss: 0.6151 - acc: 0.7693 - val_loss: 0.9439 - val_acc: 0.6856\n",
      "Training accuracy: 76.93% / Best validation accuracy: 69.38%\n",
      "Train on 3320 samples, validate on 369 samples\n",
      "Epoch 1/2\n",
      "3320/3320 [==============================] - ETA: 0s - loss: 0.5560 - acc: 0.781 - ETA: 0s - loss: 0.5750 - acc: 0.789 - ETA: 0s - loss: 0.5871 - acc: 0.784 - ETA: 0s - loss: 0.5806 - acc: 0.785 - ETA: 0s - loss: 0.5995 - acc: 0.781 - ETA: 0s - loss: 0.5965 - acc: 0.782 - ETA: 0s - loss: 0.6061 - acc: 0.775 - 0s - loss: 0.6042 - acc: 0.7765 - val_loss: 0.9553 - val_acc: 0.6883\n",
      "Epoch 2/2\n",
      "3320/3320 [==============================] - ETA: 0s - loss: 0.5437 - acc: 0.750 - ETA: 0s - loss: 0.5495 - acc: 0.795 - ETA: 0s - loss: 0.5696 - acc: 0.784 - ETA: 0s - loss: 0.5642 - acc: 0.785 - ETA: 0s - loss: 0.5966 - acc: 0.772 - ETA: 0s - loss: 0.5940 - acc: 0.777 - ETA: 0s - loss: 0.5978 - acc: 0.774 - 0s - loss: 0.5887 - acc: 0.7768 - val_loss: 0.9585 - val_acc: 0.6829\n",
      "Training accuracy: 77.68% / Best validation accuracy: 69.38%\n",
      "Train on 3320 samples, validate on 369 samples\n",
      "Epoch 1/2\n",
      "3320/3320 [==============================] - ETA: 0s - loss: 0.5114 - acc: 0.812 - ETA: 0s - loss: 0.5594 - acc: 0.774 - ETA: 0s - loss: 0.5598 - acc: 0.772 - ETA: 0s - loss: 0.5661 - acc: 0.767 - ETA: 0s - loss: 0.5677 - acc: 0.766 - ETA: 0s - loss: 0.5725 - acc: 0.771 - ETA: 0s - loss: 0.5823 - acc: 0.769 - ETA: 0s - loss: 0.5858 - acc: 0.768 - 0s - loss: 0.5868 - acc: 0.7693 - val_loss: 0.9679 - val_acc: 0.6802\n",
      "Epoch 2/2\n",
      "3320/3320 [==============================] - ETA: 0s - loss: 0.6817 - acc: 0.781 - ETA: 0s - loss: 0.5650 - acc: 0.792 - ETA: 0s - loss: 0.5928 - acc: 0.783 - ETA: 0s - loss: 0.5552 - acc: 0.788 - ETA: 0s - loss: 0.5695 - acc: 0.784 - ETA: 0s - loss: 0.5796 - acc: 0.783 - ETA: 0s - loss: 0.5788 - acc: 0.781 - 0s - loss: 0.5764 - acc: 0.7810 - val_loss: 0.9704 - val_acc: 0.6721\n",
      "Training accuracy: 78.10% / Best validation accuracy: 69.38%\n",
      "Train on 3320 samples, validate on 369 samples\n",
      "Epoch 1/2\n",
      "3320/3320 [==============================] - ETA: 0s - loss: 0.5687 - acc: 0.750 - ETA: 0s - loss: 0.5883 - acc: 0.782 - ETA: 0s - loss: 0.5554 - acc: 0.792 - ETA: 0s - loss: 0.5585 - acc: 0.789 - ETA: 0s - loss: 0.5660 - acc: 0.785 - ETA: 0s - loss: 0.5694 - acc: 0.785 - ETA: 0s - loss: 0.5742 - acc: 0.783 - 0s - loss: 0.5725 - acc: 0.7846 - val_loss: 0.9644 - val_acc: 0.6802\n",
      "Epoch 2/2\n"
     ]
    },
    {
     "name": "stdout",
     "output_type": "stream",
     "text": [
      "3320/3320 [==============================] - ETA: 0s - loss: 0.5554 - acc: 0.781 - ETA: 0s - loss: 0.5669 - acc: 0.783 - ETA: 0s - loss: 0.5666 - acc: 0.783 - ETA: 0s - loss: 0.5723 - acc: 0.780 - ETA: 0s - loss: 0.5636 - acc: 0.784 - ETA: 0s - loss: 0.5710 - acc: 0.778 - ETA: 0s - loss: 0.5751 - acc: 0.778 - 0s - loss: 0.5721 - acc: 0.7819 - val_loss: 0.9766 - val_acc: 0.6856\n",
      "Training accuracy: 78.19% / Best validation accuracy: 69.38%\n",
      "Train on 3320 samples, validate on 369 samples\n",
      "Epoch 1/2\n",
      "3320/3320 [==============================] - ETA: 0s - loss: 0.7423 - acc: 0.703 - ETA: 0s - loss: 0.5729 - acc: 0.782 - ETA: 0s - loss: 0.5686 - acc: 0.778 - ETA: 0s - loss: 0.5763 - acc: 0.777 - ETA: 0s - loss: 0.5788 - acc: 0.778 - ETA: 0s - loss: 0.5798 - acc: 0.775 - 0s - loss: 0.5827 - acc: 0.7726 - val_loss: 0.9812 - val_acc: 0.6965\n",
      "Epoch 2/2\n",
      "3320/3320 [==============================] - ETA: 0s - loss: 0.5174 - acc: 0.765 - ETA: 0s - loss: 0.5697 - acc: 0.775 - ETA: 0s - loss: 0.5705 - acc: 0.768 - ETA: 0s - loss: 0.5449 - acc: 0.787 - ETA: 0s - loss: 0.5592 - acc: 0.780 - ETA: 0s - loss: 0.5650 - acc: 0.777 - 0s - loss: 0.5625 - acc: 0.7786 - val_loss: 0.9688 - val_acc: 0.6802\n",
      "Training accuracy: 77.86% / Best validation accuracy: 69.38%\n"
     ]
    },
    {
     "data": {
      "image/png": "[encoded data removed]",
      "text/plain": [
       "<matplotlib.figure.Figure at 0x1795b662eb8>"
      ]
     },
     "metadata": {},
     "output_type": "display_data"
    },
    {
     "data": {
      "image/png": "[encoded data removed]",
      "text/plain": [
       "<matplotlib.figure.Figure at 0x1795b68bd30>"
      ]
     },
     "metadata": {},
     "output_type": "display_data"
    },
    {
     "name": "stdout",
     "output_type": "stream",
     "text": [
      " 32/986 [..............................] - ETA: 0s"
     ]
    }
   ],
   "source": [
    "model = nn.train_nn_model(model, train_set, encoded_y, filename = 'demo_NN.h5')\n",
    "y_predict = model.predict_proba(test_set)"
   ]
  },
  {
   "cell_type": "code",
   "execution_count": 15,
   "metadata": {
    "collapsed": true
   },
   "outputs": [],
   "source": [
    "util.savesubmisstion(y_predict, test_x, filename = \"submission_demo.csv\")"
   ]
  },
  {
   "cell_type": "code",
   "execution_count": null,
   "metadata": {
    "collapsed": true
   },
   "outputs": [],
   "source": []
  }
 ],
 "metadata": {
  "kernelspec": {
   "display_name": "Python 3",
   "language": "python",
   "name": "python3"
  },
  "language_info": {
   "codemirror_mode": {
    "name": "ipython",
    "version": 3
   },
   "file_extension": ".py",
   "mimetype": "text/x-python",
   "name": "python",
   "nbconvert_exporter": "python",
   "pygments_lexer": "ipython3",
   "version": "3.5.4"
  }
 },
 "nbformat": 4,
 "nbformat_minor": 2
}
