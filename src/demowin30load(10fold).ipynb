{
 "cells": [
  {
   "cell_type": "code",
   "execution_count": 1,
   "metadata": {},
   "outputs": [
    {
     "name": "stderr",
     "output_type": "stream",
     "text": [
      "C:\\Users\\zhuya\\Anaconda3\\envs\\tensorflow\\lib\\site-packages\\gensim\\utils.py:862: UserWarning: detected Windows; aliasing chunkize to chunkize_serial\n",
      "  warnings.warn(\"detected Windows; aliasing chunkize to chunkize_serial\")\n",
      "Using TensorFlow backend.\n",
      "C:\\Users\\zhuya\\Anaconda3\\envs\\tensorflow\\lib\\site-packages\\sklearn\\cross_validation.py:41: DeprecationWarning: This module was deprecated in version 0.18 in favor of the model_selection module into which all the refactored classes and functions are moved. Also note that the interface of the new CV iterators are different from that of this module. This module will be removed in 0.20.\n",
      "  \"This module will be removed in 0.20.\", DeprecationWarning)\n"
     ]
    }
   ],
   "source": [
    "import os\n",
    "import re\n",
    "import tqdm\n",
    "import string\n",
    "import pandas as pd\n",
    "import numpy as np\n",
    "import util\n",
    "from sklearn.decomposition import TruncatedSVD\n",
    "from data_preprocessing import *\n",
    "import word_embedding_load as wel\n",
    "from classification import *\n",
    "from xgboost_classifier import *\n",
    "from testaccuracy import *"
   ]
  },
  {
   "cell_type": "code",
   "execution_count": 2,
   "metadata": {
    "collapsed": true
   },
   "outputs": [],
   "source": [
    "[all_data, train_size, test_size, train_x, train_y, test_x] = util.loadData()\n",
    "sentences = data_preprocess(all_data)"
   ]
  },
  {
   "cell_type": "code",
   "execution_count": 3,
   "metadata": {
    "collapsed": true
   },
   "outputs": [],
   "source": [
    "Text_INPUT_DIM=200\n",
    "GENE_INPUT_DIM=25\n",
    "TEXT_INPUT_DIM=200\n",
    "PATH = '../model/doc2vec/'\n",
    "modelName='docEmbeddings_win30_load_all.d2v'"
   ]
  },
  {
   "cell_type": "code",
   "execution_count": 4,
   "metadata": {
    "collapsed": true
   },
   "outputs": [],
   "source": [
    "param = util.Doc2VecParam(1, 2, 200, 1e-4, 5, 4, 30, 1)"
   ]
  },
  {
   "cell_type": "code",
   "execution_count": 5,
   "metadata": {
    "collapsed": true
   },
   "outputs": [],
   "source": [
    "svd = TruncatedSVD(n_components=GENE_INPUT_DIM, n_iter=25, random_state=12)"
   ]
  },
  {
   "cell_type": "code",
   "execution_count": 6,
   "metadata": {},
   "outputs": [
    {
     "name": "stdout",
     "output_type": "stream",
     "text": [
      "Successfully loaded the textmodel from ../model/doc2vec/docEmbeddings_win30_load_all.d2v\n"
     ]
    }
   ],
   "source": [
    "#load a pre-trained text model\n",
    "text_model = wel.loadTextModel(PATH + modelName)\n",
    "\n",
    "#To train a new text model, default without outside data:\n",
    "#text_model = wel.trainTextModel(sentences, param, 'newModelName', PATH)\n",
    "\n",
    "#To train a new text model with outside data:\n",
    "#sourceFile = '../data/bio_nlp_vec/PubMed-shuffle-win-30.bin'\n",
    "#text_model = wel.trainTextModel(sentences, param, 'newModelName', PATH, True, sourceFile)"
   ]
  },
  {
   "cell_type": "code",
   "execution_count": 7,
   "metadata": {
    "collapsed": true
   },
   "outputs": [],
   "source": [
    "truncated_one_hot_gene = wel.getGeneVec(all_data, svd)\n",
    "truncated_one_hot_variation = wel.getVariationVec(all_data, svd)\n",
    "text_train_arrays, text_test_arrays = wel.getTextVec(text_model, train_size, test_size, TEXT_INPUT_DIM)"
   ]
  },
  {
   "cell_type": "code",
   "execution_count": 8,
   "metadata": {},
   "outputs": [
    {
     "name": "stdout",
     "output_type": "stream",
     "text": [
      "(3689, 200)\n",
      "(986, 200)\n"
     ]
    },
    {
     "data": {
      "text/plain": [
       "array([  1.26882315,   4.29688072,  -0.39038292,  -1.35480559,\n",
       "        -7.99099302,   4.77952766,   2.07057571,  -6.03570271,\n",
       "         0.86446071,   0.17202322,  -2.32006383,  -5.02870607,\n",
       "         6.17888403,  -0.33701557,  -1.9275701 ,  -4.0776453 ,\n",
       "        -0.09364942,  -2.15795469,   6.18154764,  -0.85709518,\n",
       "         3.39536762,  -2.35704374,   2.01819372,   2.00250816,\n",
       "        -2.80324435,  -1.02548444,  -8.66605091,  -4.82370663,\n",
       "         1.46748042,  -1.77919805,   3.44936085,   1.01866448,\n",
       "        -2.25563884,   5.47780323,  -3.01734948,  -4.96943665,\n",
       "         5.47637558,   6.81975794,  -6.858356  ,   4.44475985,\n",
       "         5.04804468,   1.93569362,  -1.02952111,   4.82035208,\n",
       "         4.84539604,   1.75127947,  -2.98756957,   2.69090438,\n",
       "         3.09679723,  -1.40729642,  -2.39587927,  -3.08425999,\n",
       "        -4.78242826,   0.60178131,  -1.22717583,   1.39289582,\n",
       "         3.20111299,  -3.3035841 ,  -1.39491498,  -0.63641626,\n",
       "         5.13298321,   3.72240472,  -7.51442385,   1.8516885 ,\n",
       "        -4.88651514,  -1.45495379,   2.01302576,   3.04722762,\n",
       "         0.11051378,  -6.57093668,   6.06087494,  -0.61167759,\n",
       "         4.96027517,  -3.13528228,  -6.90446663,   3.47242904,\n",
       "         2.35698938,  -5.86416912,  -1.91866398,  -3.93560958,\n",
       "        -1.05911148,   4.99971199,  -3.4770267 ,  -3.87379766,\n",
       "         0.30840349,  -8.70010376,   1.59937036,  -1.09231234,\n",
       "         5.93300819,   5.95688057,   5.84385538,   2.8082602 ,\n",
       "        -8.37995148,  -5.46461058,   6.28388166,   1.28767073,\n",
       "         5.22980928,  -0.96867514,   1.94742227,   1.75390804,\n",
       "        -0.62273747,  -4.32118607,  -2.39648175,   1.58767605,\n",
       "         5.13036537,   2.1489718 ,  -4.84158659,   0.13575916,\n",
       "        -0.9371748 ,   0.84898746,   7.28374577,  -1.47118771,\n",
       "        -6.63243341,  -8.34322262,   4.0225482 ,   5.79200172,\n",
       "         0.38585845,   1.49494731,  -7.84748507,   0.14071739,\n",
       "         0.28553963,   2.38586164,  -3.2775085 ,  -2.66684031,\n",
       "       -12.51475048,  -3.9522059 ,   3.99966717,  -0.06996217,\n",
       "        -1.02266383,  -1.32054877,  -0.55594498,   6.49171209,\n",
       "        -5.25268745,   1.52528322,   2.60282397,   4.61633825,\n",
       "         3.0439744 ,   3.83140135,  -0.28964326,  -2.62097692,\n",
       "         6.90558481,   5.66409063,   0.59007317,   1.10882044,\n",
       "         8.91846371,   2.0910542 ,   0.22964981,   5.85307741,\n",
       "         0.19095956,   7.77365112,  -8.43704414,   2.34406376,\n",
       "         1.94256127,   7.86369085,  -3.2263999 ,   0.15307111,\n",
       "        -1.67707753,   0.92646736,   7.45261669,  -1.61606336,\n",
       "        -0.01810012,   0.0151953 ,  -0.82770884,   0.18709694,\n",
       "       -10.3729248 ,  -3.79367018,  -0.01998394,  -2.69801116,\n",
       "         2.77848411,  -3.40242028,   1.88550568,   7.48389339,\n",
       "         1.15261984,   0.13570395,   0.17612015,   2.07140326,\n",
       "         1.86739194,  -4.83535051,  -6.8343215 ,  -2.6784513 ,\n",
       "         1.14210749,   0.20386359,   2.56413198,   5.47524357,\n",
       "        -3.11662126,   6.91925526,   1.63820171,  -4.04282904,\n",
       "        -1.71229708,  -1.82037711,   1.22913778,  -4.10257387,\n",
       "        -2.51509023,  -8.01251411,  -1.24027872,  -4.36969233,\n",
       "        -1.77097118,   2.30460072,  -4.764256  ,   0.15195805])"
      ]
     },
     "execution_count": 8,
     "metadata": {},
     "output_type": "execute_result"
    }
   ],
   "source": [
    "print(text_train_arrays.shape)\n",
    "print(text_test_arrays.shape)\n",
    "text_train_arrays[0]"
   ]
  },
  {
   "cell_type": "code",
   "execution_count": 9,
   "metadata": {},
   "outputs": [
    {
     "name": "stdout",
     "output_type": "stream",
     "text": [
      "(3689, 9)\n"
     ]
    }
   ],
   "source": [
    "train_set = np.hstack((truncated_one_hot_gene[:train_size], truncated_one_hot_variation[:train_size], text_train_arrays))\n",
    "test_set = np.hstack((truncated_one_hot_gene[train_size:], truncated_one_hot_variation[train_size:], text_test_arrays))\n",
    "encoded_y = pd.get_dummies(train_y)\n",
    "encoded_y = np.array(encoded_y)\n",
    "print(encoded_y.shape)"
   ]
  },
  {
   "cell_type": "code",
   "execution_count": 10,
   "metadata": {},
   "outputs": [
    {
     "name": "stdout",
     "output_type": "stream",
     "text": [
      "(3689, 250)\n",
      "(986, 250)\n"
     ]
    },
    {
     "data": {
      "text/plain": [
       "array([  1.00000000e+00,   4.18523246e-19,   1.82140582e-19,\n",
       "         5.52932734e-29,   9.01317672e-25,   1.47967745e-22,\n",
       "        -8.38240178e-21,   2.00300590e-21,   9.74158370e-21,\n",
       "        -9.34683441e-21,   1.91083889e-20,   6.55003880e-19,\n",
       "        -1.09276438e-17,  -1.56730196e-18,  -2.12913704e-18,\n",
       "        -4.51096312e-18,  -3.82900024e-19,   1.15894157e-17,\n",
       "         1.59938703e-17,   3.58735292e-17,  -3.35304994e-18,\n",
       "         1.68462844e-17,   6.76851697e-18,   5.86047343e-17,\n",
       "         7.80129580e-21])"
      ]
     },
     "execution_count": 10,
     "metadata": {},
     "output_type": "execute_result"
    }
   ],
   "source": [
    "print(train_set.shape)\n",
    "print(test_set.shape)\n",
    "train_set[0, 25:50]"
   ]
  },
  {
   "cell_type": "code",
   "execution_count": 11,
   "metadata": {
    "collapsed": true
   },
   "outputs": [],
   "source": [
    "#the xgboost classfication model\n",
    "#first deal with the input label, transfrom it from 1-9 to 0-8(required by the xgboost)\n",
    "for i in range(len(train_y)):\n",
    "    train_y[i] -=1  "
   ]
  },
  {
   "cell_type": "code",
   "execution_count": 12,
   "metadata": {},
   "outputs": [
    {
     "name": "stdout",
     "output_type": "stream",
     "text": [
      "[0]\ttrain-mlogloss:2.11739\tvalid-mlogloss:2.1377\n",
      "Multiple eval metrics have been passed: 'valid-mlogloss' will be used for early stopping.\n",
      "\n",
      "Will train until valid-mlogloss hasn't improved in 100 rounds.\n",
      "[25]\ttrain-mlogloss:1.0666\tvalid-mlogloss:1.42621\n",
      "[50]\ttrain-mlogloss:0.629127\tvalid-mlogloss:1.17486\n",
      "[75]\ttrain-mlogloss:0.394962\tvalid-mlogloss:1.059\n",
      "[100]\ttrain-mlogloss:0.262461\tvalid-mlogloss:1.00856\n",
      "[125]\ttrain-mlogloss:0.18144\tvalid-mlogloss:0.9899\n",
      "[150]\ttrain-mlogloss:0.129314\tvalid-mlogloss:0.982268\n",
      "[175]\ttrain-mlogloss:0.092984\tvalid-mlogloss:0.982589\n",
      "[200]\ttrain-mlogloss:0.068722\tvalid-mlogloss:0.986811\n",
      "[225]\ttrain-mlogloss:0.052683\tvalid-mlogloss:0.994001\n",
      "[250]\ttrain-mlogloss:0.041477\tvalid-mlogloss:1.00315\n",
      "Stopping. Best iteration:\n",
      "[158]\ttrain-mlogloss:0.116016\tvalid-mlogloss:0.98189\n",
      "\n",
      "final validation loss:\n",
      "0.98189047508\n",
      "final validation accuracy:\n",
      "0.658536585366\n",
      "[0]\ttrain-mlogloss:2.12019\tvalid-mlogloss:2.1408\n",
      "Multiple eval metrics have been passed: 'valid-mlogloss' will be used for early stopping.\n",
      "\n",
      "Will train until valid-mlogloss hasn't improved in 100 rounds.\n",
      "[25]\ttrain-mlogloss:1.10589\tvalid-mlogloss:1.41413\n",
      "[50]\ttrain-mlogloss:0.656092\tvalid-mlogloss:1.12351\n",
      "[75]\ttrain-mlogloss:0.419651\tvalid-mlogloss:0.992592\n",
      "[100]\ttrain-mlogloss:0.281613\tvalid-mlogloss:0.917111\n",
      "[125]\ttrain-mlogloss:0.196315\tvalid-mlogloss:0.875987\n",
      "[150]\ttrain-mlogloss:0.140579\tvalid-mlogloss:0.855221\n",
      "[175]\ttrain-mlogloss:0.101535\tvalid-mlogloss:0.843103\n",
      "[200]\ttrain-mlogloss:0.075268\tvalid-mlogloss:0.845924\n",
      "[225]\ttrain-mlogloss:0.057316\tvalid-mlogloss:0.850085\n",
      "[250]\ttrain-mlogloss:0.045367\tvalid-mlogloss:0.856192\n",
      "[275]\ttrain-mlogloss:0.036807\tvalid-mlogloss:0.860752\n",
      "Stopping. Best iteration:\n",
      "[175]\ttrain-mlogloss:0.101535\tvalid-mlogloss:0.843103\n",
      "\n",
      "final validation loss:\n",
      "0.84310343436\n",
      "final validation accuracy:\n",
      "0.728997289973\n",
      "[0]\ttrain-mlogloss:2.11916\tvalid-mlogloss:2.1444\n",
      "Multiple eval metrics have been passed: 'valid-mlogloss' will be used for early stopping.\n",
      "\n",
      "Will train until valid-mlogloss hasn't improved in 100 rounds.\n",
      "[25]\ttrain-mlogloss:1.07995\tvalid-mlogloss:1.43634\n",
      "[50]\ttrain-mlogloss:0.642643\tvalid-mlogloss:1.15173\n",
      "[75]\ttrain-mlogloss:0.400118\tvalid-mlogloss:1.03033\n",
      "[100]\ttrain-mlogloss:0.263081\tvalid-mlogloss:0.961024\n",
      "[125]\ttrain-mlogloss:0.182644\tvalid-mlogloss:0.923084\n",
      "[150]\ttrain-mlogloss:0.131087\tvalid-mlogloss:0.90373\n",
      "[175]\ttrain-mlogloss:0.096177\tvalid-mlogloss:0.893578\n",
      "[200]\ttrain-mlogloss:0.071976\tvalid-mlogloss:0.889004\n",
      "[225]\ttrain-mlogloss:0.055065\tvalid-mlogloss:0.886607\n",
      "[250]\ttrain-mlogloss:0.043521\tvalid-mlogloss:0.890194\n",
      "[275]\ttrain-mlogloss:0.035387\tvalid-mlogloss:0.893537\n",
      "[300]\ttrain-mlogloss:0.029455\tvalid-mlogloss:0.895847\n",
      "[325]\ttrain-mlogloss:0.025143\tvalid-mlogloss:0.902728\n",
      "Stopping. Best iteration:\n",
      "[225]\ttrain-mlogloss:0.055065\tvalid-mlogloss:0.886607\n",
      "\n",
      "final validation loss:\n",
      "0.886607234346\n",
      "final validation accuracy:\n",
      "0.672086720867\n",
      "[0]\ttrain-mlogloss:2.11845\tvalid-mlogloss:2.13713\n",
      "Multiple eval metrics have been passed: 'valid-mlogloss' will be used for early stopping.\n",
      "\n",
      "Will train until valid-mlogloss hasn't improved in 100 rounds.\n",
      "[25]\ttrain-mlogloss:1.08655\tvalid-mlogloss:1.41927\n",
      "[50]\ttrain-mlogloss:0.630182\tvalid-mlogloss:1.15145\n",
      "[75]\ttrain-mlogloss:0.395261\tvalid-mlogloss:1.03361\n",
      "[100]\ttrain-mlogloss:0.261802\tvalid-mlogloss:0.977026\n",
      "[125]\ttrain-mlogloss:0.178696\tvalid-mlogloss:0.945339\n",
      "[150]\ttrain-mlogloss:0.127754\tvalid-mlogloss:0.932439\n",
      "[175]\ttrain-mlogloss:0.092799\tvalid-mlogloss:0.930631\n",
      "[200]\ttrain-mlogloss:0.069432\tvalid-mlogloss:0.937098\n",
      "[225]\ttrain-mlogloss:0.053724\tvalid-mlogloss:0.945373\n",
      "[250]\ttrain-mlogloss:0.04252\tvalid-mlogloss:0.954006\n",
      "Stopping. Best iteration:\n",
      "[170]\ttrain-mlogloss:0.098889\tvalid-mlogloss:0.929699\n",
      "\n",
      "final validation loss:\n",
      "0.92969934291\n",
      "final validation accuracy:\n",
      "0.663956639566\n",
      "[0]\ttrain-mlogloss:2.12002\tvalid-mlogloss:2.13998\n",
      "Multiple eval metrics have been passed: 'valid-mlogloss' will be used for early stopping.\n",
      "\n",
      "Will train until valid-mlogloss hasn't improved in 100 rounds.\n",
      "[25]\ttrain-mlogloss:1.08535\tvalid-mlogloss:1.44079\n",
      "[50]\ttrain-mlogloss:0.646326\tvalid-mlogloss:1.17317\n",
      "[75]\ttrain-mlogloss:0.407622\tvalid-mlogloss:1.04861\n",
      "[100]\ttrain-mlogloss:0.266501\tvalid-mlogloss:0.980993\n",
      "[125]\ttrain-mlogloss:0.184027\tvalid-mlogloss:0.947372\n",
      "[150]\ttrain-mlogloss:0.129965\tvalid-mlogloss:0.93298\n",
      "[175]\ttrain-mlogloss:0.094664\tvalid-mlogloss:0.928404\n",
      "[200]\ttrain-mlogloss:0.070544\tvalid-mlogloss:0.928755\n",
      "[225]\ttrain-mlogloss:0.054228\tvalid-mlogloss:0.931585\n",
      "[250]\ttrain-mlogloss:0.042907\tvalid-mlogloss:0.936623\n",
      "[275]\ttrain-mlogloss:0.034732\tvalid-mlogloss:0.944977\n",
      "Stopping. Best iteration:\n",
      "[178]\ttrain-mlogloss:0.091206\tvalid-mlogloss:0.928067\n",
      "\n",
      "final validation loss:\n",
      "0.92806742864\n",
      "final validation accuracy:\n",
      "0.666666666667\n",
      "[0]\ttrain-mlogloss:2.11868\tvalid-mlogloss:2.14393\n",
      "Multiple eval metrics have been passed: 'valid-mlogloss' will be used for early stopping.\n",
      "\n",
      "Will train until valid-mlogloss hasn't improved in 100 rounds.\n",
      "[25]\ttrain-mlogloss:1.08196\tvalid-mlogloss:1.4902\n",
      "[50]\ttrain-mlogloss:0.634119\tvalid-mlogloss:1.25323\n",
      "[75]\ttrain-mlogloss:0.401048\tvalid-mlogloss:1.15241\n",
      "[100]\ttrain-mlogloss:0.264316\tvalid-mlogloss:1.10494\n",
      "[125]\ttrain-mlogloss:0.180467\tvalid-mlogloss:1.08488\n",
      "[150]\ttrain-mlogloss:0.126403\tvalid-mlogloss:1.07746\n",
      "[175]\ttrain-mlogloss:0.091816\tvalid-mlogloss:1.08596\n",
      "[200]\ttrain-mlogloss:0.068872\tvalid-mlogloss:1.0985\n",
      "[225]\ttrain-mlogloss:0.05275\tvalid-mlogloss:1.11119\n",
      "[250]\ttrain-mlogloss:0.0416\tvalid-mlogloss:1.12219\n",
      "Stopping. Best iteration:\n",
      "[155]\ttrain-mlogloss:0.118145\tvalid-mlogloss:1.07644\n",
      "\n",
      "final validation loss:\n",
      "1.07644171221\n",
      "final validation accuracy:\n",
      "0.639566395664\n",
      "[0]\ttrain-mlogloss:2.11868\tvalid-mlogloss:2.13993\n",
      "Multiple eval metrics have been passed: 'valid-mlogloss' will be used for early stopping.\n",
      "\n",
      "Will train until valid-mlogloss hasn't improved in 100 rounds.\n",
      "[25]\ttrain-mlogloss:1.08211\tvalid-mlogloss:1.43571\n",
      "[50]\ttrain-mlogloss:0.631975\tvalid-mlogloss:1.16987\n",
      "[75]\ttrain-mlogloss:0.400321\tvalid-mlogloss:1.04584\n",
      "[100]\ttrain-mlogloss:0.265526\tvalid-mlogloss:0.977753\n",
      "[125]\ttrain-mlogloss:0.186599\tvalid-mlogloss:0.94467\n",
      "[150]\ttrain-mlogloss:0.134799\tvalid-mlogloss:0.93029\n",
      "[175]\ttrain-mlogloss:0.098582\tvalid-mlogloss:0.922645\n",
      "[200]\ttrain-mlogloss:0.073403\tvalid-mlogloss:0.925337\n",
      "[225]\ttrain-mlogloss:0.056038\tvalid-mlogloss:0.934824\n",
      "[250]\ttrain-mlogloss:0.04411\tvalid-mlogloss:0.942391\n",
      "[275]\ttrain-mlogloss:0.035834\tvalid-mlogloss:0.951497\n",
      "Stopping. Best iteration:\n",
      "[176]\ttrain-mlogloss:0.097522\tvalid-mlogloss:0.922312\n",
      "\n",
      "final validation loss:\n",
      "0.922311653386\n",
      "final validation accuracy:\n",
      "0.677506775068\n",
      "[0]\ttrain-mlogloss:2.11895\tvalid-mlogloss:2.13876\n",
      "Multiple eval metrics have been passed: 'valid-mlogloss' will be used for early stopping.\n",
      "\n",
      "Will train until valid-mlogloss hasn't improved in 100 rounds.\n",
      "[25]\ttrain-mlogloss:1.0796\tvalid-mlogloss:1.45694\n",
      "[50]\ttrain-mlogloss:0.636421\tvalid-mlogloss:1.19591\n",
      "[75]\ttrain-mlogloss:0.40304\tvalid-mlogloss:1.06643\n",
      "[100]\ttrain-mlogloss:0.265847\tvalid-mlogloss:1.00506\n",
      "[125]\ttrain-mlogloss:0.18495\tvalid-mlogloss:0.965961\n",
      "[150]\ttrain-mlogloss:0.13039\tvalid-mlogloss:0.950972\n",
      "[175]\ttrain-mlogloss:0.094596\tvalid-mlogloss:0.952489\n",
      "[200]\ttrain-mlogloss:0.070244\tvalid-mlogloss:0.956209\n",
      "[225]\ttrain-mlogloss:0.054124\tvalid-mlogloss:0.961981\n",
      "[250]\ttrain-mlogloss:0.04274\tvalid-mlogloss:0.968645\n",
      "Stopping. Best iteration:\n",
      "[155]\ttrain-mlogloss:0.122026\tvalid-mlogloss:0.949262\n",
      "\n",
      "final validation loss:\n",
      "0.949262043078\n",
      "final validation accuracy:\n",
      "0.677506775068\n",
      "[0]\ttrain-mlogloss:2.11726\tvalid-mlogloss:2.14116\n",
      "Multiple eval metrics have been passed: 'valid-mlogloss' will be used for early stopping.\n",
      "\n",
      "Will train until valid-mlogloss hasn't improved in 100 rounds.\n",
      "[25]\ttrain-mlogloss:1.08948\tvalid-mlogloss:1.41172\n",
      "[50]\ttrain-mlogloss:0.637413\tvalid-mlogloss:1.12855\n",
      "[75]\ttrain-mlogloss:0.401065\tvalid-mlogloss:0.998821\n",
      "[100]\ttrain-mlogloss:0.265546\tvalid-mlogloss:0.929673\n",
      "[125]\ttrain-mlogloss:0.182922\tvalid-mlogloss:0.893633\n",
      "[150]\ttrain-mlogloss:0.129715\tvalid-mlogloss:0.879734\n",
      "[175]\ttrain-mlogloss:0.093694\tvalid-mlogloss:0.871178\n",
      "[200]\ttrain-mlogloss:0.069809\tvalid-mlogloss:0.866186\n",
      "[225]\ttrain-mlogloss:0.05352\tvalid-mlogloss:0.867716\n",
      "[250]\ttrain-mlogloss:0.042306\tvalid-mlogloss:0.871864\n"
     ]
    },
    {
     "name": "stdout",
     "output_type": "stream",
     "text": [
      "[275]\ttrain-mlogloss:0.034341\tvalid-mlogloss:0.875786\n",
      "Stopping. Best iteration:\n",
      "[198]\ttrain-mlogloss:0.071312\tvalid-mlogloss:0.866032\n",
      "\n",
      "final validation loss:\n",
      "0.866031590758\n",
      "final validation accuracy:\n",
      "0.682926829268\n",
      "[0]\ttrain-mlogloss:2.11902\tvalid-mlogloss:2.14278\n",
      "Multiple eval metrics have been passed: 'valid-mlogloss' will be used for early stopping.\n",
      "\n",
      "Will train until valid-mlogloss hasn't improved in 100 rounds.\n",
      "[25]\ttrain-mlogloss:1.08314\tvalid-mlogloss:1.48533\n",
      "[50]\ttrain-mlogloss:0.628049\tvalid-mlogloss:1.23945\n",
      "[75]\ttrain-mlogloss:0.389495\tvalid-mlogloss:1.12241\n",
      "[100]\ttrain-mlogloss:0.25542\tvalid-mlogloss:1.07188\n",
      "[125]\ttrain-mlogloss:0.176232\tvalid-mlogloss:1.05239\n",
      "[150]\ttrain-mlogloss:0.126066\tvalid-mlogloss:1.04494\n",
      "[175]\ttrain-mlogloss:0.092964\tvalid-mlogloss:1.04477\n",
      "[200]\ttrain-mlogloss:0.069353\tvalid-mlogloss:1.04915\n",
      "[225]\ttrain-mlogloss:0.053213\tvalid-mlogloss:1.05658\n",
      "[250]\ttrain-mlogloss:0.042004\tvalid-mlogloss:1.06862\n",
      "Stopping. Best iteration:\n",
      "[167]\ttrain-mlogloss:0.102218\tvalid-mlogloss:1.04255\n",
      "\n",
      "final validation loss:\n",
      "1.04255380609\n",
      "final validation accuracy:\n",
      "0.626016260163\n",
      "Accuracy: 0.6694 ± 0.0261\n",
      "NMI: 0.4563 ± 0.0328\n",
      "Log_loss: 0.9426 ± 0.0701\n",
      "Normalized confusion matrix\n",
      "[[ 0.66309342  0.01990812  0.00459418  0.19908116  0.06125574  0.01990812\n",
      "   0.03215926  0.          0.        ]\n",
      " [ 0.02574257  0.48712871  0.0019802   0.01188119  0.01188119  0.00990099\n",
      "   0.44950495  0.0019802   0.        ]\n",
      " [ 0.08571429  0.          0.19047619  0.21904762  0.06666667  0.\n",
      "   0.43809524  0.          0.        ]\n",
      " [ 0.17254408  0.00881612  0.01007557  0.73677582  0.03274559  0.00251889\n",
      "   0.03652393  0.          0.        ]\n",
      " [ 0.29317269  0.06024096  0.00803213  0.08835341  0.35742972  0.04819277\n",
      "   0.14457831  0.          0.        ]\n",
      " [ 0.09556314  0.04778157  0.00682594  0.06143345  0.03412969  0.60068259\n",
      "   0.15358362  0.          0.        ]\n",
      " [ 0.00488759  0.08602151  0.00977517  0.01368524  0.00879765  0.00391007\n",
      "   0.87292278  0.          0.        ]\n",
      " [ 0.          0.23809524  0.          0.          0.          0.\n",
      "   0.38095238  0.0952381   0.28571429]\n",
      " [ 0.10638298  0.          0.          0.10638298  0.          0.\n",
      "   0.21276596  0.0212766   0.55319149]]\n"
     ]
    },
    {
     "data": {
      "image/png": "[encoded data removed]",
      "text/plain": [
       "<matplotlib.figure.Figure at 0x19db87ee5f8>"
      ]
     },
     "metadata": {},
     "output_type": "display_data"
    }
   ],
   "source": [
    "y_predict = xgbclassifier(train_set, train_y, test_set, 10, 8, 1000)"
   ]
  },
  {
   "cell_type": "code",
   "execution_count": 13,
   "metadata": {
    "collapsed": true
   },
   "outputs": [],
   "source": [
    "savesubmisstion(y_predict, test_x, filename = \"submission_allwin2load30fold.csv\")"
   ]
  },
  {
   "cell_type": "code",
   "execution_count": null,
   "metadata": {
    "collapsed": true
   },
   "outputs": [],
   "source": []
  }
 ],
 "metadata": {
  "kernelspec": {
   "display_name": "Python 3",
   "language": "python",
   "name": "python3"
  },
  "language_info": {
   "codemirror_mode": {
    "name": "ipython",
    "version": 3
   },
   "file_extension": ".py",
   "mimetype": "text/x-python",
   "name": "python",
   "nbconvert_exporter": "python",
   "pygments_lexer": "ipython3",
   "version": "3.5.4"
  }
 },
 "nbformat": 4,
 "nbformat_minor": 2
}
