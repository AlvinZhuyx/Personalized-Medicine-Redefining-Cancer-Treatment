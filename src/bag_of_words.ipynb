{
 "cells": [
  {
   "cell_type": "code",
   "execution_count": 2,
   "metadata": {},
   "outputs": [
    {
     "name": "stderr",
     "output_type": "stream",
     "text": [
      "/Applications/anaconda2/envs/py36/lib/python3.6/site-packages/sklearn/cross_validation.py:41: DeprecationWarning: This module was deprecated in version 0.18 in favor of the model_selection module into which all the refactored classes and functions are moved. Also note that the interface of the new CV iterators are different from that of this module. This module will be removed in 0.20.\n",
      "  \"This module will be removed in 0.20.\", DeprecationWarning)\n"
     ]
    }
   ],
   "source": [
    "import os\n",
    "import re\n",
    "import tqdm\n",
    "import string\n",
    "import pandas as pd\n",
    "import numpy as np\n",
    "import util\n",
    "from sklearn.decomposition import TruncatedSVD\n",
    "#from data_preprocessing import *\n",
    "import word_embedding_load as wel\n",
    "import baseline_classification as bc\n",
    "import matplotlib.pyplot as plt\n",
    "from xgboost_classifier import *\n",
    "import feature_selection_evaluation as fse\n",
    "from sklearn.feature_extraction.text import CountVectorizer\n",
    "from sklearn.feature_extraction.text import TfidfVectorizer\n",
    "from sklearn.feature_extraction import text\n",
    "import nltk"
   ]
  },
  {
   "cell_type": "code",
   "execution_count": 3,
   "metadata": {
    "collapsed": true
   },
   "outputs": [],
   "source": [
    "[all_data, train_size, test_size, train_x, train_y, test_x] = util.loadData()"
   ]
  },
  {
   "cell_type": "code",
   "execution_count": 4,
   "metadata": {
    "collapsed": true
   },
   "outputs": [],
   "source": [
    "count_vectorizer = CountVectorizer(\n",
    "    analyzer=\"word\", tokenizer=nltk.word_tokenize,\n",
    "    preprocessor=None, stop_words='english', max_features=None)"
   ]
  },
  {
   "cell_type": "code",
   "execution_count": 5,
   "metadata": {
    "collapsed": true
   },
   "outputs": [],
   "source": [
    "bag_of_words = count_vectorizer.fit_transform(all_data['Text'])"
   ]
  },
  {
   "cell_type": "code",
   "execution_count": 6,
   "metadata": {},
   "outputs": [
    {
     "name": "stdout",
     "output_type": "stream",
     "text": [
      "(3689, 310723)\n",
      "(986, 310723)\n"
     ]
    }
   ],
   "source": [
    "X_bow_train = bag_of_words[:train_size]\n",
    "X_bow_test = bag_of_words[train_size:]\n",
    "\n",
    "print(X_bow_train.shape)\n",
    "print(X_bow_test.shape)"
   ]
  },
  {
   "cell_type": "code",
   "execution_count": 7,
   "metadata": {
    "collapsed": true
   },
   "outputs": [],
   "source": [
    "svd = TruncatedSVD(n_components=200, n_iter=25, random_state=12)\n",
    "X_bow_train_k = svd.fit_transform(X_bow_train)\n",
    "svd = TruncatedSVD(n_components=200, n_iter=25, random_state=25)\n",
    "X_bow_test_k = svd.fit_transform(X_bow_test)"
   ]
  },
  {
   "cell_type": "code",
   "execution_count": 8,
   "metadata": {
    "collapsed": true
   },
   "outputs": [],
   "source": [
    "svd = TruncatedSVD(n_components=25, n_iter=25, random_state=12)\n",
    "truncated_one_hot_gene = wel.getGeneVec(all_data, svd)\n",
    "truncated_one_hot_variation = wel.getVariationVec(all_data, svd)"
   ]
  },
  {
   "cell_type": "code",
   "execution_count": 9,
   "metadata": {
    "collapsed": true
   },
   "outputs": [],
   "source": [
    "train_set = np.hstack((truncated_one_hot_gene[:train_size], truncated_one_hot_variation[:train_size], X_bow_train_k))\n",
    "test_set = np.hstack((truncated_one_hot_gene[train_size:], truncated_one_hot_variation[train_size:], X_bow_test_k))\n",
    "\n",
    "encoded_y = pd.get_dummies(train_y)\n",
    "encoded_y = np.array(encoded_y)\n",
    "y = np.array(bc.getLabels(encoded_y))\n",
    "X_bow = np.array(train_set)"
   ]
  },
  {
   "cell_type": "code",
   "execution_count": 10,
   "metadata": {},
   "outputs": [
    {
     "name": "stdout",
     "output_type": "stream",
     "text": [
      "(3689, 250)\n",
      "(3689,)\n"
     ]
    }
   ],
   "source": [
    "print(X_bow.shape)\n",
    "print(y.shape)"
   ]
  },
  {
   "cell_type": "code",
   "execution_count": 11,
   "metadata": {},
   "outputs": [
    {
     "name": "stdout",
     "output_type": "stream",
     "text": [
      "[0]\ttrain-mlogloss:2.12226\tvalid-mlogloss:2.13784\n",
      "Multiple eval metrics have been passed: 'valid-mlogloss' will be used for early stopping.\n",
      "\n",
      "Will train until valid-mlogloss hasn't improved in 100 rounds.\n",
      "[25]\ttrain-mlogloss:1.14855\tvalid-mlogloss:1.41701\n",
      "[50]\ttrain-mlogloss:0.734761\tvalid-mlogloss:1.16043\n",
      "[75]\ttrain-mlogloss:0.483175\tvalid-mlogloss:1.04019\n",
      "[100]\ttrain-mlogloss:0.336755\tvalid-mlogloss:0.981469\n",
      "[125]\ttrain-mlogloss:0.240524\tvalid-mlogloss:0.955722\n",
      "[150]\ttrain-mlogloss:0.175764\tvalid-mlogloss:0.947425\n",
      "[175]\ttrain-mlogloss:0.128857\tvalid-mlogloss:0.944929\n",
      "[200]\ttrain-mlogloss:0.096717\tvalid-mlogloss:0.947579\n",
      "[225]\ttrain-mlogloss:0.074241\tvalid-mlogloss:0.950755\n",
      "[250]\ttrain-mlogloss:0.058275\tvalid-mlogloss:0.959733\n",
      "[275]\ttrain-mlogloss:0.046595\tvalid-mlogloss:0.967679\n",
      "Stopping. Best iteration:\n",
      "[179]\ttrain-mlogloss:0.1231\tvalid-mlogloss:0.944739\n",
      "\n",
      "final validation loss:\n",
      "0.944738555676\n",
      "final validation accuracy:\n",
      "0.681203007519\n",
      "[0]\ttrain-mlogloss:2.12146\tvalid-mlogloss:2.13806\n",
      "Multiple eval metrics have been passed: 'valid-mlogloss' will be used for early stopping.\n",
      "\n",
      "Will train until valid-mlogloss hasn't improved in 100 rounds.\n",
      "[25]\ttrain-mlogloss:1.16194\tvalid-mlogloss:1.41962\n",
      "[50]\ttrain-mlogloss:0.740856\tvalid-mlogloss:1.14583\n",
      "[75]\ttrain-mlogloss:0.502737\tvalid-mlogloss:1.01499\n",
      "[100]\ttrain-mlogloss:0.352859\tvalid-mlogloss:0.949479\n",
      "[125]\ttrain-mlogloss:0.256356\tvalid-mlogloss:0.912923\n",
      "[150]\ttrain-mlogloss:0.187846\tvalid-mlogloss:0.895746\n",
      "[175]\ttrain-mlogloss:0.142219\tvalid-mlogloss:0.89105\n",
      "[200]\ttrain-mlogloss:0.108604\tvalid-mlogloss:0.891413\n",
      "[225]\ttrain-mlogloss:0.082547\tvalid-mlogloss:0.895243\n",
      "[250]\ttrain-mlogloss:0.063756\tvalid-mlogloss:0.901832\n",
      "[275]\ttrain-mlogloss:0.050874\tvalid-mlogloss:0.90863\n",
      "Stopping. Best iteration:\n",
      "[182]\ttrain-mlogloss:0.131824\tvalid-mlogloss:0.890357\n",
      "\n",
      "final validation loss:\n",
      "0.890356868805\n",
      "final validation accuracy:\n",
      "0.702255639098\n",
      "[0]\ttrain-mlogloss:2.12289\tvalid-mlogloss:2.13967\n",
      "Multiple eval metrics have been passed: 'valid-mlogloss' will be used for early stopping.\n",
      "\n",
      "Will train until valid-mlogloss hasn't improved in 100 rounds.\n",
      "[25]\ttrain-mlogloss:1.14958\tvalid-mlogloss:1.43009\n",
      "[50]\ttrain-mlogloss:0.727067\tvalid-mlogloss:1.17114\n",
      "[75]\ttrain-mlogloss:0.482383\tvalid-mlogloss:1.04176\n",
      "[100]\ttrain-mlogloss:0.339393\tvalid-mlogloss:0.976238\n",
      "[125]\ttrain-mlogloss:0.24403\tvalid-mlogloss:0.941995\n",
      "[150]\ttrain-mlogloss:0.180966\tvalid-mlogloss:0.92941\n",
      "[175]\ttrain-mlogloss:0.133481\tvalid-mlogloss:0.924891\n",
      "[200]\ttrain-mlogloss:0.099032\tvalid-mlogloss:0.927826\n",
      "[225]\ttrain-mlogloss:0.075045\tvalid-mlogloss:0.930629\n",
      "[250]\ttrain-mlogloss:0.058797\tvalid-mlogloss:0.935657\n",
      "[275]\ttrain-mlogloss:0.047188\tvalid-mlogloss:0.942226\n",
      "Stopping. Best iteration:\n",
      "[180]\ttrain-mlogloss:0.124977\tvalid-mlogloss:0.924525\n",
      "\n",
      "final validation loss:\n",
      "0.924525331196\n",
      "final validation accuracy:\n",
      "0.694736842105\n",
      "[0]\ttrain-mlogloss:2.12452\tvalid-mlogloss:2.13408\n",
      "Multiple eval metrics have been passed: 'valid-mlogloss' will be used for early stopping.\n",
      "\n",
      "Will train until valid-mlogloss hasn't improved in 100 rounds.\n",
      "[25]\ttrain-mlogloss:1.18121\tvalid-mlogloss:1.37964\n",
      "[50]\ttrain-mlogloss:0.752697\tvalid-mlogloss:1.09892\n",
      "[75]\ttrain-mlogloss:0.510317\tvalid-mlogloss:0.966076\n",
      "[100]\ttrain-mlogloss:0.361262\tvalid-mlogloss:0.898941\n",
      "[125]\ttrain-mlogloss:0.263231\tvalid-mlogloss:0.858044\n",
      "[150]\ttrain-mlogloss:0.196061\tvalid-mlogloss:0.840819\n",
      "[175]\ttrain-mlogloss:0.143627\tvalid-mlogloss:0.834062\n",
      "[200]\ttrain-mlogloss:0.108411\tvalid-mlogloss:0.829468\n",
      "[225]\ttrain-mlogloss:0.08202\tvalid-mlogloss:0.830281\n",
      "[250]\ttrain-mlogloss:0.063177\tvalid-mlogloss:0.83192\n",
      "[275]\ttrain-mlogloss:0.050069\tvalid-mlogloss:0.836116\n",
      "[300]\ttrain-mlogloss:0.040945\tvalid-mlogloss:0.84403\n",
      "Stopping. Best iteration:\n",
      "[207]\ttrain-mlogloss:0.100496\tvalid-mlogloss:0.828787\n",
      "\n",
      "final validation loss:\n",
      "0.82878685454\n",
      "final validation accuracy:\n",
      "0.721804511278\n",
      "[0]\ttrain-mlogloss:2.12204\tvalid-mlogloss:2.13815\n",
      "Multiple eval metrics have been passed: 'valid-mlogloss' will be used for early stopping.\n",
      "\n",
      "Will train until valid-mlogloss hasn't improved in 100 rounds.\n",
      "[25]\ttrain-mlogloss:1.16119\tvalid-mlogloss:1.43121\n",
      "[50]\ttrain-mlogloss:0.737759\tvalid-mlogloss:1.1712\n",
      "[75]\ttrain-mlogloss:0.493573\tvalid-mlogloss:1.04643\n",
      "[100]\ttrain-mlogloss:0.340807\tvalid-mlogloss:0.975393\n",
      "[125]\ttrain-mlogloss:0.246306\tvalid-mlogloss:0.938331\n",
      "[150]\ttrain-mlogloss:0.181448\tvalid-mlogloss:0.919728\n",
      "[175]\ttrain-mlogloss:0.134446\tvalid-mlogloss:0.909142\n",
      "[200]\ttrain-mlogloss:0.101166\tvalid-mlogloss:0.907343\n",
      "[225]\ttrain-mlogloss:0.078153\tvalid-mlogloss:0.908235\n",
      "[250]\ttrain-mlogloss:0.061143\tvalid-mlogloss:0.910742\n",
      "[275]\ttrain-mlogloss:0.049051\tvalid-mlogloss:0.91494\n",
      "[300]\ttrain-mlogloss:0.040158\tvalid-mlogloss:0.922763\n",
      "Stopping. Best iteration:\n",
      "[202]\ttrain-mlogloss:0.098768\tvalid-mlogloss:0.90711\n",
      "\n",
      "final validation loss:\n",
      "0.907109634996\n",
      "final validation accuracy:\n",
      "0.685714285714\n",
      "[0]\ttrain-mlogloss:2.12214\tvalid-mlogloss:2.14063\n",
      "Multiple eval metrics have been passed: 'valid-mlogloss' will be used for early stopping.\n",
      "\n",
      "Will train until valid-mlogloss hasn't improved in 100 rounds.\n",
      "[25]\ttrain-mlogloss:1.17203\tvalid-mlogloss:1.45648\n",
      "[50]\ttrain-mlogloss:0.739493\tvalid-mlogloss:1.2113\n",
      "[75]\ttrain-mlogloss:0.493477\tvalid-mlogloss:1.09266\n",
      "[100]\ttrain-mlogloss:0.343903\tvalid-mlogloss:1.03935\n",
      "[125]\ttrain-mlogloss:0.244234\tvalid-mlogloss:1.01115\n",
      "[150]\ttrain-mlogloss:0.178112\tvalid-mlogloss:1.00373\n",
      "[175]\ttrain-mlogloss:0.13125\tvalid-mlogloss:1.00633\n",
      "[200]\ttrain-mlogloss:0.098501\tvalid-mlogloss:1.01387\n",
      "[225]\ttrain-mlogloss:0.0747\tvalid-mlogloss:1.0246\n",
      "[250]\ttrain-mlogloss:0.058692\tvalid-mlogloss:1.03446\n",
      "Stopping. Best iteration:\n",
      "[164]\ttrain-mlogloss:0.150011\tvalid-mlogloss:1.00342\n",
      "\n",
      "final validation loss:\n",
      "1.00341651404\n",
      "final validation accuracy:\n",
      "0.676691729323\n",
      "[0]\ttrain-mlogloss:2.12343\tvalid-mlogloss:2.13716\n",
      "Multiple eval metrics have been passed: 'valid-mlogloss' will be used for early stopping.\n",
      "\n",
      "Will train until valid-mlogloss hasn't improved in 100 rounds.\n",
      "[25]\ttrain-mlogloss:1.1633\tvalid-mlogloss:1.41703\n",
      "[50]\ttrain-mlogloss:0.732355\tvalid-mlogloss:1.1481\n",
      "[75]\ttrain-mlogloss:0.487318\tvalid-mlogloss:1.02416\n",
      "[100]\ttrain-mlogloss:0.341439\tvalid-mlogloss:0.96557\n",
      "[125]\ttrain-mlogloss:0.247317\tvalid-mlogloss:0.938774\n",
      "[150]\ttrain-mlogloss:0.183265\tvalid-mlogloss:0.927792\n",
      "[175]\ttrain-mlogloss:0.134662\tvalid-mlogloss:0.927466\n",
      "[200]\ttrain-mlogloss:0.099538\tvalid-mlogloss:0.930641\n",
      "[225]\ttrain-mlogloss:0.076744\tvalid-mlogloss:0.934796\n",
      "[250]\ttrain-mlogloss:0.060078\tvalid-mlogloss:0.941318\n",
      "Stopping. Best iteration:\n",
      "[167]\ttrain-mlogloss:0.147805\tvalid-mlogloss:0.926147\n",
      "\n",
      "final validation loss:\n",
      "0.926147322484\n",
      "final validation accuracy:\n",
      "0.700751879699\n",
      "[0]\ttrain-mlogloss:2.12181\tvalid-mlogloss:2.13683\n",
      "Multiple eval metrics have been passed: 'valid-mlogloss' will be used for early stopping.\n",
      "\n",
      "Will train until valid-mlogloss hasn't improved in 100 rounds.\n",
      "[25]\ttrain-mlogloss:1.15939\tvalid-mlogloss:1.43366\n",
      "[50]\ttrain-mlogloss:0.723376\tvalid-mlogloss:1.16676\n",
      "[75]\ttrain-mlogloss:0.483938\tvalid-mlogloss:1.03672\n",
      "[100]\ttrain-mlogloss:0.341182\tvalid-mlogloss:0.969345\n",
      "[125]\ttrain-mlogloss:0.244549\tvalid-mlogloss:0.934387\n",
      "[150]\ttrain-mlogloss:0.179582\tvalid-mlogloss:0.921784\n",
      "[175]\ttrain-mlogloss:0.133777\tvalid-mlogloss:0.916731\n",
      "[200]\ttrain-mlogloss:0.099273\tvalid-mlogloss:0.919623\n",
      "[225]\ttrain-mlogloss:0.075368\tvalid-mlogloss:0.924308\n",
      "[250]\ttrain-mlogloss:0.058479\tvalid-mlogloss:0.930407\n",
      "Stopping. Best iteration:\n",
      "[170]\ttrain-mlogloss:0.141521\tvalid-mlogloss:0.916636\n",
      "\n",
      "final validation loss:\n",
      "0.916635505516\n",
      "final validation accuracy:\n",
      "0.676691729323\n",
      "[0]\ttrain-mlogloss:2.122\tvalid-mlogloss:2.13765\n",
      "Multiple eval metrics have been passed: 'valid-mlogloss' will be used for early stopping.\n",
      "\n",
      "Will train until valid-mlogloss hasn't improved in 100 rounds.\n",
      "[25]\ttrain-mlogloss:1.15289\tvalid-mlogloss:1.41528\n",
      "[50]\ttrain-mlogloss:0.73146\tvalid-mlogloss:1.15259\n",
      "[75]\ttrain-mlogloss:0.496503\tvalid-mlogloss:1.02645\n",
      "[100]\ttrain-mlogloss:0.35287\tvalid-mlogloss:0.962609\n",
      "[125]\ttrain-mlogloss:0.254038\tvalid-mlogloss:0.928548\n",
      "[150]\ttrain-mlogloss:0.184398\tvalid-mlogloss:0.914041\n",
      "[175]\ttrain-mlogloss:0.135808\tvalid-mlogloss:0.910196\n",
      "[200]\ttrain-mlogloss:0.100017\tvalid-mlogloss:0.912322\n",
      "[225]\ttrain-mlogloss:0.076295\tvalid-mlogloss:0.918515\n"
     ]
    },
    {
     "name": "stdout",
     "output_type": "stream",
     "text": [
      "[250]\ttrain-mlogloss:0.059215\tvalid-mlogloss:0.925355\n",
      "Stopping. Best iteration:\n",
      "[169]\ttrain-mlogloss:0.145909\tvalid-mlogloss:0.909569\n",
      "\n",
      "final validation loss:\n",
      "0.909568851223\n",
      "final validation accuracy:\n",
      "0.687218045113\n",
      "[0]\ttrain-mlogloss:2.12212\tvalid-mlogloss:2.13911\n",
      "Multiple eval metrics have been passed: 'valid-mlogloss' will be used for early stopping.\n",
      "\n",
      "Will train until valid-mlogloss hasn't improved in 100 rounds.\n",
      "[25]\ttrain-mlogloss:1.14646\tvalid-mlogloss:1.47121\n",
      "[50]\ttrain-mlogloss:0.722028\tvalid-mlogloss:1.22927\n",
      "[75]\ttrain-mlogloss:0.480894\tvalid-mlogloss:1.11043\n",
      "[100]\ttrain-mlogloss:0.330979\tvalid-mlogloss:1.05554\n",
      "[125]\ttrain-mlogloss:0.236147\tvalid-mlogloss:1.02956\n",
      "[150]\ttrain-mlogloss:0.171102\tvalid-mlogloss:1.02122\n",
      "[175]\ttrain-mlogloss:0.126201\tvalid-mlogloss:1.02426\n",
      "[200]\ttrain-mlogloss:0.094758\tvalid-mlogloss:1.03187\n",
      "[225]\ttrain-mlogloss:0.072263\tvalid-mlogloss:1.04043\n",
      "[250]\ttrain-mlogloss:0.056442\tvalid-mlogloss:1.05136\n",
      "Stopping. Best iteration:\n",
      "[153]\ttrain-mlogloss:0.165514\tvalid-mlogloss:1.02092\n",
      "\n",
      "final validation loss:\n",
      "1.02091996523\n",
      "final validation accuracy:\n",
      "0.669172932331\n",
      "Accuracy: 0.6896 ± 0.0148\n",
      "NMI: 0.4558 ± 0.0177\n",
      "Log_loss: 0.9272 ± 0.0517\n",
      "Normalized confusion matrix\n",
      "[[  6.74728941e-01   1.08423686e-02   3.33611343e-03   1.74311927e-01\n",
      "    6.25521268e-02   2.58548791e-02   4.83736447e-02   0.00000000e+00\n",
      "    0.00000000e+00]\n",
      " [  1.48401826e-02   5.13698630e-01   2.28310502e-03   1.25570776e-02\n",
      "    4.56621005e-03   1.36986301e-02   4.38356164e-01   0.00000000e+00\n",
      "    0.00000000e+00]\n",
      " [  3.37078652e-02   0.00000000e+00   3.08988764e-01   2.30337079e-01\n",
      "    4.49438202e-02   1.12359551e-02   3.70786517e-01   0.00000000e+00\n",
      "    0.00000000e+00]\n",
      " [  1.47230321e-01   7.28862974e-03   8.01749271e-03   7.45626822e-01\n",
      "    1.96793003e-02   8.74635569e-03   6.12244898e-02   7.28862974e-04\n",
      "    1.45772595e-03]\n",
      " [  2.57995736e-01   5.33049041e-02   6.39658849e-03   9.59488273e-02\n",
      "    3.75266525e-01   3.19829424e-02   1.79104478e-01   0.00000000e+00\n",
      "    0.00000000e+00]\n",
      " [  1.07547170e-01   3.01886792e-02   5.66037736e-03   4.71698113e-02\n",
      "    5.09433962e-02   6.09433962e-01   1.49056604e-01   0.00000000e+00\n",
      "    0.00000000e+00]\n",
      " [  4.73435034e-03   5.89163598e-02   1.26249342e-02   1.68332457e-02\n",
      "    8.94266176e-03   3.15623356e-03   8.93214098e-01   0.00000000e+00\n",
      "    1.57811678e-03]\n",
      " [  4.54545455e-02   2.27272727e-01   0.00000000e+00   2.27272727e-02\n",
      "    0.00000000e+00   0.00000000e+00   5.22727273e-01   4.54545455e-02\n",
      "    1.36363636e-01]\n",
      " [  7.40740741e-02   0.00000000e+00   0.00000000e+00   9.87654321e-02\n",
      "    1.23456790e-02   0.00000000e+00   1.48148148e-01   4.93827160e-02\n",
      "    6.17283951e-01]]\n"
     ]
    },
    {
     "data": {
      "image/png": "[encoded data removed]",
      "text/plain": [
       "<matplotlib.figure.Figure at 0x1a1f52c978>"
      ]
     },
     "metadata": {},
     "output_type": "display_data"
    }
   ],
   "source": [
    "y_predict = xgbclassifier(train_set, y, test_set, 10, 8, 1000)"
   ]
  },
  {
   "cell_type": "code",
   "execution_count": 15,
   "metadata": {},
   "outputs": [],
   "source": [
    "from testaccuracy import *\n",
    "savesubmisstion(y_predict, test_x, filename = \"bag_of_words.csv\")"
   ]
  },
  {
   "cell_type": "code",
   "execution_count": 78,
   "metadata": {},
   "outputs": [
    {
     "name": "stdout",
     "output_type": "stream",
     "text": [
      "Accuracy: 0.5687 ± 0.0204\n",
      "NMI: 0.3146 ± 0.0215\n",
      "Log_loss: 7.5583 ± 0.4221\n",
      "Normalized confusion matrix\n",
      "[[ 0.58761329  0.04833837  0.01359517  0.14954683  0.0755287   0.03323263\n",
      "   0.09063444  0.00151057  0.        ]\n",
      " [ 0.11445783  0.46586345  0.00200803  0.04618474  0.01606426  0.02811245\n",
      "   0.32730924  0.          0.        ]\n",
      " [ 0.13541667  0.02083333  0.33333333  0.19791667  0.04166667  0.\n",
      "   0.27083333  0.          0.        ]\n",
      " [ 0.23035952  0.03728362  0.01731025  0.64713715  0.01198402  0.00798935\n",
      "   0.04793609  0.          0.        ]\n",
      " [ 0.26966292  0.07490637  0.02996255  0.11235955  0.39700375  0.01498127\n",
      "   0.1011236   0.          0.        ]\n",
      " [ 0.15824916  0.06397306  0.01683502  0.05050505  0.03703704  0.5993266\n",
      "   0.07407407  0.          0.        ]\n",
      " [ 0.09392789  0.17172676  0.0256167   0.05882353  0.0170778   0.00379507\n",
      "   0.62523719  0.00094877  0.0028463 ]\n",
      " [ 0.23809524  0.38095238  0.          0.          0.          0.\n",
      "   0.33333333  0.          0.04761905]\n",
      " [ 0.1627907   0.13953488  0.          0.1627907   0.          0.\n",
      "   0.13953488  0.02325581  0.37209302]]\n"
     ]
    },
    {
     "data": {
      "image/png": "[encoded data removed]",
      "text/plain": [
       "<matplotlib.figure.Figure at 0x1a33ea7c88>"
      ]
     },
     "metadata": {},
     "output_type": "display_data"
    },
    {
     "data": {
      "text/plain": [
       "array([[ 0.58761329,  0.04833837,  0.01359517,  0.14954683,  0.0755287 ,\n",
       "         0.03323263,  0.09063444,  0.00151057,  0.        ],\n",
       "       [ 0.11445783,  0.46586345,  0.00200803,  0.04618474,  0.01606426,\n",
       "         0.02811245,  0.32730924,  0.        ,  0.        ],\n",
       "       [ 0.13541667,  0.02083333,  0.33333333,  0.19791667,  0.04166667,\n",
       "         0.        ,  0.27083333,  0.        ,  0.        ],\n",
       "       [ 0.23035952,  0.03728362,  0.01731025,  0.64713715,  0.01198402,\n",
       "         0.00798935,  0.04793609,  0.        ,  0.        ],\n",
       "       [ 0.26966292,  0.07490637,  0.02996255,  0.11235955,  0.39700375,\n",
       "         0.01498127,  0.1011236 ,  0.        ,  0.        ],\n",
       "       [ 0.15824916,  0.06397306,  0.01683502,  0.05050505,  0.03703704,\n",
       "         0.5993266 ,  0.07407407,  0.        ,  0.        ],\n",
       "       [ 0.09392789,  0.17172676,  0.0256167 ,  0.05882353,  0.0170778 ,\n",
       "         0.00379507,  0.62523719,  0.00094877,  0.0028463 ],\n",
       "       [ 0.23809524,  0.38095238,  0.        ,  0.        ,  0.        ,\n",
       "         0.        ,  0.33333333,  0.        ,  0.04761905],\n",
       "       [ 0.1627907 ,  0.13953488,  0.        ,  0.1627907 ,  0.        ,\n",
       "         0.        ,  0.13953488,  0.02325581,  0.37209302]])"
      ]
     },
     "execution_count": 78,
     "metadata": {},
     "output_type": "execute_result"
    }
   ],
   "source": [
    "bc.baseline(X_bow, y)"
   ]
  },
  {
   "cell_type": "code",
   "execution_count": null,
   "metadata": {
    "collapsed": true
   },
   "outputs": [],
   "source": []
  },
  {
   "cell_type": "code",
   "execution_count": 79,
   "metadata": {
    "collapsed": true
   },
   "outputs": [],
   "source": [
    "import pickle\n",
    "# save\n",
    "with open('../data/feature/X_bow_test.pkl', 'wb') as f:\n",
    "    pickle.dump(X_bow_test, f)\n",
    "    f.close()\n",
    "with open('../data/feature/X_bow_train.pkl', 'wb') as f:\n",
    "    pickle.dump(X_bow, f)\n",
    "    f.close()\n",
    "with open('../data/feature/label_bow.pkl', 'wb') as f:\n",
    "    pickle.dump(y, f)\n",
    "    f.close()"
   ]
  },
  {
   "cell_type": "code",
   "execution_count": 80,
   "metadata": {
    "collapsed": true
   },
   "outputs": [],
   "source": [
    "#load\n",
    "with open('../data/feature/X_bow_test.pkl', 'rb') as f:\n",
    "    X_bow_test = pickle.load(f)\n",
    "    f.close()\n",
    "with open('../data/feature/X_bow_train.pkl', 'rb') as f:\n",
    "    X_bow = pickle.load(f)\n",
    "    f.close()\n",
    "with open('../data/feature/label_bow.pkl', 'rb') as f:\n",
    "    y = pickle.load(f)\n",
    "    f.close()\n"
   ]
  },
  {
   "cell_type": "code",
   "execution_count": null,
   "metadata": {
    "collapsed": true
   },
   "outputs": [],
   "source": []
  }
 ],
 "metadata": {
  "kernelspec": {
   "display_name": "Python 3",
   "language": "python",
   "name": "python3"
  },
  "language_info": {
   "codemirror_mode": {
    "name": "ipython",
    "version": 3
   },
   "file_extension": ".py",
   "mimetype": "text/x-python",
   "name": "python",
   "nbconvert_exporter": "python",
   "pygments_lexer": "ipython3",
   "version": "3.6.3"
  }
 },
 "nbformat": 4,
 "nbformat_minor": 2
}
