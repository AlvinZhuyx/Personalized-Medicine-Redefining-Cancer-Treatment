{
 "cells": [
  {
   "cell_type": "code",
   "execution_count": 14,
   "metadata": {},
   "outputs": [],
   "source": [
    "import os\n",
    "import re\n",
    "import tqdm\n",
    "import string\n",
    "import pandas as pd\n",
    "import numpy as np\n",
    "import util\n",
    "from sklearn.decomposition import TruncatedSVD\n",
    "from data_preprocessing import *\n",
    "import word_embedding_load as wel\n",
    "from classification import *\n",
    "from xgboost_classifier import *\n",
    "from testaccuracy import *"
   ]
  },
  {
   "cell_type": "code",
   "execution_count": 15,
   "metadata": {
    "collapsed": true
   },
   "outputs": [],
   "source": [
    "[all_data, train_size, test_size, train_x, train_y, test_x] = util.loadData()\n",
    "sentences = data_preprocess(all_data)"
   ]
  },
  {
   "cell_type": "code",
   "execution_count": 16,
   "metadata": {
    "collapsed": true
   },
   "outputs": [],
   "source": [
    "Text_INPUT_DIM=200\n",
    "GENE_INPUT_DIM=100\n",
    "TEXT_INPUT_DIM=200"
   ]
  },
  {
   "cell_type": "code",
   "execution_count": 17,
   "metadata": {
    "collapsed": true
   },
   "outputs": [],
   "source": [
    "svd = TruncatedSVD(n_components=GENE_INPUT_DIM, n_iter=25, random_state=12)"
   ]
  },
  {
   "cell_type": "code",
   "execution_count": 18,
   "metadata": {},
   "outputs": [],
   "source": [
    "truncated_one_hot_gene = wel.getGeneVec(all_data, svd)\n",
    "truncated_one_hot_variation = wel.getVariationVec(all_data, svd)"
   ]
  },
  {
   "cell_type": "code",
   "execution_count": 19,
   "metadata": {},
   "outputs": [
    {
     "name": "stdout",
     "output_type": "stream",
     "text": [
      "(3689, 9)\n"
     ]
    }
   ],
   "source": [
    "train_set = np.hstack((truncated_one_hot_gene[:train_size], truncated_one_hot_variation[:train_size]))\n",
    "test_set = np.hstack((truncated_one_hot_gene[train_size:], truncated_one_hot_variation[train_size:]))\n",
    "encoded_y = pd.get_dummies(train_y)\n",
    "encoded_y = np.array(encoded_y)\n",
    "print(encoded_y.shape)"
   ]
  },
  {
   "cell_type": "code",
   "execution_count": 20,
   "metadata": {},
   "outputs": [
    {
     "name": "stdout",
     "output_type": "stream",
     "text": [
      "(3689, 200)\n",
      "(986, 200)\n"
     ]
    },
    {
     "data": {
      "text/plain": [
       "array([  7.76916933e-24,  -3.53450521e-23,   5.31491802e-23,\n",
       "         2.51339257e-21,  -3.63598663e-21,   2.30917952e-20,\n",
       "        -7.39341277e-21,  -2.21096698e-20,   2.14299368e-20,\n",
       "        -4.86843729e-21,  -5.92934867e-20,  -2.03106444e-22,\n",
       "         1.54878336e-20,  -8.47291848e-21,   2.88034068e-22,\n",
       "        -9.48737097e-23,  -2.63938359e-20,   6.08685031e-21,\n",
       "         1.13193970e-21,  -1.54651858e-21,   1.03682071e-22,\n",
       "        -5.84588211e-22,   9.40684492e-22,   1.07367049e-23,\n",
       "         1.19962006e-23])"
      ]
     },
     "execution_count": 20,
     "metadata": {},
     "output_type": "execute_result"
    }
   ],
   "source": [
    "print(train_set.shape)\n",
    "print(test_set.shape)\n",
    "train_set[0, 25:50]"
   ]
  },
  {
   "cell_type": "code",
   "execution_count": 21,
   "metadata": {
    "collapsed": true
   },
   "outputs": [],
   "source": [
    "#the xgboost classfication model\n",
    "#first deal with the input label, transfrom it from 1-9 to 0-8(required by the xgboost)\n",
    "for i in range(len(train_y)):\n",
    "    train_y[i] -=1  "
   ]
  },
  {
   "cell_type": "code",
   "execution_count": 22,
   "metadata": {},
   "outputs": [
    {
     "name": "stdout",
     "output_type": "stream",
     "text": [
      "[0]\ttrain-mlogloss:2.12624\tvalid-mlogloss:2.14912\n",
      "Multiple eval metrics have been passed: 'valid-mlogloss' will be used for early stopping.\n",
      "\n",
      "Will train until valid-mlogloss hasn't improved in 100 rounds.\n",
      "[25]\ttrain-mlogloss:1.18483\tvalid-mlogloss:1.54605\n",
      "[50]\ttrain-mlogloss:0.774752\tvalid-mlogloss:1.33676\n",
      "[75]\ttrain-mlogloss:0.549671\tvalid-mlogloss:1.24813\n",
      "[100]\ttrain-mlogloss:0.400179\tvalid-mlogloss:1.21325\n",
      "[125]\ttrain-mlogloss:0.293736\tvalid-mlogloss:1.20167\n",
      "[150]\ttrain-mlogloss:0.217797\tvalid-mlogloss:1.19216\n",
      "[175]\ttrain-mlogloss:0.164637\tvalid-mlogloss:1.18945\n",
      "[200]\ttrain-mlogloss:0.126945\tvalid-mlogloss:1.19636\n",
      "[225]\ttrain-mlogloss:0.098692\tvalid-mlogloss:1.20344\n",
      "[250]\ttrain-mlogloss:0.078175\tvalid-mlogloss:1.21442\n",
      "Stopping. Best iteration:\n",
      "[174]\ttrain-mlogloss:0.166182\tvalid-mlogloss:1.18937\n",
      "\n",
      "final validation loss:\n",
      "1.18936974097\n",
      "final validation accuracy:\n",
      "0.571428571429\n"
     ]
    }
   ],
   "source": [
    "y_predict = xgbclassifier(train_set, train_y, test_set, 1, 8, 1000)"
   ]
  },
  {
   "cell_type": "code",
   "execution_count": 23,
   "metadata": {
    "collapsed": true
   },
   "outputs": [],
   "source": [
    "savesubmisstion(y_predict, test_x, filename = \"submission_allwin2loadgeneonly.csv\")"
   ]
  },
  {
   "cell_type": "code",
   "execution_count": null,
   "metadata": {
    "collapsed": true
   },
   "outputs": [],
   "source": []
  }
 ],
 "metadata": {
  "kernelspec": {
   "display_name": "Python 3",
   "language": "python",
   "name": "python3"
  },
  "language_info": {
   "codemirror_mode": {
    "name": "ipython",
    "version": 3
   },
   "file_extension": ".py",
   "mimetype": "text/x-python",
   "name": "python",
   "nbconvert_exporter": "python",
   "pygments_lexer": "ipython3",
   "version": "3.5.4"
  }
 },
 "nbformat": 4,
 "nbformat_minor": 2
}
