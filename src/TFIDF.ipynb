{
 "cells": [
  {
   "cell_type": "code",
   "execution_count": 1,
   "metadata": {},
   "outputs": [
    {
     "name": "stderr",
     "output_type": "stream",
     "text": [
      "/Applications/anaconda2/envs/py36/lib/python3.6/site-packages/sklearn/cross_validation.py:41: DeprecationWarning: This module was deprecated in version 0.18 in favor of the model_selection module into which all the refactored classes and functions are moved. Also note that the interface of the new CV iterators are different from that of this module. This module will be removed in 0.20.\n",
      "  \"This module will be removed in 0.20.\", DeprecationWarning)\n"
     ]
    }
   ],
   "source": [
    "import os\n",
    "import re\n",
    "import tqdm\n",
    "import string\n",
    "import pandas as pd\n",
    "import numpy as np\n",
    "import util\n",
    "from sklearn.decomposition import TruncatedSVD\n",
    "#from data_preprocessing import *\n",
    "import word_embedding_load as wel\n",
    "import baseline_classification as bc\n",
    "import matplotlib.pyplot as plt\n",
    "import feature_selection_evaluation as fse\n",
    "from sklearn.feature_extraction.text import CountVectorizer\n",
    "from sklearn.feature_extraction.text import TfidfVectorizer\n",
    "from sklearn.feature_extraction import text\n",
    "from xgboost_classifier import *\n",
    "import nltk"
   ]
  },
  {
   "cell_type": "code",
   "execution_count": 2,
   "metadata": {
    "collapsed": true
   },
   "outputs": [],
   "source": [
    "[all_data, train_size, test_size, train_x, train_y, test_x] = util.loadData()"
   ]
  },
  {
   "cell_type": "code",
   "execution_count": 3,
   "metadata": {
    "collapsed": true
   },
   "outputs": [],
   "source": [
    "mstop_words = text.ENGLISH_STOP_WORDS\n",
    "english_stemmer = nltk.stem.SnowballStemmer('english')\n",
    "\n",
    "class StemmedTfidfVectorizer(TfidfVectorizer):\n",
    "    def build_analyzer(self):\n",
    "        analyzer = super(StemmedTfidfVectorizer, self).build_analyzer()\n",
    "        return lambda doc: (english_stemmer.stem(w) for w in analyzer(doc))\n",
    "vectorizer = StemmedTfidfVectorizer(\n",
    "    min_df=1, stop_words=mstop_words, decode_error='ignore')"
   ]
  },
  {
   "cell_type": "code",
   "execution_count": 4,
   "metadata": {
    "collapsed": true
   },
   "outputs": [],
   "source": [
    "X = vectorizer.fit_transform(all_data['Text'])"
   ]
  },
  {
   "cell_type": "code",
   "execution_count": 5,
   "metadata": {},
   "outputs": [
    {
     "name": "stdout",
     "output_type": "stream",
     "text": [
      "(4675, 152719)\n"
     ]
    }
   ],
   "source": [
    "print(X.shape)"
   ]
  },
  {
   "cell_type": "code",
   "execution_count": 8,
   "metadata": {
    "collapsed": true
   },
   "outputs": [],
   "source": [
    "X_tfidf_train = X[:train_size]\n",
    "X_tfidf_test = X[train_size:]"
   ]
  },
  {
   "cell_type": "code",
   "execution_count": 9,
   "metadata": {},
   "outputs": [],
   "source": [
    "svd = TruncatedSVD(n_components=200, n_iter=25, random_state=12)\n",
    "X_tfidf_train_k = svd.fit_transform(X_tfidf_train)\n",
    "svd = TruncatedSVD(n_components=200, n_iter=25, random_state=25)\n",
    "X_tfidf_test_k = svd.fit_transform(X_tfidf_test)"
   ]
  },
  {
   "cell_type": "code",
   "execution_count": 10,
   "metadata": {
    "collapsed": true
   },
   "outputs": [],
   "source": [
    "svd = TruncatedSVD(n_components=25, n_iter=25, random_state=12)\n",
    "truncated_one_hot_gene = wel.getGeneVec(all_data, svd)\n",
    "truncated_one_hot_variation = wel.getVariationVec(all_data, svd)"
   ]
  },
  {
   "cell_type": "code",
   "execution_count": 11,
   "metadata": {
    "collapsed": true
   },
   "outputs": [],
   "source": [
    "train_set = np.hstack((truncated_one_hot_gene[:train_size], truncated_one_hot_variation[:train_size], X_tfidf_train_k))\n",
    "test_set = np.hstack((truncated_one_hot_gene[train_size:], truncated_one_hot_variation[train_size:], X_tfidf_test_k))\n",
    "\n",
    "encoded_y = pd.get_dummies(train_y)\n",
    "encoded_y = np.array(encoded_y)\n",
    "y = np.array(bc.getLabels(encoded_y))\n",
    "X_tfidf = np.array(train_set)\n",
    "X_tfidf_test = np.array(test_set)"
   ]
  },
  {
   "cell_type": "code",
   "execution_count": 12,
   "metadata": {},
   "outputs": [
    {
     "name": "stdout",
     "output_type": "stream",
     "text": [
      "[0]\ttrain-mlogloss:2.11859\tvalid-mlogloss:2.1358\n",
      "Multiple eval metrics have been passed: 'valid-mlogloss' will be used for early stopping.\n",
      "\n",
      "Will train until valid-mlogloss hasn't improved in 100 rounds.\n",
      "[25]\ttrain-mlogloss:1.12184\tvalid-mlogloss:1.40382\n",
      "[50]\ttrain-mlogloss:0.698392\tvalid-mlogloss:1.13758\n",
      "[75]\ttrain-mlogloss:0.468273\tvalid-mlogloss:1.01319\n",
      "[100]\ttrain-mlogloss:0.322696\tvalid-mlogloss:0.961221\n",
      "[125]\ttrain-mlogloss:0.231018\tvalid-mlogloss:0.936706\n",
      "[150]\ttrain-mlogloss:0.167798\tvalid-mlogloss:0.925419\n",
      "[175]\ttrain-mlogloss:0.124701\tvalid-mlogloss:0.923906\n",
      "[200]\ttrain-mlogloss:0.092979\tvalid-mlogloss:0.928714\n",
      "[225]\ttrain-mlogloss:0.071793\tvalid-mlogloss:0.936726\n",
      "[250]\ttrain-mlogloss:0.056092\tvalid-mlogloss:0.948135\n",
      "Stopping. Best iteration:\n",
      "[161]\ttrain-mlogloss:0.146608\tvalid-mlogloss:0.923157\n",
      "\n",
      "final validation loss:\n",
      "0.923157027346\n",
      "final validation accuracy:\n",
      "0.670676691729\n",
      "[0]\ttrain-mlogloss:2.1196\tvalid-mlogloss:2.13116\n",
      "Multiple eval metrics have been passed: 'valid-mlogloss' will be used for early stopping.\n",
      "\n",
      "Will train until valid-mlogloss hasn't improved in 100 rounds.\n",
      "[25]\ttrain-mlogloss:1.11533\tvalid-mlogloss:1.36425\n",
      "[50]\ttrain-mlogloss:0.714339\tvalid-mlogloss:1.09607\n",
      "[75]\ttrain-mlogloss:0.480282\tvalid-mlogloss:0.963258\n",
      "[100]\ttrain-mlogloss:0.338959\tvalid-mlogloss:0.905372\n",
      "[125]\ttrain-mlogloss:0.244308\tvalid-mlogloss:0.876337\n",
      "[150]\ttrain-mlogloss:0.179721\tvalid-mlogloss:0.864254\n",
      "[175]\ttrain-mlogloss:0.133173\tvalid-mlogloss:0.859796\n",
      "[200]\ttrain-mlogloss:0.100631\tvalid-mlogloss:0.860864\n",
      "[225]\ttrain-mlogloss:0.077056\tvalid-mlogloss:0.866551\n",
      "[250]\ttrain-mlogloss:0.059333\tvalid-mlogloss:0.874624\n",
      "[275]\ttrain-mlogloss:0.047211\tvalid-mlogloss:0.884328\n",
      "Stopping. Best iteration:\n",
      "[179]\ttrain-mlogloss:0.126907\tvalid-mlogloss:0.859344\n",
      "\n",
      "final validation loss:\n",
      "0.859343502995\n",
      "final validation accuracy:\n",
      "0.699248120301\n",
      "[0]\ttrain-mlogloss:2.11879\tvalid-mlogloss:2.13429\n",
      "Multiple eval metrics have been passed: 'valid-mlogloss' will be used for early stopping.\n",
      "\n",
      "Will train until valid-mlogloss hasn't improved in 100 rounds.\n",
      "[25]\ttrain-mlogloss:1.11668\tvalid-mlogloss:1.37972\n",
      "[50]\ttrain-mlogloss:0.695545\tvalid-mlogloss:1.11847\n",
      "[75]\ttrain-mlogloss:0.476948\tvalid-mlogloss:0.992519\n",
      "[100]\ttrain-mlogloss:0.335159\tvalid-mlogloss:0.924142\n",
      "[125]\ttrain-mlogloss:0.244976\tvalid-mlogloss:0.896218\n",
      "[150]\ttrain-mlogloss:0.187366\tvalid-mlogloss:0.880519\n",
      "[175]\ttrain-mlogloss:0.13781\tvalid-mlogloss:0.877968\n",
      "[200]\ttrain-mlogloss:0.102338\tvalid-mlogloss:0.881885\n",
      "[225]\ttrain-mlogloss:0.077319\tvalid-mlogloss:0.887142\n",
      "[250]\ttrain-mlogloss:0.060369\tvalid-mlogloss:0.893309\n",
      "Stopping. Best iteration:\n",
      "[170]\ttrain-mlogloss:0.145989\tvalid-mlogloss:0.877687\n",
      "\n",
      "final validation loss:\n",
      "0.877687038217\n",
      "final validation accuracy:\n",
      "0.700751879699\n",
      "[0]\ttrain-mlogloss:2.12064\tvalid-mlogloss:2.13107\n",
      "Multiple eval metrics have been passed: 'valid-mlogloss' will be used for early stopping.\n",
      "\n",
      "Will train until valid-mlogloss hasn't improved in 100 rounds.\n",
      "[25]\ttrain-mlogloss:1.12121\tvalid-mlogloss:1.3386\n",
      "[50]\ttrain-mlogloss:0.712533\tvalid-mlogloss:1.05729\n",
      "[75]\ttrain-mlogloss:0.493821\tvalid-mlogloss:0.932166\n",
      "[100]\ttrain-mlogloss:0.346891\tvalid-mlogloss:0.869994\n",
      "[125]\ttrain-mlogloss:0.252497\tvalid-mlogloss:0.8366\n",
      "[150]\ttrain-mlogloss:0.188579\tvalid-mlogloss:0.819956\n",
      "[175]\ttrain-mlogloss:0.139873\tvalid-mlogloss:0.819223\n",
      "[200]\ttrain-mlogloss:0.104348\tvalid-mlogloss:0.821837\n",
      "[225]\ttrain-mlogloss:0.080013\tvalid-mlogloss:0.825828\n",
      "[250]\ttrain-mlogloss:0.062591\tvalid-mlogloss:0.82996\n",
      "Stopping. Best iteration:\n",
      "[156]\ttrain-mlogloss:0.176669\tvalid-mlogloss:0.817709\n",
      "\n",
      "final validation loss:\n",
      "0.817708537013\n",
      "final validation accuracy:\n",
      "0.714285714286\n",
      "[0]\ttrain-mlogloss:2.11913\tvalid-mlogloss:2.13346\n",
      "Multiple eval metrics have been passed: 'valid-mlogloss' will be used for early stopping.\n",
      "\n",
      "Will train until valid-mlogloss hasn't improved in 100 rounds.\n",
      "[25]\ttrain-mlogloss:1.13252\tvalid-mlogloss:1.38349\n",
      "[50]\ttrain-mlogloss:0.705531\tvalid-mlogloss:1.11108\n",
      "[75]\ttrain-mlogloss:0.475211\tvalid-mlogloss:0.987345\n",
      "[100]\ttrain-mlogloss:0.337844\tvalid-mlogloss:0.929945\n",
      "[125]\ttrain-mlogloss:0.249248\tvalid-mlogloss:0.903358\n",
      "[150]\ttrain-mlogloss:0.184412\tvalid-mlogloss:0.889701\n",
      "[175]\ttrain-mlogloss:0.136429\tvalid-mlogloss:0.885634\n",
      "[200]\ttrain-mlogloss:0.102266\tvalid-mlogloss:0.890494\n",
      "[225]\ttrain-mlogloss:0.078664\tvalid-mlogloss:0.896924\n",
      "[250]\ttrain-mlogloss:0.061428\tvalid-mlogloss:0.906326\n",
      "[275]\ttrain-mlogloss:0.049135\tvalid-mlogloss:0.917091\n",
      "Stopping. Best iteration:\n",
      "[175]\ttrain-mlogloss:0.136429\tvalid-mlogloss:0.885634\n",
      "\n",
      "final validation loss:\n",
      "0.885633625156\n",
      "final validation accuracy:\n",
      "0.693233082707\n",
      "[0]\ttrain-mlogloss:2.11978\tvalid-mlogloss:2.13818\n",
      "Multiple eval metrics have been passed: 'valid-mlogloss' will be used for early stopping.\n",
      "\n",
      "Will train until valid-mlogloss hasn't improved in 100 rounds.\n",
      "[25]\ttrain-mlogloss:1.11469\tvalid-mlogloss:1.41324\n",
      "[50]\ttrain-mlogloss:0.687027\tvalid-mlogloss:1.15347\n",
      "[75]\ttrain-mlogloss:0.462308\tvalid-mlogloss:1.03732\n",
      "[100]\ttrain-mlogloss:0.329256\tvalid-mlogloss:0.99034\n",
      "[125]\ttrain-mlogloss:0.238494\tvalid-mlogloss:0.972762\n",
      "[150]\ttrain-mlogloss:0.177294\tvalid-mlogloss:0.967805\n",
      "[175]\ttrain-mlogloss:0.132216\tvalid-mlogloss:0.973305\n",
      "[200]\ttrain-mlogloss:0.099734\tvalid-mlogloss:0.984119\n",
      "[225]\ttrain-mlogloss:0.076288\tvalid-mlogloss:0.994597\n",
      "[250]\ttrain-mlogloss:0.059582\tvalid-mlogloss:1.00723\n",
      "Stopping. Best iteration:\n",
      "[150]\ttrain-mlogloss:0.177294\tvalid-mlogloss:0.967805\n",
      "\n",
      "final validation loss:\n",
      "0.96780467735\n",
      "final validation accuracy:\n",
      "0.657142857143\n",
      "[0]\ttrain-mlogloss:2.12096\tvalid-mlogloss:2.13339\n",
      "Multiple eval metrics have been passed: 'valid-mlogloss' will be used for early stopping.\n",
      "\n",
      "Will train until valid-mlogloss hasn't improved in 100 rounds.\n",
      "[25]\ttrain-mlogloss:1.12841\tvalid-mlogloss:1.39749\n",
      "[50]\ttrain-mlogloss:0.707823\tvalid-mlogloss:1.137\n",
      "[75]\ttrain-mlogloss:0.480323\tvalid-mlogloss:1.01284\n",
      "[100]\ttrain-mlogloss:0.333538\tvalid-mlogloss:0.955491\n",
      "[125]\ttrain-mlogloss:0.236583\tvalid-mlogloss:0.931452\n",
      "[150]\ttrain-mlogloss:0.173123\tvalid-mlogloss:0.923841\n",
      "[175]\ttrain-mlogloss:0.128804\tvalid-mlogloss:0.92679\n",
      "[200]\ttrain-mlogloss:0.097305\tvalid-mlogloss:0.931582\n",
      "[225]\ttrain-mlogloss:0.074309\tvalid-mlogloss:0.94037\n",
      "Stopping. Best iteration:\n",
      "[147]\ttrain-mlogloss:0.179715\tvalid-mlogloss:0.923731\n",
      "\n",
      "final validation loss:\n",
      "0.923731369808\n",
      "final validation accuracy:\n",
      "0.69022556391\n",
      "[0]\ttrain-mlogloss:2.12039\tvalid-mlogloss:2.1345\n",
      "Multiple eval metrics have been passed: 'valid-mlogloss' will be used for early stopping.\n",
      "\n",
      "Will train until valid-mlogloss hasn't improved in 100 rounds.\n",
      "[25]\ttrain-mlogloss:1.11619\tvalid-mlogloss:1.39263\n",
      "[50]\ttrain-mlogloss:0.704623\tvalid-mlogloss:1.14143\n",
      "[75]\ttrain-mlogloss:0.480987\tvalid-mlogloss:1.02186\n",
      "[100]\ttrain-mlogloss:0.331568\tvalid-mlogloss:0.963421\n",
      "[125]\ttrain-mlogloss:0.237114\tvalid-mlogloss:0.941133\n",
      "[150]\ttrain-mlogloss:0.174638\tvalid-mlogloss:0.93648\n",
      "[175]\ttrain-mlogloss:0.130523\tvalid-mlogloss:0.939292\n",
      "[200]\ttrain-mlogloss:0.098901\tvalid-mlogloss:0.946383\n",
      "[225]\ttrain-mlogloss:0.074853\tvalid-mlogloss:0.957024\n",
      "Stopping. Best iteration:\n",
      "[146]\ttrain-mlogloss:0.182705\tvalid-mlogloss:0.935651\n",
      "\n",
      "final validation loss:\n",
      "0.935650778663\n",
      "final validation accuracy:\n",
      "0.666165413534\n",
      "[0]\ttrain-mlogloss:2.11978\tvalid-mlogloss:2.13575\n",
      "Multiple eval metrics have been passed: 'valid-mlogloss' will be used for early stopping.\n",
      "\n",
      "Will train until valid-mlogloss hasn't improved in 100 rounds.\n",
      "[25]\ttrain-mlogloss:1.1272\tvalid-mlogloss:1.37487\n",
      "[50]\ttrain-mlogloss:0.707257\tvalid-mlogloss:1.10681\n",
      "[75]\ttrain-mlogloss:0.474375\tvalid-mlogloss:0.98397\n",
      "[100]\ttrain-mlogloss:0.33425\tvalid-mlogloss:0.926256\n",
      "[125]\ttrain-mlogloss:0.24066\tvalid-mlogloss:0.905376\n",
      "[150]\ttrain-mlogloss:0.174845\tvalid-mlogloss:0.89989\n",
      "[175]\ttrain-mlogloss:0.128307\tvalid-mlogloss:0.896641\n",
      "[200]\ttrain-mlogloss:0.095843\tvalid-mlogloss:0.900667\n",
      "[225]\ttrain-mlogloss:0.073168\tvalid-mlogloss:0.909527\n",
      "[250]\ttrain-mlogloss:0.057511\tvalid-mlogloss:0.918701\n",
      "Stopping. Best iteration:\n",
      "[173]\ttrain-mlogloss:0.131623\tvalid-mlogloss:0.896434\n",
      "\n",
      "final validation loss:\n",
      "0.896434427302\n",
      "final validation accuracy:\n",
      "0.693233082707\n",
      "[0]\ttrain-mlogloss:2.11816\tvalid-mlogloss:2.13976\n",
      "Multiple eval metrics have been passed: 'valid-mlogloss' will be used for early stopping.\n",
      "\n"
     ]
    },
    {
     "name": "stdout",
     "output_type": "stream",
     "text": [
      "Will train until valid-mlogloss hasn't improved in 100 rounds.\n",
      "[25]\ttrain-mlogloss:1.11284\tvalid-mlogloss:1.43093\n",
      "[50]\ttrain-mlogloss:0.687334\tvalid-mlogloss:1.18128\n",
      "[75]\ttrain-mlogloss:0.455559\tvalid-mlogloss:1.07793\n",
      "[100]\ttrain-mlogloss:0.317414\tvalid-mlogloss:1.03195\n",
      "[125]\ttrain-mlogloss:0.228518\tvalid-mlogloss:1.02002\n",
      "[150]\ttrain-mlogloss:0.170525\tvalid-mlogloss:1.01812\n",
      "[175]\ttrain-mlogloss:0.128752\tvalid-mlogloss:1.01949\n",
      "[200]\ttrain-mlogloss:0.098398\tvalid-mlogloss:1.02601\n",
      "[225]\ttrain-mlogloss:0.075282\tvalid-mlogloss:1.03723\n",
      "[250]\ttrain-mlogloss:0.058862\tvalid-mlogloss:1.05173\n",
      "Stopping. Best iteration:\n",
      "[157]\ttrain-mlogloss:0.156554\tvalid-mlogloss:1.01748\n",
      "\n",
      "final validation loss:\n",
      "1.01747751416\n",
      "final validation accuracy:\n",
      "0.643609022556\n",
      "Accuracy: 0.6829 ± 0.0212\n",
      "NMI: 0.4510 ± 0.0304\n",
      "Log_loss: 0.9105 ± 0.0537\n",
      "Normalized confusion matrix\n",
      "[[  6.72226856e-01   1.41784821e-02   4.17014178e-03   1.99332777e-01\n",
      "    5.58798999e-02   2.91909925e-02   2.50208507e-02   0.00000000e+00\n",
      "    0.00000000e+00]\n",
      " [  1.94063927e-02   5.26255708e-01   1.14155251e-03   1.94063927e-02\n",
      "    4.56621005e-03   1.14155251e-02   4.17808219e-01   0.00000000e+00\n",
      "    0.00000000e+00]\n",
      " [  5.05617978e-02   5.61797753e-03   2.19101124e-01   2.92134831e-01\n",
      "    4.49438202e-02   5.61797753e-03   3.82022472e-01   0.00000000e+00\n",
      "    0.00000000e+00]\n",
      " [  1.53790087e-01   8.74635569e-03   8.01749271e-03   7.58746356e-01\n",
      "    2.25947522e-02   5.83090379e-03   3.86297376e-02   7.28862974e-04\n",
      "    2.91545190e-03]\n",
      " [  3.09168443e-01   3.83795309e-02   1.70575693e-02   8.52878465e-02\n",
      "    3.39019190e-01   2.55863539e-02   1.85501066e-01   0.00000000e+00\n",
      "    0.00000000e+00]\n",
      " [  1.09433962e-01   3.39622642e-02   3.77358491e-03   6.03773585e-02\n",
      "    4.90566038e-02   6.11320755e-01   1.32075472e-01   0.00000000e+00\n",
      "    0.00000000e+00]\n",
      " [  8.41662283e-03   7.36454498e-02   8.94266176e-03   2.73540242e-02\n",
      "    8.41662283e-03   4.73435034e-03   8.66912151e-01   0.00000000e+00\n",
      "    1.57811678e-03]\n",
      " [  9.09090909e-02   1.36363636e-01   0.00000000e+00   4.54545455e-02\n",
      "    0.00000000e+00   0.00000000e+00   3.18181818e-01   2.27272727e-01\n",
      "    1.81818182e-01]\n",
      " [  9.87654321e-02   1.23456790e-02   0.00000000e+00   4.93827160e-02\n",
      "    0.00000000e+00   0.00000000e+00   1.11111111e-01   7.40740741e-02\n",
      "    6.54320988e-01]]\n"
     ]
    },
    {
     "data": {
      "image/png": "[encoded data removed]",
      "text/plain": [
       "<matplotlib.figure.Figure at 0x1a2fbb2e10>"
      ]
     },
     "metadata": {},
     "output_type": "display_data"
    }
   ],
   "source": [
    "y_predict = xgbclassifier(train_set, y, test_set, 10, 8, 1000)"
   ]
  },
  {
   "cell_type": "code",
   "execution_count": 13,
   "metadata": {
    "collapsed": true
   },
   "outputs": [],
   "source": [
    "from testaccuracy import *\n",
    "savesubmisstion(y_predict, test_x, filename = \"tfidf.csv\")"
   ]
  },
  {
   "cell_type": "code",
   "execution_count": 11,
   "metadata": {},
   "outputs": [
    {
     "name": "stdout",
     "output_type": "stream",
     "text": [
      "Accuracy: 0.6476 ± 0.0190\n",
      "NMI: 0.4237 ± 0.0204\n",
      "Log_loss: 6.2367 ± 0.4994\n",
      "Normalized confusion matrix\n",
      "[[ 0.68429003  0.01208459  0.00453172  0.17975831  0.07250755  0.03172205\n",
      "   0.01510574  0.          0.        ]\n",
      " [ 0.04016064  0.51807229  0.01004016  0.03815261  0.02008032  0.02008032\n",
      "   0.35341365  0.          0.        ]\n",
      " [ 0.08333333  0.04166667  0.33333333  0.20833333  0.04166667  0.01041667\n",
      "   0.28125     0.          0.        ]\n",
      " [ 0.18375499  0.01731025  0.01464714  0.70972037  0.01864181  0.01464714\n",
      "   0.03994674  0.          0.00133156]\n",
      " [ 0.2247191   0.06741573  0.03370787  0.11235955  0.39700375  0.02996255\n",
      "   0.13483146  0.          0.        ]\n",
      " [ 0.15151515  0.06397306  0.01010101  0.05050505  0.05050505  0.58922559\n",
      "   0.08417508  0.          0.        ]\n",
      " [ 0.01612903  0.14516129  0.028463    0.02751423  0.01897533  0.00379507\n",
      "   0.75711575  0.          0.0028463 ]\n",
      " [ 0.          0.23809524  0.          0.0952381   0.          0.04761905\n",
      "   0.33333333  0.0952381   0.19047619]\n",
      " [ 0.06976744  0.02325581  0.          0.09302326  0.          0.\n",
      "   0.06976744  0.          0.74418605]]\n"
     ]
    },
    {
     "data": {
      "image/png": "[encoded data removed]",
      "text/plain": [
       "<matplotlib.figure.Figure at 0x1a279e41d0>"
      ]
     },
     "metadata": {},
     "output_type": "display_data"
    },
    {
     "data": {
      "text/plain": [
       "array([[ 0.68429003,  0.01208459,  0.00453172,  0.17975831,  0.07250755,\n",
       "         0.03172205,  0.01510574,  0.        ,  0.        ],\n",
       "       [ 0.04016064,  0.51807229,  0.01004016,  0.03815261,  0.02008032,\n",
       "         0.02008032,  0.35341365,  0.        ,  0.        ],\n",
       "       [ 0.08333333,  0.04166667,  0.33333333,  0.20833333,  0.04166667,\n",
       "         0.01041667,  0.28125   ,  0.        ,  0.        ],\n",
       "       [ 0.18375499,  0.01731025,  0.01464714,  0.70972037,  0.01864181,\n",
       "         0.01464714,  0.03994674,  0.        ,  0.00133156],\n",
       "       [ 0.2247191 ,  0.06741573,  0.03370787,  0.11235955,  0.39700375,\n",
       "         0.02996255,  0.13483146,  0.        ,  0.        ],\n",
       "       [ 0.15151515,  0.06397306,  0.01010101,  0.05050505,  0.05050505,\n",
       "         0.58922559,  0.08417508,  0.        ,  0.        ],\n",
       "       [ 0.01612903,  0.14516129,  0.028463  ,  0.02751423,  0.01897533,\n",
       "         0.00379507,  0.75711575,  0.        ,  0.0028463 ],\n",
       "       [ 0.        ,  0.23809524,  0.        ,  0.0952381 ,  0.        ,\n",
       "         0.04761905,  0.33333333,  0.0952381 ,  0.19047619],\n",
       "       [ 0.06976744,  0.02325581,  0.        ,  0.09302326,  0.        ,\n",
       "         0.        ,  0.06976744,  0.        ,  0.74418605]])"
      ]
     },
     "execution_count": 11,
     "metadata": {},
     "output_type": "execute_result"
    }
   ],
   "source": [
    "bc.baseline(X_tfidf, y)"
   ]
  },
  {
   "cell_type": "code",
   "execution_count": 14,
   "metadata": {},
   "outputs": [
    {
     "data": {
      "text/plain": [
       "\"\\n#load\\nwith open('../data/feature/X_tfidf_test.pkl', 'rb') as f:\\n    X_tfidf_test = pickle.load(f)\\n    f.close()\\nwith open('../data/feature/X_tfidf_train.pkl', 'rb') as f:\\n    X_tfidf = pickle.load(f)\\n    f.close()\\nwith open('../data/feature/label_tfidf.pkl', 'rb') as f:\\n    y = pickle.load(f)\\n    f.close()\\n\""
      ]
     },
     "execution_count": 14,
     "metadata": {},
     "output_type": "execute_result"
    }
   ],
   "source": [
    "import pickle\n",
    "# save\n",
    "with open('../data/feature/X_tfidf_test.pkl', 'wb') as f:\n",
    "    pickle.dump(X_tfidf_test, f)\n",
    "    f.close()\n",
    "with open('../data/feature/X_tfidf_train.pkl', 'wb') as f:\n",
    "    pickle.dump(X_tfidf, f)\n",
    "    f.close()\n",
    "with open('../data/feature/label_tfidf.pkl', 'wb') as f:\n",
    "    pickle.dump(y, f)\n",
    "    f.close()\n"
   ]
  },
  {
   "cell_type": "code",
   "execution_count": 15,
   "metadata": {
    "collapsed": true
   },
   "outputs": [],
   "source": [
    "\n",
    "#load\n",
    "with open('../data/feature/X_tfidf_test.pkl', 'rb') as f:\n",
    "    X_tfidf_test = pickle.load(f)\n",
    "    f.close()\n",
    "with open('../data/feature/X_tfidf_train.pkl', 'rb') as f:\n",
    "    X_tfidf = pickle.load(f)\n",
    "    f.close()\n",
    "with open('../data/feature/label_tfidf.pkl', 'rb') as f:\n",
    "    y = pickle.load(f)\n",
    "    f.close()\n"
   ]
  }
 ],
 "metadata": {
  "kernelspec": {
   "display_name": "Python 3",
   "language": "python",
   "name": "python3"
  },
  "language_info": {
   "codemirror_mode": {
    "name": "ipython",
    "version": 3
   },
   "file_extension": ".py",
   "mimetype": "text/x-python",
   "name": "python",
   "nbconvert_exporter": "python",
   "pygments_lexer": "ipython3",
   "version": "3.6.3"
  }
 },
 "nbformat": 4,
 "nbformat_minor": 2
}
