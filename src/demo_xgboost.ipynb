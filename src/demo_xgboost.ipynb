{
 "cells": [
  {
   "cell_type": "code",
   "execution_count": 2,
   "metadata": {},
   "outputs": [],
   "source": [
    "import os\n",
    "import re\n",
    "import tqdm\n",
    "import string\n",
    "import pandas as pd\n",
    "import numpy as np\n",
    "import util\n",
    "from sklearn.decomposition import TruncatedSVD\n",
    "from data_preprocessing import *\n",
    "import word_embedding_load as wel\n",
    "from xgboost_classifier import *"
   ]
  },
  {
   "cell_type": "code",
   "execution_count": 3,
   "metadata": {
    "collapsed": true
   },
   "outputs": [],
   "source": [
    "#loading data from database\n",
    "[all_data, train_size, test_size, train_x, train_y, test_x] = util.loadData()\n",
    "sentences = data_preprocess(all_data)"
   ]
  },
  {
   "cell_type": "code",
   "execution_count": 4,
   "metadata": {
    "collapsed": true
   },
   "outputs": [],
   "source": [
    "#Parameters and path setting\n",
    "Text_INPUT_DIM=200\n",
    "GENE_INPUT_DIM=25\n",
    "TEXT_INPUT_DIM=200\n",
    "PATH = '../model/doc2vec/'\n",
    "modelName='docEmbeddings_win2_load_all.d2v'"
   ]
  },
  {
   "cell_type": "code",
   "execution_count": 5,
   "metadata": {
    "collapsed": true
   },
   "outputs": [],
   "source": [
    "#defined parameter class for doc2vec model\n",
    "param = util.Doc2VecParam(1, 2, 200, 1e-4, 5, 4, 30, 1)"
   ]
  },
  {
   "cell_type": "code",
   "execution_count": 6,
   "metadata": {
    "collapsed": true
   },
   "outputs": [],
   "source": [
    "svd = TruncatedSVD(n_components=GENE_INPUT_DIM, n_iter=25, random_state=12)"
   ]
  },
  {
   "cell_type": "code",
   "execution_count": 7,
   "metadata": {},
   "outputs": [
    {
     "name": "stdout",
     "output_type": "stream",
     "text": [
      "Successfully loaded the textmodel from ../model/doc2vec/docEmbeddings_win2_load_all.d2v\n"
     ]
    }
   ],
   "source": [
    "#load a pre-trained text model\n",
    "text_model = wel.loadTextModel(PATH + modelName)\n",
    "\n",
    "#To train a new text model, default without outside data:\n",
    "#text_model = wel.trainTextModel(sentences, param, 'newModelName', PATH)\n",
    "\n",
    "#To train a new text model with outside data:\n",
    "#sourceFile = '../data/bio_nlp_vec/PubMed-shuffle-win-30.bin'\n",
    "#text_model = wel.trainTextModel(sentences, param, 'newModelName', PATH, True, sourceFile)"
   ]
  },
  {
   "cell_type": "code",
   "execution_count": 8,
   "metadata": {
    "collapsed": true
   },
   "outputs": [],
   "source": [
    "#prepare the feature vectors\n",
    "truncated_one_hot_gene = wel.getGeneVec(all_data, svd)\n",
    "truncated_one_hot_variation = wel.getVariationVec(all_data, svd)\n",
    "text_train_arrays, text_test_arrays = wel.getTextVec(text_model, train_size, test_size, TEXT_INPUT_DIM)"
   ]
  },
  {
   "cell_type": "code",
   "execution_count": 9,
   "metadata": {},
   "outputs": [
    {
     "name": "stdout",
     "output_type": "stream",
     "text": [
      "(3689, 200)\n",
      "(986, 200)\n"
     ]
    },
    {
     "data": {
      "text/plain": [
       "array([ 1.9926796 , -0.95616704, -0.41943806,  1.05640149, -0.17750672,\n",
       "       -0.22473556, -1.14849627, -1.04512095,  0.72278821, -0.26906219,\n",
       "       -0.12173071,  0.27951074,  0.85554093,  1.4066658 , -0.66658169,\n",
       "       -3.5733881 ,  0.61995304, -2.23058319, -0.13402276,  2.12668133,\n",
       "       -0.35180882, -0.27377269,  0.54994392, -1.48118317, -1.4935751 ,\n",
       "       -1.68159318,  0.34006077,  2.6541965 , -0.45972574, -0.43201742,\n",
       "        0.3170231 , -1.63518965,  2.0632391 ,  1.46774471, -0.95080161,\n",
       "        0.16261423,  1.81780541,  0.94335526, -0.02719352,  0.66872084,\n",
       "        0.53617448,  0.2284466 ,  1.14089978, -1.53023636, -0.30838454,\n",
       "        1.86624837, -0.64276832,  0.49743181, -0.53058469,  1.06889701,\n",
       "        0.34412953,  0.14060664,  1.23631251,  0.41249499, -0.50394237,\n",
       "        0.92049599,  0.2226413 , -0.11276353, -0.56527591,  0.82244128,\n",
       "       -0.99196661, -0.42952666, -0.88652813,  0.43424979, -1.98911691,\n",
       "        1.09482539, -2.45888305,  1.73302603,  2.20067   , -0.6085186 ,\n",
       "       -1.25785565, -0.44117382,  1.98833013, -0.51232427, -1.10979819,\n",
       "       -0.54445004, -1.16707098, -1.31837153, -0.53253657,  1.59991312,\n",
       "       -0.20664276, -1.05685711,  0.31082043, -0.2043286 ,  0.77633107,\n",
       "        0.85860324, -2.03887677,  1.49911261, -0.39974245,  0.91128081,\n",
       "        1.13125467, -2.09005117, -0.41554201, -1.55264652,  0.44138581,\n",
       "        0.49449065, -2.13298559,  2.20955014,  0.95500571,  0.41129953,\n",
       "       -0.87113571,  0.98770237,  0.38444752,  0.63010305,  1.8368659 ,\n",
       "       -0.14130785, -0.32579213,  0.86784047,  1.06677532,  0.67403376,\n",
       "       -1.06961429, -1.40743053,  1.35656881,  1.58909762, -1.9294008 ,\n",
       "        0.939282  ,  0.39813891, -1.23754907,  2.85993528,  0.95143169,\n",
       "       -0.82528299, -0.78427643, -1.12611341, -1.30386949, -0.7302534 ,\n",
       "       -2.40704179, -1.25131738, -2.22095847, -0.61212695,  2.46631312,\n",
       "       -1.45429885,  0.024306  ,  1.18339205, -0.09788334, -0.23530199,\n",
       "       -0.14920838,  0.45473397, -1.07566762, -0.2484591 , -0.61140323,\n",
       "        2.3258121 , -0.68689275,  1.68472815,  1.7551837 ,  0.01643275,\n",
       "        1.61395371, -0.65283042,  1.57991278,  1.2904892 , -1.71622753,\n",
       "        0.6634233 ,  0.58639234, -1.34056306,  0.28264776, -2.64078593,\n",
       "        0.66478187, -1.04393971, -0.69477886,  0.55568027,  1.07313037,\n",
       "        1.97054124, -0.79388338,  0.30255207,  1.81174207,  0.62831497,\n",
       "       -0.39802322,  1.16715777, -0.69539362, -0.1725876 , -0.4010261 ,\n",
       "       -1.53010333,  1.78115654,  0.45922974, -1.49840677, -0.73476058,\n",
       "       -1.40930474, -1.35155988, -0.66272843, -1.22934783, -0.63275701,\n",
       "        1.06155419,  1.50083339,  0.0615571 ,  0.4066731 , -0.32978195,\n",
       "        0.70330983,  1.51849055,  1.75434244,  1.91263461,  1.88655174,\n",
       "       -0.2432631 , -0.86476576,  3.33272672, -0.36880228,  1.19287694,\n",
       "       -1.752213  , -1.39517832, -2.54406714, -0.45961851,  0.53956795])"
      ]
     },
     "execution_count": 9,
     "metadata": {},
     "output_type": "execute_result"
    }
   ],
   "source": [
    "print(text_train_arrays.shape)\n",
    "print(text_test_arrays.shape)\n",
    "text_train_arrays[0]"
   ]
  },
  {
   "cell_type": "code",
   "execution_count": 10,
   "metadata": {},
   "outputs": [
    {
     "name": "stdout",
     "output_type": "stream",
     "text": [
      "(3689, 9)\n"
     ]
    }
   ],
   "source": [
    "#concatenate the overall doc feature representation\n",
    "train_set = np.hstack((truncated_one_hot_gene[:train_size], truncated_one_hot_variation[:train_size], text_train_arrays))\n",
    "test_set = np.hstack((truncated_one_hot_gene[train_size:], truncated_one_hot_variation[train_size:], text_test_arrays))\n",
    "encoded_y = pd.get_dummies(train_y)\n",
    "encoded_y = np.array(encoded_y)\n",
    "print(encoded_y.shape)"
   ]
  },
  {
   "cell_type": "code",
   "execution_count": 11,
   "metadata": {},
   "outputs": [
    {
     "name": "stdout",
     "output_type": "stream",
     "text": [
      "(3689, 250)\n",
      "(986, 250)\n"
     ]
    },
    {
     "data": {
      "text/plain": [
       "array([  1.00000000e+00,   4.18523246e-19,   1.82140582e-19,\n",
       "         5.52932734e-29,   9.01317672e-25,   1.47967745e-22,\n",
       "        -8.38240178e-21,   2.00300590e-21,   9.74158370e-21,\n",
       "        -9.34683441e-21,   1.91083889e-20,   6.55003880e-19,\n",
       "        -1.09276438e-17,  -1.56730196e-18,  -2.12913704e-18,\n",
       "        -4.51096312e-18,  -3.82900024e-19,   1.15894157e-17,\n",
       "         1.59938703e-17,   3.58735292e-17,  -3.35304994e-18,\n",
       "         1.68462844e-17,   6.76851697e-18,   5.86047343e-17,\n",
       "         7.80129580e-21])"
      ]
     },
     "execution_count": 11,
     "metadata": {},
     "output_type": "execute_result"
    }
   ],
   "source": [
    "print(train_set.shape)\n",
    "print(test_set.shape)\n",
    "train_set[0, 25:50]"
   ]
  },
  {
   "cell_type": "code",
   "execution_count": 12,
   "metadata": {
    "collapsed": true
   },
   "outputs": [],
   "source": [
    "#the xgboost classfication model\n",
    "#first deal with the input label, transfrom it from 1-9 to 0-8(required by the xgboost)\n",
    "for i in range(len(train_y)):\n",
    "    train_y[i] -=1  "
   ]
  },
  {
   "cell_type": "code",
   "execution_count": 13,
   "metadata": {},
   "outputs": [
    {
     "name": "stdout",
     "output_type": "stream",
     "text": [
      "[0]\ttrain-mlogloss:2.12103\tvalid-mlogloss:2.1398\n",
      "Multiple eval metrics have been passed: 'valid-mlogloss' will be used for early stopping.\n",
      "\n",
      "Will train until valid-mlogloss hasn't improved in 100 rounds.\n",
      "[25]\ttrain-mlogloss:1.08195\tvalid-mlogloss:1.41429\n",
      "[50]\ttrain-mlogloss:0.635513\tvalid-mlogloss:1.14206\n",
      "[75]\ttrain-mlogloss:0.39622\tvalid-mlogloss:1.02263\n",
      "[100]\ttrain-mlogloss:0.266812\tvalid-mlogloss:0.9639\n",
      "[125]\ttrain-mlogloss:0.190721\tvalid-mlogloss:0.934005\n",
      "[150]\ttrain-mlogloss:0.135582\tvalid-mlogloss:0.923324\n",
      "[175]\ttrain-mlogloss:0.099365\tvalid-mlogloss:0.923035\n",
      "[200]\ttrain-mlogloss:0.075394\tvalid-mlogloss:0.92593\n",
      "[225]\ttrain-mlogloss:0.057861\tvalid-mlogloss:0.930044\n",
      "[250]\ttrain-mlogloss:0.04554\tvalid-mlogloss:0.938324\n",
      "Stopping. Best iteration:\n",
      "[171]\ttrain-mlogloss:0.104246\tvalid-mlogloss:0.922356\n",
      "\n",
      "final validation loss:\n",
      "0.922356043781\n",
      "final validation accuracy:\n",
      "0.676691729323\n",
      "[0]\ttrain-mlogloss:2.12202\tvalid-mlogloss:2.1382\n",
      "Multiple eval metrics have been passed: 'valid-mlogloss' will be used for early stopping.\n",
      "\n",
      "Will train until valid-mlogloss hasn't improved in 100 rounds.\n",
      "[25]\ttrain-mlogloss:1.08686\tvalid-mlogloss:1.40186\n",
      "[50]\ttrain-mlogloss:0.637724\tvalid-mlogloss:1.13026\n",
      "[75]\ttrain-mlogloss:0.401198\tvalid-mlogloss:1.00303\n",
      "[100]\ttrain-mlogloss:0.273915\tvalid-mlogloss:0.935487\n",
      "[125]\ttrain-mlogloss:0.193798\tvalid-mlogloss:0.902486\n",
      "[150]\ttrain-mlogloss:0.139892\tvalid-mlogloss:0.890234\n",
      "[175]\ttrain-mlogloss:0.101179\tvalid-mlogloss:0.886633\n",
      "[200]\ttrain-mlogloss:0.075605\tvalid-mlogloss:0.887736\n",
      "[225]\ttrain-mlogloss:0.057644\tvalid-mlogloss:0.892749\n",
      "[250]\ttrain-mlogloss:0.045656\tvalid-mlogloss:0.898057\n",
      "[275]\ttrain-mlogloss:0.037192\tvalid-mlogloss:0.905144\n",
      "Stopping. Best iteration:\n",
      "[175]\ttrain-mlogloss:0.101179\tvalid-mlogloss:0.886633\n",
      "\n",
      "final validation loss:\n",
      "0.886632917083\n",
      "final validation accuracy:\n",
      "0.697744360902\n",
      "[0]\ttrain-mlogloss:2.11986\tvalid-mlogloss:2.13902\n",
      "Multiple eval metrics have been passed: 'valid-mlogloss' will be used for early stopping.\n",
      "\n",
      "Will train until valid-mlogloss hasn't improved in 100 rounds.\n",
      "[25]\ttrain-mlogloss:1.0831\tvalid-mlogloss:1.42744\n",
      "[50]\ttrain-mlogloss:0.632562\tvalid-mlogloss:1.16086\n",
      "[75]\ttrain-mlogloss:0.395286\tvalid-mlogloss:1.03642\n",
      "[100]\ttrain-mlogloss:0.259721\tvalid-mlogloss:0.971167\n",
      "[125]\ttrain-mlogloss:0.178241\tvalid-mlogloss:0.94145\n",
      "[150]\ttrain-mlogloss:0.126528\tvalid-mlogloss:0.92956\n",
      "[175]\ttrain-mlogloss:0.092401\tvalid-mlogloss:0.926378\n",
      "[200]\ttrain-mlogloss:0.069481\tvalid-mlogloss:0.930069\n",
      "[225]\ttrain-mlogloss:0.053524\tvalid-mlogloss:0.937406\n",
      "[250]\ttrain-mlogloss:0.042535\tvalid-mlogloss:0.944521\n",
      "Stopping. Best iteration:\n",
      "[166]\ttrain-mlogloss:0.102961\tvalid-mlogloss:0.925763\n",
      "\n",
      "final validation loss:\n",
      "0.925763240368\n",
      "final validation accuracy:\n",
      "0.675187969925\n",
      "[0]\ttrain-mlogloss:2.12122\tvalid-mlogloss:2.13437\n",
      "Multiple eval metrics have been passed: 'valid-mlogloss' will be used for early stopping.\n",
      "\n",
      "Will train until valid-mlogloss hasn't improved in 100 rounds.\n",
      "[25]\ttrain-mlogloss:1.10539\tvalid-mlogloss:1.37157\n",
      "[50]\ttrain-mlogloss:0.65675\tvalid-mlogloss:1.08944\n",
      "[75]\ttrain-mlogloss:0.415726\tvalid-mlogloss:0.950627\n",
      "[100]\ttrain-mlogloss:0.285115\tvalid-mlogloss:0.877146\n",
      "[125]\ttrain-mlogloss:0.198845\tvalid-mlogloss:0.839625\n",
      "[150]\ttrain-mlogloss:0.142516\tvalid-mlogloss:0.820037\n",
      "[175]\ttrain-mlogloss:0.103953\tvalid-mlogloss:0.812818\n",
      "[200]\ttrain-mlogloss:0.077181\tvalid-mlogloss:0.811696\n",
      "[225]\ttrain-mlogloss:0.058598\tvalid-mlogloss:0.81288\n",
      "[250]\ttrain-mlogloss:0.046125\tvalid-mlogloss:0.816623\n",
      "[275]\ttrain-mlogloss:0.037325\tvalid-mlogloss:0.820831\n",
      "[300]\ttrain-mlogloss:0.031036\tvalid-mlogloss:0.825333\n",
      "Stopping. Best iteration:\n",
      "[214]\ttrain-mlogloss:0.066027\tvalid-mlogloss:0.81085\n",
      "\n",
      "final validation loss:\n",
      "0.810849968208\n",
      "final validation accuracy:\n",
      "0.715789473684\n",
      "[0]\ttrain-mlogloss:2.12038\tvalid-mlogloss:2.13578\n",
      "Multiple eval metrics have been passed: 'valid-mlogloss' will be used for early stopping.\n",
      "\n",
      "Will train until valid-mlogloss hasn't improved in 100 rounds.\n",
      "[25]\ttrain-mlogloss:1.09906\tvalid-mlogloss:1.407\n",
      "[50]\ttrain-mlogloss:0.652581\tvalid-mlogloss:1.13496\n",
      "[75]\ttrain-mlogloss:0.409773\tvalid-mlogloss:1.00852\n",
      "[100]\ttrain-mlogloss:0.271889\tvalid-mlogloss:0.949479\n",
      "[125]\ttrain-mlogloss:0.191965\tvalid-mlogloss:0.91896\n",
      "[150]\ttrain-mlogloss:0.137886\tvalid-mlogloss:0.904951\n",
      "[175]\ttrain-mlogloss:0.100323\tvalid-mlogloss:0.897336\n",
      "[200]\ttrain-mlogloss:0.075267\tvalid-mlogloss:0.896265\n",
      "[225]\ttrain-mlogloss:0.058051\tvalid-mlogloss:0.899344\n",
      "[250]\ttrain-mlogloss:0.045547\tvalid-mlogloss:0.906476\n",
      "[275]\ttrain-mlogloss:0.036908\tvalid-mlogloss:0.91255\n",
      "Stopping. Best iteration:\n",
      "[194]\ttrain-mlogloss:0.080505\tvalid-mlogloss:0.895943\n",
      "\n",
      "final validation loss:\n",
      "0.895942443189\n",
      "final validation accuracy:\n",
      "0.691729323308\n",
      "[0]\ttrain-mlogloss:2.11991\tvalid-mlogloss:2.13973\n",
      "Multiple eval metrics have been passed: 'valid-mlogloss' will be used for early stopping.\n",
      "\n",
      "Will train until valid-mlogloss hasn't improved in 100 rounds.\n",
      "[25]\ttrain-mlogloss:1.08343\tvalid-mlogloss:1.45469\n",
      "[50]\ttrain-mlogloss:0.629488\tvalid-mlogloss:1.20202\n",
      "[75]\ttrain-mlogloss:0.396373\tvalid-mlogloss:1.09786\n",
      "[100]\ttrain-mlogloss:0.266481\tvalid-mlogloss:1.04674\n",
      "[125]\ttrain-mlogloss:0.186114\tvalid-mlogloss:1.02356\n",
      "[150]\ttrain-mlogloss:0.133172\tvalid-mlogloss:1.02041\n",
      "[175]\ttrain-mlogloss:0.097587\tvalid-mlogloss:1.02205\n",
      "[200]\ttrain-mlogloss:0.073025\tvalid-mlogloss:1.02872\n",
      "[225]\ttrain-mlogloss:0.056268\tvalid-mlogloss:1.04121\n",
      "[250]\ttrain-mlogloss:0.044239\tvalid-mlogloss:1.0569\n",
      "Stopping. Best iteration:\n",
      "[161]\ttrain-mlogloss:0.115771\tvalid-mlogloss:1.01977\n",
      "\n",
      "final validation loss:\n",
      "1.0197676547\n",
      "final validation accuracy:\n",
      "0.664661654135\n",
      "[0]\ttrain-mlogloss:2.11951\tvalid-mlogloss:2.13757\n",
      "Multiple eval metrics have been passed: 'valid-mlogloss' will be used for early stopping.\n",
      "\n",
      "Will train until valid-mlogloss hasn't improved in 100 rounds.\n",
      "[25]\ttrain-mlogloss:1.08148\tvalid-mlogloss:1.42061\n",
      "[50]\ttrain-mlogloss:0.64059\tvalid-mlogloss:1.16019\n",
      "[75]\ttrain-mlogloss:0.404377\tvalid-mlogloss:1.03295\n",
      "[100]\ttrain-mlogloss:0.273402\tvalid-mlogloss:0.97746\n",
      "[125]\ttrain-mlogloss:0.18858\tvalid-mlogloss:0.951838\n",
      "[150]\ttrain-mlogloss:0.133981\tvalid-mlogloss:0.942008\n",
      "[175]\ttrain-mlogloss:0.097701\tvalid-mlogloss:0.940454\n",
      "[200]\ttrain-mlogloss:0.073067\tvalid-mlogloss:0.944279\n",
      "[225]\ttrain-mlogloss:0.055795\tvalid-mlogloss:0.950646\n",
      "[250]\ttrain-mlogloss:0.043943\tvalid-mlogloss:0.958935\n",
      "Stopping. Best iteration:\n",
      "[164]\ttrain-mlogloss:0.111771\tvalid-mlogloss:0.939728\n",
      "\n",
      "final validation loss:\n",
      "0.939727600912\n",
      "final validation accuracy:\n",
      "0.688721804511\n",
      "[0]\ttrain-mlogloss:2.11889\tvalid-mlogloss:2.13896\n",
      "Multiple eval metrics have been passed: 'valid-mlogloss' will be used for early stopping.\n",
      "\n",
      "Will train until valid-mlogloss hasn't improved in 100 rounds.\n",
      "[25]\ttrain-mlogloss:1.07781\tvalid-mlogloss:1.42438\n",
      "[50]\ttrain-mlogloss:0.640736\tvalid-mlogloss:1.15112\n",
      "[75]\ttrain-mlogloss:0.408618\tvalid-mlogloss:1.02288\n",
      "[100]\ttrain-mlogloss:0.276448\tvalid-mlogloss:0.960543\n",
      "[125]\ttrain-mlogloss:0.193667\tvalid-mlogloss:0.928655\n",
      "[150]\ttrain-mlogloss:0.1378\tvalid-mlogloss:0.915618\n",
      "[175]\ttrain-mlogloss:0.100359\tvalid-mlogloss:0.913031\n",
      "[200]\ttrain-mlogloss:0.074352\tvalid-mlogloss:0.914524\n",
      "[225]\ttrain-mlogloss:0.056342\tvalid-mlogloss:0.920198\n",
      "[250]\ttrain-mlogloss:0.044215\tvalid-mlogloss:0.926767\n",
      "[275]\ttrain-mlogloss:0.035892\tvalid-mlogloss:0.935663\n",
      "Stopping. Best iteration:\n",
      "[177]\ttrain-mlogloss:0.097965\tvalid-mlogloss:0.913009\n",
      "\n",
      "final validation loss:\n",
      "0.913009504592\n",
      "final validation accuracy:\n",
      "0.688721804511\n",
      "[0]\ttrain-mlogloss:2.12148\tvalid-mlogloss:2.1371\n",
      "Multiple eval metrics have been passed: 'valid-mlogloss' will be used for early stopping.\n",
      "\n",
      "Will train until valid-mlogloss hasn't improved in 100 rounds.\n",
      "[25]\ttrain-mlogloss:1.08952\tvalid-mlogloss:1.39107\n",
      "[50]\ttrain-mlogloss:0.644208\tvalid-mlogloss:1.12016\n",
      "[75]\ttrain-mlogloss:0.404197\tvalid-mlogloss:0.996857\n",
      "[100]\ttrain-mlogloss:0.272419\tvalid-mlogloss:0.937566\n",
      "[125]\ttrain-mlogloss:0.194083\tvalid-mlogloss:0.909864\n",
      "[150]\ttrain-mlogloss:0.137903\tvalid-mlogloss:0.90099\n",
      "[175]\ttrain-mlogloss:0.101655\tvalid-mlogloss:0.897487\n",
      "[200]\ttrain-mlogloss:0.07718\tvalid-mlogloss:0.897861\n",
      "[225]\ttrain-mlogloss:0.059717\tvalid-mlogloss:0.904077\n",
      "[250]\ttrain-mlogloss:0.047099\tvalid-mlogloss:0.909842\n",
      "[275]\ttrain-mlogloss:0.037997\tvalid-mlogloss:0.919063\n"
     ]
    },
    {
     "name": "stdout",
     "output_type": "stream",
     "text": [
      "Stopping. Best iteration:\n",
      "[188]\ttrain-mlogloss:0.087487\tvalid-mlogloss:0.896445\n",
      "\n",
      "final validation loss:\n",
      "0.896444685918\n",
      "final validation accuracy:\n",
      "0.682706766917\n",
      "[0]\ttrain-mlogloss:2.1206\tvalid-mlogloss:2.14332\n",
      "Multiple eval metrics have been passed: 'valid-mlogloss' will be used for early stopping.\n",
      "\n",
      "Will train until valid-mlogloss hasn't improved in 100 rounds.\n",
      "[25]\ttrain-mlogloss:1.08498\tvalid-mlogloss:1.4626\n",
      "[50]\ttrain-mlogloss:0.631247\tvalid-mlogloss:1.21811\n",
      "[75]\ttrain-mlogloss:0.392602\tvalid-mlogloss:1.10786\n",
      "[100]\ttrain-mlogloss:0.258392\tvalid-mlogloss:1.05679\n",
      "[125]\ttrain-mlogloss:0.178986\tvalid-mlogloss:1.03351\n",
      "[150]\ttrain-mlogloss:0.127672\tvalid-mlogloss:1.02859\n",
      "[175]\ttrain-mlogloss:0.093567\tvalid-mlogloss:1.03283\n",
      "[200]\ttrain-mlogloss:0.069656\tvalid-mlogloss:1.0417\n",
      "[225]\ttrain-mlogloss:0.053659\tvalid-mlogloss:1.05209\n",
      "[250]\ttrain-mlogloss:0.042257\tvalid-mlogloss:1.06433\n",
      "Stopping. Best iteration:\n",
      "[151]\ttrain-mlogloss:0.126076\tvalid-mlogloss:1.02849\n",
      "\n",
      "final validation loss:\n",
      "1.02849321482\n",
      "final validation accuracy:\n",
      "0.640601503759\n",
      "Accuracy: 0.6823 ± 0.0191\n",
      "NMI: 0.4558 ± 0.0207\n",
      "Log_loss: 0.9239 ± 0.0602\n",
      "Normalized confusion matrix\n",
      "[[ 0.66638866  0.01584654  0.00500417  0.1851543   0.06839033  0.02168474\n",
      "   0.03753128  0.          0.        ]\n",
      " [ 0.01940639  0.49086758  0.00114155  0.01255708  0.00228311  0.01141553\n",
      "   0.46232877  0.          0.        ]\n",
      " [ 0.0505618   0.          0.32022472  0.23033708  0.03932584  0.01685393\n",
      "   0.34269663  0.          0.        ]\n",
      " [ 0.15962099  0.00947522  0.00728863  0.75291545  0.02405248  0.00291545\n",
      "   0.04373178  0.          0.        ]\n",
      " [ 0.24520256  0.03624733  0.00852878  0.1108742   0.38379531  0.04477612\n",
      "   0.17057569  0.          0.        ]\n",
      " [ 0.10943396  0.03584906  0.00943396  0.0490566   0.0509434   0.6\n",
      "   0.14528302  0.          0.        ]\n",
      " [ 0.00631247  0.07732772  0.0094687   0.01472909  0.0094687   0.00210416\n",
      "   0.87795897  0.          0.00263019]\n",
      " [ 0.04545455  0.18181818  0.          0.06818182  0.          0.\n",
      "   0.56818182  0.          0.13636364]\n",
      " [ 0.03703704  0.          0.          0.12345679  0.01234568  0.\n",
      "   0.13580247  0.0617284   0.62962963]]\n"
     ]
    },
    {
     "data": {
      "image/png": "[encoded data removed]",
      "text/plain": [
       "<matplotlib.figure.Figure at 0x17a13746828>"
      ]
     },
     "metadata": {},
     "output_type": "display_data"
    }
   ],
   "source": [
    "y_predict = xgbclassifier(train_set, train_y, test_set, 10, 8, 1000)"
   ]
  },
  {
   "cell_type": "code",
   "execution_count": 14,
   "metadata": {
    "collapsed": true
   },
   "outputs": [],
   "source": [
    "util.savesubmisstion(y_predict, test_x, filename = \"submission_allwin2load10fold.csv\")"
   ]
  },
  {
   "cell_type": "code",
   "execution_count": null,
   "metadata": {
    "collapsed": true
   },
   "outputs": [],
   "source": []
  }
 ],
 "metadata": {
  "kernelspec": {
   "display_name": "Python 3",
   "language": "python",
   "name": "python3"
  }
 },
 "nbformat": 4,
 "nbformat_minor": 2
}
