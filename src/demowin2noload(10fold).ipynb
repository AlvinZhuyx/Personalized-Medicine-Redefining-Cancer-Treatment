{
 "cells": [
  {
   "cell_type": "code",
   "execution_count": 1,
   "metadata": {},
   "outputs": [
    {
     "name": "stderr",
     "output_type": "stream",
     "text": [
      "C:\\Users\\zhuya\\Anaconda3\\envs\\tensorflow\\lib\\site-packages\\gensim\\utils.py:862: UserWarning: detected Windows; aliasing chunkize to chunkize_serial\n",
      "  warnings.warn(\"detected Windows; aliasing chunkize to chunkize_serial\")\n",
      "Using TensorFlow backend.\n",
      "C:\\Users\\zhuya\\Anaconda3\\envs\\tensorflow\\lib\\site-packages\\sklearn\\cross_validation.py:41: DeprecationWarning: This module was deprecated in version 0.18 in favor of the model_selection module into which all the refactored classes and functions are moved. Also note that the interface of the new CV iterators are different from that of this module. This module will be removed in 0.20.\n",
      "  \"This module will be removed in 0.20.\", DeprecationWarning)\n"
     ]
    }
   ],
   "source": [
    "import os\n",
    "import re\n",
    "import tqdm\n",
    "import string\n",
    "import pandas as pd\n",
    "import numpy as np\n",
    "import util\n",
    "from sklearn.decomposition import TruncatedSVD\n",
    "from data_preprocessing import *\n",
    "import word_embedding_load as wel\n",
    "from classification import *\n",
    "from xgboost_classifier import *\n",
    "from testaccuracy import *"
   ]
  },
  {
   "cell_type": "code",
   "execution_count": 2,
   "metadata": {
    "collapsed": true
   },
   "outputs": [],
   "source": [
    "[all_data, train_size, test_size, train_x, train_y, test_x] = util.loadData()\n",
    "sentences = data_preprocess(all_data)"
   ]
  },
  {
   "cell_type": "code",
   "execution_count": 3,
   "metadata": {
    "collapsed": true
   },
   "outputs": [],
   "source": [
    "Text_INPUT_DIM=200\n",
    "GENE_INPUT_DIM=25\n",
    "TEXT_INPUT_DIM=200\n",
    "PATH = '../model/doc2vec/'\n",
    "modelName='textModel_win=2_no_outside'"
   ]
  },
  {
   "cell_type": "code",
   "execution_count": 4,
   "metadata": {
    "collapsed": true
   },
   "outputs": [],
   "source": [
    "param = util.Doc2VecParam(1, 2, 200, 1e-4, 5, 4, 30, 1)"
   ]
  },
  {
   "cell_type": "code",
   "execution_count": 5,
   "metadata": {
    "collapsed": true
   },
   "outputs": [],
   "source": [
    "svd = TruncatedSVD(n_components=GENE_INPUT_DIM, n_iter=25, random_state=12)"
   ]
  },
  {
   "cell_type": "code",
   "execution_count": 6,
   "metadata": {},
   "outputs": [
    {
     "name": "stdout",
     "output_type": "stream",
     "text": [
      "Successfully loaded the textmodel from ../model/doc2vec/textModel_win=2_no_outside\n"
     ]
    }
   ],
   "source": [
    "#load a pre-trained text model\n",
    "text_model = wel.loadTextModel(PATH + modelName)\n",
    "\n",
    "#To train a new text model, default without outside data:\n",
    "#text_model = wel.trainTextModel(sentences, param, 'newModelName', PATH)\n",
    "\n",
    "#To train a new text model with outside data:\n",
    "#sourceFile = '../data/bio_nlp_vec/PubMed-shuffle-win-30.bin'\n",
    "#text_model = wel.trainTextModel(sentences, param, 'newModelName', PATH, True, sourceFile)"
   ]
  },
  {
   "cell_type": "code",
   "execution_count": 7,
   "metadata": {
    "collapsed": true
   },
   "outputs": [],
   "source": [
    "truncated_one_hot_gene = wel.getGeneVec(all_data, svd)\n",
    "truncated_one_hot_variation = wel.getVariationVec(all_data, svd)\n",
    "text_train_arrays, text_test_arrays = wel.getTextVec(text_model, train_size, test_size, TEXT_INPUT_DIM)"
   ]
  },
  {
   "cell_type": "code",
   "execution_count": 8,
   "metadata": {},
   "outputs": [
    {
     "name": "stdout",
     "output_type": "stream",
     "text": [
      "(3689, 200)\n",
      "(986, 200)\n"
     ]
    },
    {
     "data": {
      "text/plain": [
       "array([ 1.39154303,  2.02667713, -0.2595    ,  0.40349838, -2.51128626,\n",
       "       -0.57653749, -0.2880269 ,  0.79625225, -1.72736251, -0.55669445,\n",
       "       -0.1103246 , -0.25622737,  0.51354522,  1.64991832,  0.15828428,\n",
       "       -1.31404865, -0.38595071,  0.11359195, -1.80308282, -0.3853884 ,\n",
       "        0.12366654,  0.73094928, -0.59017813, -0.57282758, -0.56738102,\n",
       "       -0.58856642, -0.1689133 , -1.38690603, -1.10290945,  2.44333291,\n",
       "        0.85595089, -0.83670229, -0.46628171,  0.80855757,  1.76998258,\n",
       "       -1.79520845,  0.25988749, -0.36671975,  0.7018944 , -1.01795661,\n",
       "        0.97518283, -0.88528377, -0.26272607, -0.72158974,  0.17883518,\n",
       "       -0.84870034, -1.12246311, -1.30428255,  0.55243754, -1.49376571,\n",
       "       -0.97371197, -0.530312  ,  0.11352377, -0.07217326, -1.17716205,\n",
       "       -0.98013484, -0.5437516 ,  1.75924706,  1.57688129,  1.23722923,\n",
       "       -0.81333536, -0.88027573,  0.03753718, -0.96783006, -2.49287248,\n",
       "        0.39773917, -1.93843079,  0.16352667, -1.13692153, -1.02465498,\n",
       "        0.49100515, -0.17209618, -0.00348914, -1.44198215,  0.84070438,\n",
       "       -0.78737158,  0.92058992, -0.94133806, -0.42242008,  0.98378408,\n",
       "       -0.00334732, -0.28362641,  0.87834871,  0.8661446 ,  0.6940642 ,\n",
       "       -0.01109836, -0.53586382,  0.1921947 , -0.34452128,  1.59309721,\n",
       "       -0.80002183, -0.4601382 ,  0.04081428,  0.04629377, -0.35938993,\n",
       "       -0.46426368, -1.21024621,  1.5245955 ,  1.52262592, -0.65726477,\n",
       "       -0.7298153 , -1.39358294, -0.35205856,  0.07905246,  0.28774843,\n",
       "       -0.03078634,  0.14396021, -0.22043593, -0.47169593, -1.970101  ,\n",
       "        0.11241458, -0.60918063,  0.07469159,  0.87241769,  0.65549654,\n",
       "       -0.42404538,  0.96998125, -0.46119103, -1.06527519,  0.59405893,\n",
       "        1.35175264, -0.12270138,  0.00309376, -0.38142636,  0.90490896,\n",
       "        0.4831458 , -0.03836576,  0.35524315,  0.76893771, -0.83464909,\n",
       "       -0.15331581, -0.73333448, -2.72390437, -0.06881049,  0.35405377,\n",
       "        0.6532523 ,  1.64431441, -0.87524319, -1.69056511, -0.98018748,\n",
       "       -0.0628045 ,  0.4022584 ,  1.02410591, -1.20403767,  0.85039598,\n",
       "       -0.76765478, -0.73596817, -0.6108529 , -1.98588002,  0.31390306,\n",
       "       -0.30500817, -2.30876684,  0.75242186, -1.72434056,  1.13635671,\n",
       "        2.46085405,  1.35439444, -0.573057  ,  0.96305478,  0.77701497,\n",
       "        0.04221632,  0.18350257,  0.50475365, -0.85454452, -1.43079948,\n",
       "       -0.18374483,  2.65653324,  0.814744  , -1.58598244, -1.52683222,\n",
       "        0.43748677,  0.474177  , -0.78660917,  0.45915282, -0.07681553,\n",
       "        1.20739722, -0.14775582, -0.31944117, -1.33630955, -2.66240287,\n",
       "        0.69759768,  0.78746265,  0.26419282,  0.33944705, -1.8655678 ,\n",
       "        0.20668876, -1.36809731,  0.01789042,  0.48901019, -1.5597204 ,\n",
       "       -0.68945593,  1.42228901,  2.25127959,  0.29051664,  0.12367328,\n",
       "       -0.165216  ,  0.9757095 ,  0.74739391, -0.57577246,  0.40093857])"
      ]
     },
     "execution_count": 8,
     "metadata": {},
     "output_type": "execute_result"
    }
   ],
   "source": [
    "print(text_train_arrays.shape)\n",
    "print(text_test_arrays.shape)\n",
    "text_train_arrays[0]"
   ]
  },
  {
   "cell_type": "code",
   "execution_count": 9,
   "metadata": {},
   "outputs": [
    {
     "name": "stdout",
     "output_type": "stream",
     "text": [
      "(3689, 9)\n"
     ]
    }
   ],
   "source": [
    "train_set = np.hstack((truncated_one_hot_gene[:train_size], truncated_one_hot_variation[:train_size], text_train_arrays))\n",
    "test_set = np.hstack((truncated_one_hot_gene[train_size:], truncated_one_hot_variation[train_size:], text_test_arrays))\n",
    "encoded_y = pd.get_dummies(train_y)\n",
    "encoded_y = np.array(encoded_y)\n",
    "print(encoded_y.shape)"
   ]
  },
  {
   "cell_type": "code",
   "execution_count": 10,
   "metadata": {},
   "outputs": [
    {
     "name": "stdout",
     "output_type": "stream",
     "text": [
      "(3689, 250)\n",
      "(986, 250)\n"
     ]
    },
    {
     "data": {
      "text/plain": [
       "array([  1.00000000e+00,   4.18523246e-19,   1.82140582e-19,\n",
       "         5.52932734e-29,   9.01317672e-25,   1.47967745e-22,\n",
       "        -8.38240178e-21,   2.00300590e-21,   9.74158370e-21,\n",
       "        -9.34683441e-21,   1.91083889e-20,   6.55003880e-19,\n",
       "        -1.09276438e-17,  -1.56730196e-18,  -2.12913704e-18,\n",
       "        -4.51096312e-18,  -3.82900024e-19,   1.15894157e-17,\n",
       "         1.59938703e-17,   3.58735292e-17,  -3.35304994e-18,\n",
       "         1.68462844e-17,   6.76851697e-18,   5.86047343e-17,\n",
       "         7.80129580e-21])"
      ]
     },
     "execution_count": 10,
     "metadata": {},
     "output_type": "execute_result"
    }
   ],
   "source": [
    "print(train_set.shape)\n",
    "print(test_set.shape)\n",
    "train_set[0, 25:50]"
   ]
  },
  {
   "cell_type": "code",
   "execution_count": 11,
   "metadata": {
    "collapsed": true
   },
   "outputs": [],
   "source": [
    "#the xgboost classfication model\n",
    "#first deal with the input label, transfrom it from 1-9 to 0-8(required by the xgboost)\n",
    "for i in range(len(train_y)):\n",
    "    train_y[i] -=1  "
   ]
  },
  {
   "cell_type": "code",
   "execution_count": 12,
   "metadata": {},
   "outputs": [
    {
     "name": "stdout",
     "output_type": "stream",
     "text": [
      "[0]\ttrain-mlogloss:2.11882\tvalid-mlogloss:2.14064\n",
      "Multiple eval metrics have been passed: 'valid-mlogloss' will be used for early stopping.\n",
      "\n",
      "Will train until valid-mlogloss hasn't improved in 100 rounds.\n",
      "[25]\ttrain-mlogloss:1.06157\tvalid-mlogloss:1.43744\n",
      "[50]\ttrain-mlogloss:0.622666\tvalid-mlogloss:1.18083\n",
      "[75]\ttrain-mlogloss:0.396343\tvalid-mlogloss:1.05394\n",
      "[100]\ttrain-mlogloss:0.269717\tvalid-mlogloss:0.986567\n",
      "[125]\ttrain-mlogloss:0.190567\tvalid-mlogloss:0.960457\n",
      "[150]\ttrain-mlogloss:0.13717\tvalid-mlogloss:0.947585\n",
      "[175]\ttrain-mlogloss:0.1003\tvalid-mlogloss:0.945835\n",
      "[200]\ttrain-mlogloss:0.075294\tvalid-mlogloss:0.949354\n",
      "[225]\ttrain-mlogloss:0.057313\tvalid-mlogloss:0.952471\n",
      "[250]\ttrain-mlogloss:0.045023\tvalid-mlogloss:0.959883\n",
      "Stopping. Best iteration:\n",
      "[163]\ttrain-mlogloss:0.11638\tvalid-mlogloss:0.944728\n",
      "\n",
      "final validation loss:\n",
      "0.94472836195\n",
      "final validation accuracy:\n",
      "0.691056910569\n",
      "[0]\ttrain-mlogloss:2.11774\tvalid-mlogloss:2.13464\n",
      "Multiple eval metrics have been passed: 'valid-mlogloss' will be used for early stopping.\n",
      "\n",
      "Will train until valid-mlogloss hasn't improved in 100 rounds.\n",
      "[25]\ttrain-mlogloss:1.06931\tvalid-mlogloss:1.40063\n",
      "[50]\ttrain-mlogloss:0.63271\tvalid-mlogloss:1.12474\n",
      "[75]\ttrain-mlogloss:0.40635\tvalid-mlogloss:0.980103\n",
      "[100]\ttrain-mlogloss:0.274484\tvalid-mlogloss:0.897234\n",
      "[125]\ttrain-mlogloss:0.189514\tvalid-mlogloss:0.85545\n",
      "[150]\ttrain-mlogloss:0.137387\tvalid-mlogloss:0.830446\n",
      "[175]\ttrain-mlogloss:0.101863\tvalid-mlogloss:0.815871\n",
      "[200]\ttrain-mlogloss:0.076896\tvalid-mlogloss:0.812297\n",
      "[225]\ttrain-mlogloss:0.05934\tvalid-mlogloss:0.808785\n",
      "[250]\ttrain-mlogloss:0.046331\tvalid-mlogloss:0.8095\n",
      "[275]\ttrain-mlogloss:0.037395\tvalid-mlogloss:0.813395\n",
      "[300]\ttrain-mlogloss:0.030832\tvalid-mlogloss:0.818151\n",
      "[325]\ttrain-mlogloss:0.02603\tvalid-mlogloss:0.822485\n",
      "Stopping. Best iteration:\n",
      "[240]\ttrain-mlogloss:0.050917\tvalid-mlogloss:0.807832\n",
      "\n",
      "final validation loss:\n",
      "0.807831674492\n",
      "final validation accuracy:\n",
      "0.720867208672\n",
      "[0]\ttrain-mlogloss:2.119\tvalid-mlogloss:2.13975\n",
      "Multiple eval metrics have been passed: 'valid-mlogloss' will be used for early stopping.\n",
      "\n",
      "Will train until valid-mlogloss hasn't improved in 100 rounds.\n",
      "[25]\ttrain-mlogloss:1.07202\tvalid-mlogloss:1.4136\n",
      "[50]\ttrain-mlogloss:0.63589\tvalid-mlogloss:1.15257\n",
      "[75]\ttrain-mlogloss:0.403666\tvalid-mlogloss:1.00966\n",
      "[100]\ttrain-mlogloss:0.274221\tvalid-mlogloss:0.927795\n",
      "[125]\ttrain-mlogloss:0.190207\tvalid-mlogloss:0.880441\n",
      "[150]\ttrain-mlogloss:0.136296\tvalid-mlogloss:0.858914\n",
      "[175]\ttrain-mlogloss:0.099124\tvalid-mlogloss:0.847526\n",
      "[200]\ttrain-mlogloss:0.074206\tvalid-mlogloss:0.840545\n",
      "[225]\ttrain-mlogloss:0.057032\tvalid-mlogloss:0.838994\n",
      "[250]\ttrain-mlogloss:0.044811\tvalid-mlogloss:0.841777\n",
      "[275]\ttrain-mlogloss:0.036224\tvalid-mlogloss:0.843668\n",
      "[300]\ttrain-mlogloss:0.030004\tvalid-mlogloss:0.846571\n",
      "Stopping. Best iteration:\n",
      "[217]\ttrain-mlogloss:0.061925\tvalid-mlogloss:0.838\n",
      "\n",
      "final validation loss:\n",
      "0.837999732365\n",
      "final validation accuracy:\n",
      "0.691056910569\n",
      "[0]\ttrain-mlogloss:2.1179\tvalid-mlogloss:2.13581\n",
      "Multiple eval metrics have been passed: 'valid-mlogloss' will be used for early stopping.\n",
      "\n",
      "Will train until valid-mlogloss hasn't improved in 100 rounds.\n",
      "[25]\ttrain-mlogloss:1.0696\tvalid-mlogloss:1.40523\n",
      "[50]\ttrain-mlogloss:0.630686\tvalid-mlogloss:1.13922\n",
      "[75]\ttrain-mlogloss:0.408514\tvalid-mlogloss:1.02236\n",
      "[100]\ttrain-mlogloss:0.275395\tvalid-mlogloss:0.958973\n",
      "[125]\ttrain-mlogloss:0.193154\tvalid-mlogloss:0.925157\n",
      "[150]\ttrain-mlogloss:0.138409\tvalid-mlogloss:0.910145\n",
      "[175]\ttrain-mlogloss:0.101772\tvalid-mlogloss:0.908104\n",
      "[200]\ttrain-mlogloss:0.076013\tvalid-mlogloss:0.910809\n",
      "[225]\ttrain-mlogloss:0.058327\tvalid-mlogloss:0.915171\n",
      "[250]\ttrain-mlogloss:0.046238\tvalid-mlogloss:0.922565\n",
      "Stopping. Best iteration:\n",
      "[161]\ttrain-mlogloss:0.120657\tvalid-mlogloss:0.907571\n",
      "\n",
      "final validation loss:\n",
      "0.907570668756\n",
      "final validation accuracy:\n",
      "0.677506775068\n",
      "[0]\ttrain-mlogloss:2.11872\tvalid-mlogloss:2.14037\n",
      "Multiple eval metrics have been passed: 'valid-mlogloss' will be used for early stopping.\n",
      "\n",
      "Will train until valid-mlogloss hasn't improved in 100 rounds.\n",
      "[25]\ttrain-mlogloss:1.06743\tvalid-mlogloss:1.44577\n",
      "[50]\ttrain-mlogloss:0.631994\tvalid-mlogloss:1.18032\n",
      "[75]\ttrain-mlogloss:0.401126\tvalid-mlogloss:1.04458\n",
      "[100]\ttrain-mlogloss:0.270551\tvalid-mlogloss:0.980682\n",
      "[125]\ttrain-mlogloss:0.189835\tvalid-mlogloss:0.944432\n",
      "[150]\ttrain-mlogloss:0.137792\tvalid-mlogloss:0.92307\n",
      "[175]\ttrain-mlogloss:0.100621\tvalid-mlogloss:0.911356\n",
      "[200]\ttrain-mlogloss:0.075351\tvalid-mlogloss:0.904539\n",
      "[225]\ttrain-mlogloss:0.057577\tvalid-mlogloss:0.905588\n",
      "[250]\ttrain-mlogloss:0.045461\tvalid-mlogloss:0.911049\n",
      "[275]\ttrain-mlogloss:0.036657\tvalid-mlogloss:0.916744\n",
      "[300]\ttrain-mlogloss:0.030255\tvalid-mlogloss:0.920819\n",
      "Stopping. Best iteration:\n",
      "[208]\ttrain-mlogloss:0.068819\tvalid-mlogloss:0.903383\n",
      "\n",
      "final validation loss:\n",
      "0.903383189196\n",
      "final validation accuracy:\n",
      "0.669376693767\n",
      "[0]\ttrain-mlogloss:2.11789\tvalid-mlogloss:2.14145\n",
      "Multiple eval metrics have been passed: 'valid-mlogloss' will be used for early stopping.\n",
      "\n",
      "Will train until valid-mlogloss hasn't improved in 100 rounds.\n",
      "[25]\ttrain-mlogloss:1.06474\tvalid-mlogloss:1.47432\n",
      "[50]\ttrain-mlogloss:0.630655\tvalid-mlogloss:1.23708\n",
      "[75]\ttrain-mlogloss:0.400876\tvalid-mlogloss:1.11778\n",
      "[100]\ttrain-mlogloss:0.274442\tvalid-mlogloss:1.06616\n",
      "[125]\ttrain-mlogloss:0.193391\tvalid-mlogloss:1.04003\n",
      "[150]\ttrain-mlogloss:0.139746\tvalid-mlogloss:1.03219\n",
      "[175]\ttrain-mlogloss:0.102679\tvalid-mlogloss:1.03186\n",
      "[200]\ttrain-mlogloss:0.076647\tvalid-mlogloss:1.04033\n",
      "[225]\ttrain-mlogloss:0.058777\tvalid-mlogloss:1.05071\n",
      "[250]\ttrain-mlogloss:0.046124\tvalid-mlogloss:1.06254\n",
      "Stopping. Best iteration:\n",
      "[170]\ttrain-mlogloss:0.108973\tvalid-mlogloss:1.03094\n",
      "\n",
      "final validation loss:\n",
      "1.0309444526\n",
      "final validation accuracy:\n",
      "0.658536585366\n",
      "[0]\ttrain-mlogloss:2.11766\tvalid-mlogloss:2.1374\n",
      "Multiple eval metrics have been passed: 'valid-mlogloss' will be used for early stopping.\n",
      "\n",
      "Will train until valid-mlogloss hasn't improved in 100 rounds.\n",
      "[25]\ttrain-mlogloss:1.06559\tvalid-mlogloss:1.43235\n",
      "[50]\ttrain-mlogloss:0.628345\tvalid-mlogloss:1.16825\n",
      "[75]\ttrain-mlogloss:0.394962\tvalid-mlogloss:1.03605\n",
      "[100]\ttrain-mlogloss:0.269645\tvalid-mlogloss:0.974279\n",
      "[125]\ttrain-mlogloss:0.189794\tvalid-mlogloss:0.949953\n",
      "[150]\ttrain-mlogloss:0.13503\tvalid-mlogloss:0.939896\n",
      "[175]\ttrain-mlogloss:0.098754\tvalid-mlogloss:0.937864\n",
      "[200]\ttrain-mlogloss:0.073622\tvalid-mlogloss:0.939754\n",
      "[225]\ttrain-mlogloss:0.056054\tvalid-mlogloss:0.948219\n",
      "[250]\ttrain-mlogloss:0.044105\tvalid-mlogloss:0.959661\n",
      "[275]\ttrain-mlogloss:0.035635\tvalid-mlogloss:0.971189\n",
      "Stopping. Best iteration:\n",
      "[176]\ttrain-mlogloss:0.0977\tvalid-mlogloss:0.937199\n",
      "\n",
      "final validation loss:\n",
      "0.937199315508\n",
      "final validation accuracy:\n",
      "0.680216802168\n",
      "[0]\ttrain-mlogloss:2.11822\tvalid-mlogloss:2.14116\n",
      "Multiple eval metrics have been passed: 'valid-mlogloss' will be used for early stopping.\n",
      "\n",
      "Will train until valid-mlogloss hasn't improved in 100 rounds.\n",
      "[25]\ttrain-mlogloss:1.05363\tvalid-mlogloss:1.44904\n",
      "[50]\ttrain-mlogloss:0.619669\tvalid-mlogloss:1.19379\n",
      "[75]\ttrain-mlogloss:0.392386\tvalid-mlogloss:1.06708\n",
      "[100]\ttrain-mlogloss:0.265152\tvalid-mlogloss:0.997186\n",
      "[125]\ttrain-mlogloss:0.187341\tvalid-mlogloss:0.959301\n",
      "[150]\ttrain-mlogloss:0.135235\tvalid-mlogloss:0.94009\n",
      "[175]\ttrain-mlogloss:0.098748\tvalid-mlogloss:0.935408\n",
      "[200]\ttrain-mlogloss:0.073848\tvalid-mlogloss:0.935263\n",
      "[225]\ttrain-mlogloss:0.056534\tvalid-mlogloss:0.941371\n",
      "[250]\ttrain-mlogloss:0.044062\tvalid-mlogloss:0.948386\n",
      "[275]\ttrain-mlogloss:0.035376\tvalid-mlogloss:0.956519\n",
      "Stopping. Best iteration:\n",
      "[195]\ttrain-mlogloss:0.077958\tvalid-mlogloss:0.934659\n",
      "\n",
      "final validation loss:\n",
      "0.93465871824\n",
      "final validation accuracy:\n",
      "0.688346883469\n",
      "[0]\ttrain-mlogloss:2.11752\tvalid-mlogloss:2.13447\n",
      "Multiple eval metrics have been passed: 'valid-mlogloss' will be used for early stopping.\n",
      "\n",
      "Will train until valid-mlogloss hasn't improved in 100 rounds.\n",
      "[25]\ttrain-mlogloss:1.07157\tvalid-mlogloss:1.39314\n",
      "[50]\ttrain-mlogloss:0.631925\tvalid-mlogloss:1.13606\n",
      "[75]\ttrain-mlogloss:0.408253\tvalid-mlogloss:1.01063\n",
      "[100]\ttrain-mlogloss:0.278278\tvalid-mlogloss:0.957052\n",
      "[125]\ttrain-mlogloss:0.191885\tvalid-mlogloss:0.925301\n",
      "[150]\ttrain-mlogloss:0.135646\tvalid-mlogloss:0.912345\n",
      "[175]\ttrain-mlogloss:0.098527\tvalid-mlogloss:0.906037\n"
     ]
    },
    {
     "name": "stdout",
     "output_type": "stream",
     "text": [
      "[200]\ttrain-mlogloss:0.073068\tvalid-mlogloss:0.905568\n",
      "[225]\ttrain-mlogloss:0.056288\tvalid-mlogloss:0.910894\n",
      "[250]\ttrain-mlogloss:0.044275\tvalid-mlogloss:0.91156\n",
      "[275]\ttrain-mlogloss:0.035806\tvalid-mlogloss:0.918342\n",
      "Stopping. Best iteration:\n",
      "[187]\ttrain-mlogloss:0.08484\tvalid-mlogloss:0.904588\n",
      "\n",
      "final validation loss:\n",
      "0.904587964545\n",
      "final validation accuracy:\n",
      "0.674796747967\n",
      "[0]\ttrain-mlogloss:2.11687\tvalid-mlogloss:2.14224\n",
      "Multiple eval metrics have been passed: 'valid-mlogloss' will be used for early stopping.\n",
      "\n",
      "Will train until valid-mlogloss hasn't improved in 100 rounds.\n",
      "[25]\ttrain-mlogloss:1.06591\tvalid-mlogloss:1.4807\n",
      "[50]\ttrain-mlogloss:0.634764\tvalid-mlogloss:1.2424\n",
      "[75]\ttrain-mlogloss:0.401686\tvalid-mlogloss:1.12395\n",
      "[100]\ttrain-mlogloss:0.271526\tvalid-mlogloss:1.06392\n",
      "[125]\ttrain-mlogloss:0.189027\tvalid-mlogloss:1.02844\n",
      "[150]\ttrain-mlogloss:0.133223\tvalid-mlogloss:1.01306\n",
      "[175]\ttrain-mlogloss:0.096258\tvalid-mlogloss:1.01222\n",
      "[200]\ttrain-mlogloss:0.071475\tvalid-mlogloss:1.01273\n",
      "[225]\ttrain-mlogloss:0.054788\tvalid-mlogloss:1.01839\n",
      "[250]\ttrain-mlogloss:0.043084\tvalid-mlogloss:1.02632\n",
      "Stopping. Best iteration:\n",
      "[160]\ttrain-mlogloss:0.116852\tvalid-mlogloss:1.01135\n",
      "\n",
      "final validation loss:\n",
      "1.01135322356\n",
      "final validation accuracy:\n",
      "0.639566395664\n",
      "Accuracy: 0.6791 ± 0.0205\n",
      "NMI: 0.4767 ± 0.0240\n",
      "Log_loss: 0.9220 ± 0.0646\n",
      "Normalized confusion matrix\n",
      "[[ 0.66309342  0.01837672  0.00153139  0.21133231  0.07350689  0.00765697\n",
      "   0.0245023   0.          0.        ]\n",
      " [ 0.02376238  0.49306931  0.0019802   0.0039604   0.00792079  0.00792079\n",
      "   0.46138614  0.          0.        ]\n",
      " [ 0.08571429  0.          0.24761905  0.26666667  0.05714286  0.\n",
      "   0.34285714  0.          0.        ]\n",
      " [ 0.16876574  0.0138539   0.00755668  0.74811083  0.02770781  0.00251889\n",
      "   0.03148615  0.          0.        ]\n",
      " [ 0.26907631  0.06024096  0.          0.10441767  0.34939759  0.0562249\n",
      "   0.16064257  0.          0.        ]\n",
      " [ 0.10238908  0.05460751  0.00682594  0.03754266  0.0443686   0.60068259\n",
      "   0.15358362  0.          0.        ]\n",
      " [ 0.00293255  0.07038123  0.00879765  0.01368524  0.00879765  0.00195503\n",
      "   0.89345064  0.          0.        ]\n",
      " [ 0.          0.19047619  0.          0.          0.          0.\n",
      "   0.52380952  0.0952381   0.19047619]\n",
      " [ 0.04255319  0.0212766   0.          0.21276596  0.          0.\n",
      "   0.19148936  0.          0.53191489]]\n"
     ]
    },
    {
     "data": {
      "image/png": "[encoded data removed]",
      "text/plain": [
       "<matplotlib.figure.Figure at 0x1b1e6f05f60>"
      ]
     },
     "metadata": {},
     "output_type": "display_data"
    }
   ],
   "source": [
    "y_predict = xgbclassifier(train_set, train_y, test_set, 10, 8, 1000)"
   ]
  },
  {
   "cell_type": "code",
   "execution_count": 14,
   "metadata": {
    "collapsed": true
   },
   "outputs": [],
   "source": [
    "savesubmisstion(y_predict, test_x, filename = \"submission_allwin2noload30fold.csv\")"
   ]
  },
  {
   "cell_type": "code",
   "execution_count": null,
   "metadata": {
    "collapsed": true
   },
   "outputs": [],
   "source": []
  }
 ],
 "metadata": {
  "kernelspec": {
   "display_name": "Python 3",
   "language": "python",
   "name": "python3"
  },
  "language_info": {
   "codemirror_mode": {
    "name": "ipython",
    "version": 3
   },
   "file_extension": ".py",
   "mimetype": "text/x-python",
   "name": "python",
   "nbconvert_exporter": "python",
   "pygments_lexer": "ipython3",
   "version": "3.5.4"
  }
 },
 "nbformat": 4,
 "nbformat_minor": 2
}
