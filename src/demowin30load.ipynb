{
 "cells": [
  {
   "cell_type": "code",
   "execution_count": 1,
   "metadata": {},
   "outputs": [
    {
     "name": "stderr",
     "output_type": "stream",
     "text": [
      "C:\\Users\\zhuya\\Anaconda3\\envs\\tensorflow\\lib\\site-packages\\gensim\\utils.py:862: UserWarning: detected Windows; aliasing chunkize to chunkize_serial\n",
      "  warnings.warn(\"detected Windows; aliasing chunkize to chunkize_serial\")\n",
      "Using TensorFlow backend.\n",
      "C:\\Users\\zhuya\\Anaconda3\\envs\\tensorflow\\lib\\site-packages\\sklearn\\cross_validation.py:41: DeprecationWarning: This module was deprecated in version 0.18 in favor of the model_selection module into which all the refactored classes and functions are moved. Also note that the interface of the new CV iterators are different from that of this module. This module will be removed in 0.20.\n",
      "  \"This module will be removed in 0.20.\", DeprecationWarning)\n"
     ]
    }
   ],
   "source": [
    "import os\n",
    "import re\n",
    "import tqdm\n",
    "import string\n",
    "import pandas as pd\n",
    "import numpy as np\n",
    "import util\n",
    "from sklearn.decomposition import TruncatedSVD\n",
    "from data_preprocessing import *\n",
    "import word_embedding_load as wel\n",
    "from classification import *\n",
    "from xgboost_classifier import *\n",
    "from testaccuracy import *"
   ]
  },
  {
   "cell_type": "code",
   "execution_count": 2,
   "metadata": {
    "collapsed": true
   },
   "outputs": [],
   "source": [
    "[all_data, train_size, test_size, train_x, train_y, test_x] = util.loadData()\n",
    "sentences = data_preprocess(all_data)"
   ]
  },
  {
   "cell_type": "code",
   "execution_count": 3,
   "metadata": {
    "collapsed": true
   },
   "outputs": [],
   "source": [
    "Text_INPUT_DIM=200\n",
    "GENE_INPUT_DIM=25\n",
    "TEXT_INPUT_DIM=200\n",
    "PATH = '../model/doc2vec/'\n",
    "modelName='docEmbeddings_win30_load_all.d2v'"
   ]
  },
  {
   "cell_type": "code",
   "execution_count": 4,
   "metadata": {
    "collapsed": true
   },
   "outputs": [],
   "source": [
    "param = util.Doc2VecParam(1, 2, 200, 1e-4, 5, 4, 30, 1)"
   ]
  },
  {
   "cell_type": "code",
   "execution_count": 5,
   "metadata": {
    "collapsed": true
   },
   "outputs": [],
   "source": [
    "svd = TruncatedSVD(n_components=GENE_INPUT_DIM, n_iter=25, random_state=12)"
   ]
  },
  {
   "cell_type": "code",
   "execution_count": 6,
   "metadata": {},
   "outputs": [
    {
     "name": "stdout",
     "output_type": "stream",
     "text": [
      "Successfully loaded the textmodel from ../model/doc2vec/docEmbeddings_win30_load_all.d2v\n"
     ]
    }
   ],
   "source": [
    "#load a pre-trained text model\n",
    "text_model = wel.loadTextModel(PATH + modelName)\n",
    "\n",
    "#To train a new text model, default without outside data:\n",
    "#text_model = wel.trainTextModel(sentences, param, 'newModelName', PATH)\n",
    "\n",
    "#To train a new text model with outside data:\n",
    "#sourceFile = '../data/bio_nlp_vec/PubMed-shuffle-win-30.bin'\n",
    "#text_model = wel.trainTextModel(sentences, param, 'newModelName', PATH, True, sourceFile)"
   ]
  },
  {
   "cell_type": "code",
   "execution_count": 7,
   "metadata": {},
   "outputs": [],
   "source": [
    "truncated_one_hot_gene = wel.getGeneVec(all_data, svd)\n",
    "truncated_one_hot_variation = wel.getVariationVec(all_data, svd)\n",
    "text_train_arrays, text_test_arrays = wel.getTextVec(text_model, train_size, test_size, TEXT_INPUT_DIM)"
   ]
  },
  {
   "cell_type": "code",
   "execution_count": 8,
   "metadata": {},
   "outputs": [
    {
     "name": "stdout",
     "output_type": "stream",
     "text": [
      "(3689, 200)\n",
      "(986, 200)\n"
     ]
    },
    {
     "data": {
      "text/plain": [
       "array([  1.26882315,   4.29688072,  -0.39038292,  -1.35480559,\n",
       "        -7.99099302,   4.77952766,   2.07057571,  -6.03570271,\n",
       "         0.86446071,   0.17202322,  -2.32006383,  -5.02870607,\n",
       "         6.17888403,  -0.33701557,  -1.9275701 ,  -4.0776453 ,\n",
       "        -0.09364942,  -2.15795469,   6.18154764,  -0.85709518,\n",
       "         3.39536762,  -2.35704374,   2.01819372,   2.00250816,\n",
       "        -2.80324435,  -1.02548444,  -8.66605091,  -4.82370663,\n",
       "         1.46748042,  -1.77919805,   3.44936085,   1.01866448,\n",
       "        -2.25563884,   5.47780323,  -3.01734948,  -4.96943665,\n",
       "         5.47637558,   6.81975794,  -6.858356  ,   4.44475985,\n",
       "         5.04804468,   1.93569362,  -1.02952111,   4.82035208,\n",
       "         4.84539604,   1.75127947,  -2.98756957,   2.69090438,\n",
       "         3.09679723,  -1.40729642,  -2.39587927,  -3.08425999,\n",
       "        -4.78242826,   0.60178131,  -1.22717583,   1.39289582,\n",
       "         3.20111299,  -3.3035841 ,  -1.39491498,  -0.63641626,\n",
       "         5.13298321,   3.72240472,  -7.51442385,   1.8516885 ,\n",
       "        -4.88651514,  -1.45495379,   2.01302576,   3.04722762,\n",
       "         0.11051378,  -6.57093668,   6.06087494,  -0.61167759,\n",
       "         4.96027517,  -3.13528228,  -6.90446663,   3.47242904,\n",
       "         2.35698938,  -5.86416912,  -1.91866398,  -3.93560958,\n",
       "        -1.05911148,   4.99971199,  -3.4770267 ,  -3.87379766,\n",
       "         0.30840349,  -8.70010376,   1.59937036,  -1.09231234,\n",
       "         5.93300819,   5.95688057,   5.84385538,   2.8082602 ,\n",
       "        -8.37995148,  -5.46461058,   6.28388166,   1.28767073,\n",
       "         5.22980928,  -0.96867514,   1.94742227,   1.75390804,\n",
       "        -0.62273747,  -4.32118607,  -2.39648175,   1.58767605,\n",
       "         5.13036537,   2.1489718 ,  -4.84158659,   0.13575916,\n",
       "        -0.9371748 ,   0.84898746,   7.28374577,  -1.47118771,\n",
       "        -6.63243341,  -8.34322262,   4.0225482 ,   5.79200172,\n",
       "         0.38585845,   1.49494731,  -7.84748507,   0.14071739,\n",
       "         0.28553963,   2.38586164,  -3.2775085 ,  -2.66684031,\n",
       "       -12.51475048,  -3.9522059 ,   3.99966717,  -0.06996217,\n",
       "        -1.02266383,  -1.32054877,  -0.55594498,   6.49171209,\n",
       "        -5.25268745,   1.52528322,   2.60282397,   4.61633825,\n",
       "         3.0439744 ,   3.83140135,  -0.28964326,  -2.62097692,\n",
       "         6.90558481,   5.66409063,   0.59007317,   1.10882044,\n",
       "         8.91846371,   2.0910542 ,   0.22964981,   5.85307741,\n",
       "         0.19095956,   7.77365112,  -8.43704414,   2.34406376,\n",
       "         1.94256127,   7.86369085,  -3.2263999 ,   0.15307111,\n",
       "        -1.67707753,   0.92646736,   7.45261669,  -1.61606336,\n",
       "        -0.01810012,   0.0151953 ,  -0.82770884,   0.18709694,\n",
       "       -10.3729248 ,  -3.79367018,  -0.01998394,  -2.69801116,\n",
       "         2.77848411,  -3.40242028,   1.88550568,   7.48389339,\n",
       "         1.15261984,   0.13570395,   0.17612015,   2.07140326,\n",
       "         1.86739194,  -4.83535051,  -6.8343215 ,  -2.6784513 ,\n",
       "         1.14210749,   0.20386359,   2.56413198,   5.47524357,\n",
       "        -3.11662126,   6.91925526,   1.63820171,  -4.04282904,\n",
       "        -1.71229708,  -1.82037711,   1.22913778,  -4.10257387,\n",
       "        -2.51509023,  -8.01251411,  -1.24027872,  -4.36969233,\n",
       "        -1.77097118,   2.30460072,  -4.764256  ,   0.15195805])"
      ]
     },
     "execution_count": 8,
     "metadata": {},
     "output_type": "execute_result"
    }
   ],
   "source": [
    "print(text_train_arrays.shape)\n",
    "print(text_test_arrays.shape)\n",
    "text_train_arrays[0]"
   ]
  },
  {
   "cell_type": "code",
   "execution_count": 9,
   "metadata": {},
   "outputs": [
    {
     "name": "stdout",
     "output_type": "stream",
     "text": [
      "(3689, 9)\n"
     ]
    }
   ],
   "source": [
    "train_set = np.hstack((truncated_one_hot_gene[:train_size], truncated_one_hot_variation[:train_size], text_train_arrays))\n",
    "test_set = np.hstack((truncated_one_hot_gene[train_size:], truncated_one_hot_variation[train_size:], text_test_arrays))\n",
    "encoded_y = pd.get_dummies(train_y)\n",
    "encoded_y = np.array(encoded_y)\n",
    "print(encoded_y.shape)"
   ]
  },
  {
   "cell_type": "code",
   "execution_count": 10,
   "metadata": {},
   "outputs": [
    {
     "name": "stdout",
     "output_type": "stream",
     "text": [
      "(3689, 250)\n",
      "(986, 250)\n"
     ]
    },
    {
     "data": {
      "text/plain": [
       "array([  1.00000000e+00,   4.18523246e-19,   1.82140582e-19,\n",
       "         5.52932734e-29,   9.01317672e-25,   1.47967745e-22,\n",
       "        -8.38240178e-21,   2.00300590e-21,   9.74158370e-21,\n",
       "        -9.34683441e-21,   1.91083889e-20,   6.55003880e-19,\n",
       "        -1.09276438e-17,  -1.56730196e-18,  -2.12913704e-18,\n",
       "        -4.51096312e-18,  -3.82900024e-19,   1.15894157e-17,\n",
       "         1.59938703e-17,   3.58735292e-17,  -3.35304994e-18,\n",
       "         1.68462844e-17,   6.76851697e-18,   5.86047343e-17,\n",
       "         7.80129580e-21])"
      ]
     },
     "execution_count": 10,
     "metadata": {},
     "output_type": "execute_result"
    }
   ],
   "source": [
    "print(train_set.shape)\n",
    "print(test_set.shape)\n",
    "train_set[0, 25:50]"
   ]
  },
  {
   "cell_type": "code",
   "execution_count": 11,
   "metadata": {},
   "outputs": [
    {
     "name": "stderr",
     "output_type": "stream",
     "text": [
      "C:\\Users\\zhuya\\Desktop\\semester 1\\249 data structure\\project\\src\\src\\classification.py:28: UserWarning: Update your `Dense` call to the Keras 2 API: `Dense(256, kernel_initializer=\"normal\", activation=\"relu\", input_dim=250)`\n",
      "  model.add(Dense(256, input_dim=Text_INPUT_DIM+ Gene_INPUT_DIM + Variation_INPUT_DIM, init='normal', activation='relu'))\n",
      "C:\\Users\\zhuya\\Desktop\\semester 1\\249 data structure\\project\\src\\src\\classification.py:30: UserWarning: Update your `Dense` call to the Keras 2 API: `Dense(256, kernel_initializer=\"normal\", activation=\"relu\")`\n",
      "  model.add(Dense(256, init='normal', activation='relu'))\n",
      "C:\\Users\\zhuya\\Desktop\\semester 1\\249 data structure\\project\\src\\src\\classification.py:32: UserWarning: Update your `Dense` call to the Keras 2 API: `Dense(80, kernel_initializer=\"normal\", activation=\"relu\")`\n",
      "  model.add(Dense(80, init='normal', activation='relu'))\n",
      "C:\\Users\\zhuya\\Desktop\\semester 1\\249 data structure\\project\\src\\src\\classification.py:33: UserWarning: Update your `Dense` call to the Keras 2 API: `Dense(9, kernel_initializer=\"normal\", activation=\"softmax\")`\n",
      "  model.add(Dense(9, init='normal', activation=\"softmax\"))\n"
     ]
    },
    {
     "name": "stdout",
     "output_type": "stream",
     "text": [
      "_________________________________________________________________\n",
      "Layer (type)                 Output Shape              Param #   \n",
      "=================================================================\n",
      "dense_1 (Dense)              (None, 256)               64256     \n",
      "_________________________________________________________________\n",
      "dropout_1 (Dropout)          (None, 256)               0         \n",
      "_________________________________________________________________\n",
      "dense_2 (Dense)              (None, 256)               65792     \n",
      "_________________________________________________________________\n",
      "dropout_2 (Dropout)          (None, 256)               0         \n",
      "_________________________________________________________________\n",
      "dense_3 (Dense)              (None, 80)                20560     \n",
      "_________________________________________________________________\n",
      "dense_4 (Dense)              (None, 9)                 729       \n",
      "=================================================================\n",
      "Total params: 151,337\n",
      "Trainable params: 151,337\n",
      "Non-trainable params: 0\n",
      "_________________________________________________________________\n"
     ]
    }
   ],
   "source": [
    "# this is the 4 layer full-connected nerual network model\n",
    "model = nn_baseline_model(TEXT_INPUT_DIM, GENE_INPUT_DIM, GENE_INPUT_DIM)\n",
    "model.summary()"
   ]
  },
  {
   "cell_type": "code",
   "execution_count": 12,
   "metadata": {},
   "outputs": [
    {
     "name": "stdout",
     "output_type": "stream",
     "text": [
      "begin training\n",
      "\n",
      "Train on 2951 samples, validate on 738 samples\n",
      "Epoch 1/2\n",
      "2951/2951 [==============================] - ETA: 13s - loss: 2.2214 - acc: 0.17 - ETA: 1s - loss: 2.1941 - acc: 0.1372 - ETA: 0s - loss: 2.1266 - acc: 0.193 - ETA: 0s - loss: 2.0529 - acc: 0.229 - ETA: 0s - loss: 1.9989 - acc: 0.253 - 0s - loss: 1.9623 - acc: 0.2748 - val_loss: 1.6604 - val_acc: 0.3916\n",
      "Epoch 2/2\n",
      "2951/2951 [==============================] - ETA: 0s - loss: 1.5881 - acc: 0.468 - ETA: 0s - loss: 1.7288 - acc: 0.400 - ETA: 0s - loss: 1.6883 - acc: 0.398 - ETA: 0s - loss: 1.6717 - acc: 0.409 - ETA: 0s - loss: 1.6462 - acc: 0.423 - 0s - loss: 1.6348 - acc: 0.4293 - val_loss: 1.4367 - val_acc: 0.4729\n",
      "Training accuracy: 42.93% / Best validation accuracy: 47.29%\n",
      "Train on 2951 samples, validate on 738 samples\n",
      "Epoch 1/2\n",
      "2951/2951 [==============================] - ETA: 0s - loss: 1.4030 - acc: 0.515 - ETA: 0s - loss: 1.4719 - acc: 0.484 - ETA: 0s - loss: 1.4802 - acc: 0.483 - ETA: 0s - loss: 1.4799 - acc: 0.481 - ETA: 0s - loss: 1.4697 - acc: 0.480 - 0s - loss: 1.4583 - acc: 0.4846 - val_loss: 1.3235 - val_acc: 0.5000\n",
      "Epoch 2/2\n",
      "2951/2951 [==============================] - ETA: 0s - loss: 1.2669 - acc: 0.593 - ETA: 0s - loss: 1.3514 - acc: 0.531 - ETA: 0s - loss: 1.3171 - acc: 0.547 - ETA: 0s - loss: 1.3268 - acc: 0.539 - ETA: 0s - loss: 1.3360 - acc: 0.536 - 0s - loss: 1.3382 - acc: 0.5351 - val_loss: 1.2935 - val_acc: 0.5176\n",
      "Training accuracy: 53.51% / Best validation accuracy: 51.76%\n",
      "Train on 2951 samples, validate on 738 samples\n",
      "Epoch 1/2\n",
      "2951/2951 [==============================] - ETA: 0s - loss: 1.3600 - acc: 0.484 - ETA: 0s - loss: 1.3375 - acc: 0.534 - ETA: 0s - loss: 1.3049 - acc: 0.534 - ETA: 0s - loss: 1.2795 - acc: 0.539 - ETA: 0s - loss: 1.2679 - acc: 0.535 - ETA: 0s - loss: 1.2731 - acc: 0.536 - ETA: 0s - loss: 1.2667 - acc: 0.543 - 0s - loss: 1.2659 - acc: 0.5429 - val_loss: 1.2724 - val_acc: 0.5068\n",
      "Epoch 2/2\n",
      "2951/2951 [==============================] - ETA: 0s - loss: 1.2414 - acc: 0.625 - ETA: 0s - loss: 1.2152 - acc: 0.557 - ETA: 0s - loss: 1.2397 - acc: 0.553 - ETA: 0s - loss: 1.2380 - acc: 0.558 - ETA: 0s - loss: 1.2340 - acc: 0.560 - 0s - loss: 1.2230 - acc: 0.5642 - val_loss: 1.2745 - val_acc: 0.5122\n",
      "Training accuracy: 56.42% / Best validation accuracy: 51.76%\n",
      "Train on 2951 samples, validate on 738 samples\n",
      "Epoch 1/2\n",
      "2951/2951 [==============================] - ETA: 0s - loss: 1.1391 - acc: 0.546 - ETA: 0s - loss: 1.1584 - acc: 0.584 - ETA: 0s - loss: 1.1605 - acc: 0.568 - ETA: 0s - loss: 1.1629 - acc: 0.575 - ETA: 0s - loss: 1.1666 - acc: 0.567 - 0s - loss: 1.1723 - acc: 0.5683 - val_loss: 1.2667 - val_acc: 0.5312\n",
      "Epoch 2/2\n",
      "2951/2951 [==============================] - ETA: 0s - loss: 1.1799 - acc: 0.625 - ETA: 0s - loss: 1.1641 - acc: 0.592 - ETA: 0s - loss: 1.1642 - acc: 0.586 - ETA: 0s - loss: 1.1662 - acc: 0.577 - ETA: 0s - loss: 1.1500 - acc: 0.588 - 0s - loss: 1.1493 - acc: 0.5886 - val_loss: 1.2488 - val_acc: 0.5379\n",
      "Training accuracy: 58.86% / Best validation accuracy: 53.79%\n",
      "Train on 2951 samples, validate on 738 samples\n",
      "Epoch 1/2\n",
      "2951/2951 [==============================] - ETA: 0s - loss: 1.2597 - acc: 0.484 - ETA: 0s - loss: 1.1349 - acc: 0.570 - ETA: 0s - loss: 1.1170 - acc: 0.590 - ETA: 0s - loss: 1.1127 - acc: 0.595 - ETA: 0s - loss: 1.0992 - acc: 0.598 - ETA: 0s - loss: 1.1058 - acc: 0.594 - 0s - loss: 1.1047 - acc: 0.5964 - val_loss: 1.2851 - val_acc: 0.5108\n",
      "Epoch 2/2\n",
      "2951/2951 [==============================] - ETA: 0s - loss: 1.0013 - acc: 0.625 - ETA: 0s - loss: 1.0251 - acc: 0.619 - ETA: 0s - loss: 1.0419 - acc: 0.611 - ETA: 0s - loss: 1.0585 - acc: 0.610 - ETA: 0s - loss: 1.0617 - acc: 0.610 - 0s - loss: 1.0757 - acc: 0.6076 - val_loss: 1.2546 - val_acc: 0.5515\n",
      "Training accuracy: 60.76% / Best validation accuracy: 55.15%\n",
      "Train on 2951 samples, validate on 738 samples\n",
      "Epoch 1/2\n",
      "2951/2951 [==============================] - ETA: 0s - loss: 0.8951 - acc: 0.656 - ETA: 0s - loss: 1.0105 - acc: 0.627 - ETA: 0s - loss: 1.0479 - acc: 0.629 - ETA: 0s - loss: 1.0406 - acc: 0.622 - ETA: 0s - loss: 1.0519 - acc: 0.616 - ETA: 0s - loss: 1.0453 - acc: 0.616 - 0s - loss: 1.0501 - acc: 0.6134 - val_loss: 1.2858 - val_acc: 0.5379\n",
      "Epoch 2/2\n",
      "2951/2951 [==============================] - ETA: 0s - loss: 1.0005 - acc: 0.562 - ETA: 0s - loss: 1.0562 - acc: 0.603 - ETA: 0s - loss: 1.0307 - acc: 0.613 - ETA: 0s - loss: 1.0523 - acc: 0.608 - ETA: 0s - loss: 1.0387 - acc: 0.617 - ETA: 0s - loss: 1.0257 - acc: 0.623 - 0s - loss: 1.0240 - acc: 0.6235 - val_loss: 1.2705 - val_acc: 0.5474\n",
      "Training accuracy: 62.35% / Best validation accuracy: 55.15%\n",
      "Train on 2951 samples, validate on 738 samples\n",
      "Epoch 1/2\n",
      "2951/2951 [==============================] - ETA: 0s - loss: 0.9816 - acc: 0.656 - ETA: 0s - loss: 1.0282 - acc: 0.642 - ETA: 0s - loss: 1.0186 - acc: 0.637 - ETA: 0s - loss: 1.0134 - acc: 0.635 - ETA: 0s - loss: 1.0130 - acc: 0.636 - 0s - loss: 0.9994 - acc: 0.6445 - val_loss: 1.3123 - val_acc: 0.5461\n",
      "Epoch 2/2\n",
      "2951/2951 [==============================] - ETA: 0s - loss: 0.9699 - acc: 0.687 - ETA: 0s - loss: 0.9904 - acc: 0.644 - ETA: 0s - loss: 0.9827 - acc: 0.650 - ETA: 0s - loss: 1.0155 - acc: 0.641 - ETA: 0s - loss: 0.9869 - acc: 0.648 - 0s - loss: 0.9910 - acc: 0.6425 - val_loss: 1.2841 - val_acc: 0.5285\n",
      "Training accuracy: 64.25% / Best validation accuracy: 55.15%\n",
      "Train on 2951 samples, validate on 738 samples\n",
      "Epoch 1/2\n",
      "2951/2951 [==============================] - ETA: 0s - loss: 1.2440 - acc: 0.500 - ETA: 0s - loss: 0.9557 - acc: 0.644 - ETA: 0s - loss: 0.9540 - acc: 0.653 - ETA: 0s - loss: 0.9735 - acc: 0.648 - ETA: 0s - loss: 0.9730 - acc: 0.647 - 0s - loss: 0.9757 - acc: 0.6449 - val_loss: 1.2836 - val_acc: 0.5474\n",
      "Epoch 2/2\n",
      "2951/2951 [==============================] - ETA: 0s - loss: 0.7920 - acc: 0.687 - ETA: 0s - loss: 0.9450 - acc: 0.644 - ETA: 0s - loss: 0.9571 - acc: 0.639 - ETA: 0s - loss: 0.9596 - acc: 0.641 - ETA: 0s - loss: 0.9479 - acc: 0.651 - 0s - loss: 0.9531 - acc: 0.6472 - val_loss: 1.2751 - val_acc: 0.5379\n",
      "Training accuracy: 64.72% / Best validation accuracy: 55.15%\n",
      "Train on 2951 samples, validate on 738 samples\n",
      "Epoch 1/2\n",
      "2951/2951 [==============================] - ETA: 0s - loss: 0.9935 - acc: 0.718 - ETA: 0s - loss: 0.9506 - acc: 0.650 - ETA: 0s - loss: 0.9159 - acc: 0.658 - ETA: 0s - loss: 0.9285 - acc: 0.660 - ETA: 0s - loss: 0.9364 - acc: 0.660 - ETA: 0s - loss: 0.9271 - acc: 0.660 - 0s - loss: 0.9277 - acc: 0.6584 - val_loss: 1.2901 - val_acc: 0.5393\n",
      "Epoch 2/2\n",
      "2951/2951 [==============================] - ETA: 0s - loss: 0.7188 - acc: 0.765 - ETA: 0s - loss: 0.9484 - acc: 0.647 - ETA: 0s - loss: 0.9073 - acc: 0.663 - ETA: 0s - loss: 0.9253 - acc: 0.655 - ETA: 0s - loss: 0.9130 - acc: 0.659 - ETA: 0s - loss: 0.9047 - acc: 0.663 - 0s - loss: 0.9059 - acc: 0.6642 - val_loss: 1.3156 - val_acc: 0.5501\n",
      "Training accuracy: 66.42% / Best validation accuracy: 55.15%\n",
      "Train on 2951 samples, validate on 738 samples\n",
      "Epoch 1/2\n",
      "2951/2951 [==============================] - ETA: 0s - loss: 0.9481 - acc: 0.671 - ETA: 0s - loss: 0.9610 - acc: 0.634 - ETA: 0s - loss: 0.9398 - acc: 0.647 - ETA: 0s - loss: 0.9340 - acc: 0.656 - ETA: 0s - loss: 0.9131 - acc: 0.666 - ETA: 0s - loss: 0.9112 - acc: 0.664 - 0s - loss: 0.9110 - acc: 0.6635 - val_loss: 1.3236 - val_acc: 0.5610\n",
      "Epoch 2/2\n",
      "2951/2951 [==============================] - ETA: 0s - loss: 0.8330 - acc: 0.718 - ETA: 0s - loss: 0.8944 - acc: 0.677 - ETA: 0s - loss: 0.8786 - acc: 0.691 - ETA: 0s - loss: 0.8731 - acc: 0.683 - ETA: 0s - loss: 0.8803 - acc: 0.674 - ETA: 0s - loss: 0.8897 - acc: 0.677 - 0s - loss: 0.8902 - acc: 0.6788 - val_loss: 1.3119 - val_acc: 0.5366\n",
      "Training accuracy: 67.88% / Best validation accuracy: 55.15%\n",
      "Train on 2951 samples, validate on 738 samples\n",
      "Epoch 1/2\n",
      "2951/2951 [==============================] - ETA: 0s - loss: 0.8880 - acc: 0.640 - ETA: 0s - loss: 0.8247 - acc: 0.694 - ETA: 0s - loss: 0.8741 - acc: 0.674 - ETA: 0s - loss: 0.8621 - acc: 0.680 - ETA: 0s - loss: 0.8657 - acc: 0.680 - ETA: 0s - loss: 0.8661 - acc: 0.680 - 0s - loss: 0.8715 - acc: 0.6791 - val_loss: 1.3342 - val_acc: 0.5407\n",
      "Epoch 2/2\n"
     ]
    },
    {
     "name": "stdout",
     "output_type": "stream",
     "text": [
      "2951/2951 [==============================] - ETA: 0s - loss: 0.8666 - acc: 0.625 - ETA: 0s - loss: 0.9278 - acc: 0.649 - ETA: 0s - loss: 0.8530 - acc: 0.680 - ETA: 0s - loss: 0.8632 - acc: 0.678 - ETA: 0s - loss: 0.8812 - acc: 0.673 - ETA: 0s - loss: 0.8789 - acc: 0.681 - 0s - loss: 0.8775 - acc: 0.6815 - val_loss: 1.3413 - val_acc: 0.5556\n",
      "Training accuracy: 68.15% / Best validation accuracy: 55.56%\n",
      "Train on 2951 samples, validate on 738 samples\n",
      "Epoch 1/2\n",
      "2951/2951 [==============================] - ETA: 0s - loss: 0.9554 - acc: 0.656 - ETA: 0s - loss: 0.8639 - acc: 0.683 - ETA: 0s - loss: 0.8535 - acc: 0.686 - ETA: 0s - loss: 0.8597 - acc: 0.684 - ETA: 0s - loss: 0.8618 - acc: 0.679 - 0s - loss: 0.8525 - acc: 0.6811 - val_loss: 1.3366 - val_acc: 0.5596\n",
      "Epoch 2/2\n",
      "2951/2951 [==============================] - ETA: 0s - loss: 0.9276 - acc: 0.671 - ETA: 0s - loss: 0.8723 - acc: 0.688 - ETA: 0s - loss: 0.8508 - acc: 0.685 - ETA: 0s - loss: 0.8472 - acc: 0.681 - ETA: 0s - loss: 0.8524 - acc: 0.682 - 0s - loss: 0.8383 - acc: 0.6879 - val_loss: 1.3455 - val_acc: 0.5515\n",
      "Training accuracy: 68.79% / Best validation accuracy: 55.56%\n",
      "Train on 2951 samples, validate on 738 samples\n",
      "Epoch 1/2\n",
      "2951/2951 [==============================] - ETA: 0s - loss: 0.7448 - acc: 0.781 - ETA: 0s - loss: 0.9029 - acc: 0.681 - ETA: 0s - loss: 0.8611 - acc: 0.682 - ETA: 0s - loss: 0.8456 - acc: 0.683 - ETA: 0s - loss: 0.8370 - acc: 0.689 - 0s - loss: 0.8318 - acc: 0.6930 - val_loss: 1.3867 - val_acc: 0.5705\n",
      "Epoch 2/2\n",
      "2951/2951 [==============================] - ETA: 0s - loss: 1.0448 - acc: 0.656 - ETA: 0s - loss: 0.8472 - acc: 0.683 - ETA: 0s - loss: 0.8264 - acc: 0.686 - ETA: 0s - loss: 0.8242 - acc: 0.690 - ETA: 0s - loss: 0.8244 - acc: 0.696 - 0s - loss: 0.8213 - acc: 0.6981 - val_loss: 1.4027 - val_acc: 0.5678\n",
      "Training accuracy: 69.81% / Best validation accuracy: 56.78%\n",
      "Train on 2951 samples, validate on 738 samples\n",
      "Epoch 1/2\n",
      "2951/2951 [==============================] - ETA: 0s - loss: 0.7899 - acc: 0.718 - ETA: 0s - loss: 0.8709 - acc: 0.660 - ETA: 0s - loss: 0.8230 - acc: 0.680 - ETA: 0s - loss: 0.8165 - acc: 0.685 - ETA: 0s - loss: 0.8217 - acc: 0.688 - 0s - loss: 0.8169 - acc: 0.6899 - val_loss: 1.3891 - val_acc: 0.5528\n",
      "Epoch 2/2\n",
      "2951/2951 [==============================] - ETA: 0s - loss: 0.7555 - acc: 0.781 - ETA: 0s - loss: 0.7993 - acc: 0.710 - ETA: 0s - loss: 0.8064 - acc: 0.719 - ETA: 0s - loss: 0.8030 - acc: 0.714 - ETA: 0s - loss: 0.8003 - acc: 0.719 - ETA: 0s - loss: 0.7948 - acc: 0.714 - 0s - loss: 0.7959 - acc: 0.7140 - val_loss: 1.3737 - val_acc: 0.5678\n",
      "Training accuracy: 71.40% / Best validation accuracy: 56.78%\n",
      "Train on 2951 samples, validate on 738 samples\n",
      "Epoch 1/2\n",
      "2951/2951 [==============================] - ETA: 0s - loss: 0.8190 - acc: 0.671 - ETA: 0s - loss: 0.7570 - acc: 0.722 - ETA: 0s - loss: 0.8083 - acc: 0.699 - ETA: 0s - loss: 0.7809 - acc: 0.712 - ETA: 0s - loss: 0.7820 - acc: 0.706 - 0s - loss: 0.7871 - acc: 0.7011 - val_loss: 1.4058 - val_acc: 0.5623\n",
      "Epoch 2/2\n",
      "2951/2951 [==============================] - ETA: 0s - loss: 0.7820 - acc: 0.718 - ETA: 0s - loss: 0.7830 - acc: 0.710 - ETA: 0s - loss: 0.7535 - acc: 0.726 - ETA: 0s - loss: 0.7604 - acc: 0.720 - ETA: 0s - loss: 0.7555 - acc: 0.717 - 0s - loss: 0.7673 - acc: 0.7120 - val_loss: 1.4040 - val_acc: 0.5488\n",
      "Training accuracy: 71.20% / Best validation accuracy: 56.78%\n",
      "Train on 2951 samples, validate on 738 samples\n",
      "Epoch 1/2\n",
      "2951/2951 [==============================] - ETA: 0s - loss: 0.7395 - acc: 0.750 - ETA: 0s - loss: 0.7746 - acc: 0.715 - ETA: 0s - loss: 0.7748 - acc: 0.708 - ETA: 0s - loss: 0.7559 - acc: 0.713 - ETA: 0s - loss: 0.7639 - acc: 0.708 - 0s - loss: 0.7661 - acc: 0.7103 - val_loss: 1.4107 - val_acc: 0.5271\n",
      "Epoch 2/2\n",
      "2951/2951 [==============================] - ETA: 0s - loss: 0.7472 - acc: 0.750 - ETA: 0s - loss: 0.7714 - acc: 0.729 - ETA: 0s - loss: 0.7549 - acc: 0.728 - ETA: 0s - loss: 0.7522 - acc: 0.732 - ETA: 0s - loss: 0.7530 - acc: 0.729 - 0s - loss: 0.7666 - acc: 0.7218 - val_loss: 1.4199 - val_acc: 0.5623\n",
      "Training accuracy: 72.18% / Best validation accuracy: 56.78%\n",
      "Train on 2951 samples, validate on 738 samples\n",
      "Epoch 1/2\n",
      "2951/2951 [==============================] - ETA: 0s - loss: 0.8354 - acc: 0.718 - ETA: 0s - loss: 0.7666 - acc: 0.715 - ETA: 0s - loss: 0.7367 - acc: 0.731 - ETA: 0s - loss: 0.7285 - acc: 0.724 - ETA: 0s - loss: 0.7407 - acc: 0.720 - ETA: 0s - loss: 0.7574 - acc: 0.714 - 0s - loss: 0.7565 - acc: 0.7143 - val_loss: 1.4211 - val_acc: 0.5556\n",
      "Epoch 2/2\n",
      "2951/2951 [==============================] - ETA: 0s - loss: 0.8037 - acc: 0.671 - ETA: 0s - loss: 0.7867 - acc: 0.693 - ETA: 0s - loss: 0.7740 - acc: 0.700 - ETA: 0s - loss: 0.7676 - acc: 0.701 - ETA: 0s - loss: 0.7618 - acc: 0.703 - 0s - loss: 0.7587 - acc: 0.7079 - val_loss: 1.4168 - val_acc: 0.5501\n",
      "Training accuracy: 70.79% / Best validation accuracy: 56.78%\n",
      "Train on 2951 samples, validate on 738 samples\n",
      "Epoch 1/2\n",
      "2951/2951 [==============================] - ETA: 0s - loss: 0.6276 - acc: 0.765 - ETA: 0s - loss: 0.7291 - acc: 0.731 - ETA: 0s - loss: 0.7443 - acc: 0.724 - ETA: 0s - loss: 0.7350 - acc: 0.733 - ETA: 0s - loss: 0.7408 - acc: 0.729 - ETA: 0s - loss: 0.7531 - acc: 0.724 - ETA: 0s - loss: 0.7494 - acc: 0.725 - 0s - loss: 0.7454 - acc: 0.7262 - val_loss: 1.4715 - val_acc: 0.5745\n",
      "Epoch 2/2\n",
      "2951/2951 [==============================] - ETA: 0s - loss: 0.7073 - acc: 0.765 - ETA: 0s - loss: 0.6921 - acc: 0.734 - ETA: 0s - loss: 0.6962 - acc: 0.732 - ETA: 0s - loss: 0.7108 - acc: 0.727 - ETA: 0s - loss: 0.7166 - acc: 0.723 - 0s - loss: 0.7217 - acc: 0.7245 - val_loss: 1.4474 - val_acc: 0.5596\n",
      "Training accuracy: 72.45% / Best validation accuracy: 56.78%\n",
      "Train on 2951 samples, validate on 738 samples\n",
      "Epoch 1/2\n",
      "2951/2951 [==============================] - ETA: 0s - loss: 0.7087 - acc: 0.718 - ETA: 0s - loss: 0.7173 - acc: 0.730 - ETA: 0s - loss: 0.7005 - acc: 0.734 - ETA: 0s - loss: 0.7165 - acc: 0.730 - ETA: 0s - loss: 0.7221 - acc: 0.730 - 0s - loss: 0.7251 - acc: 0.7296 - val_loss: 1.4598 - val_acc: 0.5637\n",
      "Epoch 2/2\n",
      "2951/2951 [==============================] - ETA: 0s - loss: 0.6388 - acc: 0.750 - ETA: 0s - loss: 0.6810 - acc: 0.751 - ETA: 0s - loss: 0.6951 - acc: 0.743 - ETA: 0s - loss: 0.6982 - acc: 0.743 - 0s - loss: 0.7046 - acc: 0.7411 - val_loss: 1.4893 - val_acc: 0.5379\n",
      "Training accuracy: 74.11% / Best validation accuracy: 56.78%\n",
      "Train on 2951 samples, validate on 738 samples\n",
      "Epoch 1/2\n",
      "2951/2951 [==============================] - ETA: 0s - loss: 0.6621 - acc: 0.796 - ETA: 0s - loss: 0.7048 - acc: 0.751 - ETA: 0s - loss: 0.6970 - acc: 0.740 - ETA: 0s - loss: 0.6986 - acc: 0.743 - ETA: 0s - loss: 0.7002 - acc: 0.743 - 0s - loss: 0.7010 - acc: 0.7431 - val_loss: 1.4812 - val_acc: 0.5501\n",
      "Epoch 2/2\n",
      "2951/2951 [==============================] - ETA: 0s - loss: 0.6263 - acc: 0.828 - ETA: 0s - loss: 0.7455 - acc: 0.717 - ETA: 0s - loss: 0.7245 - acc: 0.723 - ETA: 0s - loss: 0.7080 - acc: 0.729 - ETA: 0s - loss: 0.7031 - acc: 0.733 - 0s - loss: 0.7021 - acc: 0.7340 - val_loss: 1.4926 - val_acc: 0.5569\n",
      "Training accuracy: 73.40% / Best validation accuracy: 56.78%\n",
      "Train on 2951 samples, validate on 738 samples\n",
      "Epoch 1/2\n",
      "2951/2951 [==============================] - ETA: 0s - loss: 0.4847 - acc: 0.843 - ETA: 0s - loss: 0.6349 - acc: 0.774 - ETA: 0s - loss: 0.6301 - acc: 0.772 - ETA: 0s - loss: 0.6621 - acc: 0.754 - ETA: 0s - loss: 0.6768 - acc: 0.746 - ETA: 0s - loss: 0.6856 - acc: 0.742 - 0s - loss: 0.6847 - acc: 0.7404 - val_loss: 1.4931 - val_acc: 0.5678\n",
      "Epoch 2/2\n",
      "2951/2951 [==============================] - ETA: 0s - loss: 0.6546 - acc: 0.703 - ETA: 0s - loss: 0.6891 - acc: 0.724 - ETA: 0s - loss: 0.6596 - acc: 0.731 - ETA: 0s - loss: 0.6631 - acc: 0.736 - ETA: 0s - loss: 0.6845 - acc: 0.736 - 0s - loss: 0.6852 - acc: 0.7360 - val_loss: 1.4755 - val_acc: 0.5515\n",
      "Training accuracy: 73.60% / Best validation accuracy: 56.78%\n",
      "Train on 2951 samples, validate on 738 samples\n",
      "Epoch 1/2\n"
     ]
    },
    {
     "name": "stdout",
     "output_type": "stream",
     "text": [
      "2951/2951 [==============================] - ETA: 0s - loss: 0.5740 - acc: 0.750 - ETA: 0s - loss: 0.7055 - acc: 0.720 - ETA: 0s - loss: 0.7063 - acc: 0.733 - ETA: 0s - loss: 0.6872 - acc: 0.734 - ETA: 0s - loss: 0.6917 - acc: 0.739 - 0s - loss: 0.6958 - acc: 0.7370 - val_loss: 1.4792 - val_acc: 0.5569\n",
      "Epoch 2/2\n",
      "2951/2951 [==============================] - ETA: 0s - loss: 0.7245 - acc: 0.765 - ETA: 0s - loss: 0.6626 - acc: 0.759 - ETA: 0s - loss: 0.6691 - acc: 0.740 - ETA: 0s - loss: 0.6702 - acc: 0.735 - ETA: 0s - loss: 0.6757 - acc: 0.730 - 0s - loss: 0.6819 - acc: 0.7289 - val_loss: 1.4984 - val_acc: 0.5528\n",
      "Training accuracy: 72.89% / Best validation accuracy: 56.78%\n",
      "Train on 2951 samples, validate on 738 samples\n",
      "Epoch 1/2\n",
      "2951/2951 [==============================] - ETA: 0s - loss: 0.6410 - acc: 0.796 - ETA: 0s - loss: 0.6450 - acc: 0.756 - ETA: 0s - loss: 0.6577 - acc: 0.745 - ETA: 0s - loss: 0.6653 - acc: 0.748 - 0s - loss: 0.6697 - acc: 0.7475 - val_loss: 1.4986 - val_acc: 0.5732\n",
      "Epoch 2/2\n",
      "2951/2951 [==============================] - ETA: 0s - loss: 0.6849 - acc: 0.750 - ETA: 0s - loss: 0.6433 - acc: 0.748 - ETA: 0s - loss: 0.6722 - acc: 0.750 - ETA: 0s - loss: 0.6548 - acc: 0.750 - 0s - loss: 0.6581 - acc: 0.7503 - val_loss: 1.5236 - val_acc: 0.5732\n",
      "Training accuracy: 75.03% / Best validation accuracy: 57.32%\n",
      "Train on 2951 samples, validate on 738 samples\n",
      "Epoch 1/2\n",
      "2951/2951 [==============================] - ETA: 0s - loss: 0.7653 - acc: 0.703 - ETA: 0s - loss: 0.6188 - acc: 0.764 - ETA: 0s - loss: 0.6612 - acc: 0.745 - ETA: 0s - loss: 0.6548 - acc: 0.752 - 0s - loss: 0.6490 - acc: 0.7503 - val_loss: 1.5262 - val_acc: 0.5637\n",
      "Epoch 2/2\n",
      "2951/2951 [==============================] - ETA: 0s - loss: 0.5251 - acc: 0.812 - ETA: 0s - loss: 0.6424 - acc: 0.763 - ETA: 0s - loss: 0.6421 - acc: 0.759 - ETA: 0s - loss: 0.6476 - acc: 0.750 - 0s - loss: 0.6596 - acc: 0.7475 - val_loss: 1.4807 - val_acc: 0.5556\n",
      "Training accuracy: 74.75% / Best validation accuracy: 57.32%\n",
      "Train on 2951 samples, validate on 738 samples\n",
      "Epoch 1/2\n",
      "2951/2951 [==============================] - ETA: 0s - loss: 0.6032 - acc: 0.765 - ETA: 0s - loss: 0.6028 - acc: 0.770 - ETA: 0s - loss: 0.6542 - acc: 0.753 - ETA: 0s - loss: 0.6540 - acc: 0.747 - 0s - loss: 0.6461 - acc: 0.7536 - val_loss: 1.5237 - val_acc: 0.5596\n",
      "Epoch 2/2\n",
      "2951/2951 [==============================] - ETA: 0s - loss: 0.5568 - acc: 0.781 - ETA: 0s - loss: 0.5670 - acc: 0.783 - ETA: 0s - loss: 0.6061 - acc: 0.772 - ETA: 0s - loss: 0.6102 - acc: 0.767 - 0s - loss: 0.6222 - acc: 0.7641 - val_loss: 1.5611 - val_acc: 0.5759\n",
      "Training accuracy: 76.41% / Best validation accuracy: 57.59%\n",
      "Train on 2951 samples, validate on 738 samples\n",
      "Epoch 1/2\n",
      "2951/2951 [==============================] - ETA: 0s - loss: 0.6239 - acc: 0.734 - ETA: 0s - loss: 0.6454 - acc: 0.748 - ETA: 0s - loss: 0.6189 - acc: 0.766 - ETA: 0s - loss: 0.6255 - acc: 0.767 - 0s - loss: 0.6305 - acc: 0.7601 - val_loss: 1.5549 - val_acc: 0.5556\n",
      "Epoch 2/2\n",
      "2951/2951 [==============================] - ETA: 0s - loss: 0.6215 - acc: 0.765 - ETA: 0s - loss: 0.6228 - acc: 0.774 - ETA: 0s - loss: 0.6165 - acc: 0.764 - ETA: 0s - loss: 0.6217 - acc: 0.762 - 0s - loss: 0.6300 - acc: 0.7618 - val_loss: 1.5492 - val_acc: 0.5718\n",
      "Training accuracy: 76.18% / Best validation accuracy: 57.59%\n",
      "Train on 2951 samples, validate on 738 samples\n",
      "Epoch 1/2\n",
      "2951/2951 [==============================] - ETA: 0s - loss: 0.5688 - acc: 0.765 - ETA: 0s - loss: 0.6452 - acc: 0.752 - ETA: 0s - loss: 0.6009 - acc: 0.772 - ETA: 0s - loss: 0.6091 - acc: 0.768 - 0s - loss: 0.6112 - acc: 0.7689 - val_loss: 1.5505 - val_acc: 0.5542\n",
      "Epoch 2/2\n",
      "2951/2951 [==============================] - ETA: 0s - loss: 0.5607 - acc: 0.843 - ETA: 0s - loss: 0.5851 - acc: 0.799 - ETA: 0s - loss: 0.5858 - acc: 0.782 - ETA: 0s - loss: 0.5872 - acc: 0.774 - 0s - loss: 0.6009 - acc: 0.7726 - val_loss: 1.5687 - val_acc: 0.5678\n",
      "Training accuracy: 77.26% / Best validation accuracy: 57.59%\n",
      "Train on 2951 samples, validate on 738 samples\n",
      "Epoch 1/2\n",
      "2951/2951 [==============================] - ETA: 0s - loss: 0.4736 - acc: 0.828 - ETA: 0s - loss: 0.6377 - acc: 0.755 - ETA: 0s - loss: 0.6213 - acc: 0.759 - ETA: 0s - loss: 0.6007 - acc: 0.765 - 0s - loss: 0.5979 - acc: 0.7662 - val_loss: 1.5849 - val_acc: 0.5623\n",
      "Epoch 2/2\n",
      "2951/2951 [==============================] - ETA: 0s - loss: 0.5858 - acc: 0.718 - ETA: 0s - loss: 0.5431 - acc: 0.781 - ETA: 0s - loss: 0.6045 - acc: 0.758 - ETA: 0s - loss: 0.6189 - acc: 0.758 - 0s - loss: 0.6047 - acc: 0.7628 - val_loss: 1.5895 - val_acc: 0.5718\n",
      "Training accuracy: 76.28% / Best validation accuracy: 57.59%\n",
      "Train on 2951 samples, validate on 738 samples\n",
      "Epoch 1/2\n",
      "2951/2951 [==============================] - ETA: 0s - loss: 0.5589 - acc: 0.796 - ETA: 0s - loss: 0.5319 - acc: 0.779 - ETA: 0s - loss: 0.5738 - acc: 0.772 - ETA: 0s - loss: 0.6016 - acc: 0.770 - 0s - loss: 0.6020 - acc: 0.7713 - val_loss: 1.6123 - val_acc: 0.5732\n",
      "Epoch 2/2\n",
      "2951/2951 [==============================] - ETA: 0s - loss: 0.5979 - acc: 0.750 - ETA: 0s - loss: 0.5819 - acc: 0.771 - ETA: 0s - loss: 0.5795 - acc: 0.779 - ETA: 0s - loss: 0.5858 - acc: 0.778 - ETA: 0s - loss: 0.5922 - acc: 0.773 - 0s - loss: 0.5927 - acc: 0.7736 - val_loss: 1.6346 - val_acc: 0.5745\n",
      "Training accuracy: 77.36% / Best validation accuracy: 57.59%\n",
      "Train on 2951 samples, validate on 738 samples\n",
      "Epoch 1/2\n",
      "2951/2951 [==============================] - ETA: 0s - loss: 0.5471 - acc: 0.796 - ETA: 0s - loss: 0.5361 - acc: 0.798 - ETA: 0s - loss: 0.5464 - acc: 0.793 - ETA: 0s - loss: 0.5663 - acc: 0.785 - 0s - loss: 0.5770 - acc: 0.7808 - val_loss: 1.6250 - val_acc: 0.5745\n",
      "Epoch 2/2\n",
      "2951/2951 [==============================] - ETA: 0s - loss: 0.5867 - acc: 0.812 - ETA: 0s - loss: 0.5924 - acc: 0.793 - ETA: 0s - loss: 0.5721 - acc: 0.789 - ETA: 0s - loss: 0.5696 - acc: 0.788 - ETA: 0s - loss: 0.5722 - acc: 0.788 - 0s - loss: 0.5718 - acc: 0.7882 - val_loss: 1.6353 - val_acc: 0.5678\n",
      "Training accuracy: 78.82% / Best validation accuracy: 57.59%\n"
     ]
    },
    {
     "data": {
      "image/png": "[encoded data removed]",
      "text/plain": [
       "<matplotlib.figure.Figure at 0x275bec37a58>"
      ]
     },
     "metadata": {},
     "output_type": "display_data"
    },
    {
     "data": {
      "image/png": "[encoded data removed]",
      "text/plain": [
       "<matplotlib.figure.Figure at 0x275db6e4438>"
      ]
     },
     "metadata": {},
     "output_type": "display_data"
    },
    {
     "name": "stdout",
     "output_type": "stream",
     "text": [
      " 32/986 [..............................] - ETA: 0s"
     ]
    }
   ],
   "source": [
    "model = train_nn_model(model, train_set, encoded_y, filename = 'try(win30)load.h5')\n",
    "y_predict = model.predict_proba(test_set)"
   ]
  },
  {
   "cell_type": "code",
   "execution_count": 13,
   "metadata": {
    "collapsed": true
   },
   "outputs": [],
   "source": [
    "#the xgboost classfication model\n",
    "#first deal with the input label, transfrom it from 1-9 to 0-8(required by the xgboost)\n",
    "for i in range(len(train_y)):\n",
    "    train_y[i] -=1  "
   ]
  },
  {
   "cell_type": "code",
   "execution_count": 14,
   "metadata": {},
   "outputs": [
    {
     "name": "stdout",
     "output_type": "stream",
     "text": [
      "[0]\ttrain-mlogloss:2.1181\tvalid-mlogloss:2.13985\n",
      "Multiple eval metrics have been passed: 'valid-mlogloss' will be used for early stopping.\n",
      "\n",
      "Will train until valid-mlogloss hasn't improved in 100 rounds.\n",
      "[25]\ttrain-mlogloss:1.06037\tvalid-mlogloss:1.43194\n",
      "[50]\ttrain-mlogloss:0.618618\tvalid-mlogloss:1.16742\n",
      "[75]\ttrain-mlogloss:0.386104\tvalid-mlogloss:1.0494\n",
      "[100]\ttrain-mlogloss:0.253545\tvalid-mlogloss:0.991609\n",
      "[125]\ttrain-mlogloss:0.172862\tvalid-mlogloss:0.967007\n",
      "[150]\ttrain-mlogloss:0.1215\tvalid-mlogloss:0.955174\n",
      "[175]\ttrain-mlogloss:0.087649\tvalid-mlogloss:0.951497\n",
      "[200]\ttrain-mlogloss:0.065318\tvalid-mlogloss:0.95718\n",
      "[225]\ttrain-mlogloss:0.049923\tvalid-mlogloss:0.966447\n",
      "[250]\ttrain-mlogloss:0.039504\tvalid-mlogloss:0.975929\n",
      "Stopping. Best iteration:\n",
      "[174]\ttrain-mlogloss:0.088885\tvalid-mlogloss:0.951245\n",
      "\n",
      "0.951245393196\n",
      "1\n"
     ]
    }
   ],
   "source": [
    "y_predict = xgbclassifier(train_set, train_y, test_set, 1, 8, 1000)"
   ]
  },
  {
   "cell_type": "code",
   "execution_count": 15,
   "metadata": {
    "collapsed": true
   },
   "outputs": [],
   "source": [
    "savesubmisstion(y_predict, test_x, filename = \"submission_allwin30load.csv\")"
   ]
  },
  {
   "cell_type": "code",
   "execution_count": null,
   "metadata": {
    "collapsed": true
   },
   "outputs": [],
   "source": []
  }
 ],
 "metadata": {
  "kernelspec": {
   "display_name": "Python 3",
   "language": "python",
   "name": "python3"
  },
  "language_info": {
   "codemirror_mode": {
    "name": "ipython",
    "version": 3
   },
   "file_extension": ".py",
   "mimetype": "text/x-python",
   "name": "python",
   "nbconvert_exporter": "python",
   "pygments_lexer": "ipython3",
   "version": "3.5.4"
  }
 },
 "nbformat": 4,
 "nbformat_minor": 2
}
