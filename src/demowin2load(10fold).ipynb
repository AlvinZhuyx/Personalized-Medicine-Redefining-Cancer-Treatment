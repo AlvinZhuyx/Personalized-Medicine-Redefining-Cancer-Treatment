{
 "cells": [
  {
   "cell_type": "code",
   "execution_count": 1,
   "metadata": {},
   "outputs": [
    {
     "name": "stderr",
     "output_type": "stream",
     "text": [
      "C:\\Users\\zhuya\\Anaconda3\\envs\\tensorflow\\lib\\site-packages\\gensim\\utils.py:862: UserWarning: detected Windows; aliasing chunkize to chunkize_serial\n",
      "  warnings.warn(\"detected Windows; aliasing chunkize to chunkize_serial\")\n",
      "Using TensorFlow backend.\n",
      "C:\\Users\\zhuya\\Anaconda3\\envs\\tensorflow\\lib\\site-packages\\sklearn\\cross_validation.py:41: DeprecationWarning: This module was deprecated in version 0.18 in favor of the model_selection module into which all the refactored classes and functions are moved. Also note that the interface of the new CV iterators are different from that of this module. This module will be removed in 0.20.\n",
      "  \"This module will be removed in 0.20.\", DeprecationWarning)\n"
     ]
    }
   ],
   "source": [
    "import os\n",
    "import re\n",
    "import tqdm\n",
    "import string\n",
    "import pandas as pd\n",
    "import numpy as np\n",
    "import util\n",
    "from sklearn.decomposition import TruncatedSVD\n",
    "from data_preprocessing import *\n",
    "import word_embedding_load as wel\n",
    "from classification import *\n",
    "from xgboost_classifier import *\n",
    "from testaccuracy import *"
   ]
  },
  {
   "cell_type": "code",
   "execution_count": 2,
   "metadata": {
    "collapsed": true
   },
   "outputs": [],
   "source": [
    "[all_data, train_size, test_size, train_x, train_y, test_x] = util.loadData()\n",
    "sentences = data_preprocess(all_data)"
   ]
  },
  {
   "cell_type": "code",
   "execution_count": 3,
   "metadata": {
    "collapsed": true
   },
   "outputs": [],
   "source": [
    "Text_INPUT_DIM=200\n",
    "GENE_INPUT_DIM=25\n",
    "TEXT_INPUT_DIM=200\n",
    "PATH = '../model/doc2vec/'\n",
    "modelName='docEmbeddings_win2_load_all.d2v'"
   ]
  },
  {
   "cell_type": "code",
   "execution_count": 4,
   "metadata": {
    "collapsed": true
   },
   "outputs": [],
   "source": [
    "param = util.Doc2VecParam(1, 2, 200, 1e-4, 5, 4, 30, 1)"
   ]
  },
  {
   "cell_type": "code",
   "execution_count": 5,
   "metadata": {
    "collapsed": true
   },
   "outputs": [],
   "source": [
    "svd = TruncatedSVD(n_components=GENE_INPUT_DIM, n_iter=25, random_state=12)"
   ]
  },
  {
   "cell_type": "code",
   "execution_count": 6,
   "metadata": {},
   "outputs": [
    {
     "name": "stdout",
     "output_type": "stream",
     "text": [
      "Successfully loaded the textmodel from ../model/doc2vec/docEmbeddings_win2_load_all.d2v\n"
     ]
    }
   ],
   "source": [
    "#load a pre-trained text model\n",
    "text_model = wel.loadTextModel(PATH + modelName)\n",
    "\n",
    "#To train a new text model, default without outside data:\n",
    "#text_model = wel.trainTextModel(sentences, param, 'newModelName', PATH)\n",
    "\n",
    "#To train a new text model with outside data:\n",
    "#sourceFile = '../data/bio_nlp_vec/PubMed-shuffle-win-30.bin'\n",
    "#text_model = wel.trainTextModel(sentences, param, 'newModelName', PATH, True, sourceFile)"
   ]
  },
  {
   "cell_type": "code",
   "execution_count": 7,
   "metadata": {
    "collapsed": true
   },
   "outputs": [],
   "source": [
    "truncated_one_hot_gene = wel.getGeneVec(all_data, svd)\n",
    "truncated_one_hot_variation = wel.getVariationVec(all_data, svd)\n",
    "text_train_arrays, text_test_arrays = wel.getTextVec(text_model, train_size, test_size, TEXT_INPUT_DIM)"
   ]
  },
  {
   "cell_type": "code",
   "execution_count": 8,
   "metadata": {},
   "outputs": [
    {
     "name": "stdout",
     "output_type": "stream",
     "text": [
      "(3689, 200)\n",
      "(986, 200)\n"
     ]
    },
    {
     "data": {
      "text/plain": [
       "array([ 1.9926796 , -0.95616704, -0.41943806,  1.05640149, -0.17750672,\n",
       "       -0.22473556, -1.14849627, -1.04512095,  0.72278821, -0.26906219,\n",
       "       -0.12173071,  0.27951074,  0.85554093,  1.4066658 , -0.66658169,\n",
       "       -3.5733881 ,  0.61995304, -2.23058319, -0.13402276,  2.12668133,\n",
       "       -0.35180882, -0.27377269,  0.54994392, -1.48118317, -1.4935751 ,\n",
       "       -1.68159318,  0.34006077,  2.6541965 , -0.45972574, -0.43201742,\n",
       "        0.3170231 , -1.63518965,  2.0632391 ,  1.46774471, -0.95080161,\n",
       "        0.16261423,  1.81780541,  0.94335526, -0.02719352,  0.66872084,\n",
       "        0.53617448,  0.2284466 ,  1.14089978, -1.53023636, -0.30838454,\n",
       "        1.86624837, -0.64276832,  0.49743181, -0.53058469,  1.06889701,\n",
       "        0.34412953,  0.14060664,  1.23631251,  0.41249499, -0.50394237,\n",
       "        0.92049599,  0.2226413 , -0.11276353, -0.56527591,  0.82244128,\n",
       "       -0.99196661, -0.42952666, -0.88652813,  0.43424979, -1.98911691,\n",
       "        1.09482539, -2.45888305,  1.73302603,  2.20067   , -0.6085186 ,\n",
       "       -1.25785565, -0.44117382,  1.98833013, -0.51232427, -1.10979819,\n",
       "       -0.54445004, -1.16707098, -1.31837153, -0.53253657,  1.59991312,\n",
       "       -0.20664276, -1.05685711,  0.31082043, -0.2043286 ,  0.77633107,\n",
       "        0.85860324, -2.03887677,  1.49911261, -0.39974245,  0.91128081,\n",
       "        1.13125467, -2.09005117, -0.41554201, -1.55264652,  0.44138581,\n",
       "        0.49449065, -2.13298559,  2.20955014,  0.95500571,  0.41129953,\n",
       "       -0.87113571,  0.98770237,  0.38444752,  0.63010305,  1.8368659 ,\n",
       "       -0.14130785, -0.32579213,  0.86784047,  1.06677532,  0.67403376,\n",
       "       -1.06961429, -1.40743053,  1.35656881,  1.58909762, -1.9294008 ,\n",
       "        0.939282  ,  0.39813891, -1.23754907,  2.85993528,  0.95143169,\n",
       "       -0.82528299, -0.78427643, -1.12611341, -1.30386949, -0.7302534 ,\n",
       "       -2.40704179, -1.25131738, -2.22095847, -0.61212695,  2.46631312,\n",
       "       -1.45429885,  0.024306  ,  1.18339205, -0.09788334, -0.23530199,\n",
       "       -0.14920838,  0.45473397, -1.07566762, -0.2484591 , -0.61140323,\n",
       "        2.3258121 , -0.68689275,  1.68472815,  1.7551837 ,  0.01643275,\n",
       "        1.61395371, -0.65283042,  1.57991278,  1.2904892 , -1.71622753,\n",
       "        0.6634233 ,  0.58639234, -1.34056306,  0.28264776, -2.64078593,\n",
       "        0.66478187, -1.04393971, -0.69477886,  0.55568027,  1.07313037,\n",
       "        1.97054124, -0.79388338,  0.30255207,  1.81174207,  0.62831497,\n",
       "       -0.39802322,  1.16715777, -0.69539362, -0.1725876 , -0.4010261 ,\n",
       "       -1.53010333,  1.78115654,  0.45922974, -1.49840677, -0.73476058,\n",
       "       -1.40930474, -1.35155988, -0.66272843, -1.22934783, -0.63275701,\n",
       "        1.06155419,  1.50083339,  0.0615571 ,  0.4066731 , -0.32978195,\n",
       "        0.70330983,  1.51849055,  1.75434244,  1.91263461,  1.88655174,\n",
       "       -0.2432631 , -0.86476576,  3.33272672, -0.36880228,  1.19287694,\n",
       "       -1.752213  , -1.39517832, -2.54406714, -0.45961851,  0.53956795])"
      ]
     },
     "execution_count": 8,
     "metadata": {},
     "output_type": "execute_result"
    }
   ],
   "source": [
    "print(text_train_arrays.shape)\n",
    "print(text_test_arrays.shape)\n",
    "text_train_arrays[0]"
   ]
  },
  {
   "cell_type": "code",
   "execution_count": 9,
   "metadata": {},
   "outputs": [
    {
     "name": "stdout",
     "output_type": "stream",
     "text": [
      "(3689, 9)\n"
     ]
    }
   ],
   "source": [
    "train_set = np.hstack((truncated_one_hot_gene[:train_size], truncated_one_hot_variation[:train_size], text_train_arrays))\n",
    "test_set = np.hstack((truncated_one_hot_gene[train_size:], truncated_one_hot_variation[train_size:], text_test_arrays))\n",
    "encoded_y = pd.get_dummies(train_y)\n",
    "encoded_y = np.array(encoded_y)\n",
    "print(encoded_y.shape)"
   ]
  },
  {
   "cell_type": "code",
   "execution_count": 10,
   "metadata": {},
   "outputs": [
    {
     "name": "stdout",
     "output_type": "stream",
     "text": [
      "(3689, 250)\n",
      "(986, 250)\n"
     ]
    },
    {
     "data": {
      "text/plain": [
       "array([  1.00000000e+00,   4.18523246e-19,   1.82140582e-19,\n",
       "         5.52932734e-29,   9.01317672e-25,   1.47967745e-22,\n",
       "        -8.38240178e-21,   2.00300590e-21,   9.74158370e-21,\n",
       "        -9.34683441e-21,   1.91083889e-20,   6.55003880e-19,\n",
       "        -1.09276438e-17,  -1.56730196e-18,  -2.12913704e-18,\n",
       "        -4.51096312e-18,  -3.82900024e-19,   1.15894157e-17,\n",
       "         1.59938703e-17,   3.58735292e-17,  -3.35304994e-18,\n",
       "         1.68462844e-17,   6.76851697e-18,   5.86047343e-17,\n",
       "         7.80129580e-21])"
      ]
     },
     "execution_count": 10,
     "metadata": {},
     "output_type": "execute_result"
    }
   ],
   "source": [
    "print(train_set.shape)\n",
    "print(test_set.shape)\n",
    "train_set[0, 25:50]"
   ]
  },
  {
   "cell_type": "code",
   "execution_count": 11,
   "metadata": {
    "collapsed": true
   },
   "outputs": [],
   "source": [
    "#the xgboost classfication model\n",
    "#first deal with the input label, transfrom it from 1-9 to 0-8(required by the xgboost)\n",
    "for i in range(len(train_y)):\n",
    "    train_y[i] -=1  "
   ]
  },
  {
   "cell_type": "code",
   "execution_count": 13,
   "metadata": {},
   "outputs": [
    {
     "name": "stdout",
     "output_type": "stream",
     "text": [
      "[0]\ttrain-mlogloss:2.12045\tvalid-mlogloss:2.13881\n",
      "Multiple eval metrics have been passed: 'valid-mlogloss' will be used for early stopping.\n",
      "\n",
      "Will train until valid-mlogloss hasn't improved in 100 rounds.\n",
      "[25]\ttrain-mlogloss:1.07997\tvalid-mlogloss:1.42203\n",
      "[50]\ttrain-mlogloss:0.638973\tvalid-mlogloss:1.15602\n",
      "[75]\ttrain-mlogloss:0.402763\tvalid-mlogloss:1.039\n",
      "[100]\ttrain-mlogloss:0.271432\tvalid-mlogloss:0.979978\n",
      "[125]\ttrain-mlogloss:0.192646\tvalid-mlogloss:0.954811\n",
      "[150]\ttrain-mlogloss:0.140118\tvalid-mlogloss:0.946211\n",
      "[175]\ttrain-mlogloss:0.10349\tvalid-mlogloss:0.948864\n",
      "[200]\ttrain-mlogloss:0.077589\tvalid-mlogloss:0.956714\n",
      "[225]\ttrain-mlogloss:0.059765\tvalid-mlogloss:0.964432\n",
      "[250]\ttrain-mlogloss:0.047164\tvalid-mlogloss:0.975061\n",
      "Stopping. Best iteration:\n",
      "[157]\ttrain-mlogloss:0.128527\tvalid-mlogloss:0.945539\n",
      "\n",
      "final validation loss:\n",
      "0.945539156439\n",
      "final validation accuracy:\n",
      "0.672086720867\n",
      "[0]\ttrain-mlogloss:2.12061\tvalid-mlogloss:2.13901\n",
      "Multiple eval metrics have been passed: 'valid-mlogloss' will be used for early stopping.\n",
      "\n",
      "Will train until valid-mlogloss hasn't improved in 100 rounds.\n",
      "[25]\ttrain-mlogloss:1.09818\tvalid-mlogloss:1.39585\n",
      "[50]\ttrain-mlogloss:0.653914\tvalid-mlogloss:1.11416\n",
      "[75]\ttrain-mlogloss:0.412895\tvalid-mlogloss:0.979905\n",
      "[100]\ttrain-mlogloss:0.283111\tvalid-mlogloss:0.907404\n",
      "[125]\ttrain-mlogloss:0.200389\tvalid-mlogloss:0.865395\n",
      "[150]\ttrain-mlogloss:0.143917\tvalid-mlogloss:0.84486\n",
      "[175]\ttrain-mlogloss:0.107228\tvalid-mlogloss:0.835619\n",
      "[200]\ttrain-mlogloss:0.08058\tvalid-mlogloss:0.831683\n",
      "[225]\ttrain-mlogloss:0.061895\tvalid-mlogloss:0.834076\n",
      "[250]\ttrain-mlogloss:0.048744\tvalid-mlogloss:0.841319\n",
      "[275]\ttrain-mlogloss:0.039101\tvalid-mlogloss:0.850951\n",
      "[300]\ttrain-mlogloss:0.032259\tvalid-mlogloss:0.857651\n",
      "Stopping. Best iteration:\n",
      "[216]\ttrain-mlogloss:0.067914\tvalid-mlogloss:0.830916\n",
      "\n",
      "final validation loss:\n",
      "0.830915919588\n",
      "final validation accuracy:\n",
      "0.712737127371\n",
      "[0]\ttrain-mlogloss:2.12046\tvalid-mlogloss:2.14033\n",
      "Multiple eval metrics have been passed: 'valid-mlogloss' will be used for early stopping.\n",
      "\n",
      "Will train until valid-mlogloss hasn't improved in 100 rounds.\n",
      "[25]\ttrain-mlogloss:1.09256\tvalid-mlogloss:1.40011\n",
      "[50]\ttrain-mlogloss:0.648964\tvalid-mlogloss:1.12906\n",
      "[75]\ttrain-mlogloss:0.409898\tvalid-mlogloss:0.997697\n",
      "[100]\ttrain-mlogloss:0.278698\tvalid-mlogloss:0.928246\n",
      "[125]\ttrain-mlogloss:0.198572\tvalid-mlogloss:0.885629\n",
      "[150]\ttrain-mlogloss:0.14439\tvalid-mlogloss:0.865886\n",
      "[175]\ttrain-mlogloss:0.106065\tvalid-mlogloss:0.859076\n",
      "[200]\ttrain-mlogloss:0.079973\tvalid-mlogloss:0.857553\n",
      "[225]\ttrain-mlogloss:0.060898\tvalid-mlogloss:0.85735\n",
      "[250]\ttrain-mlogloss:0.047743\tvalid-mlogloss:0.858956\n",
      "[275]\ttrain-mlogloss:0.038688\tvalid-mlogloss:0.86158\n",
      "[300]\ttrain-mlogloss:0.031979\tvalid-mlogloss:0.866464\n",
      "Stopping. Best iteration:\n",
      "[217]\ttrain-mlogloss:0.066322\tvalid-mlogloss:0.856695\n",
      "\n",
      "final validation loss:\n",
      "0.856694647863\n",
      "final validation accuracy:\n",
      "0.680216802168\n",
      "[0]\ttrain-mlogloss:2.11921\tvalid-mlogloss:2.13606\n",
      "Multiple eval metrics have been passed: 'valid-mlogloss' will be used for early stopping.\n",
      "\n",
      "Will train until valid-mlogloss hasn't improved in 100 rounds.\n",
      "[25]\ttrain-mlogloss:1.10385\tvalid-mlogloss:1.39306\n",
      "[50]\ttrain-mlogloss:0.651831\tvalid-mlogloss:1.12567\n",
      "[75]\ttrain-mlogloss:0.416147\tvalid-mlogloss:1.00218\n",
      "[100]\ttrain-mlogloss:0.281826\tvalid-mlogloss:0.94308\n",
      "[125]\ttrain-mlogloss:0.20046\tvalid-mlogloss:0.91719\n",
      "[150]\ttrain-mlogloss:0.143072\tvalid-mlogloss:0.902853\n",
      "[175]\ttrain-mlogloss:0.104332\tvalid-mlogloss:0.904933\n",
      "[200]\ttrain-mlogloss:0.078131\tvalid-mlogloss:0.908066\n",
      "[225]\ttrain-mlogloss:0.060256\tvalid-mlogloss:0.918236\n",
      "[250]\ttrain-mlogloss:0.047455\tvalid-mlogloss:0.931081\n",
      "Stopping. Best iteration:\n",
      "[154]\ttrain-mlogloss:0.13585\tvalid-mlogloss:0.901771\n",
      "\n",
      "final validation loss:\n",
      "0.90177135695\n",
      "final validation accuracy:\n",
      "0.685636856369\n",
      "[0]\ttrain-mlogloss:2.12043\tvalid-mlogloss:2.13767\n",
      "Multiple eval metrics have been passed: 'valid-mlogloss' will be used for early stopping.\n",
      "\n",
      "Will train until valid-mlogloss hasn't improved in 100 rounds.\n",
      "[25]\ttrain-mlogloss:1.09887\tvalid-mlogloss:1.39159\n",
      "[50]\ttrain-mlogloss:0.656088\tvalid-mlogloss:1.11448\n",
      "[75]\ttrain-mlogloss:0.411811\tvalid-mlogloss:0.989286\n",
      "[100]\ttrain-mlogloss:0.28052\tvalid-mlogloss:0.929563\n",
      "[125]\ttrain-mlogloss:0.201458\tvalid-mlogloss:0.895945\n",
      "[150]\ttrain-mlogloss:0.145775\tvalid-mlogloss:0.877765\n",
      "[175]\ttrain-mlogloss:0.107728\tvalid-mlogloss:0.870597\n",
      "[200]\ttrain-mlogloss:0.081683\tvalid-mlogloss:0.867395\n",
      "[225]\ttrain-mlogloss:0.062597\tvalid-mlogloss:0.872695\n",
      "[250]\ttrain-mlogloss:0.048839\tvalid-mlogloss:0.877893\n",
      "[275]\ttrain-mlogloss:0.039192\tvalid-mlogloss:0.884677\n",
      "Stopping. Best iteration:\n",
      "[198]\ttrain-mlogloss:0.083525\tvalid-mlogloss:0.867092\n",
      "\n",
      "final validation loss:\n",
      "0.867091916035\n",
      "final validation accuracy:\n",
      "0.691056910569\n",
      "[0]\ttrain-mlogloss:2.11983\tvalid-mlogloss:2.14234\n",
      "Multiple eval metrics have been passed: 'valid-mlogloss' will be used for early stopping.\n",
      "\n",
      "Will train until valid-mlogloss hasn't improved in 100 rounds.\n",
      "[25]\ttrain-mlogloss:1.08875\tvalid-mlogloss:1.4674\n",
      "[50]\ttrain-mlogloss:0.64572\tvalid-mlogloss:1.22438\n",
      "[75]\ttrain-mlogloss:0.412508\tvalid-mlogloss:1.11761\n",
      "[100]\ttrain-mlogloss:0.27568\tvalid-mlogloss:1.06713\n",
      "[125]\ttrain-mlogloss:0.198774\tvalid-mlogloss:1.05154\n",
      "[150]\ttrain-mlogloss:0.147091\tvalid-mlogloss:1.04858\n",
      "[175]\ttrain-mlogloss:0.107866\tvalid-mlogloss:1.05436\n",
      "[200]\ttrain-mlogloss:0.080928\tvalid-mlogloss:1.06539\n",
      "[225]\ttrain-mlogloss:0.062413\tvalid-mlogloss:1.07915\n",
      "Stopping. Best iteration:\n",
      "[145]\ttrain-mlogloss:0.156654\tvalid-mlogloss:1.04774\n",
      "\n",
      "final validation loss:\n",
      "1.04774493182\n",
      "final validation accuracy:\n",
      "0.636856368564\n",
      "[0]\ttrain-mlogloss:2.12055\tvalid-mlogloss:2.13629\n",
      "Multiple eval metrics have been passed: 'valid-mlogloss' will be used for early stopping.\n",
      "\n",
      "Will train until valid-mlogloss hasn't improved in 100 rounds.\n",
      "[25]\ttrain-mlogloss:1.09699\tvalid-mlogloss:1.4095\n",
      "[50]\ttrain-mlogloss:0.650414\tvalid-mlogloss:1.1419\n",
      "[75]\ttrain-mlogloss:0.413632\tvalid-mlogloss:1.01493\n",
      "[100]\ttrain-mlogloss:0.284074\tvalid-mlogloss:0.957268\n",
      "[125]\ttrain-mlogloss:0.199254\tvalid-mlogloss:0.931443\n",
      "[150]\ttrain-mlogloss:0.142546\tvalid-mlogloss:0.92089\n",
      "[175]\ttrain-mlogloss:0.104533\tvalid-mlogloss:0.917462\n",
      "[200]\ttrain-mlogloss:0.078458\tvalid-mlogloss:0.921593\n",
      "[225]\ttrain-mlogloss:0.060257\tvalid-mlogloss:0.933883\n",
      "[250]\ttrain-mlogloss:0.047609\tvalid-mlogloss:0.94822\n",
      "[275]\ttrain-mlogloss:0.038485\tvalid-mlogloss:0.960728\n",
      "Stopping. Best iteration:\n",
      "[181]\ttrain-mlogloss:0.09749\tvalid-mlogloss:0.917021\n",
      "\n",
      "final validation loss:\n",
      "0.917021368494\n",
      "final validation accuracy:\n",
      "0.720867208672\n",
      "[0]\ttrain-mlogloss:2.12183\tvalid-mlogloss:2.14159\n",
      "Multiple eval metrics have been passed: 'valid-mlogloss' will be used for early stopping.\n",
      "\n",
      "Will train until valid-mlogloss hasn't improved in 100 rounds.\n",
      "[25]\ttrain-mlogloss:1.09429\tvalid-mlogloss:1.41566\n",
      "[50]\ttrain-mlogloss:0.651388\tvalid-mlogloss:1.15061\n",
      "[75]\ttrain-mlogloss:0.414252\tvalid-mlogloss:1.0261\n",
      "[100]\ttrain-mlogloss:0.283267\tvalid-mlogloss:0.959479\n",
      "[125]\ttrain-mlogloss:0.201826\tvalid-mlogloss:0.935242\n",
      "[150]\ttrain-mlogloss:0.144137\tvalid-mlogloss:0.921871\n",
      "[175]\ttrain-mlogloss:0.105622\tvalid-mlogloss:0.917558\n",
      "[200]\ttrain-mlogloss:0.079006\tvalid-mlogloss:0.917476\n",
      "[225]\ttrain-mlogloss:0.060326\tvalid-mlogloss:0.920346\n",
      "[250]\ttrain-mlogloss:0.047168\tvalid-mlogloss:0.925771\n",
      "[275]\ttrain-mlogloss:0.037899\tvalid-mlogloss:0.935792\n",
      "Stopping. Best iteration:\n",
      "[196]\ttrain-mlogloss:0.082842\tvalid-mlogloss:0.916613\n",
      "\n",
      "final validation loss:\n",
      "0.916612724153\n",
      "final validation accuracy:\n",
      "0.685636856369\n",
      "[0]\ttrain-mlogloss:2.12251\tvalid-mlogloss:2.13988\n",
      "Multiple eval metrics have been passed: 'valid-mlogloss' will be used for early stopping.\n",
      "\n",
      "Will train until valid-mlogloss hasn't improved in 100 rounds.\n",
      "[25]\ttrain-mlogloss:1.09512\tvalid-mlogloss:1.39671\n",
      "[50]\ttrain-mlogloss:0.648268\tvalid-mlogloss:1.12253\n",
      "[75]\ttrain-mlogloss:0.409006\tvalid-mlogloss:0.996302\n",
      "[100]\ttrain-mlogloss:0.276396\tvalid-mlogloss:0.930874\n",
      "[125]\ttrain-mlogloss:0.196687\tvalid-mlogloss:0.896568\n",
      "[150]\ttrain-mlogloss:0.142961\tvalid-mlogloss:0.875792\n",
      "[175]\ttrain-mlogloss:0.106957\tvalid-mlogloss:0.86978\n",
      "[200]\ttrain-mlogloss:0.081076\tvalid-mlogloss:0.87173\n",
      "[225]\ttrain-mlogloss:0.062187\tvalid-mlogloss:0.871737\n",
      "[250]\ttrain-mlogloss:0.048887\tvalid-mlogloss:0.874684\n"
     ]
    },
    {
     "name": "stdout",
     "output_type": "stream",
     "text": [
      "[275]\ttrain-mlogloss:0.03961\tvalid-mlogloss:0.879211\n",
      "Stopping. Best iteration:\n",
      "[178]\ttrain-mlogloss:0.103409\tvalid-mlogloss:0.868814\n",
      "\n",
      "final validation loss:\n",
      "0.868813624121\n",
      "final validation accuracy:\n",
      "0.682926829268\n",
      "[0]\ttrain-mlogloss:2.12076\tvalid-mlogloss:2.14444\n",
      "Multiple eval metrics have been passed: 'valid-mlogloss' will be used for early stopping.\n",
      "\n",
      "Will train until valid-mlogloss hasn't improved in 100 rounds.\n",
      "[25]\ttrain-mlogloss:1.09726\tvalid-mlogloss:1.46298\n",
      "[50]\ttrain-mlogloss:0.649115\tvalid-mlogloss:1.20091\n",
      "[75]\ttrain-mlogloss:0.412992\tvalid-mlogloss:1.09002\n",
      "[100]\ttrain-mlogloss:0.280211\tvalid-mlogloss:1.03516\n",
      "[125]\ttrain-mlogloss:0.199066\tvalid-mlogloss:1.0131\n",
      "[150]\ttrain-mlogloss:0.144817\tvalid-mlogloss:1.00789\n",
      "[175]\ttrain-mlogloss:0.106608\tvalid-mlogloss:1.00701\n",
      "[200]\ttrain-mlogloss:0.079416\tvalid-mlogloss:1.01444\n",
      "[225]\ttrain-mlogloss:0.06062\tvalid-mlogloss:1.02495\n",
      "[250]\ttrain-mlogloss:0.047597\tvalid-mlogloss:1.03454\n",
      "Stopping. Best iteration:\n",
      "[173]\ttrain-mlogloss:0.109232\tvalid-mlogloss:1.00651\n",
      "\n",
      "final validation loss:\n",
      "1.00650932371\n",
      "final validation accuracy:\n",
      "0.647696476965\n",
      "Accuracy: 0.6816 ± 0.0242\n",
      "NMI: 0.4751 ± 0.0318\n",
      "Log_loss: 0.9159 ± 0.0648\n",
      "Normalized confusion matrix\n",
      "[[ 0.66003063  0.02143951  0.00306279  0.20673813  0.06125574  0.01531394\n",
      "   0.03215926  0.          0.        ]\n",
      " [ 0.02178218  0.5049505   0.          0.00990099  0.0019802   0.00792079\n",
      "   0.45346535  0.          0.        ]\n",
      " [ 0.07619048  0.00952381  0.27619048  0.23809524  0.07619048  0.\n",
      "   0.32380952  0.          0.        ]\n",
      " [ 0.16876574  0.01007557  0.00503778  0.75188917  0.02267003  0.00125945\n",
      "   0.04030227  0.          0.        ]\n",
      " [ 0.23293173  0.04819277  0.00803213  0.10441767  0.41365462  0.04417671\n",
      "   0.14859438  0.          0.        ]\n",
      " [ 0.10238908  0.05119454  0.00682594  0.06143345  0.04095563  0.59726962\n",
      "   0.13993174  0.          0.        ]\n",
      " [ 0.00782014  0.08308895  0.00977517  0.00977517  0.00879765  0.00293255\n",
      "   0.87487781  0.00097752  0.00195503]\n",
      " [ 0.          0.19047619  0.          0.          0.          0.\n",
      "   0.52380952  0.0952381   0.19047619]\n",
      " [ 0.          0.          0.          0.14893617  0.          0.\n",
      "   0.21276596  0.04255319  0.59574468]]\n"
     ]
    },
    {
     "data": {
      "image/png": "[encoded data removed]",
      "text/plain": [
       "<matplotlib.figure.Figure at 0x1c2666b84e0>"
      ]
     },
     "metadata": {},
     "output_type": "display_data"
    }
   ],
   "source": [
    "y_predict = xgbclassifier(train_set, train_y, test_set, 10, 8, 1000)"
   ]
  },
  {
   "cell_type": "code",
   "execution_count": 14,
   "metadata": {
    "collapsed": true
   },
   "outputs": [],
   "source": [
    "savesubmisstion(y_predict, test_x, filename = \"submission_allwin2load10fold.csv\")"
   ]
  },
  {
   "cell_type": "code",
   "execution_count": null,
   "metadata": {
    "collapsed": true
   },
   "outputs": [],
   "source": []
  }
 ],
 "metadata": {
  "kernelspec": {
   "display_name": "Python 3",
   "language": "python",
   "name": "python3"
  },
  "language_info": {
   "codemirror_mode": {
    "name": "ipython",
    "version": 3
   },
   "file_extension": ".py",
   "mimetype": "text/x-python",
   "name": "python",
   "nbconvert_exporter": "python",
   "pygments_lexer": "ipython3",
   "version": "3.5.4"
  }
 },
 "nbformat": 4,
 "nbformat_minor": 2
}
