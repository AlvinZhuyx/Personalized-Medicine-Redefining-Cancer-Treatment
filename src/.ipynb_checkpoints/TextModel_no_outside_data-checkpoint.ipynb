{
 "cells": [
  {
   "cell_type": "code",
   "execution_count": null,
   "metadata": {
    "collapsed": true
   },
   "outputs": [],
   "source": [
    "'''\n",
    "Train text model using all_data, without importing outside data.\n",
    "parameter setting as following:\n",
    "\n",
    "1, (min_count=1, window=2, size=200, sample=1e-4, negative=5, workers=4, iter=30, seed=1)\n",
    "2, (min_count=1, window=30, size=200, sample=1e-4, negative=5, workers=4, iter=30, seed=1)\n",
    "\n",
    "Run the baseline test and get the evaluation by metrics: accuracy, NMI, log_loss, confusion_matrix\n",
    "\n",
    "'''"
   ]
  },
  {
   "cell_type": "code",
   "execution_count": 1,
   "metadata": {},
   "outputs": [
    {
     "ename": "SyntaxError",
     "evalue": "non-default argument follows default argument (word_embedding_load.py, line 67)",
     "output_type": "error",
     "traceback": [
      "Traceback \u001b[0;36m(most recent call last)\u001b[0m:\n",
      "  File \u001b[1;32m\"/Applications/anaconda2/envs/py36/lib/python3.6/site-packages/IPython/core/interactiveshell.py\"\u001b[0m, line \u001b[1;32m2862\u001b[0m, in \u001b[1;35mrun_code\u001b[0m\n    exec(code_obj, self.user_global_ns, self.user_ns)\n",
      "\u001b[0;36m  File \u001b[0;32m\"<ipython-input-1-f15163d749af>\"\u001b[0;36m, line \u001b[0;32m10\u001b[0;36m, in \u001b[0;35m<module>\u001b[0;36m\u001b[0m\n\u001b[0;31m    import word_embedding_load as wel\u001b[0m\n",
      "\u001b[0;36m  File \u001b[0;32m\"/Users/qqu0127/Desktop/CS249/master/Personalized-Medicine-Redefining-Cancer-Treatment/src/word_embedding_load.py\"\u001b[0;36m, line \u001b[0;32m67\u001b[0m\n\u001b[0;31m    def trainTextModel(sentences, param, PATH = '../model/doc2vec/', modelName, outside = False, source_file = ''):\u001b[0m\n\u001b[0m                      ^\u001b[0m\n\u001b[0;31mSyntaxError\u001b[0m\u001b[0;31m:\u001b[0m non-default argument follows default argument\n"
     ]
    }
   ],
   "source": [
    "import os\n",
    "import re\n",
    "import tqdm\n",
    "import string\n",
    "import pandas as pd\n",
    "import numpy as np\n",
    "import util\n",
    "from sklearn.decomposition import TruncatedSVD\n",
    "#from data_preprocessing import *\n",
    "import word_embedding_load as wel\n",
    "import baseline_classification as bc\n",
    "import matplotlib.pyplot as plt\n",
    "import feature_selection_evaluation as fse"
   ]
  },
  {
   "cell_type": "code",
   "execution_count": null,
   "metadata": {
    "collapsed": true
   },
   "outputs": [],
   "source": []
  }
 ],
 "metadata": {
  "kernelspec": {
   "display_name": "Python 3",
   "language": "python",
   "name": "python3"
  },
  "language_info": {
   "codemirror_mode": {
    "name": "ipython",
    "version": 3
   },
   "file_extension": ".py",
   "mimetype": "text/x-python",
   "name": "python",
   "nbconvert_exporter": "python",
   "pygments_lexer": "ipython3",
   "version": "3.6.3"
  }
 },
 "nbformat": 4,
 "nbformat_minor": 2
}
