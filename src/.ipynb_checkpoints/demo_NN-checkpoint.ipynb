{
 "cells": [
  {
   "cell_type": "code",
   "execution_count": 1,
   "metadata": {},
   "outputs": [
    {
     "name": "stderr",
     "output_type": "stream",
     "text": [
      "Using TensorFlow backend.\n",
      "/Applications/anaconda2/envs/py36/lib/python3.6/importlib/_bootstrap.py:219: RuntimeWarning: compiletime version 3.5 of module 'tensorflow.python.framework.fast_tensor_util' does not match runtime version 3.6\n",
      "  return f(*args, **kwds)\n",
      "/Applications/anaconda2/envs/py36/lib/python3.6/site-packages/sklearn/cross_validation.py:41: DeprecationWarning: This module was deprecated in version 0.18 in favor of the model_selection module into which all the refactored classes and functions are moved. Also note that the interface of the new CV iterators are different from that of this module. This module will be removed in 0.20.\n",
      "  \"This module will be removed in 0.20.\", DeprecationWarning)\n"
     ]
    }
   ],
   "source": [
    "import os\n",
    "import re\n",
    "import tqdm\n",
    "import string\n",
    "import pandas as pd\n",
    "import numpy as np\n",
    "import util\n",
    "from sklearn.decomposition import TruncatedSVD\n",
    "from data_preprocessing import *\n",
    "import word_embedding_load as wel\n",
    "import nn_classification as nn\n",
    "from xgboost_classifier import *\n"
   ]
  },
  {
   "cell_type": "code",
   "execution_count": 2,
   "metadata": {
    "collapsed": true
   },
   "outputs": [],
   "source": [
    "#loading data\n",
    "[all_data, train_size, test_size, train_x, train_y, test_x] = util.loadData()\n",
    "sentences = data_preprocess(all_data)"
   ]
  },
  {
   "cell_type": "code",
   "execution_count": 3,
   "metadata": {
    "collapsed": true
   },
   "outputs": [],
   "source": [
    "#parameter setting\n",
    "Text_INPUT_DIM=200\n",
    "GENE_INPUT_DIM=25\n",
    "TEXT_INPUT_DIM=200\n",
    "PATH = '../model/doc2vec/'\n",
    "modelName='docEmbeddings_30_load_all.d2v'"
   ]
  },
  {
   "cell_type": "code",
   "execution_count": 4,
   "metadata": {
    "collapsed": true
   },
   "outputs": [],
   "source": [
    "#Parameter defined for doc2vec model\n",
    "param = util.Doc2VecParam(1, 2, 200, 1e-4, 5, 4, 30, 1)"
   ]
  },
  {
   "cell_type": "code",
   "execution_count": 5,
   "metadata": {
    "collapsed": true
   },
   "outputs": [],
   "source": [
    "svd = TruncatedSVD(n_components=GENE_INPUT_DIM, n_iter=25, random_state=12)"
   ]
  },
  {
   "cell_type": "code",
   "execution_count": 6,
   "metadata": {},
   "outputs": [
    {
     "name": "stdout",
     "output_type": "stream",
     "text": [
      "Successfully loaded the textmodel from ../model/doc2vec/docEmbeddings_30_load_all.d2v\n"
     ]
    }
   ],
   "source": [
    "#load a pre-trained text model\n",
    "text_model = wel.loadTextModel(PATH + modelName)\n",
    "\n",
    "#To train a new text model, default without outside data:\n",
    "#text_model = wel.trainTextModel(sentences, param, 'newModelName', PATH)\n",
    "\n",
    "#To train a new text model with outside data:\n",
    "#sourceFile = '../data/bio_nlp_vec/PubMed-shuffle-win-30.bin'\n",
    "#text_model = wel.trainTextModel(sentences, param, 'newModelName', PATH, True, sourceFile)"
   ]
  },
  {
   "cell_type": "code",
   "execution_count": 7,
   "metadata": {
    "collapsed": true
   },
   "outputs": [],
   "source": [
    "#prepare the feature vectors\n",
    "truncated_one_hot_gene = wel.getGeneVec(all_data, svd)\n",
    "truncated_one_hot_variation = wel.getVariationVec(all_data, svd)\n",
    "text_train_arrays, text_test_arrays = wel.getTextVec(text_model, train_size, test_size, TEXT_INPUT_DIM)"
   ]
  },
  {
   "cell_type": "code",
   "execution_count": 8,
   "metadata": {},
   "outputs": [
    {
     "name": "stdout",
     "output_type": "stream",
     "text": [
      "(3689, 200)\n",
      "(986, 200)\n"
     ]
    },
    {
     "data": {
      "text/plain": [
       "array([-4.32804871, -1.51728463, -1.11980414, -1.48884988, -1.94485927,\n",
       "        2.92375898,  0.50411427, -1.12256765,  3.63756609,  0.98047012,\n",
       "       -3.59505153, -1.69239998,  1.08154798,  0.04358532, -1.45718324,\n",
       "       -1.40607941, -0.81513387, -1.83771491,  0.84762865,  1.21229076,\n",
       "        2.47014523, -2.76897311,  1.76767576,  0.63634545, -1.18918824,\n",
       "        0.41207117,  0.46613771, -0.66748267, -0.08578082,  0.74831831,\n",
       "       -0.27361712, -1.59590268, -0.68817914,  1.80353093, -2.18088555,\n",
       "       -0.95929134,  3.10893011,  1.76786911, -0.6726135 ,  1.6783632 ,\n",
       "        0.86585337,  2.32940316,  3.42221165, -1.29582059,  1.10946131,\n",
       "       -1.03413177,  1.08570337, -1.0144273 ,  0.31510681,  0.28210998,\n",
       "        2.33720469,  0.54392654, -2.83733749, -1.03502595, -0.16337521,\n",
       "       -3.04194999, -0.25847396, -2.89910054,  1.95583844,  2.05173278,\n",
       "       -0.68942761,  2.17256355, -2.50274634,  2.23825169, -2.29581237,\n",
       "        4.42594433,  2.62937164,  2.88882828, -0.28914687, -2.05301738,\n",
       "        2.42624092,  0.81631041, -0.05633804, -2.24176931, -1.21103251,\n",
       "        2.55568957, -0.86910236, -2.25507951, -1.09151304, -1.73973799,\n",
       "       -0.16871761, -0.40487349, -1.12941527, -0.95880264,  0.46782079,\n",
       "        0.22563271, -1.98252702,  2.01012659,  0.8518284 ,  0.99762881,\n",
       "       -0.69664699,  2.59870815, -5.35548782, -3.19942975,  2.04077053,\n",
       "       -1.05241048,  1.96582294, -1.55142868, -0.49188197,  0.72479969,\n",
       "        0.62990528,  0.13269678, -0.03072512,  2.87265563,  3.87445092,\n",
       "        1.93292189, -2.65379143,  3.67112923, -1.80033338, -2.30353165,\n",
       "        3.52872467, -3.39907217, -2.95028925, -3.49888325, -1.2025547 ,\n",
       "        1.75463414,  1.11777985, -1.28290212, -0.4823595 , -2.1557827 ,\n",
       "        1.00445235, -0.90416312, -1.22584236,  1.23336506, -4.85008574,\n",
       "       -1.20090008,  0.5470711 ,  3.50436044, -2.97067928,  2.84481049,\n",
       "        1.66059792, -2.09772372,  0.80928236, -2.35795093,  0.03973359,\n",
       "        1.73381543,  2.59498119,  2.38566947,  1.68310928,  1.52183914,\n",
       "        1.3391943 , -0.38291061, -2.3213501 ,  1.21402967, -0.521321  ,\n",
       "        2.02367258, -1.94274604,  6.08550262, -2.94834542, -2.26034689,\n",
       "       -5.46228695,  0.66035336, -4.53587103,  4.45590734, -0.42273942,\n",
       "        5.93331718, -3.12295508, -0.8147946 , -1.1383189 ,  0.23851477,\n",
       "        0.43526816,  2.4931848 , -0.76968288,  4.62639904, -3.73897052,\n",
       "       -0.07077727,  0.51328176, -1.6040206 ,  2.5985775 , -1.99572694,\n",
       "        3.85340643,  2.64461279,  1.75012565, -0.86618167, -3.25600028,\n",
       "        1.82988381,  1.17169917, -1.45463634, -2.08663177, -1.05781114,\n",
       "       -0.33115426,  2.09109092,  0.42128369,  4.68616056, -2.30439544,\n",
       "        2.52157116,  3.3712759 , -4.95086145, -0.74677199,  3.00776553,\n",
       "        1.00501037, -0.57313061,  0.26774493, -0.63240474,  1.3183378 ,\n",
       "        0.49372688,  0.01891159,  0.71355766, -1.90010107, -0.53908855])"
      ]
     },
     "execution_count": 8,
     "metadata": {},
     "output_type": "execute_result"
    }
   ],
   "source": [
    "print(text_train_arrays.shape)\n",
    "print(text_test_arrays.shape)\n",
    "text_train_arrays[0]"
   ]
  },
  {
   "cell_type": "code",
   "execution_count": 9,
   "metadata": {},
   "outputs": [
    {
     "name": "stdout",
     "output_type": "stream",
     "text": [
      "(3689, 9)\n"
     ]
    }
   ],
   "source": [
    "#concatenate the doc feature vectors\n",
    "train_set = np.hstack((truncated_one_hot_gene[:train_size], truncated_one_hot_variation[:train_size], text_train_arrays))\n",
    "test_set = np.hstack((truncated_one_hot_gene[train_size:], truncated_one_hot_variation[train_size:], text_test_arrays))\n",
    "encoded_y = pd.get_dummies(train_y)\n",
    "encoded_y = np.array(encoded_y)\n",
    "print(encoded_y.shape)"
   ]
  },
  {
   "cell_type": "code",
   "execution_count": 10,
   "metadata": {},
   "outputs": [
    {
     "name": "stdout",
     "output_type": "stream",
     "text": [
      "(3689, 250)\n",
      "(986, 250)\n"
     ]
    },
    {
     "data": {
      "text/plain": [
       "array([  1.00000000e+00,   7.43920261e-19,   1.86967768e-19,\n",
       "         2.36987218e-29,   3.78288394e-25,   7.97142704e-23,\n",
       "        -1.06895319e-20,   6.87926690e-21,   4.36854413e-21,\n",
       "        -4.04470778e-21,   8.91881464e-21,   6.59040569e-18,\n",
       "         5.67979623e-19,  -3.15512997e-18,  -9.40491899e-18,\n",
       "        -6.36407932e-18,  -3.20292165e-18,   9.53349364e-18,\n",
       "         7.28293876e-18,   2.84124514e-17,  -1.85442723e-17,\n",
       "         1.28733104e-17,   1.05102497e-17,   4.67448189e-17,\n",
       "        -8.77125342e-21])"
      ]
     },
     "execution_count": 10,
     "metadata": {},
     "output_type": "execute_result"
    }
   ],
   "source": [
    "print(train_set.shape)\n",
    "print(test_set.shape)\n",
    "train_set[0, 25:50]"
   ]
  },
  {
   "cell_type": "code",
   "execution_count": 11,
   "metadata": {},
   "outputs": [
    {
     "name": "stdout",
     "output_type": "stream",
     "text": [
      "_________________________________________________________________\n",
      "Layer (type)                 Output Shape              Param #   \n",
      "=================================================================\n",
      "dense_1 (Dense)              (None, 256)               64256     \n",
      "_________________________________________________________________\n",
      "dropout_1 (Dropout)          (None, 256)               0         \n",
      "_________________________________________________________________\n",
      "dense_2 (Dense)              (None, 256)               65792     \n",
      "_________________________________________________________________\n",
      "dropout_2 (Dropout)          (None, 256)               0         \n",
      "_________________________________________________________________\n",
      "dense_3 (Dense)              (None, 80)                20560     \n",
      "_________________________________________________________________\n",
      "dense_4 (Dense)              (None, 9)                 729       \n",
      "=================================================================\n",
      "Total params: 151,337\n",
      "Trainable params: 151,337\n",
      "Non-trainable params: 0\n",
      "_________________________________________________________________\n"
     ]
    },
    {
     "name": "stderr",
     "output_type": "stream",
     "text": [
      "/Users/qqu0127/Desktop/CS249/master/Personalized-Medicine-Redefining-Cancer-Treatment/src/nn_classification.py:28: UserWarning: Update your `Dense` call to the Keras 2 API: `Dense(256, input_dim=250, activation=\"relu\", kernel_initializer=\"normal\")`\n",
      "  model.add(Dense(256, input_dim=Text_INPUT_DIM+ Gene_INPUT_DIM + Variation_INPUT_DIM, init='normal', activation='relu'))\n",
      "/Users/qqu0127/Desktop/CS249/master/Personalized-Medicine-Redefining-Cancer-Treatment/src/nn_classification.py:30: UserWarning: Update your `Dense` call to the Keras 2 API: `Dense(256, activation=\"relu\", kernel_initializer=\"normal\")`\n",
      "  model.add(Dense(256, init='normal', activation='relu'))\n",
      "/Users/qqu0127/Desktop/CS249/master/Personalized-Medicine-Redefining-Cancer-Treatment/src/nn_classification.py:32: UserWarning: Update your `Dense` call to the Keras 2 API: `Dense(80, activation=\"relu\", kernel_initializer=\"normal\")`\n",
      "  model.add(Dense(80, init='normal', activation='relu'))\n",
      "/Users/qqu0127/Desktop/CS249/master/Personalized-Medicine-Redefining-Cancer-Treatment/src/nn_classification.py:33: UserWarning: Update your `Dense` call to the Keras 2 API: `Dense(9, activation=\"softmax\", kernel_initializer=\"normal\")`\n",
      "  model.add(Dense(9, init='normal', activation=\"softmax\"))\n"
     ]
    }
   ],
   "source": [
    "# this is the 4 layer full-connected nerual network model\n",
    "model = nn.nn_baseline_model(TEXT_INPUT_DIM, GENE_INPUT_DIM, GENE_INPUT_DIM)\n",
    "model.summary()"
   ]
  },
  {
   "cell_type": "code",
   "execution_count": 12,
   "metadata": {},
   "outputs": [
    {
     "name": "stdout",
     "output_type": "stream",
     "text": [
      "begin training\n",
      "\n",
      "Train on 3320 samples, validate on 369 samples\n",
      "Epoch 1/2\n",
      "3320/3320 [==============================] - 1s 335us/step - loss: 2.0069 - acc: 0.2440 - val_loss: 1.7401 - val_acc: 0.4092\n",
      "Epoch 2/2\n",
      "3320/3320 [==============================] - 0s 61us/step - loss: 1.6782 - acc: 0.3928 - val_loss: 1.5093 - val_acc: 0.4472\n",
      "Training accuracy: 39.28% / Best validation accuracy: 44.72%\n",
      "Train on 3320 samples, validate on 369 samples\n",
      "Epoch 1/2\n",
      "3320/3320 [==============================] - 0s 60us/step - loss: 1.4671 - acc: 0.4575 - val_loss: 1.3139 - val_acc: 0.5583\n",
      "Epoch 2/2\n",
      "3320/3320 [==============================] - 0s 82us/step - loss: 1.3548 - acc: 0.5184 - val_loss: 1.2134 - val_acc: 0.5528\n",
      "Training accuracy: 51.84% / Best validation accuracy: 55.28%\n",
      "Train on 3320 samples, validate on 369 samples\n",
      "Epoch 1/2\n",
      "3320/3320 [==============================] - 0s 64us/step - loss: 1.2776 - acc: 0.5334 - val_loss: 1.1617 - val_acc: 0.5745\n",
      "Epoch 2/2\n",
      "3320/3320 [==============================] - 0s 61us/step - loss: 1.2237 - acc: 0.5509 - val_loss: 1.1159 - val_acc: 0.6125\n",
      "Training accuracy: 55.09% / Best validation accuracy: 61.25%\n",
      "Train on 3320 samples, validate on 369 samples\n",
      "Epoch 1/2\n",
      "3320/3320 [==============================] - 0s 62us/step - loss: 1.1719 - acc: 0.5669 - val_loss: 1.0681 - val_acc: 0.6152\n",
      "Epoch 2/2\n",
      "3320/3320 [==============================] - 0s 68us/step - loss: 1.1400 - acc: 0.5822 - val_loss: 1.0459 - val_acc: 0.6233\n",
      "Training accuracy: 58.22% / Best validation accuracy: 62.33%\n",
      "Train on 3320 samples, validate on 369 samples\n",
      "Epoch 1/2\n",
      "3320/3320 [==============================] - 0s 81us/step - loss: 1.1180 - acc: 0.5780 - val_loss: 1.0296 - val_acc: 0.6341\n",
      "Epoch 2/2\n",
      "3320/3320 [==============================] - 0s 61us/step - loss: 1.0823 - acc: 0.6012 - val_loss: 1.0329 - val_acc: 0.6233\n",
      "Training accuracy: 60.12% / Best validation accuracy: 62.33%\n",
      "Train on 3320 samples, validate on 369 samples\n",
      "Epoch 1/2\n",
      "3320/3320 [==============================] - 0s 80us/step - loss: 1.0647 - acc: 0.6075 - val_loss: 1.0157 - val_acc: 0.6314\n",
      "Epoch 2/2\n",
      "3320/3320 [==============================] - 0s 61us/step - loss: 1.0333 - acc: 0.6160 - val_loss: 0.9856 - val_acc: 0.6396\n",
      "Training accuracy: 61.60% / Best validation accuracy: 63.96%\n",
      "Train on 3320 samples, validate on 369 samples\n",
      "Epoch 1/2\n",
      "3320/3320 [==============================] - 0s 62us/step - loss: 1.0126 - acc: 0.6313 - val_loss: 1.0024 - val_acc: 0.6341\n",
      "Epoch 2/2\n",
      "3320/3320 [==============================] - 0s 62us/step - loss: 1.0018 - acc: 0.6244 - val_loss: 0.9816 - val_acc: 0.6341\n",
      "Training accuracy: 62.44% / Best validation accuracy: 63.96%\n",
      "Train on 3320 samples, validate on 369 samples\n",
      "Epoch 1/2\n",
      "3320/3320 [==============================] - 0s 65us/step - loss: 0.9843 - acc: 0.6367 - val_loss: 0.9741 - val_acc: 0.6423\n",
      "Epoch 2/2\n",
      "3320/3320 [==============================] - 0s 61us/step - loss: 0.9701 - acc: 0.6410 - val_loss: 0.9535 - val_acc: 0.6531\n",
      "Training accuracy: 64.10% / Best validation accuracy: 65.31%\n",
      "Train on 3320 samples, validate on 369 samples\n",
      "Epoch 1/2\n",
      "3320/3320 [==============================] - 0s 83us/step - loss: 0.9495 - acc: 0.6389 - val_loss: 0.9577 - val_acc: 0.6396\n",
      "Epoch 2/2\n",
      "3320/3320 [==============================] - 0s 63us/step - loss: 0.9416 - acc: 0.6482 - val_loss: 0.9501 - val_acc: 0.6504\n",
      "Training accuracy: 64.82% / Best validation accuracy: 65.31%\n",
      "Train on 3320 samples, validate on 369 samples\n",
      "Epoch 1/2\n",
      "3320/3320 [==============================] - 0s 65us/step - loss: 0.9272 - acc: 0.6533 - val_loss: 0.9354 - val_acc: 0.6450\n",
      "Epoch 2/2\n",
      "3320/3320 [==============================] - 0s 74us/step - loss: 0.9063 - acc: 0.6651 - val_loss: 0.9343 - val_acc: 0.6531\n",
      "Training accuracy: 66.51% / Best validation accuracy: 65.31%\n",
      "Train on 3320 samples, validate on 369 samples\n",
      "Epoch 1/2\n",
      "3320/3320 [==============================] - 0s 64us/step - loss: 0.8949 - acc: 0.6669 - val_loss: 0.9316 - val_acc: 0.6667\n",
      "Epoch 2/2\n",
      "3320/3320 [==============================] - 0s 61us/step - loss: 0.8801 - acc: 0.6780 - val_loss: 0.9445 - val_acc: 0.6504\n",
      "Training accuracy: 67.80% / Best validation accuracy: 65.31%\n",
      "Train on 3320 samples, validate on 369 samples\n",
      "Epoch 1/2\n",
      "3320/3320 [==============================] - 0s 67us/step - loss: 0.8762 - acc: 0.6750 - val_loss: 0.9442 - val_acc: 0.6504\n",
      "Epoch 2/2\n",
      "3320/3320 [==============================] - 0s 63us/step - loss: 0.8541 - acc: 0.6828 - val_loss: 0.9421 - val_acc: 0.6369\n",
      "Training accuracy: 68.28% / Best validation accuracy: 65.31%\n",
      "Train on 3320 samples, validate on 369 samples\n",
      "Epoch 1/2\n",
      "3320/3320 [==============================] - 0s 62us/step - loss: 0.8460 - acc: 0.6834 - val_loss: 0.9327 - val_acc: 0.6531\n",
      "Epoch 2/2\n",
      "3320/3320 [==============================] - 0s 63us/step - loss: 0.8361 - acc: 0.6843 - val_loss: 0.9117 - val_acc: 0.6558\n",
      "Training accuracy: 68.43% / Best validation accuracy: 65.58%\n",
      "Train on 3320 samples, validate on 369 samples\n",
      "Epoch 1/2\n",
      "3320/3320 [==============================] - 0s 65us/step - loss: 0.8236 - acc: 0.6898 - val_loss: 0.9073 - val_acc: 0.6585\n",
      "Epoch 2/2\n",
      "3320/3320 [==============================] - 0s 69us/step - loss: 0.8293 - acc: 0.6964 - val_loss: 0.9208 - val_acc: 0.6477\n",
      "Training accuracy: 69.64% / Best validation accuracy: 65.58%\n",
      "Train on 3320 samples, validate on 369 samples\n",
      "Epoch 1/2\n",
      "3320/3320 [==============================] - 0s 72us/step - loss: 0.8150 - acc: 0.7006 - val_loss: 0.9295 - val_acc: 0.6341\n",
      "Epoch 2/2\n",
      "3320/3320 [==============================] - 0s 69us/step - loss: 0.8013 - acc: 0.6955 - val_loss: 0.8996 - val_acc: 0.6531\n",
      "Training accuracy: 69.55% / Best validation accuracy: 65.58%\n",
      "Train on 3320 samples, validate on 369 samples\n",
      "Epoch 1/2\n",
      "3320/3320 [==============================] - 0s 63us/step - loss: 0.7956 - acc: 0.6910 - val_loss: 0.8932 - val_acc: 0.6640\n",
      "Epoch 2/2\n",
      "3320/3320 [==============================] - 0s 63us/step - loss: 0.7757 - acc: 0.7114 - val_loss: 0.9024 - val_acc: 0.6558\n",
      "Training accuracy: 71.14% / Best validation accuracy: 65.58%\n",
      "Train on 3320 samples, validate on 369 samples\n",
      "Epoch 1/2\n",
      "3320/3320 [==============================] - 0s 61us/step - loss: 0.7706 - acc: 0.7111 - val_loss: 0.8950 - val_acc: 0.6640\n",
      "Epoch 2/2\n",
      "3320/3320 [==============================] - 0s 78us/step - loss: 0.7624 - acc: 0.7108 - val_loss: 0.8934 - val_acc: 0.6667\n",
      "Training accuracy: 71.08% / Best validation accuracy: 66.67%\n",
      "Train on 3320 samples, validate on 369 samples\n",
      "Epoch 1/2\n",
      "3320/3320 [==============================] - 0s 71us/step - loss: 0.7633 - acc: 0.7090 - val_loss: 0.8864 - val_acc: 0.6558\n",
      "Epoch 2/2\n",
      "3320/3320 [==============================] - 0s 65us/step - loss: 0.7483 - acc: 0.7247 - val_loss: 0.9135 - val_acc: 0.6531\n",
      "Training accuracy: 72.47% / Best validation accuracy: 66.67%\n",
      "Train on 3320 samples, validate on 369 samples\n",
      "Epoch 1/2\n",
      "3320/3320 [==============================] - 0s 62us/step - loss: 0.7446 - acc: 0.7178 - val_loss: 0.9031 - val_acc: 0.6640\n",
      "Epoch 2/2\n",
      "3320/3320 [==============================] - 0s 90us/step - loss: 0.7346 - acc: 0.7193 - val_loss: 0.9071 - val_acc: 0.6450\n",
      "Training accuracy: 71.93% / Best validation accuracy: 66.67%\n",
      "Train on 3320 samples, validate on 369 samples\n",
      "Epoch 1/2\n",
      "3320/3320 [==============================] - 0s 83us/step - loss: 0.7407 - acc: 0.7157 - val_loss: 0.8941 - val_acc: 0.6477\n",
      "Epoch 2/2\n",
      "3320/3320 [==============================] - 0s 66us/step - loss: 0.7177 - acc: 0.7271 - val_loss: 0.8934 - val_acc: 0.6585\n",
      "Training accuracy: 72.71% / Best validation accuracy: 66.67%\n",
      "Train on 3320 samples, validate on 369 samples\n",
      "Epoch 1/2\n",
      "3320/3320 [==============================] - 0s 63us/step - loss: 0.7095 - acc: 0.7346 - val_loss: 0.8996 - val_acc: 0.6667\n",
      "Epoch 2/2\n",
      "3320/3320 [==============================] - 0s 76us/step - loss: 0.6974 - acc: 0.7310 - val_loss: 0.9013 - val_acc: 0.6477\n",
      "Training accuracy: 73.10% / Best validation accuracy: 66.67%\n",
      "Train on 3320 samples, validate on 369 samples\n",
      "Epoch 1/2\n",
      "3320/3320 [==============================] - 0s 74us/step - loss: 0.6974 - acc: 0.7377 - val_loss: 0.9061 - val_acc: 0.6585\n",
      "Epoch 2/2\n",
      "3320/3320 [==============================] - 0s 73us/step - loss: 0.6762 - acc: 0.7455 - val_loss: 0.8953 - val_acc: 0.6667\n"
     ]
    },
    {
     "name": "stdout",
     "output_type": "stream",
     "text": [
      "Training accuracy: 74.55% / Best validation accuracy: 66.67%\n",
      "Train on 3320 samples, validate on 369 samples\n",
      "Epoch 1/2\n",
      "3320/3320 [==============================] - 0s 78us/step - loss: 0.6774 - acc: 0.7407 - val_loss: 0.8821 - val_acc: 0.6721\n",
      "Epoch 2/2\n",
      "3320/3320 [==============================] - 0s 80us/step - loss: 0.6902 - acc: 0.7298 - val_loss: 0.8984 - val_acc: 0.6477\n",
      "Training accuracy: 72.98% / Best validation accuracy: 66.67%\n",
      "Train on 3320 samples, validate on 369 samples\n",
      "Epoch 1/2\n",
      "3320/3320 [==============================] - 0s 69us/step - loss: 0.6680 - acc: 0.7476 - val_loss: 0.9090 - val_acc: 0.6802\n",
      "Epoch 2/2\n",
      "3320/3320 [==============================] - 0s 66us/step - loss: 0.6752 - acc: 0.7325 - val_loss: 0.8983 - val_acc: 0.6694\n",
      "Training accuracy: 73.25% / Best validation accuracy: 66.94%\n",
      "Train on 3320 samples, validate on 369 samples\n",
      "Epoch 1/2\n",
      "3320/3320 [==============================] - 0s 65us/step - loss: 0.6548 - acc: 0.7527 - val_loss: 0.8989 - val_acc: 0.6612\n",
      "Epoch 2/2\n",
      "3320/3320 [==============================] - 0s 63us/step - loss: 0.6620 - acc: 0.7452 - val_loss: 0.9003 - val_acc: 0.6640\n",
      "Training accuracy: 74.52% / Best validation accuracy: 66.94%\n",
      "Train on 3320 samples, validate on 369 samples\n",
      "Epoch 1/2\n",
      "3320/3320 [==============================] - 0s 75us/step - loss: 0.6377 - acc: 0.7530 - val_loss: 0.8954 - val_acc: 0.6667\n",
      "Epoch 2/2\n",
      "3320/3320 [==============================] - 0s 72us/step - loss: 0.6494 - acc: 0.7488 - val_loss: 0.8965 - val_acc: 0.6721\n",
      "Training accuracy: 74.88% / Best validation accuracy: 67.21%\n",
      "Train on 3320 samples, validate on 369 samples\n",
      "Epoch 1/2\n",
      "3320/3320 [==============================] - 0s 65us/step - loss: 0.6338 - acc: 0.7521 - val_loss: 0.9146 - val_acc: 0.6640\n",
      "Epoch 2/2\n",
      "3320/3320 [==============================] - 0s 62us/step - loss: 0.6401 - acc: 0.7539 - val_loss: 0.8917 - val_acc: 0.6694\n",
      "Training accuracy: 75.39% / Best validation accuracy: 67.21%\n",
      "Train on 3320 samples, validate on 369 samples\n",
      "Epoch 1/2\n",
      "3320/3320 [==============================] - 0s 78us/step - loss: 0.6331 - acc: 0.7642 - val_loss: 0.8993 - val_acc: 0.6667\n",
      "Epoch 2/2\n",
      "3320/3320 [==============================] - 0s 77us/step - loss: 0.6284 - acc: 0.7566 - val_loss: 0.9004 - val_acc: 0.6748\n",
      "Training accuracy: 75.66% / Best validation accuracy: 67.48%\n",
      "Train on 3320 samples, validate on 369 samples\n",
      "Epoch 1/2\n",
      "3320/3320 [==============================] - 0s 76us/step - loss: 0.6286 - acc: 0.7657 - val_loss: 0.9082 - val_acc: 0.6423\n",
      "Epoch 2/2\n",
      "3320/3320 [==============================] - 0s 64us/step - loss: 0.6203 - acc: 0.7672 - val_loss: 0.8997 - val_acc: 0.6775\n",
      "Training accuracy: 76.72% / Best validation accuracy: 67.75%\n",
      "Train on 3320 samples, validate on 369 samples\n",
      "Epoch 1/2\n",
      "3320/3320 [==============================] - 0s 63us/step - loss: 0.6152 - acc: 0.7636 - val_loss: 0.9012 - val_acc: 0.6585\n",
      "Epoch 2/2\n",
      "3320/3320 [==============================] - 0s 68us/step - loss: 0.5823 - acc: 0.7750 - val_loss: 0.9107 - val_acc: 0.6748\n",
      "Training accuracy: 77.50% / Best validation accuracy: 67.75%\n"
     ]
    },
    {
     "data": {
      "image/png": "[encoded data removed]",
      "text/plain": [
       "<matplotlib.figure.Figure at 0x1a352991d0>"
      ]
     },
     "metadata": {},
     "output_type": "display_data"
    },
    {
     "data": {
      "image/png": "[encoded data removed]",
      "text/plain": [
       "<matplotlib.figure.Figure at 0x1a35f24ac8>"
      ]
     },
     "metadata": {},
     "output_type": "display_data"
    }
   ],
   "source": [
    "model = nn.train_nn_model(model, train_set, encoded_y, filename = 'demo_NN.h5')\n",
    "y_predict = model.predict_proba(test_set)"
   ]
  },
  {
   "cell_type": "code",
   "execution_count": 15,
   "metadata": {
    "collapsed": true
   },
   "outputs": [],
   "source": [
    "util.savesubmisstion(y_predict, test_x, filename = \"submission_demo.csv\")"
   ]
  }
 ],
 "metadata": {
  "kernelspec": {
   "display_name": "Python 3",
   "language": "python",
   "name": "python3"
  },
  "language_info": {
   "codemirror_mode": {
    "name": "ipython",
    "version": 3
   },
   "file_extension": ".py",
   "mimetype": "text/x-python",
   "name": "python",
   "nbconvert_exporter": "python",
   "pygments_lexer": "ipython3",
   "version": "3.6.3"
  }
 },
 "nbformat": 4,
 "nbformat_minor": 2
}
