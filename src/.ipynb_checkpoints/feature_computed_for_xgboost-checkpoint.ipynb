{
 "cells": [
  {
   "cell_type": "code",
   "execution_count": 1,
   "metadata": {
    "collapsed": true
   },
   "outputs": [],
   "source": [
    "import os\n",
    "import re\n",
    "import tqdm\n",
    "import string\n",
    "import pandas as pd\n",
    "import numpy as np\n",
    "import util\n",
    "from sklearn.decomposition import TruncatedSVD\n",
    "#from data_preprocessing import *\n",
    "import word_embedding_load as wel\n",
    "import baseline_classification as bc\n",
    "import matplotlib.pyplot as plt\n",
    "import feature_selection_evaluation as fse\n",
    "import pickle"
   ]
  },
  {
   "cell_type": "code",
   "execution_count": 2,
   "metadata": {
    "collapsed": true
   },
   "outputs": [],
   "source": [
    "modelName = 'docEmbeddings_win2_load_all.d2v'"
   ]
  },
  {
   "cell_type": "code",
   "execution_count": 3,
   "metadata": {},
   "outputs": [
    {
     "name": "stdout",
     "output_type": "stream",
     "text": [
      "Successfully loaded the textmodel from ../model/doc2vec/docEmbeddings_win2_load_all.d2v\n",
      "Feature with length 100 using docEmbeddings_win2_load_all.d2v\n"
     ]
    }
   ],
   "source": [
    "res = fse.getFeature(modelName, 100)\n",
    "X_100_train = res['X_train']\n",
    "X_100_test = res['X_test']\n",
    "y = res['label']"
   ]
  },
  {
   "cell_type": "code",
   "execution_count": 6,
   "metadata": {},
   "outputs": [
    {
     "name": "stdout",
     "output_type": "stream",
     "text": [
      "Successfully loaded the textmodel from ../model/doc2vec/docEmbeddings_win2_load_all.d2v\n",
      "Feature with length 175 using docEmbeddings_win2_load_all.d2v\n"
     ]
    }
   ],
   "source": [
    "res = fse.getFeature(modelName, 175)\n",
    "X_175_train = res['X_train']\n",
    "X_175_test = res['X_test']"
   ]
  },
  {
   "cell_type": "code",
   "execution_count": 7,
   "metadata": {},
   "outputs": [
    {
     "name": "stdout",
     "output_type": "stream",
     "text": [
      "(3689, 100)\n",
      "(986, 100)\n",
      "(3689, 175)\n",
      "(986, 175)\n",
      "(3689,)\n"
     ]
    }
   ],
   "source": [
    "print(X_100_train.shape)\n",
    "print(X_100_test.shape)\n",
    "print(X_175_train.shape)\n",
    "print(X_175_test.shape)\n",
    "print(y.shape)"
   ]
  },
  {
   "cell_type": "code",
   "execution_count": 6,
   "metadata": {
    "collapsed": true
   },
   "outputs": [],
   "source": [
    "if not os.path.isdir('../data/feature'):\n",
    "    os.mkdir('../data/feature')\n"
   ]
  },
  {
   "cell_type": "code",
   "execution_count": 8,
   "metadata": {
    "collapsed": true
   },
   "outputs": [],
   "source": [
    " #save feature data to ../data/feature/\n",
    "\n",
    "with open('../data/feature/docFeat_100_train.pkl', 'wb') as f:\n",
    "    pickle.dump(X_100_train, f)\n",
    "    f.close()\n",
    "with open('../data/feature/docFeat_175_train.pkl', 'wb') as f:\n",
    "    pickle.dump(X_175_train, f)\n",
    "    f.close()\n",
    "with open('../data/feature/docFeat_100_test.pkl', 'wb') as f:\n",
    "    pickle.dump(X_100_test, f)\n",
    "    f.close()\n",
    "with open('../data/feature/docFeat_175_test.pkl', 'wb') as f:\n",
    "    pickle.dump(X_175_test, f)\n",
    "    f.close()\n",
    "with open('../data/feature/docLabel.pkl', 'wb') as f:\n",
    "    pickle.dump(y, f)\n",
    "    f.close()\n"
   ]
  },
  {
   "cell_type": "code",
   "execution_count": 9,
   "metadata": {
    "collapsed": true
   },
   "outputs": [],
   "source": [
    "# load feature data from earlier computed \n",
    "with open('../data/feature/docFeat_100_train.pkl', 'rb') as f:\n",
    "    X_100_train = pickle.load(f)\n",
    "    f.close()\n",
    "with open('../data/feature/docFeat_175_train.pkl', 'rb') as f:\n",
    "    X_175_train = pickle.load(f)\n",
    "    f.close()\n",
    "with open('../data/feature/docFeat_100_test.pkl', 'rb') as f:\n",
    "    X_100_test = pickle.load(f)\n",
    "    f.close()\n",
    "with open('../data/feature/docFeat_175_test.pkl', 'rb') as f:\n",
    "    X_175_test = pickle.load(f)\n",
    "    f.close()\n",
    "with open('../data/feature/docLabel.pkl', 'rb') as f:\n",
    "    y = pickle.load(f)\n",
    "    f.close()"
   ]
  },
  {
   "cell_type": "code",
   "execution_count": 10,
   "metadata": {},
   "outputs": [
    {
     "name": "stdout",
     "output_type": "stream",
     "text": [
      "(3689, 100)\n",
      "(986, 100)\n",
      "(3689, 175)\n",
      "(986, 175)\n",
      "(3689,)\n"
     ]
    }
   ],
   "source": [
    "print(X_100_train.shape)\n",
    "print(X_100_test.shape)\n",
    "print(X_175_train.shape)\n",
    "print(X_175_test.shape)\n",
    "print(y.shape)"
   ]
  },
  {
   "cell_type": "code",
   "execution_count": null,
   "metadata": {
    "collapsed": true
   },
   "outputs": [],
   "source": []
  }
 ],
 "metadata": {
  "kernelspec": {
   "display_name": "Python 3",
   "language": "python",
   "name": "python3"
  },
  "language_info": {
   "codemirror_mode": {
    "name": "ipython",
    "version": 3
   },
   "file_extension": ".py",
   "mimetype": "text/x-python",
   "name": "python",
   "nbconvert_exporter": "python",
   "pygments_lexer": "ipython3",
   "version": "3.6.3"
  }
 },
 "nbformat": 4,
 "nbformat_minor": 2
}
