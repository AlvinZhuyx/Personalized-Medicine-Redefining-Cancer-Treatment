{
 "cells": [
  {
   "cell_type": "code",
   "execution_count": 1,
   "metadata": {
    "collapsed": true
   },
   "outputs": [],
   "source": [
    "import os\n",
    "import re\n",
    "import tqdm\n",
    "import string\n",
    "import pandas as pd\n",
    "import numpy as np\n",
    "import util\n",
    "from sklearn.decomposition import TruncatedSVD\n",
    "#from data_preprocessing import *\n",
    "import word_embedding_load as wel\n",
    "import baseline_classification as bc\n",
    "import matplotlib.pyplot as plt\n",
    "import feature_selection_evaluation as fse\n",
    "import pickle"
   ]
  },
  {
   "cell_type": "code",
   "execution_count": 2,
   "metadata": {
    "collapsed": true
   },
   "outputs": [],
   "source": [
    "modelName = 'docEmbeddings_win2_load_all.d2v'"
   ]
  },
  {
   "cell_type": "code",
   "execution_count": 3,
   "metadata": {},
   "outputs": [
    {
     "name": "stdout",
     "output_type": "stream",
     "text": [
      "Successfully loaded the textmodel from ../model/doc2vec/docEmbeddings_win2_load_all.d2v\n",
      "Feature with length 100 using docEmbeddings_win2_load_all.d2v\n"
     ]
    }
   ],
   "source": [
    "X_100, y = fse.getFeature(modelName, 100)"
   ]
  },
  {
   "cell_type": "code",
   "execution_count": 4,
   "metadata": {},
   "outputs": [
    {
     "name": "stdout",
     "output_type": "stream",
     "text": [
      "Successfully loaded the textmodel from ../model/doc2vec/docEmbeddings_win2_load_all.d2v\n",
      "Feature with length 175 using docEmbeddings_win2_load_all.d2v\n"
     ]
    }
   ],
   "source": [
    "X_175, y = fse.getFeature(modelName, 175)"
   ]
  },
  {
   "cell_type": "code",
   "execution_count": 5,
   "metadata": {},
   "outputs": [
    {
     "name": "stdout",
     "output_type": "stream",
     "text": [
      "(3689, 100)\n",
      "(3689, 175)\n",
      "(3689,)\n"
     ]
    }
   ],
   "source": [
    "print(X_100.shape)\n",
    "print(X_175.shape)\n",
    "print(y.shape)"
   ]
  },
  {
   "cell_type": "code",
   "execution_count": 6,
   "metadata": {
    "collapsed": true
   },
   "outputs": [],
   "source": [
    "if not os.path.isdir('../data/feature'):\n",
    "    os.mkdir('../data/feature')\n"
   ]
  },
  {
   "cell_type": "code",
   "execution_count": 7,
   "metadata": {},
   "outputs": [],
   "source": [
    "''' #save feature data to ../data/feature/\n",
    "\n",
    "with open('../data/feature/docFeat_100.pkl', 'wb') as f:\n",
    "    pickle.dump(X_100, f)\n",
    "    f.close()\n",
    "with open('../data/feature/docFeat_175.pkl', 'wb') as f:\n",
    "    pickle.dump(X_175, f)\n",
    "    f.close()\n",
    "with open('../data/feature/docLabel.pkl', 'wb') as f:\n",
    "    pickle.dump(y, f)\n",
    "    f.close()\n",
    "'''"
   ]
  },
  {
   "cell_type": "code",
   "execution_count": 8,
   "metadata": {},
   "outputs": [],
   "source": [
    "# load feature data from earlier computed \n",
    "with open('../data/feature/docFeat_100.pkl', 'rb') as f:\n",
    "    X_100 = pickle.load(f)\n",
    "    f.close()\n",
    "with open('../data/feature/docFeat_175.pkl', 'rb') as f:\n",
    "    X_175 = pickle.load(f)\n",
    "    f.close()\n",
    "with open('../data/feature/docLabel.pkl', 'rb') as f:\n",
    "    y = pickle.load(f)\n",
    "    f.close()"
   ]
  },
  {
   "cell_type": "code",
   "execution_count": null,
   "metadata": {
    "collapsed": true
   },
   "outputs": [],
   "source": []
  }
 ],
 "metadata": {
  "kernelspec": {
   "display_name": "Python 3",
   "language": "python",
   "name": "python3"
  },
  "language_info": {
   "codemirror_mode": {
    "name": "ipython",
    "version": 3
   },
   "file_extension": ".py",
   "mimetype": "text/x-python",
   "name": "python",
   "nbconvert_exporter": "python",
   "pygments_lexer": "ipython3",
   "version": "3.6.3"
  }
 },
 "nbformat": 4,
 "nbformat_minor": 2
}
