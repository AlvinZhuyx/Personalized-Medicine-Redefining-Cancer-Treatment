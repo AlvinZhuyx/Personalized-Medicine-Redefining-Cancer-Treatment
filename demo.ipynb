{
 "cells": [
  {
   "cell_type": "code",
   "execution_count": 1,
   "metadata": {},
   "outputs": [
    {
     "name": "stderr",
     "output_type": "stream",
     "text": [
      "C:\\Users\\zhuya\\Anaconda3\\envs\\tensorflow\\lib\\site-packages\\gensim\\utils.py:862: UserWarning: detected Windows; aliasing chunkize to chunkize_serial\n",
      "  warnings.warn(\"detected Windows; aliasing chunkize to chunkize_serial\")\n",
      "Using TensorFlow backend.\n",
      "C:\\Users\\zhuya\\Anaconda3\\envs\\tensorflow\\lib\\site-packages\\sklearn\\cross_validation.py:41: DeprecationWarning: This module was deprecated in version 0.18 in favor of the model_selection module into which all the refactored classes and functions are moved. Also note that the interface of the new CV iterators are different from that of this module. This module will be removed in 0.20.\n",
      "  \"This module will be removed in 0.20.\", DeprecationWarning)\n"
     ]
    }
   ],
   "source": [
    "import os\n",
    "import re\n",
    "import tqdm\n",
    "import string\n",
    "import pandas as pd\n",
    "import numpy as np\n",
    "import util\n",
    "from sklearn.decomposition import TruncatedSVD\n",
    "from data_preprocessing import *\n",
    "from word_embedding_load import *\n",
    "from classification import *\n",
    "from xgboost_classifier import *\n",
    "from testaccuracy import *"
   ]
  },
  {
   "cell_type": "code",
   "execution_count": 2,
   "metadata": {
    "collapsed": true
   },
   "outputs": [],
   "source": [
    "[all_data, train_size, test_size, train_x, train_y, test_x] = util.loadData()"
   ]
  },
  {
   "cell_type": "code",
   "execution_count": 3,
   "metadata": {
    "collapsed": true
   },
   "outputs": [],
   "source": [
    "sentences = data_preprocess(all_data)"
   ]
  },
  {
   "cell_type": "code",
   "execution_count": 4,
   "metadata": {
    "collapsed": true
   },
   "outputs": [],
   "source": [
    "Text_INPUT_DIM=200\n",
    "param = util.Doc2VecParam(1, 2, 200, 1e-4, 5, 4, 30, 1)\n",
    "filename='../model/doc2vec/docEmbeddings_win2_load_all.d2v'\n"
   ]
  },
  {
   "cell_type": "code",
   "execution_count": 5,
   "metadata": {
    "collapsed": true
   },
   "outputs": [],
   "source": [
    "GENE_INPUT_DIM=25\n",
    "TEXT_INPUT_DIM=200\n",
    "svd = TruncatedSVD(n_components=25, n_iter=GENE_INPUT_DIM, random_state=12)"
   ]
  },
  {
   "cell_type": "code",
   "execution_count": 6,
   "metadata": {},
   "outputs": [
    {
     "name": "stdout",
     "output_type": "stream",
     "text": [
      "Creating model...\n",
      "successfully created the Text Model and save it to ../model/doc2vec/docEmbeddings_win2_load_all.d2v\n"
     ]
    }
   ],
   "source": [
    "text_model = getTextModel(sentences, param, filename, source_file = \"../data/bio_nlp_vec/PubMed-shuffle-win-2.bin\")\n",
    "truncated_one_hot_gene = getGeneVec(all_data, svd)\n",
    "truncated_one_hot_variation = getVariationVec(all_data, svd)\n",
    "text_train_arrays, text_test_arrays = getTextVec(text_model, train_size, test_size, TEXT_INPUT_DIM)"
   ]
  },
  {
   "cell_type": "code",
   "execution_count": 7,
   "metadata": {},
   "outputs": [
    {
     "name": "stdout",
     "output_type": "stream",
     "text": [
      "(3689, 200)\n",
      "(986, 200)\n"
     ]
    },
    {
     "data": {
      "text/plain": [
       "array([ 1.9926796 , -0.95616704, -0.41943806,  1.05640149, -0.17750672,\n",
       "       -0.22473556, -1.14849627, -1.04512095,  0.72278821, -0.26906219,\n",
       "       -0.12173071,  0.27951074,  0.85554093,  1.4066658 , -0.66658169,\n",
       "       -3.5733881 ,  0.61995304, -2.23058319, -0.13402276,  2.12668133,\n",
       "       -0.35180882, -0.27377269,  0.54994392, -1.48118317, -1.4935751 ,\n",
       "       -1.68159318,  0.34006077,  2.6541965 , -0.45972574, -0.43201742,\n",
       "        0.3170231 , -1.63518965,  2.0632391 ,  1.46774471, -0.95080161,\n",
       "        0.16261423,  1.81780541,  0.94335526, -0.02719352,  0.66872084,\n",
       "        0.53617448,  0.2284466 ,  1.14089978, -1.53023636, -0.30838454,\n",
       "        1.86624837, -0.64276832,  0.49743181, -0.53058469,  1.06889701,\n",
       "        0.34412953,  0.14060664,  1.23631251,  0.41249499, -0.50394237,\n",
       "        0.92049599,  0.2226413 , -0.11276353, -0.56527591,  0.82244128,\n",
       "       -0.99196661, -0.42952666, -0.88652813,  0.43424979, -1.98911691,\n",
       "        1.09482539, -2.45888305,  1.73302603,  2.20067   , -0.6085186 ,\n",
       "       -1.25785565, -0.44117382,  1.98833013, -0.51232427, -1.10979819,\n",
       "       -0.54445004, -1.16707098, -1.31837153, -0.53253657,  1.59991312,\n",
       "       -0.20664276, -1.05685711,  0.31082043, -0.2043286 ,  0.77633107,\n",
       "        0.85860324, -2.03887677,  1.49911261, -0.39974245,  0.91128081,\n",
       "        1.13125467, -2.09005117, -0.41554201, -1.55264652,  0.44138581,\n",
       "        0.49449065, -2.13298559,  2.20955014,  0.95500571,  0.41129953,\n",
       "       -0.87113571,  0.98770237,  0.38444752,  0.63010305,  1.8368659 ,\n",
       "       -0.14130785, -0.32579213,  0.86784047,  1.06677532,  0.67403376,\n",
       "       -1.06961429, -1.40743053,  1.35656881,  1.58909762, -1.9294008 ,\n",
       "        0.939282  ,  0.39813891, -1.23754907,  2.85993528,  0.95143169,\n",
       "       -0.82528299, -0.78427643, -1.12611341, -1.30386949, -0.7302534 ,\n",
       "       -2.40704179, -1.25131738, -2.22095847, -0.61212695,  2.46631312,\n",
       "       -1.45429885,  0.024306  ,  1.18339205, -0.09788334, -0.23530199,\n",
       "       -0.14920838,  0.45473397, -1.07566762, -0.2484591 , -0.61140323,\n",
       "        2.3258121 , -0.68689275,  1.68472815,  1.7551837 ,  0.01643275,\n",
       "        1.61395371, -0.65283042,  1.57991278,  1.2904892 , -1.71622753,\n",
       "        0.6634233 ,  0.58639234, -1.34056306,  0.28264776, -2.64078593,\n",
       "        0.66478187, -1.04393971, -0.69477886,  0.55568027,  1.07313037,\n",
       "        1.97054124, -0.79388338,  0.30255207,  1.81174207,  0.62831497,\n",
       "       -0.39802322,  1.16715777, -0.69539362, -0.1725876 , -0.4010261 ,\n",
       "       -1.53010333,  1.78115654,  0.45922974, -1.49840677, -0.73476058,\n",
       "       -1.40930474, -1.35155988, -0.66272843, -1.22934783, -0.63275701,\n",
       "        1.06155419,  1.50083339,  0.0615571 ,  0.4066731 , -0.32978195,\n",
       "        0.70330983,  1.51849055,  1.75434244,  1.91263461,  1.88655174,\n",
       "       -0.2432631 , -0.86476576,  3.33272672, -0.36880228,  1.19287694,\n",
       "       -1.752213  , -1.39517832, -2.54406714, -0.45961851,  0.53956795])"
      ]
     },
     "execution_count": 7,
     "metadata": {},
     "output_type": "execute_result"
    }
   ],
   "source": [
    "print(text_train_arrays.shape)\n",
    "print(text_test_arrays.shape)\n",
    "text_train_arrays[0]"
   ]
  },
  {
   "cell_type": "code",
   "execution_count": 8,
   "metadata": {
    "collapsed": true
   },
   "outputs": [],
   "source": [
    "train_set = np.hstack((truncated_one_hot_gene[:train_size], truncated_one_hot_variation[:train_size], text_train_arrays))\n",
    "test_set = np.hstack((truncated_one_hot_gene[train_size:], truncated_one_hot_variation[train_size:], text_test_arrays))\n",
    "encoded_y = pd.get_dummies(train_y)\n",
    "encoded_y = np.array(encoded_y)"
   ]
  },
  {
   "cell_type": "code",
   "execution_count": 9,
   "metadata": {},
   "outputs": [
    {
     "name": "stdout",
     "output_type": "stream",
     "text": [
      "(3689, 250)\n",
      "(986, 250)\n"
     ]
    }
   ],
   "source": [
    "print(train_set.shape)\n",
    "print(test_set.shape)"
   ]
  },
  {
   "cell_type": "code",
   "execution_count": 10,
   "metadata": {},
   "outputs": [
    {
     "data": {
      "text/plain": [
       "array([  1.00000000e+00,   4.18523246e-19,   1.82140582e-19,\n",
       "         5.52932734e-29,   9.01317672e-25,   1.47967745e-22,\n",
       "        -8.38240178e-21,   2.00300590e-21,   9.74158370e-21,\n",
       "        -9.34683441e-21,   1.91083889e-20,   6.55003880e-19,\n",
       "        -1.09276438e-17,  -1.56730196e-18,  -2.12913704e-18,\n",
       "        -4.51096312e-18,  -3.82900024e-19,   1.15894157e-17,\n",
       "         1.59938703e-17,   3.58735292e-17,  -3.35304994e-18,\n",
       "         1.68462844e-17,   6.76851697e-18,   5.86047343e-17,\n",
       "         7.80129580e-21])"
      ]
     },
     "execution_count": 10,
     "metadata": {},
     "output_type": "execute_result"
    }
   ],
   "source": [
    "train_set[0, 25:50]"
   ]
  },
  {
   "cell_type": "code",
   "execution_count": 11,
   "metadata": {},
   "outputs": [
    {
     "data": {
      "text/plain": [
       "(3689, 9)"
      ]
     },
     "execution_count": 11,
     "metadata": {},
     "output_type": "execute_result"
    }
   ],
   "source": [
    "encoded_y.shape"
   ]
  },
  {
   "cell_type": "code",
   "execution_count": 14,
   "metadata": {},
   "outputs": [
    {
     "name": "stderr",
     "output_type": "stream",
     "text": [
      "C:\\Users\\zhuya\\Desktop\\semester 1\\249 data structure\\project\\src\\classification.py:28: UserWarning: Update your `Dense` call to the Keras 2 API: `Dense(256, kernel_initializer=\"normal\", input_dim=250, activation=\"relu\")`\n",
      "  model.add(Dense(256, input_dim=Text_INPUT_DIM+ Gene_INPUT_DIM + Variation_INPUT_DIM, init='normal', activation='relu'))\n",
      "C:\\Users\\zhuya\\Desktop\\semester 1\\249 data structure\\project\\src\\classification.py:30: UserWarning: Update your `Dense` call to the Keras 2 API: `Dense(256, kernel_initializer=\"normal\", activation=\"relu\")`\n",
      "  model.add(Dense(256, init='normal', activation='relu'))\n",
      "C:\\Users\\zhuya\\Desktop\\semester 1\\249 data structure\\project\\src\\classification.py:32: UserWarning: Update your `Dense` call to the Keras 2 API: `Dense(80, kernel_initializer=\"normal\", activation=\"relu\")`\n",
      "  model.add(Dense(80, init='normal', activation='relu'))\n",
      "C:\\Users\\zhuya\\Desktop\\semester 1\\249 data structure\\project\\src\\classification.py:33: UserWarning: Update your `Dense` call to the Keras 2 API: `Dense(9, kernel_initializer=\"normal\", activation=\"softmax\")`\n",
      "  model.add(Dense(9, init='normal', activation=\"softmax\"))\n"
     ]
    },
    {
     "name": "stdout",
     "output_type": "stream",
     "text": [
      "_________________________________________________________________\n",
      "Layer (type)                 Output Shape              Param #   \n",
      "=================================================================\n",
      "dense_5 (Dense)              (None, 256)               64256     \n",
      "_________________________________________________________________\n",
      "dropout_3 (Dropout)          (None, 256)               0         \n",
      "_________________________________________________________________\n",
      "dense_6 (Dense)              (None, 256)               65792     \n",
      "_________________________________________________________________\n",
      "dropout_4 (Dropout)          (None, 256)               0         \n",
      "_________________________________________________________________\n",
      "dense_7 (Dense)              (None, 80)                20560     \n",
      "_________________________________________________________________\n",
      "dense_8 (Dense)              (None, 9)                 729       \n",
      "=================================================================\n",
      "Total params: 151,337\n",
      "Trainable params: 151,337\n",
      "Non-trainable params: 0\n",
      "_________________________________________________________________\n"
     ]
    }
   ],
   "source": [
    "# this is the 4 layer full-connected nerual network model\n",
    "model = nn_baseline_model(TEXT_INPUT_DIM, GENE_INPUT_DIM, GENE_INPUT_DIM)\n",
    "model.summary()"
   ]
  },
  {
   "cell_type": "code",
   "execution_count": 15,
   "metadata": {},
   "outputs": [
    {
     "name": "stdout",
     "output_type": "stream",
     "text": [
      "successful load\n",
      "\n",
      " 32/986 [..............................] - ETA: 0s"
     ]
    }
   ],
   "source": [
    "model = train_nn_model(model, train_set, encoded_y, filename = 'try(win2load).h5')\n",
    "y_predict = model.predict_proba(test_set)"
   ]
  },
  {
   "cell_type": "code",
   "execution_count": 20,
   "metadata": {
    "collapsed": true
   },
   "outputs": [],
   "source": [
    "#the xgboost classfication model\n",
    "#first deal with the input label, transfrom it from 1-9 to 0-8(required by the xgboost)\n",
    "for i in range(len(train_y)):\n",
    "    train_y[i] -=1  "
   ]
  },
  {
   "cell_type": "code",
   "execution_count": 21,
   "metadata": {},
   "outputs": [
    {
     "name": "stdout",
     "output_type": "stream",
     "text": [
      "[0]\ttrain-mlogloss:2.11096\tvalid-mlogloss:2.13755\n",
      "Multiple eval metrics have been passed: 'valid-mlogloss' will be used for early stopping.\n",
      "\n",
      "Will train until valid-mlogloss hasn't improved in 100 rounds.\n",
      "[50]\ttrain-mlogloss:0.546776\tvalid-mlogloss:1.16003\n",
      "[100]\ttrain-mlogloss:0.200471\tvalid-mlogloss:0.985421\n",
      "[150]\ttrain-mlogloss:0.089525\tvalid-mlogloss:0.949457\n",
      "[200]\ttrain-mlogloss:0.047857\tvalid-mlogloss:0.95521\n",
      "[250]\ttrain-mlogloss:0.030732\tvalid-mlogloss:0.97078\n",
      "Stopping. Best iteration:\n",
      "[171]\ttrain-mlogloss:0.067177\tvalid-mlogloss:0.948514\n",
      "\n",
      "0.948514315681\n",
      "1\n"
     ]
    }
   ],
   "source": [
    "y_predict = xgbclassifier(train_set, train_y, test_set, 5, 10, 1000)"
   ]
  },
  {
   "cell_type": "code",
   "execution_count": 22,
   "metadata": {
    "collapsed": true
   },
   "outputs": [],
   "source": [
    "savesubmisstion(y_predict, test_x, filename = \"submission_all.csv\")"
   ]
  },
  {
   "cell_type": "code",
   "execution_count": null,
   "metadata": {
    "collapsed": true
   },
   "outputs": [],
   "source": []
  }
 ],
 "metadata": {
  "kernelspec": {
   "display_name": "Python 3",
   "language": "python",
   "name": "python3"
  },
  "language_info": {
   "codemirror_mode": {
    "name": "ipython",
    "version": 3
   },
   "file_extension": ".py",
   "mimetype": "text/x-python",
   "name": "python",
   "nbconvert_exporter": "python",
   "pygments_lexer": "ipython3",
   "version": "3.5.4"
  }
 },
 "nbformat": 4,
 "nbformat_minor": 2
}
