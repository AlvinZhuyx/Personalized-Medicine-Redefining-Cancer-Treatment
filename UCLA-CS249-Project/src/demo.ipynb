{
 "cells": [
  {
   "cell_type": "code",
   "execution_count": 1,
   "metadata": {
    "collapsed": true
   },
   "outputs": [],
   "source": [
    "import os\n",
    "import re\n",
    "import tqdm\n",
    "import string\n",
    "import pandas as pd\n",
    "import numpy as np\n",
    "import util\n",
    "from sklearn.decomposition import TruncatedSVD\n",
    "from data_preprocessing import *\n",
    "from word_embedding_load import *"
   ]
  },
  {
   "cell_type": "code",
   "execution_count": 2,
   "metadata": {},
   "outputs": [
    {
     "name": "stdout",
     "output_type": "stream",
     "text": [
      "  ID    Gene             Variation  \\\n",
      "0  0  FAM58A  Truncating Mutations   \n",
      "1  1     CBL                 W802*   \n",
      "2  2     CBL                 Q249E   \n",
      "3  3     CBL                 N454D   \n",
      "4  4     CBL                 L399V   \n",
      "\n",
      "                                                Text  \n",
      "0  Cyclin-dependent kinases (CDKs) regulate a var...  \n",
      "1   Abstract Background  Non-small cell lung canc...  \n",
      "2   Abstract Background  Non-small cell lung canc...  \n",
      "3  Recent evidence has demonstrated that acquired...  \n",
      "4  Oncogenic mutations in the monomeric Casitas B...  \n"
     ]
    }
   ],
   "source": [
    "[all_data, train_size, test_size, train_x, train_y, test_x] = util.loadData()"
   ]
  },
  {
   "cell_type": "code",
   "execution_count": 3,
   "metadata": {
    "collapsed": true
   },
   "outputs": [],
   "source": [
    "[allText, sentences] = data_preprocess(all_data)"
   ]
  },
  {
   "cell_type": "code",
   "execution_count": 4,
   "metadata": {},
   "outputs": [
    {
     "name": "stdout",
     "output_type": "stream",
     "text": [
      "0    cyclindependent kinases cdks regulate variety ...\n",
      "1    abstract background nonsmall cell lung cancer ...\n",
      "2    abstract background nonsmall cell lung cancer ...\n",
      "3    recent evidence demonstrated acquired uniparen...\n",
      "4    oncogenic mutations monomeric casitas blineage...\n",
      "Name: Text, dtype: object\n"
     ]
    }
   ],
   "source": [
    "print(allText.head())"
   ]
  },
  {
   "cell_type": "code",
   "execution_count": 5,
   "metadata": {},
   "outputs": [
    {
     "data": {
      "text/plain": [
       "(4675,)"
      ]
     },
     "execution_count": 5,
     "metadata": {},
     "output_type": "execute_result"
    }
   ],
   "source": [
    "allText.shape"
   ]
  },
  {
   "cell_type": "code",
   "execution_count": 6,
   "metadata": {
    "collapsed": true
   },
   "outputs": [],
   "source": [
    "Text_INPUT_DIM=200\n",
    "param = Doc2VecParam(1, 5, 200, 1e-4, 5, 4, 30, 1)\n",
    "filename='../model/doc2vec/docEmbeddings_30_load_all.d2v'\n"
   ]
  },
  {
   "cell_type": "code",
   "execution_count": 7,
   "metadata": {
    "collapsed": true
   },
   "outputs": [],
   "source": [
    "GENE_INPUT_DIM=25\n",
    "TEXT_INPUT_DIM=200\n",
    "svd = TruncatedSVD(n_components=25, n_iter=GENE_INPUT_DIM, random_state=12)"
   ]
  },
  {
   "cell_type": "code",
   "execution_count": 12,
   "metadata": {},
   "outputs": [
    {
     "name": "stdout",
     "output_type": "stream",
     "text": [
      "Loading model...\n",
      "successfully loaded the textmodel from ../model/doc2vec/docEmbeddings_30_load_all.d2v\n"
     ]
    }
   ],
   "source": [
    "text_model = getTextModel(sentences, param, filename)\n",
    "truncated_one_hot_gene = getGeneVec(all_data, svd)\n",
    "truncated_one_hot_variation = getVariationVec(all_data, svd)\n",
    "text_train_arrays, text_test_arrays = getTextVec(text_model, train_size, test_size, TEXT_INPUT_DIM)"
   ]
  },
  {
   "cell_type": "code",
   "execution_count": 13,
   "metadata": {},
   "outputs": [
    {
     "name": "stdout",
     "output_type": "stream",
     "text": [
      "(3689, 200)\n",
      "(986, 200)\n"
     ]
    },
    {
     "data": {
      "text/plain": [
       "array([-4.32804871, -1.51728463, -1.11980414, -1.48884988, -1.94485927,\n",
       "        2.92375898,  0.50411427, -1.12256765,  3.63756609,  0.98047012,\n",
       "       -3.59505153, -1.69239998,  1.08154798,  0.04358532, -1.45718324,\n",
       "       -1.40607941, -0.81513387, -1.83771491,  0.84762865,  1.21229076,\n",
       "        2.47014523, -2.76897311,  1.76767576,  0.63634545, -1.18918824,\n",
       "        0.41207117,  0.46613771, -0.66748267, -0.08578082,  0.74831831,\n",
       "       -0.27361712, -1.59590268, -0.68817914,  1.80353093, -2.18088555,\n",
       "       -0.95929134,  3.10893011,  1.76786911, -0.6726135 ,  1.6783632 ,\n",
       "        0.86585337,  2.32940316,  3.42221165, -1.29582059,  1.10946131,\n",
       "       -1.03413177,  1.08570337, -1.0144273 ,  0.31510681,  0.28210998,\n",
       "        2.33720469,  0.54392654, -2.83733749, -1.03502595, -0.16337521,\n",
       "       -3.04194999, -0.25847396, -2.89910054,  1.95583844,  2.05173278,\n",
       "       -0.68942761,  2.17256355, -2.50274634,  2.23825169, -2.29581237,\n",
       "        4.42594433,  2.62937164,  2.88882828, -0.28914687, -2.05301738,\n",
       "        2.42624092,  0.81631041, -0.05633804, -2.24176931, -1.21103251,\n",
       "        2.55568957, -0.86910236, -2.25507951, -1.09151304, -1.73973799,\n",
       "       -0.16871761, -0.40487349, -1.12941527, -0.95880264,  0.46782079,\n",
       "        0.22563271, -1.98252702,  2.01012659,  0.8518284 ,  0.99762881,\n",
       "       -0.69664699,  2.59870815, -5.35548782, -3.19942975,  2.04077053,\n",
       "       -1.05241048,  1.96582294, -1.55142868, -0.49188197,  0.72479969,\n",
       "        0.62990528,  0.13269678, -0.03072512,  2.87265563,  3.87445092,\n",
       "        1.93292189, -2.65379143,  3.67112923, -1.80033338, -2.30353165,\n",
       "        3.52872467, -3.39907217, -2.95028925, -3.49888325, -1.2025547 ,\n",
       "        1.75463414,  1.11777985, -1.28290212, -0.4823595 , -2.1557827 ,\n",
       "        1.00445235, -0.90416312, -1.22584236,  1.23336506, -4.85008574,\n",
       "       -1.20090008,  0.5470711 ,  3.50436044, -2.97067928,  2.84481049,\n",
       "        1.66059792, -2.09772372,  0.80928236, -2.35795093,  0.03973359,\n",
       "        1.73381543,  2.59498119,  2.38566947,  1.68310928,  1.52183914,\n",
       "        1.3391943 , -0.38291061, -2.3213501 ,  1.21402967, -0.521321  ,\n",
       "        2.02367258, -1.94274604,  6.08550262, -2.94834542, -2.26034689,\n",
       "       -5.46228695,  0.66035336, -4.53587103,  4.45590734, -0.42273942,\n",
       "        5.93331718, -3.12295508, -0.8147946 , -1.1383189 ,  0.23851477,\n",
       "        0.43526816,  2.4931848 , -0.76968288,  4.62639904, -3.73897052,\n",
       "       -0.07077727,  0.51328176, -1.6040206 ,  2.5985775 , -1.99572694,\n",
       "        3.85340643,  2.64461279,  1.75012565, -0.86618167, -3.25600028,\n",
       "        1.82988381,  1.17169917, -1.45463634, -2.08663177, -1.05781114,\n",
       "       -0.33115426,  2.09109092,  0.42128369,  4.68616056, -2.30439544,\n",
       "        2.52157116,  3.3712759 , -4.95086145, -0.74677199,  3.00776553,\n",
       "        1.00501037, -0.57313061,  0.26774493, -0.63240474,  1.3183378 ,\n",
       "        0.49372688,  0.01891159,  0.71355766, -1.90010107, -0.53908855])"
      ]
     },
     "execution_count": 13,
     "metadata": {},
     "output_type": "execute_result"
    }
   ],
   "source": [
    "print(text_train_arrays.shape)\n",
    "print(text_test_arrays.shape)\n",
    "text_train_arrays[0]"
   ]
  },
  {
   "cell_type": "code",
   "execution_count": 14,
   "metadata": {
    "collapsed": true
   },
   "outputs": [],
   "source": [
    "train_set = np.hstack((truncated_one_hot_gene[:train_size], truncated_one_hot_variation[:train_size], text_train_arrays))\n",
    "test_set = np.hstack((truncated_one_hot_gene[train_size:], truncated_one_hot_variation[train_size:], text_test_arrays))\n",
    "encoded_y = pd.get_dummies(train_y)\n",
    "encoded_y = np.array(encoded_y)"
   ]
  },
  {
   "cell_type": "code",
   "execution_count": 15,
   "metadata": {},
   "outputs": [
    {
     "name": "stdout",
     "output_type": "stream",
     "text": [
      "(3689, 250)\n",
      "(986, 250)\n"
     ]
    }
   ],
   "source": [
    "print(train_set.shape)\n",
    "print(test_set.shape)"
   ]
  },
  {
   "cell_type": "code",
   "execution_count": 18,
   "metadata": {},
   "outputs": [
    {
     "name": "stdout",
     "output_type": "stream",
     "text": [
      "[  2.48455806e-23   5.95345506e-19   2.55148417e-20  -3.12596635e-22\n",
      "   4.07695291e-22   5.14309572e-25   2.12813627e-24  -2.97221364e-27\n",
      "   2.40533195e-28  -2.34699855e-30  -1.02435863e-29  -2.70616608e-28\n",
      "   3.11053711e-28   1.52301261e-27  -6.31031488e-27  -4.29210763e-27\n",
      "  -2.58870185e-26   1.64361290e-26  -6.65840234e-26   1.85506791e-26\n",
      "  -3.44148337e-25  -1.13345002e-25   1.15081601e-24  -1.65793325e-23\n",
      "   4.35367578e-23]\n",
      "[  1.00000000e+00   7.43920261e-19   1.86967768e-19   2.36987218e-29\n",
      "   3.78288394e-25   7.97142704e-23  -1.06895319e-20   6.87926690e-21\n",
      "   4.36854413e-21  -4.04470778e-21   8.91881464e-21   6.59040569e-18\n",
      "   5.67979623e-19  -3.15512997e-18  -9.40491899e-18  -6.36407932e-18\n",
      "  -3.20292165e-18   9.53349364e-18   7.28293876e-18   2.84124514e-17\n",
      "  -1.85442723e-17   1.28733104e-17   1.05102497e-17   4.67448189e-17\n",
      "  -8.77125342e-21]\n",
      "[-4.32804871 -1.51728463 -1.11980414 -1.48884988 -1.94485927  2.92375898\n",
      "  0.50411427 -1.12256765  3.63756609  0.98047012 -3.59505153 -1.69239998\n",
      "  1.08154798  0.04358532 -1.45718324 -1.40607941 -0.81513387 -1.83771491\n",
      "  0.84762865  1.21229076  2.47014523 -2.76897311  1.76767576  0.63634545\n",
      " -1.18918824  0.41207117  0.46613771 -0.66748267 -0.08578082  0.74831831\n",
      " -0.27361712 -1.59590268 -0.68817914  1.80353093 -2.18088555 -0.95929134\n",
      "  3.10893011  1.76786911 -0.6726135   1.6783632   0.86585337  2.32940316\n",
      "  3.42221165 -1.29582059  1.10946131 -1.03413177  1.08570337 -1.0144273\n",
      "  0.31510681  0.28210998  2.33720469  0.54392654 -2.83733749 -1.03502595\n",
      " -0.16337521 -3.04194999 -0.25847396 -2.89910054  1.95583844  2.05173278\n",
      " -0.68942761  2.17256355 -2.50274634  2.23825169 -2.29581237  4.42594433\n",
      "  2.62937164  2.88882828 -0.28914687 -2.05301738  2.42624092  0.81631041\n",
      " -0.05633804 -2.24176931 -1.21103251  2.55568957 -0.86910236 -2.25507951\n",
      " -1.09151304 -1.73973799 -0.16871761 -0.40487349 -1.12941527 -0.95880264\n",
      "  0.46782079  0.22563271 -1.98252702  2.01012659  0.8518284   0.99762881\n",
      " -0.69664699  2.59870815 -5.35548782 -3.19942975  2.04077053 -1.05241048\n",
      "  1.96582294 -1.55142868 -0.49188197  0.72479969  0.62990528  0.13269678\n",
      " -0.03072512  2.87265563  3.87445092  1.93292189 -2.65379143  3.67112923\n",
      " -1.80033338 -2.30353165  3.52872467 -3.39907217 -2.95028925 -3.49888325\n",
      " -1.2025547   1.75463414  1.11777985 -1.28290212 -0.4823595  -2.1557827\n",
      "  1.00445235 -0.90416312 -1.22584236  1.23336506 -4.85008574 -1.20090008\n",
      "  0.5470711   3.50436044 -2.97067928  2.84481049  1.66059792 -2.09772372\n",
      "  0.80928236 -2.35795093  0.03973359  1.73381543  2.59498119  2.38566947\n",
      "  1.68310928  1.52183914  1.3391943  -0.38291061 -2.3213501   1.21402967\n",
      " -0.521321    2.02367258 -1.94274604  6.08550262 -2.94834542 -2.26034689\n",
      " -5.46228695  0.66035336 -4.53587103  4.45590734 -0.42273942  5.93331718\n",
      " -3.12295508 -0.8147946  -1.1383189   0.23851477  0.43526816  2.4931848\n",
      " -0.76968288  4.62639904 -3.73897052 -0.07077727  0.51328176 -1.6040206\n",
      "  2.5985775  -1.99572694  3.85340643  2.64461279  1.75012565 -0.86618167\n",
      " -3.25600028  1.82988381  1.17169917 -1.45463634 -2.08663177 -1.05781114\n",
      " -0.33115426  2.09109092  0.42128369  4.68616056 -2.30439544  2.52157116\n",
      "  3.3712759  -4.95086145 -0.74677199  3.00776553  1.00501037 -0.57313061\n",
      "  0.26774493 -0.63240474  1.3183378   0.49372688  0.01891159  0.71355766\n",
      " -1.90010107 -0.53908855]\n"
     ]
    }
   ],
   "source": [
    "print(train_set[0, :25])\n",
    "print(train_set[0, 25:50])\n",
    "print(train_set[0, 50:])"
   ]
  },
  {
   "cell_type": "code",
   "execution_count": 29,
   "metadata": {},
   "outputs": [
    {
     "name": "stdout",
     "output_type": "stream",
     "text": [
      "(3689, 9)\n",
      "[0 0 0 0 0 0 1 0 0]\n",
      "[0 0 0 1 0 0 0 0 0]\n"
     ]
    }
   ],
   "source": [
    "print(encoded_y.shape)\n",
    "print(encoded_y[300])\n",
    "print(encoded_y[1000])"
   ]
  },
  {
   "cell_type": "code",
   "execution_count": 30,
   "metadata": {
    "collapsed": true
   },
   "outputs": [],
   "source": [
    "v1 = train_set[0]\n",
    "v2 = train_set[1]"
   ]
  },
  {
   "cell_type": "code",
   "execution_count": 31,
   "metadata": {},
   "outputs": [
    {
     "data": {
      "text/plain": [
       "372.08543091707043"
      ]
     },
     "execution_count": 31,
     "metadata": {},
     "output_type": "execute_result"
    }
   ],
   "source": [
    "np.dot(v1, v2)"
   ]
  },
  {
   "cell_type": "code",
   "execution_count": 32,
   "metadata": {
    "collapsed": true
   },
   "outputs": [],
   "source": [
    "from baseline_classification import *"
   ]
  },
  {
   "cell_type": "code",
   "execution_count": 33,
   "metadata": {},
   "outputs": [
    {
     "data": {
      "text/plain": [
       "0.13847298392729604"
      ]
     },
     "execution_count": 33,
     "metadata": {},
     "output_type": "execute_result"
    }
   ],
   "source": [
    "computeSim(v2, v1, [25, 25, 200])"
   ]
  },
  {
   "cell_type": "code",
   "execution_count": 34,
   "metadata": {},
   "outputs": [
    {
     "data": {
      "text/plain": [
       "1.0"
      ]
     },
     "execution_count": 34,
     "metadata": {},
     "output_type": "execute_result"
    }
   ],
   "source": [
    "getCos(v2[0:25], v2[0:25])"
   ]
  }
 ],
 "metadata": {
  "kernelspec": {
   "display_name": "Python 3",
   "language": "python",
   "name": "python3"
  },
  "language_info": {
   "codemirror_mode": {
    "name": "ipython",
    "version": 3
   },
   "file_extension": ".py",
   "mimetype": "text/x-python",
   "name": "python",
   "nbconvert_exporter": "python",
   "pygments_lexer": "ipython3",
   "version": "3.6.3"
  }
 },
 "nbformat": 4,
 "nbformat_minor": 2
}
