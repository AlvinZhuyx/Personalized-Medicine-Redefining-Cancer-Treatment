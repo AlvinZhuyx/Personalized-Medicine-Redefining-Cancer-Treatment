{
 "cells": [
  {
   "cell_type": "code",
   "execution_count": 1,
   "metadata": {
    "collapsed": true
   },
   "outputs": [],
   "source": [
    "import os\n",
    "import re\n",
    "import tqdm\n",
    "import string\n",
    "import pandas as pd\n",
    "import numpy as np\n",
    "import util\n",
    "from sklearn.decomposition import TruncatedSVD\n",
    "from data_preprocessing import *\n",
    "from word_embedding_load import *"
   ]
  },
  {
   "cell_type": "code",
   "execution_count": 2,
   "metadata": {},
   "outputs": [
    {
     "name": "stdout",
     "output_type": "stream",
     "text": [
      "  ID    Gene             Variation  \\\n",
      "0  0  FAM58A  Truncating Mutations   \n",
      "1  1     CBL                 W802*   \n",
      "2  2     CBL                 Q249E   \n",
      "3  3     CBL                 N454D   \n",
      "4  4     CBL                 L399V   \n",
      "\n",
      "                                                Text  \n",
      "0  Cyclin-dependent kinases (CDKs) regulate a var...  \n",
      "1   Abstract Background  Non-small cell lung canc...  \n",
      "2   Abstract Background  Non-small cell lung canc...  \n",
      "3  Recent evidence has demonstrated that acquired...  \n",
      "4  Oncogenic mutations in the monomeric Casitas B...  \n"
     ]
    }
   ],
   "source": [
    "[all_data, train_size, test_size, train_x, train_y, test_x] = util.loadData()"
   ]
  },
  {
   "cell_type": "code",
   "execution_count": 3,
   "metadata": {
    "collapsed": true
   },
   "outputs": [],
   "source": [
    "[allText, sentences] = data_preprocess(all_data)"
   ]
  },
  {
   "cell_type": "code",
   "execution_count": 4,
   "metadata": {},
   "outputs": [
    {
     "name": "stdout",
     "output_type": "stream",
     "text": [
      "0    cyclindependent kinases cdks regulate variety ...\n",
      "1    abstract background nonsmall cell lung cancer ...\n",
      "2    abstract background nonsmall cell lung cancer ...\n",
      "3    recent evidence demonstrated acquired uniparen...\n",
      "4    oncogenic mutations monomeric casitas blineage...\n",
      "Name: Text, dtype: object\n"
     ]
    }
   ],
   "source": [
    "print(allText.head())"
   ]
  },
  {
   "cell_type": "code",
   "execution_count": 5,
   "metadata": {
    "collapsed": true
   },
   "outputs": [],
   "source": [
    "param = Doc2VecParam(3, 6, 201,...)"
   ]
  },
  {
   "cell_type": "code",
   "execution_count": 6,
   "metadata": {
    "collapsed": true
   },
   "outputs": [],
   "source": [
    "Text_INPUT_DIM=200\n",
    "param = Doc2VecParam(1, 5, 600, 1e-4, 5, 4, 30, 1)\n",
    "filename='../model/doc2vec/docEmbeddings_30_load_all.d2v'\n"
   ]
  },
  {
   "cell_type": "code",
   "execution_count": 7,
   "metadata": {
    "collapsed": true
   },
   "outputs": [],
   "source": [
    "GENE_INPUT_DIM=25\n",
    "TEXT_INPUT_DIM=200\n",
    "svd = TruncatedSVD(n_components=25, n_iter=GENE_INPUT_DIM, random_state=12)"
   ]
  },
  {
   "cell_type": "code",
   "execution_count": 8,
   "metadata": {},
   "outputs": [
    {
     "name": "stdout",
     "output_type": "stream",
     "text": [
      "Loading model...\n",
      "successfully loaded the textmodel from ../model/doc2vec/docEmbeddings_30_load_all.d2v\n"
     ]
    }
   ],
   "source": [
    "text_model = getTextModel(param, filename)\n",
    "truncated_one_hot_gene = getGeneVec(all_data, svd)\n",
    "truncated_one_hot_variation = getVariationVec(all_data, svd)\n",
    "text_train_arrays, text_test_arrays = getTextVec(text_model, train_size, test_size, TEXT_INPUT_DIM)"
   ]
  },
  {
   "cell_type": "code",
   "execution_count": 9,
   "metadata": {},
   "outputs": [
    {
     "name": "stdout",
     "output_type": "stream",
     "text": [
      "(3689, 200)\n",
      "(986, 200)\n"
     ]
    }
   ],
   "source": [
    "print(text_train_arrays.shape)\n",
    "print(text_test_arrays.shape)"
   ]
  },
  {
   "cell_type": "code",
   "execution_count": 10,
   "metadata": {
    "collapsed": true
   },
   "outputs": [],
   "source": [
    "train_set = np.hstack((truncated_one_hot_gene[:train_size], truncated_one_hot_variation[:train_size], text_train_arrays))\n",
    "test_set = np.hstack((truncated_one_hot_gene[train_size:], truncated_one_hot_variation[train_size:], text_test_arrays))\n",
    "encoded_y = pd.get_dummies(train_y)\n",
    "encoded_y = np.array(encoded_y)"
   ]
  },
  {
   "cell_type": "code",
   "execution_count": 11,
   "metadata": {},
   "outputs": [
    {
     "name": "stdout",
     "output_type": "stream",
     "text": [
      "(3689, 250)\n",
      "(986, 250)\n"
     ]
    }
   ],
   "source": [
    "print(train_set.shape)\n",
    "print(test_set.shape)"
   ]
  },
  {
   "cell_type": "code",
   "execution_count": null,
   "metadata": {
    "collapsed": true
   },
   "outputs": [],
   "source": []
  }
 ],
 "metadata": {
  "kernelspec": {
   "display_name": "Python 3",
   "language": "python",
   "name": "python3"
  },
  "language_info": {
   "codemirror_mode": {
    "name": "ipython",
    "version": 3
   },
   "file_extension": ".py",
   "mimetype": "text/x-python",
   "name": "python",
   "nbconvert_exporter": "python",
   "pygments_lexer": "ipython3",
   "version": "3.6.3"
  }
 },
 "nbformat": 4,
 "nbformat_minor": 2
}
